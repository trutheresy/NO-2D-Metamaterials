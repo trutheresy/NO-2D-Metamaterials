{
 "cells": [
  {
   "cell_type": "code",
   "source": [
    "import NO_utils_multiple\n",
    "import NO_utils\n",
    "import os\n",
    "import csv\n",
    "import time\n",
    "import matplotlib.pyplot as plt\n",
    "import numpy as np\n",
    "import random\n",
    "from datetime import datetime"
   ],
   "metadata": {
    "collapsed": false,
    "ExecuteTime": {
     "end_time": "2025-01-20T21:00:22.929753Z",
     "start_time": "2025-01-20T21:00:22.927093Z"
    }
   },
   "id": "ba6a3ee19aef38a3",
   "outputs": [],
   "execution_count": 43
  },
  {
   "cell_type": "markdown",
   "source": [
    "## Load and visualize data"
   ],
   "metadata": {
    "collapsed": false
   },
   "id": "80c77908e2f33b16"
  },
  {
   "cell_type": "code",
   "id": "da5adb739d29741",
   "metadata": {
    "collapsed": true,
    "ExecuteTime": {
     "end_time": "2025-01-16T18:47:06.831154Z",
     "start_time": "2025-01-16T18:32:50.521895Z"
    }
   },
   "source": [
    "# Load and extract data\n",
    "# Define paths for both datasets\n",
    "datafolder1_name = [\"data\", \"set 1\"]\n",
    "datafolder2_name = [\"data\", \"set 2\"]\n",
    "\n",
    "data_path1 = os.path.join(*datafolder1_name)\n",
    "data_path2 = os.path.join(*datafolder2_name)\n",
    "\n",
    "# Helper function to load and process a dataset\n",
    "def load_and_process_dataset(data_path, print_dataset=True):\n",
    "    start_time = time.time()\n",
    "    (designs, design_params, n_designs, n_panes, design_res,\n",
    "     WAVEVECTOR_DATA, WAVEFORM_DATA, n_dim, n_wavevectors,\n",
    "     EIGENVALUE_DATA, n_bands, EIGENVECTOR_DATA_x,\n",
    "     EIGENVECTOR_DATA_y, const, N_struct,\n",
    "     imag_tol, rng_seed_offset) = NO_utils.extract_data(data_path)\n",
    "\n",
    "    print(f\"Loading dataset path: {data_path}\")\n",
    "\n",
    "    # Convert all bands to spatial domain\n",
    "    bands = np.arange(1, n_bands + 1)\n",
    "    bands_fft = np.zeros((n_bands, design_res, design_res))\n",
    "    for i, band in enumerate(bands):\n",
    "        bands_fft[i], _ = NO_utils_multiple.const_to_spatial(band, design_res, plot_result=False, scaling_factor=1.0)\n",
    "\n",
    "    # Create the result dictionary\n",
    "    dataset = {\n",
    "        \"designs\": designs, \"design_params\": design_params, \"n_designs\": n_designs,\n",
    "        \"WAVEVECTOR_DATA\": WAVEVECTOR_DATA, \"WAVEFORM_DATA\": WAVEFORM_DATA,\n",
    "        \"EIGENVALUE_DATA\": EIGENVALUE_DATA, \"EIGENVECTOR_DATA_x\": EIGENVECTOR_DATA_x,\n",
    "        \"EIGENVECTOR_DATA_y\": EIGENVECTOR_DATA_y, \"bands_fft\": bands_fft\n",
    "    }\n",
    "    \n",
    "    # Stop the timer\n",
    "    end_time = time.time()\n",
    "    elapsed_time = end_time - start_time\n",
    "\n",
    "    # Print dataset sizes and elapsed time\n",
    "    if print_dataset:\n",
    "        print(f\"Dataset loaded from {data_path}:\")\n",
    "        for key, value in dataset.items():\n",
    "            print(f\"  {key}: {np.shape(value)}\")\n",
    "        print(f\"Elapsed time: {elapsed_time:.2f} seconds\")\n",
    "    \n",
    "    return dataset\n",
    "\n",
    "# Load and process datasets\n",
    "dataset1 = load_and_process_dataset(data_path1)\n",
    "\n",
    "designs = dataset1[\"designs\"]\n",
    "design_params = dataset1[\"design_params\"]\n",
    "waveforms = dataset1[\"WAVEFORM_DATA\"]\n",
    "eigenvalue_data = dataset1[\"EIGENVALUE_DATA\"]\n",
    "eigenvector_data_x = dataset1[\"EIGENVECTOR_DATA_x\"]\n",
    "eigenvector_data_y = dataset1[\"EIGENVECTOR_DATA_y\"]\n",
    "bands_fft = dataset1[\"bands_fft\"]\n",
    "print(\"Dataset 1 loaded and saved.\")\n",
    "# Free up memory by deleting dataset1\n",
    "del dataset1\n",
    "\n",
    "dataset2 = load_and_process_dataset(data_path2)\n",
    "\n",
    "designs = np.concatenate([designs, dataset2[\"designs\"]], axis=0)\n",
    "design_params = np.concatenate([design_params, dataset2[\"design_params\"]], axis=0)\n",
    "waveforms = np.concatenate([waveforms, dataset2[\"WAVEFORM_DATA\"]], axis=0)\n",
    "eigenvalue_data = np.concatenate([eigenvalue_data, dataset2[\"EIGENVALUE_DATA\"]], axis=0)\n",
    "eigenvector_data_x = np.concatenate([eigenvector_data_x, dataset2[\"EIGENVECTOR_DATA_x\"]], axis=0)\n",
    "eigenvector_data_y = np.concatenate([eigenvector_data_y, dataset2[\"EIGENVECTOR_DATA_y\"]], axis=0)\n",
    "# bands_ftt should be the same for each dataset\n",
    "\n",
    "# Free up memory by deleting dataset2\n",
    "del dataset2\n",
    "\n",
    "#Take unique subset of waveforms    \n",
    "waveforms = waveforms[0]"
   ],
   "outputs": [
    {
     "name": "stdout",
     "output_type": "stream",
     "text": [
      "Data loaded in 442.71 seconds.\n",
      "Spatial waves shape: (600, 325, 32, 32)\n",
      "n_designs: 600, n_panes: 3, design_res: 32, d_design: 2, dispersion_bands: 6, rng_seed_offset: [[0.]]\n",
      "EIGENVALUE_DATA shape: (600, 325, 6)\n",
      "EIGENVECTOR_DATA shape: (600, 325, 6, 2048)\n",
      "EIGENVECTOR_DATA_x shape: (600, 325, 6, 32, 32)\n",
      "EIGENVECTOR_DATA_y shape: (600, 325, 6, 32, 32)\n",
      "WAVEVECTOR_DATA shape: (600, 325, 2)\n",
      "WAVEFORM_DATA shape: (600, 325, 32, 32)\n",
      "designs shape: (600, 3, 32, 32)\n",
      "design_params shape: (1, 6)\n",
      "const shape: {'E_max': (1, 1), 'E_min': (1, 1), 'N_eig': (1, 1), 'N_ele': (1, 1), 'N_pix': (1, 1), 'N_wv': (2, 1), 'a': (1, 1), 'design': (3, 32, 32), 'design_scale': (6, 1), 'isSaveEigenvectors': (1, 1), 'isUseGPU': (1, 1), 'isUseImprovement': (1, 1), 'isUseParallel': (1, 1), 'isUseSecondImprovement': (1, 1), 'poisson_max': (1, 1), 'poisson_min': (1, 1), 'rho_max': (1, 1), 'rho_min': (1, 1), 'sigma_eig': (1, 1), 'symmetry_type': (4, 1), 't': (1, 1), 'wavevectors': (2, 325)}\n",
      "Loading dataset path: data\\set 1\n",
      "Dataset loaded from data\\set 1:\n",
      "  designs: (600, 3, 32, 32)\n",
      "  design_params: (1, 6)\n",
      "  n_designs: ()\n",
      "  WAVEVECTOR_DATA: (600, 325, 2)\n",
      "  WAVEFORM_DATA: (600, 325, 32, 32)\n",
      "  EIGENVALUE_DATA: (600, 325, 6)\n",
      "  EIGENVECTOR_DATA_x: (600, 325, 6, 32, 32)\n",
      "  EIGENVECTOR_DATA_y: (600, 325, 6, 32, 32)\n",
      "  bands_fft: (6, 32, 32)\n",
      "Elapsed time: 450.15 seconds\n",
      "Dataset 1 loaded and saved.\n",
      "Data loaded in 381.82 seconds.\n",
      "Spatial waves shape: (600, 325, 32, 32)\n",
      "n_designs: 600, n_panes: 3, design_res: 32, d_design: 2, dispersion_bands: 6, rng_seed_offset: [[600.]]\n",
      "EIGENVALUE_DATA shape: (600, 325, 6)\n",
      "EIGENVECTOR_DATA shape: (600, 325, 6, 2048)\n",
      "EIGENVECTOR_DATA_x shape: (600, 325, 6, 32, 32)\n",
      "EIGENVECTOR_DATA_y shape: (600, 325, 6, 32, 32)\n",
      "WAVEVECTOR_DATA shape: (600, 325, 2)\n",
      "WAVEFORM_DATA shape: (600, 325, 32, 32)\n",
      "designs shape: (600, 3, 32, 32)\n",
      "design_params shape: (1, 6)\n",
      "const shape: {'E_max': (1, 1), 'E_min': (1, 1), 'N_eig': (1, 1), 'N_ele': (1, 1), 'N_pix': (1, 1), 'N_wv': (2, 1), 'a': (1, 1), 'design': (3, 32, 32), 'design_scale': (6, 1), 'isSaveEigenvectors': (1, 1), 'isUseGPU': (1, 1), 'isUseImprovement': (1, 1), 'isUseParallel': (1, 1), 'isUseSecondImprovement': (1, 1), 'poisson_max': (1, 1), 'poisson_min': (1, 1), 'rho_max': (1, 1), 'rho_min': (1, 1), 'sigma_eig': (1, 1), 'symmetry_type': (4, 1), 't': (1, 1), 'wavevectors': (2, 325)}\n",
      "Loading dataset path: data\\set 2\n",
      "Dataset loaded from data\\set 2:\n",
      "  designs: (600, 3, 32, 32)\n",
      "  design_params: (1, 6)\n",
      "  n_designs: ()\n",
      "  WAVEVECTOR_DATA: (600, 325, 2)\n",
      "  WAVEFORM_DATA: (600, 325, 32, 32)\n",
      "  EIGENVALUE_DATA: (600, 325, 6)\n",
      "  EIGENVECTOR_DATA_x: (600, 325, 6, 32, 32)\n",
      "  EIGENVECTOR_DATA_y: (600, 325, 6, 32, 32)\n",
      "  bands_fft: (6, 32, 32)\n",
      "Elapsed time: 390.12 seconds\n"
     ]
    }
   ],
   "execution_count": 2
  },
  {
   "cell_type": "code",
   "source": [
    "#Print shapes of arrays\n",
    "print(f'shape of designs: {np.shape(designs)}')\n",
    "print(f'shape of waveforms: {np.shape(waveforms)}')\n",
    "print(f'shape of EIGENVALUE_DATA: {np.shape(eigenvalue_data)}')\n",
    "print(f'shape of EIGENVECTOR_DATA_x: {np.shape(eigenvector_data_x)}')\n",
    "print(f'shape of EIGENVECTOR_DATA_y: {np.shape(eigenvector_data_y)}')\n",
    "print(f'shape of band_fft: {np.shape(bands_fft)}')\n",
    "\n",
    "n_designs = np.shape(designs)[0]\n",
    "n_bands = np.shape(bands_fft)[0]\n",
    "n_waveforms = np.shape(waveforms)[0]\n",
    "print(f'number of designs: {n_designs}')\n",
    "print(f'number of bands: {n_bands}')\n",
    "print(f'number of waveforms: {n_waveforms}')\n",
    "\n",
    "# Print the max and min values of all the arrays with a size of 400 in its first dimension.\n",
    "print(f'Max value of designs: {np.max(designs)}')\n",
    "print(f'Min value of designs: {np.min(designs)}')\n",
    "print(f'Max value of WAVEFORM_DATA: {np.max(waveforms)}')\n",
    "print(f'Min value of WAVEFORM_DATA: {np.min(waveforms)}')\n",
    "print(f'Max value of WAVEVECTOR_DATA_x: {np.max(eigenvector_data_x)}')\n",
    "print(f'Min value of WAVEVECTOR_DATA_x: {np.min(eigenvector_data_x)}')\n",
    "print(f'Max value of WAVEVECTOR_DATA_y: {np.max(eigenvector_data_y)}')\n",
    "print(f'Min value of WAVEVECTOR_DATA_y: {np.min(eigenvector_data_y)}')"
   ],
   "metadata": {
    "ExecuteTime": {
     "end_time": "2025-01-16T18:47:24.061511Z",
     "start_time": "2025-01-16T18:47:07.110799Z"
    }
   },
   "id": "6018862b59c997bb",
   "outputs": [
    {
     "name": "stdout",
     "output_type": "stream",
     "text": [
      "shape of designs: (1200, 3, 32, 32)\n",
      "shape of waveforms: (325, 32, 32)\n",
      "shape of EIGENVALUE_DATA: (1200, 325, 6)\n",
      "shape of EIGENVECTOR_DATA_x: (1200, 325, 6, 32, 32)\n",
      "shape of EIGENVECTOR_DATA_y: (1200, 325, 6, 32, 32)\n",
      "shape of band_fft: (6, 32, 32)\n",
      "number of designs: 1200\n",
      "number of bands: 6\n",
      "number of waveforms: 325\n",
      "Max value of designs: 1.0\n",
      "Min value of designs: 0.0\n",
      "Max value of WAVEFORM_DATA: 1.0\n",
      "Min value of WAVEFORM_DATA: -0.9999995318233016\n",
      "Max value of WAVEVECTOR_DATA_x: (0.67138671875+0j)\n",
      "Min value of WAVEVECTOR_DATA_x: (-0.685546875+0j)\n",
      "Max value of WAVEVECTOR_DATA_y: (0.67138671875+0j)\n",
      "Min value of WAVEVECTOR_DATA_y: (-0.67138671875+0j)\n"
     ]
    }
   ],
   "execution_count": 3
  },
  {
   "metadata": {
    "collapsed": false,
    "ExecuteTime": {
     "end_time": "2025-01-16T18:47:32.864687Z",
     "start_time": "2025-01-16T18:47:24.198725Z"
    }
   },
   "cell_type": "code",
   "source": [
    "\n",
    "# Flatten the arrays and plot a separate histogram showing the distribution of values for each array with a size of 400 in its first dimension. Drop any imaginary components for the eigenvectors.\n",
    "\n",
    "# Flatten the arrays\n",
    "designs_flat = designs.flatten()\n",
    "WAVEFORM_DATA_flat = waveforms.flatten()\n",
    "EIGENVECTOR_DATA_x_flat = eigenvector_data_x.flatten()\n",
    "EIGENVECTOR_DATA_y_flat = eigenvector_data_y.flatten()\n",
    "\n",
    "# Take the symlog of the flattened arrays. Take the real value for complex valued arrays.\n",
    "# designs_flat_symlog = np.sign(designs_flat) * np.log10(np.abs(designs_flat) + 1)\n",
    "# WAVEFORM_DATA_flat_symlog = np.sign(WAVEFORM_DATA_flat) * np.log10(np.abs(WAVEFORM_DATA_flat) + 1)\n",
    "# EIGENVECTOR_DATA_x_flat_symlog = np.sign(EIGENVECTOR_DATA_x_flat.real) * np.log10(np.abs(EIGENVECTOR_DATA_x_flat.real) + 1)\n",
    "# EIGENVECTOR_DATA_y_flat_symlog = np.sign(EIGENVECTOR_DATA_y_flat.real) * np.log10(np.abs(EIGENVECTOR_DATA_y_flat.real) + 1)"
   ],
   "id": "5e7ff1c5825a1ecc",
   "outputs": [],
   "execution_count": 4
  },
  {
   "cell_type": "code",
   "source": [
    "# Plot the histograms of flattened real values for each array\n",
    "fig, axes = plt.subplots(2, 2, figsize=(12, 12))\n",
    "\n",
    "axes[0, 0].hist(designs_flat, bins=100, color='b', alpha=0.7)\n",
    "axes[0, 0].set_title('Designs')\n",
    "axes[0, 0].set_xlabel('Pixel Value')\n",
    "axes[0, 0].set_ylabel('Frequency')\n",
    "\n",
    "axes[0, 1].hist(WAVEFORM_DATA_flat, bins=100, color='r', alpha=0.7)\n",
    "axes[0, 1].set_title('Waveforms')\n",
    "axes[0, 1].set_xlabel('Value')\n",
    "axes[0, 1].set_ylabel('Frequency')\n",
    "\n",
    "axes[1, 0].hist(EIGENVECTOR_DATA_x_flat.real, bins=100, color='g', alpha=0.7)\n",
    "axes[1, 0].set_title('Eigenvectors (x)')\n",
    "axes[1, 0].set_xlabel('Value')\n",
    "axes[1, 0].set_ylabel('Frequency')\n",
    "\n",
    "axes[1, 1].hist(EIGENVECTOR_DATA_y_flat.real, bins=100, color='y', alpha=0.7)\n",
    "axes[1, 1].set_title('Eigenvectors (y)')\n",
    "axes[1, 1].set_xlabel('Value')\n",
    "axes[1, 1].set_ylabel('Frequency')\n",
    "\n",
    "plt.tight_layout()\n",
    "plt.show()"
   ],
   "metadata": {
    "collapsed": false,
    "ExecuteTime": {
     "end_time": "2025-01-16T18:50:27.945600Z",
     "start_time": "2025-01-16T18:47:32.977257Z"
    }
   },
   "id": "62b963bd2bde7aee",
   "outputs": [
    {
     "data": {
      "text/plain": [
       "<Figure size 1200x1200 with 4 Axes>"
      ],
      "image/png": "[encoded data removed]"
     },
     "metadata": {},
     "output_type": "display_data"
    }
   ],
   "execution_count": 5
  },
  {
   "cell_type": "code",
   "source": [
    "# Plot the histograms of flattened log abs values for each array\n",
    "# fig, axes = plt.subplots(2, 2, figsize=(12, 12))\n",
    "# \n",
    "# axes[0, 0].hist(designs_flat_symlog, bins=100, color='b', alpha=0.7)\n",
    "# axes[0, 0].set_title('Designs')\n",
    "# axes[0, 0].set_xlabel('Log Abs Value')\n",
    "# axes[0, 0].set_ylabel('Frequency')\n",
    "# \n",
    "# axes[0, 1].hist(WAVEFORM_DATA_flat_symlog, bins=100, color='r', alpha=0.7)\n",
    "# axes[0, 1].set_title('Waveforms')\n",
    "# axes[0, 1].set_xlabel('Log Abs Value')\n",
    "# axes[0, 1].set_ylabel('Frequency')\n",
    "# \n",
    "# axes[1, 0].hist(EIGENVECTOR_DATA_x_flat_symlog, bins=100, color='g', alpha=0.7)\n",
    "# axes[1, 0].set_title('Eigenvectors (x)')\n",
    "# axes[1, 0].set_xlabel('Log Abs Value')\n",
    "# axes[1, 0].set_ylabel('Frequency')\n",
    "# \n",
    "# axes[1, 1].hist(EIGENVECTOR_DATA_y_flat_symlog, bins=100, color='y', alpha=0.7)\n",
    "# axes[1, 1].set_title('Eigenvectors (y)')\n",
    "# axes[1, 1].set_xlabel('Log Abs Value')\n",
    "# axes[1, 1].set_ylabel('Frequency')\n",
    "# \n",
    "# plt.tight_layout()\n",
    "# plt.show()"
   ],
   "metadata": {
    "collapsed": false,
    "ExecuteTime": {
     "end_time": "2025-01-07T04:50:31.888356Z",
     "start_time": "2025-01-07T04:50:31.884336Z"
    }
   },
   "id": "6d3f2966445eb4d9",
   "outputs": [],
   "execution_count": 6
  },
  {
   "cell_type": "code",
   "source": [
    "# Draw a random design and its corresponding eigenvectors\n",
    "#n_bands = 6\n",
    "random_seed = 36\n",
    "random.seed(random_seed)\n",
    "sample_index = np.random.randint(0, n_designs)\n",
    "sample_geometry = designs[sample_index, 0]\n",
    "sample_band = np.random.randint(0, n_bands)\n",
    "sample_waveform_index = np.random.randint(0, n_waveforms)\n",
    "sample_waveform = waveforms[sample_waveform_index]\n",
    "print(f'Design: {sample_index}, Band: {sample_band}, Wavevector: {sample_waveform_index}')"
   ],
   "metadata": {
    "collapsed": false,
    "ExecuteTime": {
     "end_time": "2025-01-16T18:50:28.136630Z",
     "start_time": "2025-01-16T18:50:28.131161Z"
    }
   },
   "id": "d14ffb26416d07b3",
   "outputs": [
    {
     "name": "stdout",
     "output_type": "stream",
     "text": [
      "Design: 804, Band: 5, Wavevector: 118\n"
     ]
    }
   ],
   "execution_count": 6
  },
  {
   "cell_type": "code",
   "source": [
    "# Calculate the average values for geometry and waveform across all samples\n",
    "print(f'designs shape: {designs.shape}')\n",
    "print(f'WAVEFORM_DATA shape: {waveforms.shape}')\n",
    "\n",
    "avg_geometry = np.mean(designs[:, 0], axis=0)\n",
    "avg_waveform = np.mean(waveforms[:], axis=0)\n",
    "\n",
    "# Create the subplots\n",
    "fig, axes = plt.subplots(2, 2, figsize=(12, 12))\n",
    "\n",
    "# Plot the geometry sample on the top-left\n",
    "im1 = axes[0, 0].imshow(sample_geometry, cmap='viridis')\n",
    "axes[0, 0].set_title('Geometry Sample')\n",
    "axes[0, 0].set_xlabel('x (pixels)')\n",
    "axes[0, 0].set_ylabel('y (pixels)')\n",
    "plt.colorbar(im1, ax=axes[0, 0])\n",
    "\n",
    "# Plot the waveform sample on the top-right\n",
    "im2 = axes[0, 1].imshow(sample_waveform, cmap='viridis')\n",
    "axes[0, 1].set_title('Waveform Sample')\n",
    "axes[0, 1].set_xlabel('x (m)')\n",
    "axes[0, 1].set_ylabel('y (m)')\n",
    "plt.colorbar(im2, ax=axes[0, 1])\n",
    "\n",
    "# Plot the average geometry on the bottom-left\n",
    "im3 = axes[1, 0].imshow(avg_geometry, cmap='viridis')\n",
    "axes[1, 0].set_title('Average Geometry')\n",
    "axes[1, 0].set_xlabel('x (pixels)')\n",
    "axes[1, 0].set_ylabel('y (pixels)')\n",
    "plt.colorbar(im3, ax=axes[1, 0])\n",
    "\n",
    "# Plot the average waveform on the bottom-right\n",
    "im4 = axes[1, 1].imshow(avg_waveform, cmap='viridis')\n",
    "axes[1, 1].set_title('Average Waveform')\n",
    "axes[1, 1].set_xlabel('x (m)')\n",
    "axes[1, 1].set_ylabel('y (m)')\n",
    "plt.colorbar(im4, ax=axes[1, 1])\n",
    "\n",
    "print(f'Average pixel values of all geometries: {np.mean(designs[:,0])}')\n",
    "print(f'Average pixel values of all waveforms: {np.mean(waveforms[0,:])}')"
   ],
   "metadata": {
    "collapsed": false,
    "ExecuteTime": {
     "end_time": "2025-01-16T18:50:28.782774Z",
     "start_time": "2025-01-16T18:50:28.304427Z"
    }
   },
   "id": "1178eac42dcb84f2",
   "outputs": [
    {
     "name": "stdout",
     "output_type": "stream",
     "text": [
      "designs shape: (1200, 3, 32, 32)\n",
      "WAVEFORM_DATA shape: (325, 32, 32)\n",
      "Average pixel values of all geometries: 0.49950732668277104\n",
      "Average pixel values of all waveforms: 0.6164027212723144\n"
     ]
    },
    {
     "data": {
      "text/plain": [
       "<Figure size 1200x1200 with 8 Axes>"
      ],
      "image/png": "[encoded data removed]"
     },
     "metadata": {},
     "output_type": "display_data"
    }
   ],
   "execution_count": 7
  },
  {
   "cell_type": "code",
   "source": [
    "# View eigenvectors for the selected design, band, and wavevector\n",
    "print(f'Design: {sample_index}, Band: {sample_band}, Wavevector: {sample_waveform_index}')\n",
    "sample_eigenvector_x = eigenvector_data_x[sample_index, sample_waveform_index, sample_band]\n",
    "sample_eigenvector_y = eigenvector_data_y[sample_index, sample_waveform_index, sample_band]\n",
    "\n",
    "NO_utils.plot_eigenvectors(sample_eigenvector_x, sample_eigenvector_y, unify_scales=True)"
   ],
   "metadata": {
    "collapsed": false,
    "ExecuteTime": {
     "end_time": "2025-01-16T18:50:29.141766Z",
     "start_time": "2025-01-16T18:50:28.925570Z"
    }
   },
   "id": "initial_id",
   "outputs": [
    {
     "name": "stdout",
     "output_type": "stream",
     "text": [
      "Design: 804, Band: 5, Wavevector: 118\n"
     ]
    },
    {
     "name": "stderr",
     "output_type": "stream",
     "text": [
      "C:\\Users\\hz283\\Documents\\Duke\\Research\\NO-2D-Metamaterials\\NO_utils.py:169: UserWarning: This figure includes Axes that are not compatible with tight_layout, so results might be incorrect.\n",
      "  plt.tight_layout()\n"
     ]
    },
    {
     "data": {
      "text/plain": [
       "<Figure size 1000x800 with 5 Axes>"
      ],
      "image/png": "[encoded data removed]"
     },
     "metadata": {},
     "output_type": "display_data"
    }
   ],
   "execution_count": 8
  },
  {
   "cell_type": "markdown",
   "source": [
    "## Model architecture & training"
   ],
   "metadata": {
    "collapsed": false
   },
   "id": "403252e7c7fdba30"
  },
  {
   "cell_type": "code",
   "source": [
    "# Import modules for building a neural operator model\n",
    "import numpy as np\n",
    "import scipy as sp\n",
    "import torch\n",
    "import torch.nn as nn\n",
    "import torch.nn.functional as F\n",
    "import torch.fft\n",
    "import torch.optim as optim\n",
    "from torch.utils.data import DataLoader, TensorDataset\n",
    "from torch.optim import Adam\n",
    "from torch.optim.lr_scheduler import CosineAnnealingLR\n",
    "\n",
    "# Import specialized neural operator model tools\n",
    "from neuralop.models import FNO, FNO2d, TFNO, TFNO2d\n",
    "from neuralop import Trainer\n",
    "from neuralop.training import CheckpointCallback\n",
    "from neuralop.datasets import load_darcy_flow_small\n",
    "from neuralop.utils import count_model_params\n",
    "from neuralop.datasets import data_transforms\n",
    "from neuralop import LpLoss, H1Loss\n",
    "\n",
    "# For creating datasets and data loaders for training and evaluation\n",
    "from torch.utils.data import DataLoader, Dataset, TensorDataset, random_split, ConcatDataset\n",
    "from sklearn.preprocessing import StandardScaler\n",
    "\n",
    "# Optional: torchvision for augmentations and transformations (if working with image-like data)\n",
    "import torchvision.transforms as transforms\n",
    "\n",
    "# For plotting and visualization\n",
    "import matplotlib.pyplot as plt\n",
    "\n",
    "# Optional: Use tqdm for progress bars during training and evaluation\n",
    "from tqdm import tqdm\n",
    "\n",
    "# Optional: If you are working with graph data or architectures\n",
    "# import torch_geometric\n",
    "\n",
    "# If you need automatic differentiation for custom operations or gradients\n",
    "from torch.autograd import Function"
   ],
   "metadata": {
    "collapsed": false,
    "ExecuteTime": {
     "end_time": "2025-01-16T19:32:15.345363Z",
     "start_time": "2025-01-16T19:32:09.521622Z"
    }
   },
   "id": "ca8db99822c54acc",
   "outputs": [],
   "execution_count": 9
  },
  {
   "cell_type": "code",
   "source": [
    "#Set the device for the neural operator model\n",
    "device = torch.device('cuda' if torch.cuda.is_available() else 'cpu')\n",
    "print('Using Device:', device)\n",
    "print(\"Using PyTorch version:\", torch.__version__)"
   ],
   "metadata": {
    "collapsed": false,
    "ExecuteTime": {
     "end_time": "2025-01-16T19:32:15.426226Z",
     "start_time": "2025-01-16T19:32:15.345363Z"
    }
   },
   "id": "f5e55a66dd87a412",
   "outputs": [
    {
     "name": "stdout",
     "output_type": "stream",
     "text": [
      "Using Device: cuda\n",
      "Using PyTorch version: 2.4.1+cu118\n"
     ]
    }
   ],
   "execution_count": 10
  },
  {
   "cell_type": "code",
   "source": [
    "# Print the shape of the first input tensor for confirmation\n",
    "print(\"Shape of the first input tensor to be assigned:\")\n",
    "print(\"designs[0, 0]:\", designs[0, 0].shape)\n",
    "print(\"WAVEFORM_DATA[0, 0]:\", waveforms[0, 0].shape)\n",
    "\n",
    "# Print the shape of the first output tensor for confirmation\n",
    "print(\"Shape of the first output tensor to be assigned:\")\n",
    "print(\"EIGENVECTOR_DATA_x[0, 0, 0]:\", eigenvector_data_x[0, 0, 0].shape)\n",
    "print(\"EIGENVECTOR_DATA_x[0, 0, 0]:\", eigenvector_data_y[0, 0, 0].shape)"
   ],
   "metadata": {
    "collapsed": false,
    "ExecuteTime": {
     "end_time": "2025-01-16T19:32:15.733101Z",
     "start_time": "2025-01-16T19:32:15.728014Z"
    }
   },
   "id": "e9b8e2896347d542",
   "outputs": [
    {
     "name": "stdout",
     "output_type": "stream",
     "text": [
      "Shape of the first input tensor to be assigned:\n",
      "designs[0, 0]: (32, 32)\n",
      "WAVEFORM_DATA[0, 0]: (32,)\n",
      "Shape of the first output tensor to be assigned:\n",
      "EIGENVECTOR_DATA_x[0, 0, 0]: (32, 32)\n",
      "EIGENVECTOR_DATA_x[0, 0, 0]: (32, 32)\n"
     ]
    }
   ],
   "execution_count": 11
  },
  {
   "cell_type": "code",
   "source": [
    "def symlog_transform(x, linthresh=1):\n",
    "    return np.sign(x) * np.log10(np.abs(x) + linthresh)\n",
    "\n",
    "def symlog_inverse_transform(y, linthresh=1):\n",
    "    return np.sign(y) * (10**np.abs(y) - linthresh)\n",
    "\n",
    "# Function to fit and transform with StandardScaler, with optional symlog transformation\n",
    "def standardize_array(array, symlog=False):\n",
    "    scaler = StandardScaler()\n",
    "    original_shape = array.shape\n",
    "    array_flat = array.reshape(-1, 1)  # Flatten the array to 2D\n",
    "\n",
    "    if symlog:\n",
    "        array_flat = symlog_transform(array_flat)\n",
    "\n",
    "    array_standardized = scaler.fit_transform(array_flat).reshape(original_shape)\n",
    "    mean = scaler.mean_[0]\n",
    "    scale = scaler.scale_[0]\n",
    "\n",
    "    return array_standardized, mean, scale, symlog"
   ],
   "metadata": {
    "collapsed": false,
    "ExecuteTime": {
     "end_time": "2025-01-16T19:32:46.690286Z",
     "start_time": "2025-01-16T19:32:46.684013Z"
    }
   },
   "id": "c725e6ad5dec1c08",
   "outputs": [],
   "execution_count": 13
  },
  {
   "cell_type": "code",
   "source": [
    "# Standardizing EIGENVALUE_DATA and casting to float16\n",
    "EIGENVALUE_DATA_standardized, eigenvalue_mean, eigenvalue_scale, _ = standardize_array(eigenvalue_data)\n",
    "EIGENVALUE_DATA_standardized = EIGENVALUE_DATA_standardized.astype(np.float16)\n",
    "\n",
    "# Standardizing EIGENVECTOR_DATA_x (real and imaginary parts separately) and casting to float16\n",
    "EIGENVECTOR_x_r = eigenvector_data_x.real.astype(np.float16)\n",
    "EIGENVECTOR_x_i = eigenvector_data_x.imag.astype(np.float16)\n",
    "\n",
    "EIGENVECTOR_x_r_standardized, eigvector_x_r_mean, eigvector_x_r_scale, _ = standardize_array(EIGENVECTOR_x_r)\n",
    "EIGENVECTOR_x_r_standardized = EIGENVECTOR_x_r_standardized.astype(np.float16)\n",
    "\n",
    "EIGENVECTOR_x_i_standardized, eigvector_x_i_mean, eigvector_x_i_scale, _ = standardize_array(EIGENVECTOR_x_i)\n",
    "EIGENVECTOR_x_i_standardized = EIGENVECTOR_x_i_standardized.astype(np.float16)\n",
    "\n",
    "# Standardizing EIGENVECTOR_DATA_y (real and imaginary parts separately) and casting to float16\n",
    "EIGENVECTOR_y_r = eigenvector_data_y.real.astype(np.float16)\n",
    "EIGENVECTOR_y_i = eigenvector_data_y.imag.astype(np.float16)\n",
    "\n",
    "EIGENVECTOR_y_r_standardized, eigvector_y_r_mean, eigvector_y_r_scale, _ = standardize_array(EIGENVECTOR_y_r)\n",
    "EIGENVECTOR_y_r_standardized = EIGENVECTOR_y_r_standardized.astype(np.float16)\n",
    "\n",
    "EIGENVECTOR_y_i_standardized, eigvector_y_i_mean, eigvector_y_i_scale, _ = standardize_array(EIGENVECTOR_y_i)\n",
    "EIGENVECTOR_y_i_standardized = EIGENVECTOR_y_i_standardized.astype(np.float16)\n",
    "\n",
    "# Standardizing WAVEVECTOR_DATA and casting to float16\n",
    "WAVEVECTOR_DATA_standardized, wavevector_mean, wavevector_scale, _ = standardize_array(waveforms)\n",
    "WAVEVECTOR_DATA_standardized = WAVEVECTOR_DATA_standardized.astype(np.float16)\n",
    "\n",
    "del eigenvector_data_x, eigenvector_data_y\n"
   ],
   "metadata": {
    "collapsed": false,
    "ExecuteTime": {
     "end_time": "2025-01-16T19:38:43.863398Z",
     "start_time": "2025-01-16T19:32:47.130300Z"
    }
   },
   "id": "b5942193b0603349",
   "outputs": [],
   "execution_count": 14
  },
  {
   "cell_type": "code",
   "source": [
    "# Print shapes and data types of arrays to verify\n",
    "print(\"EIGENVALUE_DATA_standardized shape:\", EIGENVALUE_DATA_standardized.shape, \"dtype:\", EIGENVALUE_DATA_standardized.dtype)\n",
    "print(\"EIGENVECTOR_x_r_standardized shape:\", EIGENVECTOR_x_r_standardized.shape, \"dtype:\", EIGENVECTOR_x_r_standardized.dtype)\n",
    "print(\"EIGENVECTOR_x_i_standardized shape:\", EIGENVECTOR_x_i_standardized.shape, \"dtype:\", EIGENVECTOR_x_i_standardized.dtype)\n",
    "print(\"EIGENVECTOR_y_r_standardized shape:\", EIGENVECTOR_y_r_standardized.shape, \"dtype:\", EIGENVECTOR_y_r_standardized.dtype)\n",
    "print(\"EIGENVECTOR_y_i_standardized shape:\", EIGENVECTOR_y_i_standardized.shape, \"dtype:\", EIGENVECTOR_y_i_standardized.dtype)\n",
    "print(\"WAVEVECTOR_DATA_standardized shape:\", WAVEVECTOR_DATA_standardized.shape, \"dtype:\", WAVEVECTOR_DATA_standardized.dtype)\n",
    "print('\\n')\n",
    "\n",
    "# Print the mean and scale values for each standardized array\n",
    "print(\"Eigenvalue mean, scale:\", eigenvalue_mean, eigenvalue_scale)\n",
    "print(\"Eigenvector x real mean, scale:\", eigvector_x_r_mean, eigvector_x_r_scale)\n",
    "print(\"Eigenvector x imag mean, scale:\", eigvector_x_i_mean, eigvector_x_i_scale)\n",
    "print(\"Eigenvector y real mean, scale:\", eigvector_y_r_mean, eigvector_y_r_scale)\n",
    "print(\"Eigenvector y imag mean, scale:\", eigvector_y_i_mean, eigvector_y_i_scale)\n",
    "print(\"Wavevector mean, scale:\", wavevector_mean, wavevector_scale)\n",
    "print('\\n')\n",
    "\n",
    "# Print the full range and data types of values for each standardized array\n",
    "print(\"Eigenvalue range:\", np.min(EIGENVALUE_DATA_standardized), np.max(EIGENVALUE_DATA_standardized), \"dtype:\", EIGENVALUE_DATA_standardized.dtype)\n",
    "print(\"Eigenvector x real range:\", np.min(EIGENVECTOR_x_r_standardized), np.max(EIGENVECTOR_x_r_standardized), \"dtype:\", EIGENVECTOR_x_r_standardized.dtype)\n",
    "print(\"Eigenvector x imag range:\", np.min(EIGENVECTOR_x_i_standardized), np.max(EIGENVECTOR_x_i_standardized), \"dtype:\", EIGENVECTOR_x_i_standardized.dtype)\n",
    "print(\"Eigenvector y real range:\", np.min(EIGENVECTOR_y_r_standardized), np.max(EIGENVECTOR_y_r_standardized), \"dtype:\", EIGENVECTOR_y_r_standardized.dtype)\n",
    "print(\"Eigenvector y imag range:\", np.min(EIGENVECTOR_y_i_standardized), np.max(EIGENVECTOR_y_i_standardized), \"dtype:\", EIGENVECTOR_y_i_standardized.dtype)\n",
    "print(\"Wavevector range:\", np.min(WAVEVECTOR_DATA_standardized), np.max(WAVEVECTOR_DATA_standardized), \"dtype:\", WAVEVECTOR_DATA_standardized.dtype)"
   ],
   "metadata": {
    "collapsed": false,
    "ExecuteTime": {
     "end_time": "2025-01-16T19:39:19.302496Z",
     "start_time": "2025-01-16T19:38:44.004287Z"
    }
   },
   "id": "df16d5712fc36ecd",
   "outputs": [
    {
     "name": "stdout",
     "output_type": "stream",
     "text": [
      "EIGENVALUE_DATA_standardized shape: (1200, 325, 6) dtype: float16\n",
      "EIGENVECTOR_x_r_standardized shape: (1200, 325, 6, 32, 32) dtype: float16\n",
      "EIGENVECTOR_x_i_standardized shape: (1200, 325, 6, 32, 32) dtype: float16\n",
      "EIGENVECTOR_y_r_standardized shape: (1200, 325, 6, 32, 32) dtype: float16\n",
      "EIGENVECTOR_y_i_standardized shape: (1200, 325, 6, 32, 32) dtype: float16\n",
      "WAVEVECTOR_DATA_standardized shape: (325, 32, 32) dtype: float16\n",
      "\n",
      "\n",
      "Eigenvalue mean, scale: 1888.45629610841 798.7035228569971\n",
      "Eigenvector x real mean, scale: 0.0018384516813742537 0.016231847979193005\n",
      "Eigenvector x imag mean, scale: -0.00089244377248225 0.014878183713681487\n",
      "Eigenvector y real mean, scale: -0.0006618553531460631 0.015983150608088227\n",
      "Eigenvector y imag mean, scale: -0.0008376610355342004 0.015197106699671654\n",
      "Wavevector mean, scale: 0.7354731009461464 0.3362319766565927\n",
      "\n",
      "\n",
      "Eigenvalue range: -2.363 2.79 dtype: float16\n",
      "Eigenvector x real range: -42.34 41.25 dtype: float16\n",
      "Eigenvector x imag range: -39.06 39.1 dtype: float16\n",
      "Eigenvector y real range: -41.97 42.03 dtype: float16\n",
      "Eigenvector y imag range: -44.1 39.88 dtype: float16\n",
      "Wavevector range: -5.16 0.7866 dtype: float16\n"
     ]
    }
   ],
   "execution_count": 15
  },
  {
   "cell_type": "code",
   "source": [
    "# # Standardizing EIGENVALUE_DATA and casting to float16\n",
    "# EIGENVALUE_DATA_log_standardized, eigenvalue_log_mean, eigenvalue_log_scale, _ = standardize_array(EIGENVALUE_DATA, symlog=True)\n",
    "# EIGENVALUE_DATA_log_standardized = EIGENVALUE_DATA_log_standardized.astype(np.float16)\n",
    "# \n",
    "# # Standardizing EIGENVECTOR_DATA_x (real and imaginary parts separately) and casting to float16\n",
    "# EIGENVECTOR_x_r_log_standardized, eigvector_x_r_log_mean, eigvector_x_r_log_scale, _ = standardize_array(EIGENVECTOR_x_r, symlog=True)\n",
    "# EIGENVECTOR_x_r_log_standardized = EIGENVECTOR_x_r_log_standardized.astype(np.float16)\n",
    "# \n",
    "# EIGENVECTOR_x_i_log_standardized, eigvector_x_i_log_mean, eigvector_x_i_log_scale, _ = standardize_array(EIGENVECTOR_x_i, symlog=True)\n",
    "# EIGENVECTOR_x_i_log_standardized = EIGENVECTOR_x_i_log_standardized.astype(np.float16)\n",
    "# \n",
    "# # Standardizing EIGENVECTOR_DATA_y (real and imaginary parts separately) and casting to float16\n",
    "# EIGENVECTOR_y_r_log_standardized, eigvector_y_r_log_mean, eigvector_y_r_log_scale, _ = standardize_array(EIGENVECTOR_y_r, symlog=True)\n",
    "# EIGENVECTOR_y_r_log_standardized = EIGENVECTOR_y_r_log_standardized.astype(np.float16)\n",
    "# \n",
    "# EIGENVECTOR_y_i_log_standardized, eigvector_y_i_log_mean, eigvector_y_i_log_scale, _ = standardize_array(EIGENVECTOR_y_i, symlog=True)\n",
    "# EIGENVECTOR_y_i_log_standardized = EIGENVECTOR_y_i_log_standardized.astype(np.float16)\n",
    "# \n",
    "# # Standardizing WAVEVECTOR_DATA and casting to float16\n",
    "# WAVEVECTOR_DATA_log_standardized, wavevector_log_mean, wavevector_log_scale, _ = standardize_array(WAVEVECTOR_DATA, symlog=True)\n",
    "# WAVEVECTOR_DATA_log_standardized = WAVEVECTOR_DATA_log_standardized.astype(np.float16)\n"
   ],
   "metadata": {
    "collapsed": false,
    "ExecuteTime": {
     "end_time": "2025-01-16T19:39:20.195093Z",
     "start_time": "2025-01-16T19:39:20.191968Z"
    }
   },
   "id": "87c0a48f8828b9a9",
   "outputs": [],
   "execution_count": 16
  },
  {
   "cell_type": "code",
   "source": [
    "# # Print shapes and data types of symlog arrays to verify\n",
    "# print(\"EIGENVALUE_DATA_log_standardized shape:\", EIGENVALUE_DATA_log_standardized.shape, \"dtype:\", EIGENVALUE_DATA_log_standardized.dtype)\n",
    "# print(\"EIGENVECTOR_x_r_log_standardized shape:\", EIGENVECTOR_x_r_log_standardized.shape, \"dtype:\", EIGENVECTOR_x_r_log_standardized.dtype)\n",
    "# print(\"EIGENVECTOR_x_i_log_standardized shape:\", EIGENVECTOR_x_i_log_standardized.shape, \"dtype:\", EIGENVECTOR_x_i_log_standardized.dtype)\n",
    "# print(\"EIGENVECTOR_y_r_log_standardized shape:\", EIGENVECTOR_y_r_log_standardized.shape, \"dtype:\", EIGENVECTOR_y_r_log_standardized.dtype)\n",
    "# print(\"EIGENVECTOR_y_i_log_standardized shape:\", EIGENVECTOR_y_i_log_standardized.shape, \"dtype:\", EIGENVECTOR_y_i_log_standardized.dtype)\n",
    "# print(\"WAVEVECTOR_DATA_log_standardized shape:\", WAVEVECTOR_DATA_log_standardized.shape, \"dtype:\", WAVEVECTOR_DATA_log_standardized.dtype)\n",
    "# print('\\n')\n",
    "# \n",
    "# # Print the mean and scale values for each standardized symlog array\n",
    "# print(\"Eigenvalue mean, scale:\", eigenvalue_log_mean, eigenvalue_log_scale)\n",
    "# print(\"Eigenvector x real mean, scale:\", eigvector_x_r_log_mean, eigvector_x_r_log_scale)\n",
    "# print(\"Eigenvector x imag mean, scale:\", eigvector_x_i_log_mean, eigvector_x_i_log_scale)\n",
    "# print(\"Eigenvector y real mean, scale:\", eigvector_y_r_log_mean, eigvector_y_r_log_scale)\n",
    "# print(\"Eigenvector y imag mean, scale:\", eigvector_y_i_log_mean, eigvector_y_i_log_scale)\n",
    "# print(\"Wavevector mean, scale:\", wavevector_log_mean, wavevector_log_scale)\n",
    "# print('\\n')\n",
    "# \n",
    "# # Print the full range and data type of values for each standardized symlog array\n",
    "# print(\"Eigenvalue range:\", np.min(EIGENVALUE_DATA_log_standardized), np.max(EIGENVALUE_DATA_log_standardized), \"dtype:\", EIGENVALUE_DATA_log_standardized.dtype)\n",
    "# print(\"Eigenvector x real range:\", np.min(EIGENVECTOR_x_r_log_standardized), np.max(EIGENVECTOR_x_r_log_standardized), \"dtype:\", EIGENVECTOR_x_r_log_standardized.dtype)\n",
    "# print(\"Eigenvector x imag range:\", np.min(EIGENVECTOR_x_i_log_standardized), np.max(EIGENVECTOR_x_i_log_standardized), \"dtype:\", EIGENVECTOR_x_i_log_standardized.dtype)\n",
    "# print(\"Eigenvector y real range:\", np.min(EIGENVECTOR_y_r_log_standardized), np.max(EIGENVECTOR_y_r_log_standardized), \"dtype:\", EIGENVECTOR_y_r_log_standardized.dtype)\n",
    "# print(\"Eigenvector y imag range:\", np.min(EIGENVECTOR_y_i_log_standardized), np.max(EIGENVECTOR_y_i_log_standardized), \"dtype:\", EIGENVECTOR_y_i_log_standardized.dtype)\n",
    "# print(\"Wavevector range:\", np.min(WAVEVECTOR_DATA_log_standardized), np.max(WAVEVECTOR_DATA_log_standardized), \"dtype:\", WAVEVECTOR_DATA_log_standardized.dtype)\n"
   ],
   "metadata": {
    "collapsed": false,
    "ExecuteTime": {
     "end_time": "2025-01-16T19:39:20.627736Z",
     "start_time": "2025-01-16T19:39:20.625131Z"
    }
   },
   "id": "c3ceeaecbdf8589e",
   "outputs": [],
   "execution_count": 17
  },
  {
   "metadata": {
    "ExecuteTime": {
     "end_time": "2025-01-16T19:39:22.755245Z",
     "start_time": "2025-01-16T19:39:20.911281Z"
    }
   },
   "cell_type": "code",
   "source": [
    "# Delete unused tensors to free up RAM\n",
    "del EIGENVECTOR_DATA_x_flat, EIGENVECTOR_DATA_y_flat\n",
    "del EIGENVECTOR_x_r, EIGENVECTOR_x_i, EIGENVECTOR_y_r, EIGENVECTOR_y_i"
   ],
   "id": "3aa46571def75542",
   "outputs": [],
   "execution_count": 18
  },
  {
   "cell_type": "code",
   "source": [
    "# Prepare input and output data\n",
    "design_res = 32\n",
    "# num_samples = n_designs * n_waveforms * n_bands\n",
    "num_samples = n_designs * n_waveforms\n",
    "input_data = torch.zeros((num_samples, 2, design_res, design_res))\n",
    "output_data = torch.zeros((num_samples, 4, design_res, design_res))\n",
    "\n",
    "sample_idx = 0\n",
    "for i in range(n_designs):\n",
    "    for j in range(n_waveforms):\n",
    "        # for k in range(n_bands):\n",
    "            # \n",
    "            # input_data[sample_idx, 0] = torch.from_numpy(designs[i, 0])\n",
    "            # input_data[sample_idx, 1] = torch.from_numpy(waveforms[j])\n",
    "            # input_data[sample_idx, 2] = torch.from_numpy(bands_fft[k])\n",
    "            # \n",
    "            # output_data[sample_idx, 0] = torch.from_numpy(EIGENVECTOR_x_r_standardized[i, j, k])\n",
    "            # output_data[sample_idx, 1] = torch.from_numpy(EIGENVECTOR_x_i_standardized[i, j, k])\n",
    "            # output_data[sample_idx, 2] = torch.from_numpy(EIGENVECTOR_y_r_standardized[i, j, k])\n",
    "            # output_data[sample_idx, 3] = torch.from_numpy(EIGENVECTOR_y_i_standardized[i, j, k])\n",
    "            # \n",
    "            # sample_idx += 1\n",
    "        input_data[sample_idx, 0] = torch.from_numpy(designs[i, 0])\n",
    "        input_data[sample_idx, 1] = torch.from_numpy(waveforms[j])\n",
    "\n",
    "        output_data[sample_idx, 0] = torch.from_numpy(EIGENVECTOR_x_r_standardized[i, j, 0])\n",
    "        output_data[sample_idx, 1] = torch.from_numpy(EIGENVECTOR_x_i_standardized[i, j, 0])\n",
    "        output_data[sample_idx, 2] = torch.from_numpy(EIGENVECTOR_y_r_standardized[i, j, 0])\n",
    "        output_data[sample_idx, 3] = torch.from_numpy(EIGENVECTOR_y_i_standardized[i, j, 0])\n",
    "\n",
    "        sample_idx += 1\n",
    "\n",
    "# Create dataset\n",
    "dataset = TensorDataset(input_data, output_data)\n",
    "\n",
    "# Split dataset into train, test, and validation sets\n",
    "train_size = int(0.75 * len(dataset))\n",
    "test_size = int(0.2 * len(dataset))\n",
    "val_size = len(dataset) - train_size - test_size\n",
    "\n",
    "# train_dataset, test_dataset, val_dataset = torch.utils.data.random_split(dataset, [train_size, test_size, val_size])\n",
    "\n",
    "train_dataset, test_dataset, val_dataset = random_split(dataset, [train_size, test_size, val_size])\n",
    "\n",
    "batch_size = 256\n",
    "train_loader = DataLoader(train_dataset, batch_size=batch_size, shuffle=True)\n",
    "test_loader = DataLoader(test_dataset, batch_size=batch_size, shuffle=False)\n",
    "val_loader = DataLoader(val_dataset, batch_size=batch_size, shuffle=False)\n",
    "\n",
    "print(f\"Train dataset size: {len(train_dataset)}\")\n",
    "print(f\"Test dataset size: {len(test_dataset)}\")\n",
    "print(f\"Validation dataset size: {len(val_dataset)}\")"
   ],
   "metadata": {
    "collapsed": false,
    "ExecuteTime": {
     "end_time": "2025-01-16T19:47:26.330532Z",
     "start_time": "2025-01-16T19:47:10.663095Z"
    }
   },
   "id": "bbc91431636d74d1",
   "outputs": [
    {
     "name": "stdout",
     "output_type": "stream",
     "text": [
      "Train dataset size: 292500\n",
      "Test dataset size: 78000\n",
      "Validation dataset size: 19500\n"
     ]
    }
   ],
   "execution_count": 22
  },
  {
   "cell_type": "code",
   "source": [
    "# Visualize a random sample input from the dataset\n",
    "random_idx = np.random.randint(0, len(dataset))\n",
    "random_input, random_output = dataset[random_idx]\n",
    "input_shape = random_input.shape\n",
    "\n",
    "fig, axes = plt.subplots(1, input_shape[0], figsize=(8, 8))\n",
    "axes = axes.flatten()\n",
    "\n",
    "for i in range(2):\n",
    "    if i == 0:\n",
    "        img = random_input[i].numpy()\n",
    "    else:\n",
    "        img = random_input[i].abs().numpy()\n",
    "    axes[i].imshow(img, cmap='viridis')\n",
    "    axes[i].set_title(f'Pane {i+1}')\n",
    "    axes[i].axis('off')\n",
    "\n",
    "plt.tight_layout()\n",
    "plt.show()"
   ],
   "metadata": {
    "collapsed": false,
    "ExecuteTime": {
     "end_time": "2025-01-16T19:47:35.114589Z",
     "start_time": "2025-01-16T19:47:33.143947Z"
    }
   },
   "id": "e25a99a85e750851",
   "outputs": [
    {
     "data": {
      "text/plain": [
       "<Figure size 800x800 with 2 Axes>"
      ],
      "image/png": "[encoded data removed]"
     },
     "metadata": {},
     "output_type": "display_data"
    }
   ],
   "execution_count": 23
  },
  {
   "cell_type": "code",
   "source": [
    "# Visualize a random sample output from the dataset\n",
    "output_shape = random_output.shape\n",
    "\n",
    "fig, axes = plt.subplots(1, output_shape[0], figsize=(8, 8))\n",
    "axes = axes.flatten()\n",
    "\n",
    "for i in range(4):\n",
    "    if i % 2 == 0:\n",
    "        img = random_output[i].numpy()\n",
    "    else:\n",
    "        img = random_output[i].abs().numpy()\n",
    "    axes[i].imshow(img, cmap='viridis')\n",
    "    axes[i].set_title(f'Component {i+1}')\n",
    "    axes[i].axis('off')\n",
    "    \n",
    "plt.tight_layout()\n",
    "plt.show()"
   ],
   "metadata": {
    "collapsed": false,
    "ExecuteTime": {
     "end_time": "2025-01-16T19:47:42.957356Z",
     "start_time": "2025-01-16T19:47:42.839864Z"
    }
   },
   "id": "6efb56ee142426f",
   "outputs": [
    {
     "data": {
      "text/plain": [
       "<Figure size 800x800 with 4 Axes>"
      ],
      "image/png": "[encoded data removed]"
     },
     "metadata": {},
     "output_type": "display_data"
    }
   ],
   "execution_count": 24
  },
  {
   "cell_type": "code",
   "source": [
    "# Print the shapes of the input and output data, train, test, and validation sets\n",
    "print('Input data shape:', input_data.shape)\n",
    "print('Output data shape:', output_data.shape)\n",
    "print('Train data size:', len(train_dataset))\n",
    "print('Test data size:', len(test_dataset))\n",
    "print('Validation data size:', len(val_dataset))\n",
    "\n",
    "# Inspect the first batch of data\n",
    "for sample in train_loader:\n",
    "    print('Batch shape:', sample[0].shape, sample[1].shape)\n",
    "    #print(sample)\n",
    "    break"
   ],
   "metadata": {
    "collapsed": false,
    "ExecuteTime": {
     "end_time": "2025-01-16T19:47:51.018550Z",
     "start_time": "2025-01-16T19:47:50.973692Z"
    }
   },
   "id": "5c9f7a57e356b6fb",
   "outputs": [
    {
     "name": "stdout",
     "output_type": "stream",
     "text": [
      "Input data shape: torch.Size([390000, 2, 32, 32])\n",
      "Output data shape: torch.Size([390000, 4, 32, 32])\n",
      "Train data size: 292500\n",
      "Test data size: 78000\n",
      "Validation data size: 19500\n",
      "Batch shape: torch.Size([256, 2, 32, 32]) torch.Size([256, 4, 32, 32])\n"
     ]
    }
   ],
   "execution_count": 25
  },
  {
   "cell_type": "code",
   "source": [
    "class FourierNeuralOperator(nn.Module):\n",
    "    def __init__(self, modes_height, modes_width, in_channels=2, out_channels=4, hidden=32, num_layers=4):\n",
    "        super(FourierNeuralOperator, self).__init__()\n",
    "        self.modes_height = modes_height  # Number of Fourier modes in height dimension\n",
    "        self.modes_width = modes_width  # Number of Fourier modes in width dimension\n",
    "        self.hidden = hidden  # Width of the hidden channels\n",
    "        self.in_channels = in_channels  # Number of input channels\n",
    "        self.out_channels = out_channels  # Number of output channels\n",
    "        self.num_layers = num_layers\n",
    "\n",
    "        # FNO2d layer\n",
    "        self.fno = FNO2d(in_channels=self.in_channels, out_channels=self.out_channels, n_modes_height=self.modes_height, n_modes_width=self.modes_width, hidden_channels=self.hidden, num_layers=self.num_layers)\n",
    "\n",
    "    def forward(self, x):\n",
    "        # Apply the FNO2d layer\n",
    "        x = self.fno(x)\n",
    "        return x"
   ],
   "metadata": {
    "collapsed": false,
    "ExecuteTime": {
     "end_time": "2025-01-16T19:48:08.528816Z",
     "start_time": "2025-01-16T19:48:08.522835Z"
    }
   },
   "id": "593f352ff2ab7c5b",
   "outputs": [],
   "execution_count": 26
  },
  {
   "cell_type": "code",
   "source": [
    "def train_one_epoch(model, loader, criterion, optimizer, device, epoch, report_freq=100, save_after_batch=False, save_path=None):\n",
    "    model.train()\n",
    "    running_loss = 0.0\n",
    "    total_batches = len(loader)\n",
    "    progress_bar = tqdm(enumerate(loader), total=total_batches, desc=f\"Epoch {epoch + 1}\")\n",
    "\n",
    "    for batch_idx, (inputs, targets) in progress_bar:\n",
    "        inputs, targets = inputs.to(device), targets.to(device)\n",
    "\n",
    "        optimizer.zero_grad()\n",
    "        outputs = model(inputs)\n",
    "        loss = criterion(outputs, targets).mean()  # Ensure the loss is a scalar\n",
    "        loss.backward()\n",
    "        optimizer.step()\n",
    "\n",
    "        running_loss += loss.item() * inputs.size(0)\n",
    "\n",
    "        # Print progress for each batch\n",
    "        if (batch_idx + 1) % report_freq == 0 or (batch_idx + 1) == total_batches:\n",
    "            progress_bar.set_postfix(batch_loss=loss.item())\n",
    "\n",
    "        # Save model weights after each batch if the flag is set\n",
    "        if save_after_batch and save_path:\n",
    "            save_model(model, save_path)\n",
    "\n",
    "    epoch_loss = running_loss / len(loader.dataset)\n",
    "\n",
    "    # Save model weights after each epoch if the flag is not set\n",
    "    if not save_after_batch and save_path:\n",
    "        save_model(model, save_path)\n",
    "\n",
    "    return epoch_loss\n",
    "\n",
    "def evaluate(model, loader, criterion, device):\n",
    "    model.eval()\n",
    "    running_loss = 0.0\n",
    "    with torch.no_grad():\n",
    "        for inputs, targets in tqdm(loader, desc=\"Evaluating\"):\n",
    "            inputs, targets = inputs.to(device), targets.to(device)\n",
    "            outputs = model(inputs)\n",
    "            loss = criterion(outputs, targets).mean()  # Ensure the loss is a scalar\n",
    "            running_loss += loss.item() * inputs.size(0)\n",
    "\n",
    "    epoch_loss = running_loss / len(loader.dataset)\n",
    "    return epoch_loss\n",
    "\n",
    "# Function to save the model weights\n",
    "def save_model(model, file_path):\n",
    "    torch.save(model.state_dict(), file_path)\n",
    "\n",
    "# Function to load the model weights\n",
    "def load_model(model, file_path):\n",
    "    model.load_state_dict(torch.load(file_path))"
   ],
   "metadata": {
    "collapsed": false,
    "ExecuteTime": {
     "end_time": "2025-01-16T19:48:10.465472Z",
     "start_time": "2025-01-16T19:48:10.455995Z"
    }
   },
   "id": "99b6262f00c1eee2",
   "outputs": [],
   "execution_count": 27
  },
  {
   "metadata": {
    "ExecuteTime": {
     "end_time": "2025-01-16T19:48:11.923950Z",
     "start_time": "2025-01-16T19:48:11.913742Z"
    }
   },
   "cell_type": "code",
   "source": [
    "def plot_sample(data, title, labels, shared_colorbar=False, vmin=None, vmax=None, layout=None, save=False, save_path='plot.png'):\n",
    "    # Automatically select layout based on the number of data arrays if not provided\n",
    "    num_arrays = data.shape[0]\n",
    "    if layout is None:\n",
    "        if num_arrays == 3:\n",
    "            layout = (1, 3)\n",
    "        elif num_arrays == 4:\n",
    "            layout = (2, 2)\n",
    "        else:\n",
    "            raise ValueError(\"Data input must have 3 or 4 arrays for plotting.\")\n",
    "\n",
    "    # Adjust figure size based on layout\n",
    "    if layout == (1, 3):\n",
    "        fig, axes = plt.subplots(*layout, figsize=(12, 4))  # Wide and short for 1x3 layout\n",
    "    elif layout == (2, 2):\n",
    "        fig, axes = plt.subplots(*layout, figsize=(8, 8))   # Square for 2x2 layout\n",
    "    else:\n",
    "        raise ValueError(\"Unsupported layout\")\n",
    "\n",
    "    for ax, (idx, label) in zip(axes.flatten(), labels):\n",
    "        im = ax.imshow(data[idx, :, :].cpu(), cmap='viridis', vmin=vmin if shared_colorbar else None, vmax=vmax if shared_colorbar else None)\n",
    "        ax.set_title(label)\n",
    "        if not shared_colorbar:\n",
    "            fig.colorbar(im, ax=ax)\n",
    "\n",
    "    if shared_colorbar:\n",
    "        # Add a single colorbar to the right of the plot\n",
    "        cbar = fig.colorbar(im, ax=axes.ravel().tolist())\n",
    "        cbar.ax.set_ylabel('Color scale')\n",
    "\n",
    "    plt.suptitle(title)\n",
    "\n",
    "    if save:\n",
    "        # Save the figure\n",
    "        plt.savefig(save_path)\n",
    "        print(f\"Plot saved at {save_path}\")\n",
    "        plt.close(fig)\n",
    "    else:\n",
    "        # Display the figure\n",
    "        plt.show()\n",
    "\n",
    "def plot_inputs(data, title, labels, save=False, save_path='example_plot.png'):\n",
    "    # Plot inputs with layout (1, 3) and custom figure size\n",
    "    plot_sample(data, title, labels, shared_colorbar=True, layout=(1, 3), save=save, save_path=save_path)\n",
    "\n",
    "def plot_predictions_and_targets(inputs, outputs, targets, save=False, save_dir='figures/', file_suffix='example'):\n",
    "    # Ensure save directory exists if save is True\n",
    "    if save:\n",
    "        os.makedirs(save_dir, exist_ok=True)\n",
    "\n",
    "    # Add file_suffix to the filenames\n",
    "    input_filename = f'{save_dir}/input_{file_suffix}.png'\n",
    "    output_filename = f'{save_dir}/output_{file_suffix}.png'\n",
    "    target_filename = f'{save_dir}/target_{file_suffix}.png'\n",
    "\n",
    "    input_labels = [(0, 'geometry'), (1, 'waveform'), (2, 'band')]\n",
    "    plot_inputs(inputs, 'Inputs', input_labels, save=save, save_path=input_filename)\n",
    "\n",
    "    # Compute global min and max for shared colorbar between outputs and targets\n",
    "    vmin = min(np.min(outputs.cpu().numpy()), np.min(targets.cpu().numpy()))\n",
    "    vmax = max(np.max(outputs.cpu().numpy()), np.max(targets.cpu().numpy()))\n",
    "\n",
    "    prediction_labels = [(0, 'eigenvector_x_real'), (1, 'eigenvector_x_imag'), (2, 'eigenvector_y_real'), (3, 'eigenvector_y_imag')]\n",
    "    plot_sample(outputs, \"Model Predictions\", prediction_labels, shared_colorbar=True, vmin=vmin, vmax=vmax, save=save, save_path=output_filename)\n",
    "\n",
    "    target_labels = [(0, 'eigenvector_x_real'), (1, 'eigenvector_x_imag'), (2, 'eigenvector_y_real'), (3, 'eigenvector_y_imag')]\n",
    "    plot_sample(targets, \"Target Values\", target_labels, shared_colorbar=True, vmin=vmin, vmax=vmax, save=save, save_path=target_filename)\n"
   ],
   "id": "d4c4845496aa2e9f",
   "outputs": [],
   "execution_count": 28
  },
  {
   "metadata": {},
   "cell_type": "code",
   "outputs": [],
   "execution_count": null,
   "source": "",
   "id": "20b8a60fcd280e73"
  },
  {
   "cell_type": "code",
   "source": [
    "hc = 256; lr = 1e-3; wd = 1e-5; ss = 10; gamma = 0.1\n",
    "\n",
    "hcs = [64, 128, 256]\n",
    "lrs = [1e-3, 1e-2]\n",
    "\n",
    "# Create a 2D array to store the best val loss for each (hc, lr)\n",
    "best_val_losses_map = np.zeros((len(hcs), len(lrs)))\n",
    "\n",
    "model = FourierNeuralOperator(modes_height=design_res, modes_width=design_res, in_channels=2, out_channels=4, hidden=hc).to(device)\n",
    "\n",
    "# # Define the loss function\n",
    "# criterion = nn.MSELoss()  # Mean Squared Error loss\n",
    "# \n",
    "# # Define the optimizer\n",
    "# optimizer = optim.AdamW(model.parameters(), lr=lr, weight_decay=wd)\n",
    "# \n",
    "# # Define the learning rate scheduler\n",
    "# scheduler = optim.lr_scheduler.StepLR(optimizer, step_size=ss, gamma=gamma)"
   ],
   "metadata": {
    "collapsed": false,
    "ExecuteTime": {
     "end_time": "2025-01-20T21:00:34.279431Z",
     "start_time": "2025-01-20T21:00:32.957421Z"
    }
   },
   "id": "1e74de86533d94ff",
   "outputs": [],
   "execution_count": 44
  },
  {
   "cell_type": "code",
   "source": [
    "# # Parameters for saving/loading model weights\n",
    "# save_path = f'./model_weights_hc{hc}_lr{lr:.0e}_wd{wd:.0e}_ss{ss}_gamma{gamma:.0e}.pth'\n",
    "# print(save_path)\n",
    "# load_existing_model = False  # Set to True if you want to load an existing model\n",
    "# \n",
    "# # Load the model weights if a valid file path is provided and the flag is set\n",
    "# if load_existing_model and os.path.isfile(save_path):\n",
    "#     load_model(model, save_path)\n",
    "#     print(f\"Loaded model weights from {save_path}\")\n",
    "# \n",
    "# # Lists to store losses for plotting\n",
    "# train_losses = []\n",
    "# val_losses = []"
   ],
   "metadata": {
    "collapsed": false,
    "ExecuteTime": {
     "end_time": "2025-01-20T21:00:34.783458Z",
     "start_time": "2025-01-20T21:00:34.780358Z"
    }
   },
   "id": "2fe5e8bed0fcfb8b",
   "outputs": [],
   "execution_count": 45
  },
  {
   "metadata": {
    "ExecuteTime": {
     "end_time": "2025-01-22T08:22:19.813213Z",
     "start_time": "2025-01-20T21:00:35.552418Z"
    }
   },
   "cell_type": "code",
   "source": [
    "# ==== Perform the Grid Search ====\n",
    "for i, hc in enumerate(hcs):\n",
    "    for j, lr in enumerate(lrs):\n",
    "        # Create a folder for this particular set of hyperparameters\n",
    "        timestamp = datetime.now().strftime(\"%y%m%d-%H%M%S\")\n",
    "        model_folder = f\"model_{timestamp}_lr{lr}_wd{wd}_ss{ss}_gamma{gamma}_dr{design_res}_hc{hc}\"\n",
    "        os.makedirs(model_folder, exist_ok=True)\n",
    "\n",
    "        # Define model, criterion, optimizer, scheduler\n",
    "        model = FourierNeuralOperator(\n",
    "            modes_height=design_res,\n",
    "            modes_width=design_res,\n",
    "            in_channels=2,\n",
    "            out_channels=4,\n",
    "            hidden=hc\n",
    "        ).to(device)\n",
    "\n",
    "        criterion = nn.MSELoss()  # Mean Squared Error\n",
    "        optimizer = optim.AdamW(model.parameters(), lr=lr, weight_decay=wd)\n",
    "        scheduler = optim.lr_scheduler.StepLR(optimizer, step_size=ss, gamma=gamma)\n",
    "\n",
    "        train_losses = []\n",
    "        val_losses = []\n",
    "        best_val_loss = float(\"inf\")\n",
    "        best_model_path = None\n",
    "\n",
    "        # ==== Training Loop ====\n",
    "        for epoch in range(num_epochs):\n",
    "            train_loss = train_one_epoch(\n",
    "                model=model,\n",
    "                loader=train_loader,\n",
    "                criterion=criterion,\n",
    "                optimizer=optimizer,\n",
    "                device=device,\n",
    "                epoch=epoch,\n",
    "                report_freq=256,\n",
    "                save_after_batch=False,  # saving per batch if desired\n",
    "                save_path=None           # no save at every batch\n",
    "            )\n",
    "\n",
    "            val_loss = evaluate(model, val_loader, criterion, device)\n",
    "\n",
    "            # Print progress for each epoch\n",
    "            print(f\"Epoch {epoch+1}/{num_epochs} [hc={hc}, lr={lr}] --> \"\n",
    "                  f\"Train Loss: {train_loss:.6f}, Val Loss: {val_loss:.6f}\")\n",
    "\n",
    "            train_losses.append(train_loss)\n",
    "            val_losses.append(val_loss)\n",
    "\n",
    "            # Checkpoint the best model\n",
    "            if val_loss < best_val_loss:\n",
    "                best_val_loss = val_loss\n",
    "                best_model_path = os.path.join(\n",
    "                    model_folder,\n",
    "                    f\"best_model_hc{hc}_lr{lr}_epoch{epoch+1}.pt\"\n",
    "                )\n",
    "                torch.save(model.state_dict(), best_model_path)\n",
    "\n",
    "            # Step the scheduler\n",
    "            scheduler.step(val_loss)\n",
    "\n",
    "        # Save the training & validation losses to CSV\n",
    "        csv_path = os.path.join(\n",
    "            model_folder, f\"losses_hc{hc}_lr{lr}.csv\"\n",
    "        )\n",
    "        with open(csv_path, \"w\", newline=\"\") as f:\n",
    "            writer = csv.writer(f)\n",
    "            writer.writerow([\"epoch\", \"train_loss\", \"val_loss\"])\n",
    "            for epoch_idx in range(num_epochs):\n",
    "                writer.writerow([epoch_idx + 1, train_losses[epoch_idx], val_losses[epoch_idx]])\n",
    "\n",
    "        # Store the best validation loss in the 2D array\n",
    "        best_val_losses_map[i, j] = best_val_loss\n"
   ],
   "id": "9b67733b08baacca",
   "outputs": [
    {
     "name": "stderr",
     "output_type": "stream",
     "text": [
      "Epoch 1: 100%|██████████| 1143/1143 [01:19<00:00, 14.34it/s, batch_loss=0.259]\n",
      "Evaluating: 100%|██████████| 77/77 [00:02<00:00, 37.01it/s]\n"
     ]
    },
    {
     "name": "stdout",
     "output_type": "stream",
     "text": [
      "Epoch 1/100 [hc=64, lr=0.001] --> Train Loss: 0.265074, Val Loss: 0.209930\n"
     ]
    },
    {
     "name": "stderr",
     "output_type": "stream",
     "text": [
      "Epoch 2: 100%|██████████| 1143/1143 [01:16<00:00, 14.89it/s, batch_loss=0.158]\n",
      "Evaluating: 100%|██████████| 77/77 [00:01<00:00, 39.53it/s]\n"
     ]
    },
    {
     "name": "stdout",
     "output_type": "stream",
     "text": [
      "Epoch 2/100 [hc=64, lr=0.001] --> Train Loss: 0.195680, Val Loss: 0.189008\n"
     ]
    },
    {
     "name": "stderr",
     "output_type": "stream",
     "text": [
      "Epoch 3: 100%|██████████| 1143/1143 [01:17<00:00, 14.73it/s, batch_loss=0.177]\n",
      "Evaluating: 100%|██████████| 77/77 [00:01<00:00, 39.01it/s]\n"
     ]
    },
    {
     "name": "stdout",
     "output_type": "stream",
     "text": [
      "Epoch 3/100 [hc=64, lr=0.001] --> Train Loss: 0.181301, Val Loss: 0.177147\n"
     ]
    },
    {
     "name": "stderr",
     "output_type": "stream",
     "text": [
      "Epoch 4: 100%|██████████| 1143/1143 [01:18<00:00, 14.60it/s, batch_loss=0.159]\n",
      "Evaluating: 100%|██████████| 77/77 [00:01<00:00, 38.79it/s]\n"
     ]
    },
    {
     "name": "stdout",
     "output_type": "stream",
     "text": [
      "Epoch 4/100 [hc=64, lr=0.001] --> Train Loss: 0.174236, Val Loss: 0.172412\n"
     ]
    },
    {
     "name": "stderr",
     "output_type": "stream",
     "text": [
      "Epoch 5: 100%|██████████| 1143/1143 [01:17<00:00, 14.73it/s, batch_loss=0.174]\n",
      "Evaluating: 100%|██████████| 77/77 [00:01<00:00, 39.45it/s]\n"
     ]
    },
    {
     "name": "stdout",
     "output_type": "stream",
     "text": [
      "Epoch 5/100 [hc=64, lr=0.001] --> Train Loss: 0.170191, Val Loss: 0.174821\n"
     ]
    },
    {
     "name": "stderr",
     "output_type": "stream",
     "text": [
      "Epoch 6: 100%|██████████| 1143/1143 [01:17<00:00, 14.73it/s, batch_loss=0.199]\n",
      "Evaluating: 100%|██████████| 77/77 [00:01<00:00, 39.09it/s]\n"
     ]
    },
    {
     "name": "stdout",
     "output_type": "stream",
     "text": [
      "Epoch 6/100 [hc=64, lr=0.001] --> Train Loss: 0.166546, Val Loss: 0.167666\n"
     ]
    },
    {
     "name": "stderr",
     "output_type": "stream",
     "text": [
      "Epoch 7: 100%|██████████| 1143/1143 [01:17<00:00, 14.80it/s, batch_loss=0.171]\n",
      "Evaluating: 100%|██████████| 77/77 [00:01<00:00, 39.85it/s]\n"
     ]
    },
    {
     "name": "stdout",
     "output_type": "stream",
     "text": [
      "Epoch 7/100 [hc=64, lr=0.001] --> Train Loss: 0.163341, Val Loss: 0.163548\n"
     ]
    },
    {
     "name": "stderr",
     "output_type": "stream",
     "text": [
      "Epoch 8: 100%|██████████| 1143/1143 [01:16<00:00, 14.86it/s, batch_loss=0.163]\n",
      "Evaluating: 100%|██████████| 77/77 [00:01<00:00, 39.43it/s]\n"
     ]
    },
    {
     "name": "stdout",
     "output_type": "stream",
     "text": [
      "Epoch 8/100 [hc=64, lr=0.001] --> Train Loss: 0.159890, Val Loss: 0.162068\n"
     ]
    },
    {
     "name": "stderr",
     "output_type": "stream",
     "text": [
      "Epoch 9: 100%|██████████| 1143/1143 [01:17<00:00, 14.82it/s, batch_loss=0.163]\n",
      "Evaluating: 100%|██████████| 77/77 [00:01<00:00, 39.83it/s]\n"
     ]
    },
    {
     "name": "stdout",
     "output_type": "stream",
     "text": [
      "Epoch 9/100 [hc=64, lr=0.001] --> Train Loss: 0.155910, Val Loss: 0.158311\n"
     ]
    },
    {
     "name": "stderr",
     "output_type": "stream",
     "text": [
      "Epoch 10: 100%|██████████| 1143/1143 [01:16<00:00, 14.92it/s, batch_loss=0.186]\n",
      "Evaluating: 100%|██████████| 77/77 [00:01<00:00, 40.12it/s]\n"
     ]
    },
    {
     "name": "stdout",
     "output_type": "stream",
     "text": [
      "Epoch 10/100 [hc=64, lr=0.001] --> Train Loss: 0.152090, Val Loss: 0.156679\n"
     ]
    },
    {
     "name": "stderr",
     "output_type": "stream",
     "text": [
      "Epoch 11: 100%|██████████| 1143/1143 [01:16<00:00, 14.91it/s, batch_loss=0.166]\n",
      "Evaluating: 100%|██████████| 77/77 [00:01<00:00, 40.23it/s]\n"
     ]
    },
    {
     "name": "stdout",
     "output_type": "stream",
     "text": [
      "Epoch 11/100 [hc=64, lr=0.001] --> Train Loss: 0.148007, Val Loss: 0.153856\n"
     ]
    },
    {
     "name": "stderr",
     "output_type": "stream",
     "text": [
      "Epoch 12: 100%|██████████| 1143/1143 [01:16<00:00, 14.91it/s, batch_loss=0.107]\n",
      "Evaluating: 100%|██████████| 77/77 [00:01<00:00, 40.50it/s]\n"
     ]
    },
    {
     "name": "stdout",
     "output_type": "stream",
     "text": [
      "Epoch 12/100 [hc=64, lr=0.001] --> Train Loss: 0.143826, Val Loss: 0.152424\n"
     ]
    },
    {
     "name": "stderr",
     "output_type": "stream",
     "text": [
      "Epoch 13: 100%|██████████| 1143/1143 [01:16<00:00, 14.93it/s, batch_loss=0.109]\n",
      "Evaluating: 100%|██████████| 77/77 [00:01<00:00, 39.84it/s]\n"
     ]
    },
    {
     "name": "stdout",
     "output_type": "stream",
     "text": [
      "Epoch 13/100 [hc=64, lr=0.001] --> Train Loss: 0.140258, Val Loss: 0.152654\n"
     ]
    },
    {
     "name": "stderr",
     "output_type": "stream",
     "text": [
      "Epoch 14: 100%|██████████| 1143/1143 [01:16<00:00, 14.92it/s, batch_loss=0.138] \n",
      "Evaluating: 100%|██████████| 77/77 [00:01<00:00, 40.26it/s]\n"
     ]
    },
    {
     "name": "stdout",
     "output_type": "stream",
     "text": [
      "Epoch 14/100 [hc=64, lr=0.001] --> Train Loss: 0.136382, Val Loss: 0.149800\n"
     ]
    },
    {
     "name": "stderr",
     "output_type": "stream",
     "text": [
      "Epoch 15: 100%|██████████| 1143/1143 [01:16<00:00, 14.91it/s, batch_loss=0.106]\n",
      "Evaluating: 100%|██████████| 77/77 [00:01<00:00, 40.31it/s]\n"
     ]
    },
    {
     "name": "stdout",
     "output_type": "stream",
     "text": [
      "Epoch 15/100 [hc=64, lr=0.001] --> Train Loss: 0.132483, Val Loss: 0.148422\n"
     ]
    },
    {
     "name": "stderr",
     "output_type": "stream",
     "text": [
      "Epoch 16: 100%|██████████| 1143/1143 [01:16<00:00, 14.93it/s, batch_loss=0.144]\n",
      "Evaluating: 100%|██████████| 77/77 [00:01<00:00, 40.20it/s]\n"
     ]
    },
    {
     "name": "stdout",
     "output_type": "stream",
     "text": [
      "Epoch 16/100 [hc=64, lr=0.001] --> Train Loss: 0.128697, Val Loss: 0.145983\n"
     ]
    },
    {
     "name": "stderr",
     "output_type": "stream",
     "text": [
      "Epoch 17: 100%|██████████| 1143/1143 [01:16<00:00, 14.90it/s, batch_loss=0.109]\n",
      "Evaluating: 100%|██████████| 77/77 [00:01<00:00, 40.31it/s]\n"
     ]
    },
    {
     "name": "stdout",
     "output_type": "stream",
     "text": [
      "Epoch 17/100 [hc=64, lr=0.001] --> Train Loss: 0.125418, Val Loss: 0.144624\n"
     ]
    },
    {
     "name": "stderr",
     "output_type": "stream",
     "text": [
      "Epoch 18: 100%|██████████| 1143/1143 [01:16<00:00, 14.92it/s, batch_loss=0.117]\n",
      "Evaluating: 100%|██████████| 77/77 [00:01<00:00, 39.95it/s]\n"
     ]
    },
    {
     "name": "stdout",
     "output_type": "stream",
     "text": [
      "Epoch 18/100 [hc=64, lr=0.001] --> Train Loss: 0.121251, Val Loss: 0.143591\n"
     ]
    },
    {
     "name": "stderr",
     "output_type": "stream",
     "text": [
      "Epoch 19: 100%|██████████| 1143/1143 [01:16<00:00, 14.94it/s, batch_loss=0.111]\n",
      "Evaluating: 100%|██████████| 77/77 [00:01<00:00, 40.31it/s]\n"
     ]
    },
    {
     "name": "stdout",
     "output_type": "stream",
     "text": [
      "Epoch 19/100 [hc=64, lr=0.001] --> Train Loss: 0.117105, Val Loss: 0.142557\n"
     ]
    },
    {
     "name": "stderr",
     "output_type": "stream",
     "text": [
      "Epoch 20: 100%|██████████| 1143/1143 [01:16<00:00, 14.92it/s, batch_loss=0.115] \n",
      "Evaluating: 100%|██████████| 77/77 [00:01<00:00, 40.15it/s]\n"
     ]
    },
    {
     "name": "stdout",
     "output_type": "stream",
     "text": [
      "Epoch 20/100 [hc=64, lr=0.001] --> Train Loss: 0.112799, Val Loss: 0.142859\n"
     ]
    },
    {
     "name": "stderr",
     "output_type": "stream",
     "text": [
      "Epoch 21: 100%|██████████| 1143/1143 [01:16<00:00, 14.95it/s, batch_loss=0.0947]\n",
      "Evaluating: 100%|██████████| 77/77 [00:02<00:00, 37.57it/s]\n"
     ]
    },
    {
     "name": "stdout",
     "output_type": "stream",
     "text": [
      "Epoch 21/100 [hc=64, lr=0.001] --> Train Loss: 0.108264, Val Loss: 0.143635\n"
     ]
    },
    {
     "name": "stderr",
     "output_type": "stream",
     "text": [
      "Epoch 22: 100%|██████████| 1143/1143 [01:16<00:00, 14.93it/s, batch_loss=0.0913]\n",
      "Evaluating: 100%|██████████| 77/77 [00:01<00:00, 40.31it/s]\n"
     ]
    },
    {
     "name": "stdout",
     "output_type": "stream",
     "text": [
      "Epoch 22/100 [hc=64, lr=0.001] --> Train Loss: 0.103891, Val Loss: 0.141954\n"
     ]
    },
    {
     "name": "stderr",
     "output_type": "stream",
     "text": [
      "Epoch 23: 100%|██████████| 1143/1143 [01:16<00:00, 14.89it/s, batch_loss=0.119]\n",
      "Evaluating: 100%|██████████| 77/77 [00:01<00:00, 40.28it/s]\n"
     ]
    },
    {
     "name": "stdout",
     "output_type": "stream",
     "text": [
      "Epoch 23/100 [hc=64, lr=0.001] --> Train Loss: 0.100021, Val Loss: 0.139036\n"
     ]
    },
    {
     "name": "stderr",
     "output_type": "stream",
     "text": [
      "Epoch 24: 100%|██████████| 1143/1143 [01:16<00:00, 14.92it/s, batch_loss=0.0961]\n",
      "Evaluating: 100%|██████████| 77/77 [00:01<00:00, 40.11it/s]\n"
     ]
    },
    {
     "name": "stdout",
     "output_type": "stream",
     "text": [
      "Epoch 24/100 [hc=64, lr=0.001] --> Train Loss: 0.096738, Val Loss: 0.141693\n"
     ]
    },
    {
     "name": "stderr",
     "output_type": "stream",
     "text": [
      "Epoch 25: 100%|██████████| 1143/1143 [01:16<00:00, 14.91it/s, batch_loss=0.0877]\n",
      "Evaluating: 100%|██████████| 77/77 [00:01<00:00, 39.90it/s]\n"
     ]
    },
    {
     "name": "stdout",
     "output_type": "stream",
     "text": [
      "Epoch 25/100 [hc=64, lr=0.001] --> Train Loss: 0.093347, Val Loss: 0.144807\n"
     ]
    },
    {
     "name": "stderr",
     "output_type": "stream",
     "text": [
      "Epoch 26: 100%|██████████| 1143/1143 [01:16<00:00, 14.92it/s, batch_loss=0.0955]\n",
      "Evaluating: 100%|██████████| 77/77 [00:01<00:00, 40.36it/s]\n"
     ]
    },
    {
     "name": "stdout",
     "output_type": "stream",
     "text": [
      "Epoch 26/100 [hc=64, lr=0.001] --> Train Loss: 0.090517, Val Loss: 0.142271\n"
     ]
    },
    {
     "name": "stderr",
     "output_type": "stream",
     "text": [
      "Epoch 27: 100%|██████████| 1143/1143 [01:16<00:00, 14.94it/s, batch_loss=0.108] \n",
      "Evaluating: 100%|██████████| 77/77 [00:01<00:00, 40.19it/s]\n"
     ]
    },
    {
     "name": "stdout",
     "output_type": "stream",
     "text": [
      "Epoch 27/100 [hc=64, lr=0.001] --> Train Loss: 0.087161, Val Loss: 0.141696\n"
     ]
    },
    {
     "name": "stderr",
     "output_type": "stream",
     "text": [
      "Epoch 28: 100%|██████████| 1143/1143 [01:16<00:00, 14.92it/s, batch_loss=0.0671]\n",
      "Evaluating: 100%|██████████| 77/77 [00:01<00:00, 40.28it/s]\n"
     ]
    },
    {
     "name": "stdout",
     "output_type": "stream",
     "text": [
      "Epoch 28/100 [hc=64, lr=0.001] --> Train Loss: 0.084836, Val Loss: 0.145801\n"
     ]
    },
    {
     "name": "stderr",
     "output_type": "stream",
     "text": [
      "Epoch 29: 100%|██████████| 1143/1143 [01:16<00:00, 14.92it/s, batch_loss=0.0797]\n",
      "Evaluating: 100%|██████████| 77/77 [00:01<00:00, 40.14it/s]\n"
     ]
    },
    {
     "name": "stdout",
     "output_type": "stream",
     "text": [
      "Epoch 29/100 [hc=64, lr=0.001] --> Train Loss: 0.082243, Val Loss: 0.145543\n"
     ]
    },
    {
     "name": "stderr",
     "output_type": "stream",
     "text": [
      "Epoch 30: 100%|██████████| 1143/1143 [01:16<00:00, 14.95it/s, batch_loss=0.0664]\n",
      "Evaluating: 100%|██████████| 77/77 [00:01<00:00, 39.70it/s]\n"
     ]
    },
    {
     "name": "stdout",
     "output_type": "stream",
     "text": [
      "Epoch 30/100 [hc=64, lr=0.001] --> Train Loss: 0.080024, Val Loss: 0.147204\n"
     ]
    },
    {
     "name": "stderr",
     "output_type": "stream",
     "text": [
      "Epoch 31: 100%|██████████| 1143/1143 [01:16<00:00, 14.91it/s, batch_loss=0.0974]\n",
      "Evaluating: 100%|██████████| 77/77 [00:01<00:00, 40.25it/s]\n"
     ]
    },
    {
     "name": "stdout",
     "output_type": "stream",
     "text": [
      "Epoch 31/100 [hc=64, lr=0.001] --> Train Loss: 0.077560, Val Loss: 0.147445\n"
     ]
    },
    {
     "name": "stderr",
     "output_type": "stream",
     "text": [
      "Epoch 32: 100%|██████████| 1143/1143 [01:16<00:00, 14.93it/s, batch_loss=0.1]   \n",
      "Evaluating: 100%|██████████| 77/77 [00:01<00:00, 40.19it/s]\n"
     ]
    },
    {
     "name": "stdout",
     "output_type": "stream",
     "text": [
      "Epoch 32/100 [hc=64, lr=0.001] --> Train Loss: 0.075111, Val Loss: 0.150424\n"
     ]
    },
    {
     "name": "stderr",
     "output_type": "stream",
     "text": [
      "Epoch 33: 100%|██████████| 1143/1143 [01:16<00:00, 14.94it/s, batch_loss=0.0748]\n",
      "Evaluating: 100%|██████████| 77/77 [00:01<00:00, 40.00it/s]\n"
     ]
    },
    {
     "name": "stdout",
     "output_type": "stream",
     "text": [
      "Epoch 33/100 [hc=64, lr=0.001] --> Train Loss: 0.073001, Val Loss: 0.148730\n"
     ]
    },
    {
     "name": "stderr",
     "output_type": "stream",
     "text": [
      "Epoch 34: 100%|██████████| 1143/1143 [01:16<00:00, 14.86it/s, batch_loss=0.0708]\n",
      "Evaluating: 100%|██████████| 77/77 [00:01<00:00, 40.26it/s]\n"
     ]
    },
    {
     "name": "stdout",
     "output_type": "stream",
     "text": [
      "Epoch 34/100 [hc=64, lr=0.001] --> Train Loss: 0.071259, Val Loss: 0.149956\n"
     ]
    },
    {
     "name": "stderr",
     "output_type": "stream",
     "text": [
      "Epoch 35: 100%|██████████| 1143/1143 [01:16<00:00, 14.95it/s, batch_loss=0.0747]\n",
      "Evaluating: 100%|██████████| 77/77 [00:01<00:00, 40.25it/s]\n"
     ]
    },
    {
     "name": "stdout",
     "output_type": "stream",
     "text": [
      "Epoch 35/100 [hc=64, lr=0.001] --> Train Loss: 0.069247, Val Loss: 0.149260\n"
     ]
    },
    {
     "name": "stderr",
     "output_type": "stream",
     "text": [
      "Epoch 36: 100%|██████████| 1143/1143 [01:16<00:00, 14.91it/s, batch_loss=0.0736]\n",
      "Evaluating: 100%|██████████| 77/77 [00:01<00:00, 40.36it/s]\n"
     ]
    },
    {
     "name": "stdout",
     "output_type": "stream",
     "text": [
      "Epoch 36/100 [hc=64, lr=0.001] --> Train Loss: 0.067555, Val Loss: 0.153211\n"
     ]
    },
    {
     "name": "stderr",
     "output_type": "stream",
     "text": [
      "Epoch 37: 100%|██████████| 1143/1143 [01:16<00:00, 14.91it/s, batch_loss=0.074] \n",
      "Evaluating: 100%|██████████| 77/77 [00:01<00:00, 40.29it/s]\n"
     ]
    },
    {
     "name": "stdout",
     "output_type": "stream",
     "text": [
      "Epoch 37/100 [hc=64, lr=0.001] --> Train Loss: 0.065775, Val Loss: 0.154914\n"
     ]
    },
    {
     "name": "stderr",
     "output_type": "stream",
     "text": [
      "Epoch 38: 100%|██████████| 1143/1143 [01:16<00:00, 14.95it/s, batch_loss=0.0557]\n",
      "Evaluating: 100%|██████████| 77/77 [00:01<00:00, 40.16it/s]\n"
     ]
    },
    {
     "name": "stdout",
     "output_type": "stream",
     "text": [
      "Epoch 38/100 [hc=64, lr=0.001] --> Train Loss: 0.064196, Val Loss: 0.152230\n"
     ]
    },
    {
     "name": "stderr",
     "output_type": "stream",
     "text": [
      "Epoch 39: 100%|██████████| 1143/1143 [01:16<00:00, 14.92it/s, batch_loss=0.0475]\n",
      "Evaluating: 100%|██████████| 77/77 [00:01<00:00, 40.46it/s]\n"
     ]
    },
    {
     "name": "stdout",
     "output_type": "stream",
     "text": [
      "Epoch 39/100 [hc=64, lr=0.001] --> Train Loss: 0.062540, Val Loss: 0.157143\n"
     ]
    },
    {
     "name": "stderr",
     "output_type": "stream",
     "text": [
      "Epoch 40: 100%|██████████| 1143/1143 [01:16<00:00, 14.92it/s, batch_loss=0.0542]\n",
      "Evaluating: 100%|██████████| 77/77 [00:01<00:00, 40.38it/s]\n"
     ]
    },
    {
     "name": "stdout",
     "output_type": "stream",
     "text": [
      "Epoch 40/100 [hc=64, lr=0.001] --> Train Loss: 0.061603, Val Loss: 0.151945\n"
     ]
    },
    {
     "name": "stderr",
     "output_type": "stream",
     "text": [
      "Epoch 41: 100%|██████████| 1143/1143 [01:16<00:00, 14.91it/s, batch_loss=0.0928]\n",
      "Evaluating: 100%|██████████| 77/77 [00:01<00:00, 40.14it/s]\n"
     ]
    },
    {
     "name": "stdout",
     "output_type": "stream",
     "text": [
      "Epoch 41/100 [hc=64, lr=0.001] --> Train Loss: 0.059612, Val Loss: 0.156317\n"
     ]
    },
    {
     "name": "stderr",
     "output_type": "stream",
     "text": [
      "Epoch 42: 100%|██████████| 1143/1143 [01:17<00:00, 14.71it/s, batch_loss=0.0926]\n",
      "Evaluating: 100%|██████████| 77/77 [00:01<00:00, 40.11it/s]\n"
     ]
    },
    {
     "name": "stdout",
     "output_type": "stream",
     "text": [
      "Epoch 42/100 [hc=64, lr=0.001] --> Train Loss: 0.058377, Val Loss: 0.159825\n"
     ]
    },
    {
     "name": "stderr",
     "output_type": "stream",
     "text": [
      "Epoch 43: 100%|██████████| 1143/1143 [01:17<00:00, 14.73it/s, batch_loss=0.0654]\n",
      "Evaluating: 100%|██████████| 77/77 [00:01<00:00, 39.87it/s]\n"
     ]
    },
    {
     "name": "stdout",
     "output_type": "stream",
     "text": [
      "Epoch 43/100 [hc=64, lr=0.001] --> Train Loss: 0.056957, Val Loss: 0.158664\n"
     ]
    },
    {
     "name": "stderr",
     "output_type": "stream",
     "text": [
      "Epoch 44: 100%|██████████| 1143/1143 [01:17<00:00, 14.74it/s, batch_loss=0.0713]\n",
      "Evaluating: 100%|██████████| 77/77 [00:01<00:00, 39.75it/s]\n"
     ]
    },
    {
     "name": "stdout",
     "output_type": "stream",
     "text": [
      "Epoch 44/100 [hc=64, lr=0.001] --> Train Loss: 0.055810, Val Loss: 0.165222\n"
     ]
    },
    {
     "name": "stderr",
     "output_type": "stream",
     "text": [
      "Epoch 45: 100%|██████████| 1143/1143 [01:17<00:00, 14.73it/s, batch_loss=0.0407]\n",
      "Evaluating: 100%|██████████| 77/77 [00:01<00:00, 39.76it/s]\n"
     ]
    },
    {
     "name": "stdout",
     "output_type": "stream",
     "text": [
      "Epoch 45/100 [hc=64, lr=0.001] --> Train Loss: 0.054625, Val Loss: 0.166829\n"
     ]
    },
    {
     "name": "stderr",
     "output_type": "stream",
     "text": [
      "Epoch 46: 100%|██████████| 1143/1143 [01:17<00:00, 14.77it/s, batch_loss=0.0669]\n",
      "Evaluating: 100%|██████████| 77/77 [00:02<00:00, 33.62it/s]\n"
     ]
    },
    {
     "name": "stdout",
     "output_type": "stream",
     "text": [
      "Epoch 46/100 [hc=64, lr=0.001] --> Train Loss: 0.053518, Val Loss: 0.163198\n"
     ]
    },
    {
     "name": "stderr",
     "output_type": "stream",
     "text": [
      "Epoch 47: 100%|██████████| 1143/1143 [01:17<00:00, 14.66it/s, batch_loss=0.034] \n",
      "Evaluating: 100%|██████████| 77/77 [00:01<00:00, 39.14it/s]\n"
     ]
    },
    {
     "name": "stdout",
     "output_type": "stream",
     "text": [
      "Epoch 47/100 [hc=64, lr=0.001] --> Train Loss: 0.052269, Val Loss: 0.161356\n"
     ]
    },
    {
     "name": "stderr",
     "output_type": "stream",
     "text": [
      "Epoch 48: 100%|██████████| 1143/1143 [01:17<00:00, 14.81it/s, batch_loss=0.0381]\n",
      "Evaluating: 100%|██████████| 77/77 [00:02<00:00, 37.91it/s]\n"
     ]
    },
    {
     "name": "stdout",
     "output_type": "stream",
     "text": [
      "Epoch 48/100 [hc=64, lr=0.001] --> Train Loss: 0.051698, Val Loss: 0.168614\n"
     ]
    },
    {
     "name": "stderr",
     "output_type": "stream",
     "text": [
      "Epoch 49: 100%|██████████| 1143/1143 [01:17<00:00, 14.66it/s, batch_loss=0.0264]\n",
      "Evaluating: 100%|██████████| 77/77 [00:01<00:00, 39.13it/s]\n"
     ]
    },
    {
     "name": "stdout",
     "output_type": "stream",
     "text": [
      "Epoch 49/100 [hc=64, lr=0.001] --> Train Loss: 0.050425, Val Loss: 0.167530\n"
     ]
    },
    {
     "name": "stderr",
     "output_type": "stream",
     "text": [
      "Epoch 50: 100%|██████████| 1143/1143 [01:17<00:00, 14.74it/s, batch_loss=0.0704]\n",
      "Evaluating: 100%|██████████| 77/77 [00:01<00:00, 39.55it/s]\n"
     ]
    },
    {
     "name": "stdout",
     "output_type": "stream",
     "text": [
      "Epoch 50/100 [hc=64, lr=0.001] --> Train Loss: 0.049142, Val Loss: 0.169869\n"
     ]
    },
    {
     "name": "stderr",
     "output_type": "stream",
     "text": [
      "Epoch 51: 100%|██████████| 1143/1143 [01:17<00:00, 14.74it/s, batch_loss=0.0437]\n",
      "Evaluating: 100%|██████████| 77/77 [00:01<00:00, 39.74it/s]\n"
     ]
    },
    {
     "name": "stdout",
     "output_type": "stream",
     "text": [
      "Epoch 51/100 [hc=64, lr=0.001] --> Train Loss: 0.048426, Val Loss: 0.172953\n"
     ]
    },
    {
     "name": "stderr",
     "output_type": "stream",
     "text": [
      "Epoch 52: 100%|██████████| 1143/1143 [01:16<00:00, 14.95it/s, batch_loss=0.0566]\n",
      "Evaluating: 100%|██████████| 77/77 [00:01<00:00, 40.14it/s]\n"
     ]
    },
    {
     "name": "stdout",
     "output_type": "stream",
     "text": [
      "Epoch 52/100 [hc=64, lr=0.001] --> Train Loss: 0.047377, Val Loss: 0.173871\n"
     ]
    },
    {
     "name": "stderr",
     "output_type": "stream",
     "text": [
      "Epoch 53: 100%|██████████| 1143/1143 [01:16<00:00, 14.91it/s, batch_loss=0.0401]\n",
      "Evaluating: 100%|██████████| 77/77 [00:01<00:00, 40.19it/s]\n"
     ]
    },
    {
     "name": "stdout",
     "output_type": "stream",
     "text": [
      "Epoch 53/100 [hc=64, lr=0.001] --> Train Loss: 0.046629, Val Loss: 0.181474\n"
     ]
    },
    {
     "name": "stderr",
     "output_type": "stream",
     "text": [
      "Epoch 54: 100%|██████████| 1143/1143 [01:16<00:00, 14.91it/s, batch_loss=0.0602]\n",
      "Evaluating: 100%|██████████| 77/77 [00:01<00:00, 40.23it/s]\n"
     ]
    },
    {
     "name": "stdout",
     "output_type": "stream",
     "text": [
      "Epoch 54/100 [hc=64, lr=0.001] --> Train Loss: 0.045795, Val Loss: 0.177294\n"
     ]
    },
    {
     "name": "stderr",
     "output_type": "stream",
     "text": [
      "Epoch 55: 100%|██████████| 1143/1143 [01:16<00:00, 14.94it/s, batch_loss=0.0481]\n",
      "Evaluating: 100%|██████████| 77/77 [00:01<00:00, 40.05it/s]\n"
     ]
    },
    {
     "name": "stdout",
     "output_type": "stream",
     "text": [
      "Epoch 55/100 [hc=64, lr=0.001] --> Train Loss: 0.044441, Val Loss: 0.176966\n"
     ]
    },
    {
     "name": "stderr",
     "output_type": "stream",
     "text": [
      "Epoch 56: 100%|██████████| 1143/1143 [01:16<00:00, 14.91it/s, batch_loss=0.0493]\n",
      "Evaluating: 100%|██████████| 77/77 [00:01<00:00, 40.30it/s]\n"
     ]
    },
    {
     "name": "stdout",
     "output_type": "stream",
     "text": [
      "Epoch 56/100 [hc=64, lr=0.001] --> Train Loss: 0.044706, Val Loss: 0.183090\n"
     ]
    },
    {
     "name": "stderr",
     "output_type": "stream",
     "text": [
      "Epoch 57: 100%|██████████| 1143/1143 [01:16<00:00, 14.94it/s, batch_loss=0.0373]\n",
      "Evaluating: 100%|██████████| 77/77 [00:01<00:00, 40.40it/s]\n"
     ]
    },
    {
     "name": "stdout",
     "output_type": "stream",
     "text": [
      "Epoch 57/100 [hc=64, lr=0.001] --> Train Loss: 0.043487, Val Loss: 0.188864\n"
     ]
    },
    {
     "name": "stderr",
     "output_type": "stream",
     "text": [
      "Epoch 58: 100%|██████████| 1143/1143 [01:16<00:00, 14.97it/s, batch_loss=0.0456]\n",
      "Evaluating: 100%|██████████| 77/77 [00:01<00:00, 40.37it/s]\n"
     ]
    },
    {
     "name": "stdout",
     "output_type": "stream",
     "text": [
      "Epoch 58/100 [hc=64, lr=0.001] --> Train Loss: 0.041947, Val Loss: 0.183500\n"
     ]
    },
    {
     "name": "stderr",
     "output_type": "stream",
     "text": [
      "Epoch 59: 100%|██████████| 1143/1143 [01:16<00:00, 14.95it/s, batch_loss=0.034] \n",
      "Evaluating: 100%|██████████| 77/77 [00:01<00:00, 40.54it/s]\n"
     ]
    },
    {
     "name": "stdout",
     "output_type": "stream",
     "text": [
      "Epoch 59/100 [hc=64, lr=0.001] --> Train Loss: 0.042005, Val Loss: 0.189381\n"
     ]
    },
    {
     "name": "stderr",
     "output_type": "stream",
     "text": [
      "Epoch 60: 100%|██████████| 1143/1143 [01:16<00:00, 14.96it/s, batch_loss=0.0472]\n",
      "Evaluating: 100%|██████████| 77/77 [00:01<00:00, 40.32it/s]\n"
     ]
    },
    {
     "name": "stdout",
     "output_type": "stream",
     "text": [
      "Epoch 60/100 [hc=64, lr=0.001] --> Train Loss: 0.041304, Val Loss: 0.190178\n"
     ]
    },
    {
     "name": "stderr",
     "output_type": "stream",
     "text": [
      "Epoch 61: 100%|██████████| 1143/1143 [01:16<00:00, 14.94it/s, batch_loss=0.0415]\n",
      "Evaluating: 100%|██████████| 77/77 [00:01<00:00, 40.28it/s]\n"
     ]
    },
    {
     "name": "stdout",
     "output_type": "stream",
     "text": [
      "Epoch 61/100 [hc=64, lr=0.001] --> Train Loss: 0.041052, Val Loss: 0.191268\n"
     ]
    },
    {
     "name": "stderr",
     "output_type": "stream",
     "text": [
      "Epoch 62: 100%|██████████| 1143/1143 [01:16<00:00, 14.94it/s, batch_loss=0.0361]\n",
      "Evaluating: 100%|██████████| 77/77 [00:01<00:00, 40.48it/s]\n"
     ]
    },
    {
     "name": "stdout",
     "output_type": "stream",
     "text": [
      "Epoch 62/100 [hc=64, lr=0.001] --> Train Loss: 0.040341, Val Loss: 0.193646\n"
     ]
    },
    {
     "name": "stderr",
     "output_type": "stream",
     "text": [
      "Epoch 63: 100%|██████████| 1143/1143 [01:16<00:00, 14.97it/s, batch_loss=0.0343]\n",
      "Evaluating: 100%|██████████| 77/77 [00:01<00:00, 40.51it/s]\n"
     ]
    },
    {
     "name": "stdout",
     "output_type": "stream",
     "text": [
      "Epoch 63/100 [hc=64, lr=0.001] --> Train Loss: 0.039653, Val Loss: 0.199549\n"
     ]
    },
    {
     "name": "stderr",
     "output_type": "stream",
     "text": [
      "Epoch 64: 100%|██████████| 1143/1143 [01:16<00:00, 14.94it/s, batch_loss=0.0418]\n",
      "Evaluating: 100%|██████████| 77/77 [00:01<00:00, 40.16it/s]\n"
     ]
    },
    {
     "name": "stdout",
     "output_type": "stream",
     "text": [
      "Epoch 64/100 [hc=64, lr=0.001] --> Train Loss: 0.038581, Val Loss: 0.193162\n"
     ]
    },
    {
     "name": "stderr",
     "output_type": "stream",
     "text": [
      "Epoch 65: 100%|██████████| 1143/1143 [01:16<00:00, 14.94it/s, batch_loss=0.041] \n",
      "Evaluating: 100%|██████████| 77/77 [00:01<00:00, 40.44it/s]\n"
     ]
    },
    {
     "name": "stdout",
     "output_type": "stream",
     "text": [
      "Epoch 65/100 [hc=64, lr=0.001] --> Train Loss: 0.038315, Val Loss: 0.201980\n"
     ]
    },
    {
     "name": "stderr",
     "output_type": "stream",
     "text": [
      "Epoch 66: 100%|██████████| 1143/1143 [01:16<00:00, 14.97it/s, batch_loss=0.0459]\n",
      "Evaluating: 100%|██████████| 77/77 [00:01<00:00, 40.33it/s]\n"
     ]
    },
    {
     "name": "stdout",
     "output_type": "stream",
     "text": [
      "Epoch 66/100 [hc=64, lr=0.001] --> Train Loss: 0.037833, Val Loss: 0.199044\n"
     ]
    },
    {
     "name": "stderr",
     "output_type": "stream",
     "text": [
      "Epoch 67: 100%|██████████| 1143/1143 [01:16<00:00, 14.95it/s, batch_loss=0.04]  \n",
      "Evaluating: 100%|██████████| 77/77 [00:01<00:00, 40.39it/s]\n"
     ]
    },
    {
     "name": "stdout",
     "output_type": "stream",
     "text": [
      "Epoch 67/100 [hc=64, lr=0.001] --> Train Loss: 0.037490, Val Loss: 0.197679\n"
     ]
    },
    {
     "name": "stderr",
     "output_type": "stream",
     "text": [
      "Epoch 68: 100%|██████████| 1143/1143 [01:16<00:00, 14.94it/s, batch_loss=0.0356]\n",
      "Evaluating: 100%|██████████| 77/77 [00:01<00:00, 40.54it/s]\n"
     ]
    },
    {
     "name": "stdout",
     "output_type": "stream",
     "text": [
      "Epoch 68/100 [hc=64, lr=0.001] --> Train Loss: 0.037414, Val Loss: 0.198860\n"
     ]
    },
    {
     "name": "stderr",
     "output_type": "stream",
     "text": [
      "Epoch 69: 100%|██████████| 1143/1143 [01:16<00:00, 14.96it/s, batch_loss=0.0357]\n",
      "Evaluating: 100%|██████████| 77/77 [00:01<00:00, 40.32it/s]\n"
     ]
    },
    {
     "name": "stdout",
     "output_type": "stream",
     "text": [
      "Epoch 69/100 [hc=64, lr=0.001] --> Train Loss: 0.036347, Val Loss: 0.202990\n"
     ]
    },
    {
     "name": "stderr",
     "output_type": "stream",
     "text": [
      "Epoch 70: 100%|██████████| 1143/1143 [01:16<00:00, 14.94it/s, batch_loss=0.0394]\n",
      "Evaluating: 100%|██████████| 77/77 [00:01<00:00, 40.53it/s]\n"
     ]
    },
    {
     "name": "stdout",
     "output_type": "stream",
     "text": [
      "Epoch 70/100 [hc=64, lr=0.001] --> Train Loss: 0.036449, Val Loss: 0.207956\n"
     ]
    },
    {
     "name": "stderr",
     "output_type": "stream",
     "text": [
      "Epoch 71: 100%|██████████| 1143/1143 [01:16<00:00, 14.97it/s, batch_loss=0.0372]\n",
      "Evaluating: 100%|██████████| 77/77 [00:02<00:00, 37.61it/s]\n"
     ]
    },
    {
     "name": "stdout",
     "output_type": "stream",
     "text": [
      "Epoch 71/100 [hc=64, lr=0.001] --> Train Loss: 0.035829, Val Loss: 0.205431\n"
     ]
    },
    {
     "name": "stderr",
     "output_type": "stream",
     "text": [
      "Epoch 72: 100%|██████████| 1143/1143 [01:16<00:00, 14.97it/s, batch_loss=0.0291]\n",
      "Evaluating: 100%|██████████| 77/77 [00:01<00:00, 40.14it/s]\n"
     ]
    },
    {
     "name": "stdout",
     "output_type": "stream",
     "text": [
      "Epoch 72/100 [hc=64, lr=0.001] --> Train Loss: 0.035126, Val Loss: 0.198880\n"
     ]
    },
    {
     "name": "stderr",
     "output_type": "stream",
     "text": [
      "Epoch 73: 100%|██████████| 1143/1143 [01:16<00:00, 14.95it/s, batch_loss=0.0356]\n",
      "Evaluating: 100%|██████████| 77/77 [00:01<00:00, 40.19it/s]\n"
     ]
    },
    {
     "name": "stdout",
     "output_type": "stream",
     "text": [
      "Epoch 73/100 [hc=64, lr=0.001] --> Train Loss: 0.035124, Val Loss: 0.210651\n"
     ]
    },
    {
     "name": "stderr",
     "output_type": "stream",
     "text": [
      "Epoch 74: 100%|██████████| 1143/1143 [01:16<00:00, 14.97it/s, batch_loss=0.0392]\n",
      "Evaluating: 100%|██████████| 77/77 [00:01<00:00, 40.50it/s]\n"
     ]
    },
    {
     "name": "stdout",
     "output_type": "stream",
     "text": [
      "Epoch 74/100 [hc=64, lr=0.001] --> Train Loss: 0.035569, Val Loss: 0.200656\n"
     ]
    },
    {
     "name": "stderr",
     "output_type": "stream",
     "text": [
      "Epoch 75: 100%|██████████| 1143/1143 [01:16<00:00, 14.94it/s, batch_loss=0.0527]\n",
      "Evaluating: 100%|██████████| 77/77 [00:01<00:00, 40.13it/s]\n"
     ]
    },
    {
     "name": "stdout",
     "output_type": "stream",
     "text": [
      "Epoch 75/100 [hc=64, lr=0.001] --> Train Loss: 0.034506, Val Loss: 0.200400\n"
     ]
    },
    {
     "name": "stderr",
     "output_type": "stream",
     "text": [
      "Epoch 76: 100%|██████████| 1143/1143 [01:16<00:00, 14.94it/s, batch_loss=0.0248]\n",
      "Evaluating: 100%|██████████| 77/77 [00:01<00:00, 40.34it/s]\n"
     ]
    },
    {
     "name": "stdout",
     "output_type": "stream",
     "text": [
      "Epoch 76/100 [hc=64, lr=0.001] --> Train Loss: 0.033311, Val Loss: 0.205771\n"
     ]
    },
    {
     "name": "stderr",
     "output_type": "stream",
     "text": [
      "Epoch 77: 100%|██████████| 1143/1143 [01:16<00:00, 14.96it/s, batch_loss=0.0304]\n",
      "Evaluating: 100%|██████████| 77/77 [00:01<00:00, 40.37it/s]\n"
     ]
    },
    {
     "name": "stdout",
     "output_type": "stream",
     "text": [
      "Epoch 77/100 [hc=64, lr=0.001] --> Train Loss: 0.033534, Val Loss: 0.209971\n"
     ]
    },
    {
     "name": "stderr",
     "output_type": "stream",
     "text": [
      "Epoch 78: 100%|██████████| 1143/1143 [01:16<00:00, 14.94it/s, batch_loss=0.0398]\n",
      "Evaluating: 100%|██████████| 77/77 [00:01<00:00, 40.10it/s]\n"
     ]
    },
    {
     "name": "stdout",
     "output_type": "stream",
     "text": [
      "Epoch 78/100 [hc=64, lr=0.001] --> Train Loss: 0.034315, Val Loss: 0.211635\n"
     ]
    },
    {
     "name": "stderr",
     "output_type": "stream",
     "text": [
      "Epoch 79: 100%|██████████| 1143/1143 [01:16<00:00, 14.91it/s, batch_loss=0.0323]\n",
      "Evaluating: 100%|██████████| 77/77 [00:01<00:00, 40.23it/s]\n"
     ]
    },
    {
     "name": "stdout",
     "output_type": "stream",
     "text": [
      "Epoch 79/100 [hc=64, lr=0.001] --> Train Loss: 0.033658, Val Loss: 0.210472\n"
     ]
    },
    {
     "name": "stderr",
     "output_type": "stream",
     "text": [
      "Epoch 80: 100%|██████████| 1143/1143 [01:16<00:00, 14.96it/s, batch_loss=0.0297]\n",
      "Evaluating: 100%|██████████| 77/77 [00:01<00:00, 40.36it/s]\n"
     ]
    },
    {
     "name": "stdout",
     "output_type": "stream",
     "text": [
      "Epoch 80/100 [hc=64, lr=0.001] --> Train Loss: 0.032853, Val Loss: 0.209531\n"
     ]
    },
    {
     "name": "stderr",
     "output_type": "stream",
     "text": [
      "Epoch 81: 100%|██████████| 1143/1143 [01:16<00:00, 14.94it/s, batch_loss=0.0301]\n",
      "Evaluating: 100%|██████████| 77/77 [00:01<00:00, 40.34it/s]\n"
     ]
    },
    {
     "name": "stdout",
     "output_type": "stream",
     "text": [
      "Epoch 81/100 [hc=64, lr=0.001] --> Train Loss: 0.033616, Val Loss: 0.204051\n"
     ]
    },
    {
     "name": "stderr",
     "output_type": "stream",
     "text": [
      "Epoch 82: 100%|██████████| 1143/1143 [01:16<00:00, 14.93it/s, batch_loss=0.0288]\n",
      "Evaluating: 100%|██████████| 77/77 [00:01<00:00, 40.21it/s]\n"
     ]
    },
    {
     "name": "stdout",
     "output_type": "stream",
     "text": [
      "Epoch 82/100 [hc=64, lr=0.001] --> Train Loss: 0.032935, Val Loss: 0.210345\n"
     ]
    },
    {
     "name": "stderr",
     "output_type": "stream",
     "text": [
      "Epoch 83: 100%|██████████| 1143/1143 [01:16<00:00, 14.96it/s, batch_loss=0.0218]\n",
      "Evaluating: 100%|██████████| 77/77 [00:01<00:00, 40.43it/s]\n"
     ]
    },
    {
     "name": "stdout",
     "output_type": "stream",
     "text": [
      "Epoch 83/100 [hc=64, lr=0.001] --> Train Loss: 0.032312, Val Loss: 0.211653\n"
     ]
    },
    {
     "name": "stderr",
     "output_type": "stream",
     "text": [
      "Epoch 84: 100%|██████████| 1143/1143 [01:16<00:00, 14.94it/s, batch_loss=0.0455]\n",
      "Evaluating: 100%|██████████| 77/77 [00:01<00:00, 40.35it/s]\n"
     ]
    },
    {
     "name": "stdout",
     "output_type": "stream",
     "text": [
      "Epoch 84/100 [hc=64, lr=0.001] --> Train Loss: 0.031790, Val Loss: 0.206209\n"
     ]
    },
    {
     "name": "stderr",
     "output_type": "stream",
     "text": [
      "Epoch 85: 100%|██████████| 1143/1143 [01:16<00:00, 14.97it/s, batch_loss=0.027] \n",
      "Evaluating: 100%|██████████| 77/77 [00:01<00:00, 40.25it/s]\n"
     ]
    },
    {
     "name": "stdout",
     "output_type": "stream",
     "text": [
      "Epoch 85/100 [hc=64, lr=0.001] --> Train Loss: 0.031958, Val Loss: 0.201069\n"
     ]
    },
    {
     "name": "stderr",
     "output_type": "stream",
     "text": [
      "Epoch 86: 100%|██████████| 1143/1143 [01:16<00:00, 14.94it/s, batch_loss=0.0478]\n",
      "Evaluating: 100%|██████████| 77/77 [00:01<00:00, 40.39it/s]\n"
     ]
    },
    {
     "name": "stdout",
     "output_type": "stream",
     "text": [
      "Epoch 86/100 [hc=64, lr=0.001] --> Train Loss: 0.032820, Val Loss: 0.211918\n"
     ]
    },
    {
     "name": "stderr",
     "output_type": "stream",
     "text": [
      "Epoch 87: 100%|██████████| 1143/1143 [01:16<00:00, 14.94it/s, batch_loss=0.0466]\n",
      "Evaluating: 100%|██████████| 77/77 [00:01<00:00, 40.44it/s]\n"
     ]
    },
    {
     "name": "stdout",
     "output_type": "stream",
     "text": [
      "Epoch 87/100 [hc=64, lr=0.001] --> Train Loss: 0.032571, Val Loss: 0.211622\n"
     ]
    },
    {
     "name": "stderr",
     "output_type": "stream",
     "text": [
      "Epoch 88: 100%|██████████| 1143/1143 [01:16<00:00, 14.92it/s, batch_loss=0.014] \n",
      "Evaluating: 100%|██████████| 77/77 [00:01<00:00, 40.18it/s]\n"
     ]
    },
    {
     "name": "stdout",
     "output_type": "stream",
     "text": [
      "Epoch 88/100 [hc=64, lr=0.001] --> Train Loss: 0.031357, Val Loss: 0.207175\n"
     ]
    },
    {
     "name": "stderr",
     "output_type": "stream",
     "text": [
      "Epoch 89: 100%|██████████| 1143/1143 [01:16<00:00, 14.94it/s, batch_loss=0.0532]\n",
      "Evaluating: 100%|██████████| 77/77 [00:01<00:00, 40.35it/s]\n"
     ]
    },
    {
     "name": "stdout",
     "output_type": "stream",
     "text": [
      "Epoch 89/100 [hc=64, lr=0.001] --> Train Loss: 0.030309, Val Loss: 0.202554\n"
     ]
    },
    {
     "name": "stderr",
     "output_type": "stream",
     "text": [
      "Epoch 90: 100%|██████████| 1143/1143 [01:16<00:00, 14.94it/s, batch_loss=0.0252]\n",
      "Evaluating: 100%|██████████| 77/77 [00:01<00:00, 40.36it/s]\n"
     ]
    },
    {
     "name": "stdout",
     "output_type": "stream",
     "text": [
      "Epoch 90/100 [hc=64, lr=0.001] --> Train Loss: 0.031309, Val Loss: 0.204383\n"
     ]
    },
    {
     "name": "stderr",
     "output_type": "stream",
     "text": [
      "Epoch 91: 100%|██████████| 1143/1143 [01:16<00:00, 14.97it/s, batch_loss=0.0252]\n",
      "Evaluating: 100%|██████████| 77/77 [00:01<00:00, 40.38it/s]\n"
     ]
    },
    {
     "name": "stdout",
     "output_type": "stream",
     "text": [
      "Epoch 91/100 [hc=64, lr=0.001] --> Train Loss: 0.031277, Val Loss: 0.209752\n"
     ]
    },
    {
     "name": "stderr",
     "output_type": "stream",
     "text": [
      "Epoch 92: 100%|██████████| 1143/1143 [01:16<00:00, 14.94it/s, batch_loss=0.0384]\n",
      "Evaluating: 100%|██████████| 77/77 [00:01<00:00, 40.31it/s]\n"
     ]
    },
    {
     "name": "stdout",
     "output_type": "stream",
     "text": [
      "Epoch 92/100 [hc=64, lr=0.001] --> Train Loss: 0.032198, Val Loss: 0.208092\n"
     ]
    },
    {
     "name": "stderr",
     "output_type": "stream",
     "text": [
      "Epoch 93: 100%|██████████| 1143/1143 [01:16<00:00, 14.94it/s, batch_loss=0.037] \n",
      "Evaluating: 100%|██████████| 77/77 [00:01<00:00, 40.33it/s]\n"
     ]
    },
    {
     "name": "stdout",
     "output_type": "stream",
     "text": [
      "Epoch 93/100 [hc=64, lr=0.001] --> Train Loss: 0.031834, Val Loss: 0.206105\n"
     ]
    },
    {
     "name": "stderr",
     "output_type": "stream",
     "text": [
      "Epoch 94: 100%|██████████| 1143/1143 [01:16<00:00, 14.96it/s, batch_loss=0.0252]\n",
      "Evaluating: 100%|██████████| 77/77 [00:01<00:00, 40.38it/s]\n"
     ]
    },
    {
     "name": "stdout",
     "output_type": "stream",
     "text": [
      "Epoch 94/100 [hc=64, lr=0.001] --> Train Loss: 0.030113, Val Loss: 0.207192\n"
     ]
    },
    {
     "name": "stderr",
     "output_type": "stream",
     "text": [
      "Epoch 95: 100%|██████████| 1143/1143 [01:16<00:00, 14.94it/s, batch_loss=0.0244]\n",
      "Evaluating: 100%|██████████| 77/77 [00:01<00:00, 40.19it/s]\n"
     ]
    },
    {
     "name": "stdout",
     "output_type": "stream",
     "text": [
      "Epoch 95/100 [hc=64, lr=0.001] --> Train Loss: 0.029684, Val Loss: 0.203739\n"
     ]
    },
    {
     "name": "stderr",
     "output_type": "stream",
     "text": [
      "Epoch 96: 100%|██████████| 1143/1143 [01:16<00:00, 14.97it/s, batch_loss=0.0399]\n",
      "Evaluating: 100%|██████████| 77/77 [00:02<00:00, 37.69it/s]\n"
     ]
    },
    {
     "name": "stdout",
     "output_type": "stream",
     "text": [
      "Epoch 96/100 [hc=64, lr=0.001] --> Train Loss: 0.030643, Val Loss: 0.206582\n"
     ]
    },
    {
     "name": "stderr",
     "output_type": "stream",
     "text": [
      "Epoch 97: 100%|██████████| 1143/1143 [01:16<00:00, 14.97it/s, batch_loss=0.0437]\n",
      "Evaluating: 100%|██████████| 77/77 [00:01<00:00, 40.49it/s]\n"
     ]
    },
    {
     "name": "stdout",
     "output_type": "stream",
     "text": [
      "Epoch 97/100 [hc=64, lr=0.001] --> Train Loss: 0.030797, Val Loss: 0.211105\n"
     ]
    },
    {
     "name": "stderr",
     "output_type": "stream",
     "text": [
      "Epoch 98: 100%|██████████| 1143/1143 [01:16<00:00, 14.94it/s, batch_loss=0.0227]\n",
      "Evaluating: 100%|██████████| 77/77 [00:01<00:00, 40.35it/s]\n"
     ]
    },
    {
     "name": "stdout",
     "output_type": "stream",
     "text": [
      "Epoch 98/100 [hc=64, lr=0.001] --> Train Loss: 0.029831, Val Loss: 0.210131\n"
     ]
    },
    {
     "name": "stderr",
     "output_type": "stream",
     "text": [
      "Epoch 99: 100%|██████████| 1143/1143 [01:16<00:00, 14.97it/s, batch_loss=0.0239]\n",
      "Evaluating: 100%|██████████| 77/77 [00:01<00:00, 40.36it/s]\n"
     ]
    },
    {
     "name": "stdout",
     "output_type": "stream",
     "text": [
      "Epoch 99/100 [hc=64, lr=0.001] --> Train Loss: 0.029344, Val Loss: 0.211615\n"
     ]
    },
    {
     "name": "stderr",
     "output_type": "stream",
     "text": [
      "Epoch 100: 100%|██████████| 1143/1143 [01:16<00:00, 14.94it/s, batch_loss=0.0388]\n",
      "Evaluating: 100%|██████████| 77/77 [00:01<00:00, 40.03it/s]\n"
     ]
    },
    {
     "name": "stdout",
     "output_type": "stream",
     "text": [
      "Epoch 100/100 [hc=64, lr=0.001] --> Train Loss: 0.029968, Val Loss: 0.205609\n"
     ]
    },
    {
     "name": "stderr",
     "output_type": "stream",
     "text": [
      "Epoch 1: 100%|██████████| 1143/1143 [01:16<00:00, 14.94it/s, batch_loss=0.175]\n",
      "Evaluating: 100%|██████████| 77/77 [00:01<00:00, 40.36it/s]\n"
     ]
    },
    {
     "name": "stdout",
     "output_type": "stream",
     "text": [
      "Epoch 1/100 [hc=64, lr=0.01] --> Train Loss: 0.221828, Val Loss: 0.174817\n"
     ]
    },
    {
     "name": "stderr",
     "output_type": "stream",
     "text": [
      "Epoch 2: 100%|██████████| 1143/1143 [01:16<00:00, 14.96it/s, batch_loss=0.146]\n",
      "Evaluating: 100%|██████████| 77/77 [00:01<00:00, 40.35it/s]\n"
     ]
    },
    {
     "name": "stdout",
     "output_type": "stream",
     "text": [
      "Epoch 2/100 [hc=64, lr=0.01] --> Train Loss: 0.172155, Val Loss: 0.172008\n"
     ]
    },
    {
     "name": "stderr",
     "output_type": "stream",
     "text": [
      "Epoch 3: 100%|██████████| 1143/1143 [01:16<00:00, 14.93it/s, batch_loss=0.182]\n",
      "Evaluating: 100%|██████████| 77/77 [00:01<00:00, 40.03it/s]\n"
     ]
    },
    {
     "name": "stdout",
     "output_type": "stream",
     "text": [
      "Epoch 3/100 [hc=64, lr=0.01] --> Train Loss: 0.168048, Val Loss: 0.166654\n"
     ]
    },
    {
     "name": "stderr",
     "output_type": "stream",
     "text": [
      "Epoch 4: 100%|██████████| 1143/1143 [01:16<00:00, 14.93it/s, batch_loss=0.12] \n",
      "Evaluating: 100%|██████████| 77/77 [00:01<00:00, 40.41it/s]\n"
     ]
    },
    {
     "name": "stdout",
     "output_type": "stream",
     "text": [
      "Epoch 4/100 [hc=64, lr=0.01] --> Train Loss: 0.163654, Val Loss: 0.163954\n"
     ]
    },
    {
     "name": "stderr",
     "output_type": "stream",
     "text": [
      "Epoch 5: 100%|██████████| 1143/1143 [01:16<00:00, 14.96it/s, batch_loss=0.146]\n",
      "Evaluating: 100%|██████████| 77/77 [00:01<00:00, 40.10it/s]\n"
     ]
    },
    {
     "name": "stdout",
     "output_type": "stream",
     "text": [
      "Epoch 5/100 [hc=64, lr=0.01] --> Train Loss: 0.157746, Val Loss: 0.157842\n"
     ]
    },
    {
     "name": "stderr",
     "output_type": "stream",
     "text": [
      "Epoch 6: 100%|██████████| 1143/1143 [01:16<00:00, 14.93it/s, batch_loss=0.171]\n",
      "Evaluating: 100%|██████████| 77/77 [00:01<00:00, 40.26it/s]\n"
     ]
    },
    {
     "name": "stdout",
     "output_type": "stream",
     "text": [
      "Epoch 6/100 [hc=64, lr=0.01] --> Train Loss: 0.152209, Val Loss: 0.161582\n"
     ]
    },
    {
     "name": "stderr",
     "output_type": "stream",
     "text": [
      "Epoch 7: 100%|██████████| 1143/1143 [01:16<00:00, 14.93it/s, batch_loss=0.17] \n",
      "Evaluating: 100%|██████████| 77/77 [00:01<00:00, 40.45it/s]\n"
     ]
    },
    {
     "name": "stdout",
     "output_type": "stream",
     "text": [
      "Epoch 7/100 [hc=64, lr=0.01] --> Train Loss: 0.147792, Val Loss: 0.159424\n"
     ]
    },
    {
     "name": "stderr",
     "output_type": "stream",
     "text": [
      "Epoch 8: 100%|██████████| 1143/1143 [01:16<00:00, 14.96it/s, batch_loss=0.136]\n",
      "Evaluating: 100%|██████████| 77/77 [00:01<00:00, 40.39it/s]\n"
     ]
    },
    {
     "name": "stdout",
     "output_type": "stream",
     "text": [
      "Epoch 8/100 [hc=64, lr=0.01] --> Train Loss: 0.143229, Val Loss: 0.152673\n"
     ]
    },
    {
     "name": "stderr",
     "output_type": "stream",
     "text": [
      "Epoch 9: 100%|██████████| 1143/1143 [01:16<00:00, 14.93it/s, batch_loss=0.176]\n",
      "Evaluating: 100%|██████████| 77/77 [00:01<00:00, 40.19it/s]\n"
     ]
    },
    {
     "name": "stdout",
     "output_type": "stream",
     "text": [
      "Epoch 9/100 [hc=64, lr=0.01] --> Train Loss: 0.137934, Val Loss: 0.152839\n"
     ]
    },
    {
     "name": "stderr",
     "output_type": "stream",
     "text": [
      "Epoch 10: 100%|██████████| 1143/1143 [01:16<00:00, 14.96it/s, batch_loss=0.844]\n",
      "Evaluating: 100%|██████████| 77/77 [00:01<00:00, 40.07it/s]\n"
     ]
    },
    {
     "name": "stdout",
     "output_type": "stream",
     "text": [
      "Epoch 10/100 [hc=64, lr=0.01] --> Train Loss: 0.654539, Val Loss: 0.858744\n"
     ]
    },
    {
     "name": "stderr",
     "output_type": "stream",
     "text": [
      "Epoch 11: 100%|██████████| 1143/1143 [01:16<00:00, 14.93it/s, batch_loss=0.839]\n",
      "Evaluating: 100%|██████████| 77/77 [00:01<00:00, 40.21it/s]\n"
     ]
    },
    {
     "name": "stdout",
     "output_type": "stream",
     "text": [
      "Epoch 11/100 [hc=64, lr=0.01] --> Train Loss: 0.859080, Val Loss: 0.858674\n"
     ]
    },
    {
     "name": "stderr",
     "output_type": "stream",
     "text": [
      "Epoch 12: 100%|██████████| 1143/1143 [01:16<00:00, 14.93it/s, batch_loss=0.817]\n",
      "Evaluating: 100%|██████████| 77/77 [00:01<00:00, 40.26it/s]\n"
     ]
    },
    {
     "name": "stdout",
     "output_type": "stream",
     "text": [
      "Epoch 12/100 [hc=64, lr=0.01] --> Train Loss: 0.859038, Val Loss: 0.858964\n"
     ]
    },
    {
     "name": "stderr",
     "output_type": "stream",
     "text": [
      "Epoch 13: 100%|██████████| 1143/1143 [01:16<00:00, 14.95it/s, batch_loss=0.866]\n",
      "Evaluating: 100%|██████████| 77/77 [00:01<00:00, 40.42it/s]\n"
     ]
    },
    {
     "name": "stdout",
     "output_type": "stream",
     "text": [
      "Epoch 13/100 [hc=64, lr=0.01] --> Train Loss: 0.859045, Val Loss: 0.858714\n"
     ]
    },
    {
     "name": "stderr",
     "output_type": "stream",
     "text": [
      "Epoch 14: 100%|██████████| 1143/1143 [01:16<00:00, 14.92it/s, batch_loss=0.856]\n",
      "Evaluating: 100%|██████████| 77/77 [00:01<00:00, 40.25it/s]\n"
     ]
    },
    {
     "name": "stdout",
     "output_type": "stream",
     "text": [
      "Epoch 14/100 [hc=64, lr=0.01] --> Train Loss: 0.859046, Val Loss: 0.858719\n"
     ]
    },
    {
     "name": "stderr",
     "output_type": "stream",
     "text": [
      "Epoch 15: 100%|██████████| 1143/1143 [01:16<00:00, 14.92it/s, batch_loss=0.867]\n",
      "Evaluating: 100%|██████████| 77/77 [00:01<00:00, 40.24it/s]\n"
     ]
    },
    {
     "name": "stdout",
     "output_type": "stream",
     "text": [
      "Epoch 15/100 [hc=64, lr=0.01] --> Train Loss: 0.859061, Val Loss: 0.858646\n"
     ]
    },
    {
     "name": "stderr",
     "output_type": "stream",
     "text": [
      "Epoch 16: 100%|██████████| 1143/1143 [01:16<00:00, 14.95it/s, batch_loss=0.879]\n",
      "Evaluating: 100%|██████████| 77/77 [00:01<00:00, 40.31it/s]\n"
     ]
    },
    {
     "name": "stdout",
     "output_type": "stream",
     "text": [
      "Epoch 16/100 [hc=64, lr=0.01] --> Train Loss: 0.859033, Val Loss: 0.859680\n"
     ]
    },
    {
     "name": "stderr",
     "output_type": "stream",
     "text": [
      "Epoch 17: 100%|██████████| 1143/1143 [01:16<00:00, 14.92it/s, batch_loss=0.847]\n",
      "Evaluating: 100%|██████████| 77/77 [00:01<00:00, 40.12it/s]\n"
     ]
    },
    {
     "name": "stdout",
     "output_type": "stream",
     "text": [
      "Epoch 17/100 [hc=64, lr=0.01] --> Train Loss: 0.859029, Val Loss: 0.858748\n"
     ]
    },
    {
     "name": "stderr",
     "output_type": "stream",
     "text": [
      "Epoch 18: 100%|██████████| 1143/1143 [01:16<00:00, 14.93it/s, batch_loss=0.849]\n",
      "Evaluating: 100%|██████████| 77/77 [00:01<00:00, 40.35it/s]\n"
     ]
    },
    {
     "name": "stdout",
     "output_type": "stream",
     "text": [
      "Epoch 18/100 [hc=64, lr=0.01] --> Train Loss: 0.859020, Val Loss: 0.858653\n"
     ]
    },
    {
     "name": "stderr",
     "output_type": "stream",
     "text": [
      "Epoch 19: 100%|██████████| 1143/1143 [01:16<00:00, 14.95it/s, batch_loss=0.846]\n",
      "Evaluating: 100%|██████████| 77/77 [00:01<00:00, 40.30it/s]\n"
     ]
    },
    {
     "name": "stdout",
     "output_type": "stream",
     "text": [
      "Epoch 19/100 [hc=64, lr=0.01] --> Train Loss: 0.859035, Val Loss: 0.858708\n"
     ]
    },
    {
     "name": "stderr",
     "output_type": "stream",
     "text": [
      "Epoch 20: 100%|██████████| 1143/1143 [01:16<00:00, 14.93it/s, batch_loss=0.833]\n",
      "Evaluating: 100%|██████████| 77/77 [00:01<00:00, 40.35it/s]\n"
     ]
    },
    {
     "name": "stdout",
     "output_type": "stream",
     "text": [
      "Epoch 20/100 [hc=64, lr=0.01] --> Train Loss: 0.859059, Val Loss: 0.858580\n"
     ]
    },
    {
     "name": "stderr",
     "output_type": "stream",
     "text": [
      "Epoch 21: 100%|██████████| 1143/1143 [01:16<00:00, 14.95it/s, batch_loss=0.855]\n",
      "Evaluating: 100%|██████████| 77/77 [00:02<00:00, 37.39it/s]\n"
     ]
    },
    {
     "name": "stdout",
     "output_type": "stream",
     "text": [
      "Epoch 21/100 [hc=64, lr=0.01] --> Train Loss: 0.859045, Val Loss: 0.858633\n"
     ]
    },
    {
     "name": "stderr",
     "output_type": "stream",
     "text": [
      "Epoch 22: 100%|██████████| 1143/1143 [01:16<00:00, 14.95it/s, batch_loss=0.858]\n",
      "Evaluating: 100%|██████████| 77/77 [00:01<00:00, 40.10it/s]\n"
     ]
    },
    {
     "name": "stdout",
     "output_type": "stream",
     "text": [
      "Epoch 22/100 [hc=64, lr=0.01] --> Train Loss: 0.859040, Val Loss: 0.858702\n"
     ]
    },
    {
     "name": "stderr",
     "output_type": "stream",
     "text": [
      "Epoch 23: 100%|██████████| 1143/1143 [01:16<00:00, 14.92it/s, batch_loss=0.877]\n",
      "Evaluating: 100%|██████████| 77/77 [00:01<00:00, 40.35it/s]\n"
     ]
    },
    {
     "name": "stdout",
     "output_type": "stream",
     "text": [
      "Epoch 23/100 [hc=64, lr=0.01] --> Train Loss: 0.859032, Val Loss: 0.859023\n"
     ]
    },
    {
     "name": "stderr",
     "output_type": "stream",
     "text": [
      "Epoch 24: 100%|██████████| 1143/1143 [01:16<00:00, 14.95it/s, batch_loss=0.85] \n",
      "Evaluating: 100%|██████████| 77/77 [00:01<00:00, 40.38it/s]\n"
     ]
    },
    {
     "name": "stdout",
     "output_type": "stream",
     "text": [
      "Epoch 24/100 [hc=64, lr=0.01] --> Train Loss: 0.859048, Val Loss: 0.858587\n"
     ]
    },
    {
     "name": "stderr",
     "output_type": "stream",
     "text": [
      "Epoch 25: 100%|██████████| 1143/1143 [01:16<00:00, 14.90it/s, batch_loss=0.871]\n",
      "Evaluating: 100%|██████████| 77/77 [00:01<00:00, 40.28it/s]\n"
     ]
    },
    {
     "name": "stdout",
     "output_type": "stream",
     "text": [
      "Epoch 25/100 [hc=64, lr=0.01] --> Train Loss: 0.859033, Val Loss: 0.858768\n"
     ]
    },
    {
     "name": "stderr",
     "output_type": "stream",
     "text": [
      "Epoch 26: 100%|██████████| 1143/1143 [01:16<00:00, 14.92it/s, batch_loss=0.846]\n",
      "Evaluating: 100%|██████████| 77/77 [00:01<00:00, 39.91it/s]\n"
     ]
    },
    {
     "name": "stdout",
     "output_type": "stream",
     "text": [
      "Epoch 26/100 [hc=64, lr=0.01] --> Train Loss: 0.859038, Val Loss: 0.858926\n"
     ]
    },
    {
     "name": "stderr",
     "output_type": "stream",
     "text": [
      "Epoch 27: 100%|██████████| 1143/1143 [01:16<00:00, 14.96it/s, batch_loss=0.89] \n",
      "Evaluating: 100%|██████████| 77/77 [00:01<00:00, 40.31it/s]\n"
     ]
    },
    {
     "name": "stdout",
     "output_type": "stream",
     "text": [
      "Epoch 27/100 [hc=64, lr=0.01] --> Train Loss: 0.859051, Val Loss: 0.858557\n"
     ]
    },
    {
     "name": "stderr",
     "output_type": "stream",
     "text": [
      "Epoch 28: 100%|██████████| 1143/1143 [01:16<00:00, 14.93it/s, batch_loss=0.866]\n",
      "Evaluating: 100%|██████████| 77/77 [00:01<00:00, 40.22it/s]\n"
     ]
    },
    {
     "name": "stdout",
     "output_type": "stream",
     "text": [
      "Epoch 28/100 [hc=64, lr=0.01] --> Train Loss: 0.859030, Val Loss: 0.858669\n"
     ]
    },
    {
     "name": "stderr",
     "output_type": "stream",
     "text": [
      "Epoch 29: 100%|██████████| 1143/1143 [01:16<00:00, 14.92it/s, batch_loss=0.87] \n",
      "Evaluating: 100%|██████████| 77/77 [00:01<00:00, 40.28it/s]\n"
     ]
    },
    {
     "name": "stdout",
     "output_type": "stream",
     "text": [
      "Epoch 29/100 [hc=64, lr=0.01] --> Train Loss: 0.859076, Val Loss: 0.858683\n"
     ]
    },
    {
     "name": "stderr",
     "output_type": "stream",
     "text": [
      "Epoch 30: 100%|██████████| 1143/1143 [01:16<00:00, 14.95it/s, batch_loss=0.877]\n",
      "Evaluating: 100%|██████████| 77/77 [00:01<00:00, 40.25it/s]\n"
     ]
    },
    {
     "name": "stdout",
     "output_type": "stream",
     "text": [
      "Epoch 30/100 [hc=64, lr=0.01] --> Train Loss: 0.859033, Val Loss: 0.858655\n"
     ]
    },
    {
     "name": "stderr",
     "output_type": "stream",
     "text": [
      "Epoch 31: 100%|██████████| 1143/1143 [01:16<00:00, 14.93it/s, batch_loss=0.846]\n",
      "Evaluating: 100%|██████████| 77/77 [00:01<00:00, 40.22it/s]\n"
     ]
    },
    {
     "name": "stdout",
     "output_type": "stream",
     "text": [
      "Epoch 31/100 [hc=64, lr=0.01] --> Train Loss: 0.859055, Val Loss: 0.858899\n"
     ]
    },
    {
     "name": "stderr",
     "output_type": "stream",
     "text": [
      "Epoch 32: 100%|██████████| 1143/1143 [01:16<00:00, 14.93it/s, batch_loss=0.842]\n",
      "Evaluating: 100%|██████████| 77/77 [00:01<00:00, 40.26it/s]\n"
     ]
    },
    {
     "name": "stdout",
     "output_type": "stream",
     "text": [
      "Epoch 32/100 [hc=64, lr=0.01] --> Train Loss: 0.859027, Val Loss: 0.859117\n"
     ]
    },
    {
     "name": "stderr",
     "output_type": "stream",
     "text": [
      "Epoch 33: 100%|██████████| 1143/1143 [01:16<00:00, 14.95it/s, batch_loss=0.829]\n",
      "Evaluating: 100%|██████████| 77/77 [00:01<00:00, 40.33it/s]\n"
     ]
    },
    {
     "name": "stdout",
     "output_type": "stream",
     "text": [
      "Epoch 33/100 [hc=64, lr=0.01] --> Train Loss: 0.859046, Val Loss: 0.858846\n"
     ]
    },
    {
     "name": "stderr",
     "output_type": "stream",
     "text": [
      "Epoch 34: 100%|██████████| 1143/1143 [01:16<00:00, 14.89it/s, batch_loss=0.854]\n",
      "Evaluating: 100%|██████████| 77/77 [00:01<00:00, 40.37it/s]\n"
     ]
    },
    {
     "name": "stdout",
     "output_type": "stream",
     "text": [
      "Epoch 34/100 [hc=64, lr=0.01] --> Train Loss: 0.859059, Val Loss: 0.858605\n"
     ]
    },
    {
     "name": "stderr",
     "output_type": "stream",
     "text": [
      "Epoch 35: 100%|██████████| 1143/1143 [01:16<00:00, 14.96it/s, batch_loss=0.849]\n",
      "Evaluating: 100%|██████████| 77/77 [00:01<00:00, 40.24it/s]\n"
     ]
    },
    {
     "name": "stdout",
     "output_type": "stream",
     "text": [
      "Epoch 35/100 [hc=64, lr=0.01] --> Train Loss: 0.859022, Val Loss: 0.858654\n"
     ]
    },
    {
     "name": "stderr",
     "output_type": "stream",
     "text": [
      "Epoch 36: 100%|██████████| 1143/1143 [01:16<00:00, 14.94it/s, batch_loss=0.829]\n",
      "Evaluating: 100%|██████████| 77/77 [00:01<00:00, 40.32it/s]\n"
     ]
    },
    {
     "name": "stdout",
     "output_type": "stream",
     "text": [
      "Epoch 36/100 [hc=64, lr=0.01] --> Train Loss: 0.859074, Val Loss: 0.858890\n"
     ]
    },
    {
     "name": "stderr",
     "output_type": "stream",
     "text": [
      "Epoch 37: 100%|██████████| 1143/1143 [01:16<00:00, 14.93it/s, batch_loss=0.884]\n",
      "Evaluating: 100%|██████████| 77/77 [00:01<00:00, 40.20it/s]\n"
     ]
    },
    {
     "name": "stdout",
     "output_type": "stream",
     "text": [
      "Epoch 37/100 [hc=64, lr=0.01] --> Train Loss: 0.859038, Val Loss: 0.858587\n"
     ]
    },
    {
     "name": "stderr",
     "output_type": "stream",
     "text": [
      "Epoch 38: 100%|██████████| 1143/1143 [01:16<00:00, 14.95it/s, batch_loss=0.883]\n",
      "Evaluating: 100%|██████████| 77/77 [00:01<00:00, 40.29it/s]\n"
     ]
    },
    {
     "name": "stdout",
     "output_type": "stream",
     "text": [
      "Epoch 38/100 [hc=64, lr=0.01] --> Train Loss: 0.859028, Val Loss: 0.858808\n"
     ]
    },
    {
     "name": "stderr",
     "output_type": "stream",
     "text": [
      "Epoch 39: 100%|██████████| 1143/1143 [01:16<00:00, 14.93it/s, batch_loss=0.884]\n",
      "Evaluating: 100%|██████████| 77/77 [00:01<00:00, 40.28it/s]\n"
     ]
    },
    {
     "name": "stdout",
     "output_type": "stream",
     "text": [
      "Epoch 39/100 [hc=64, lr=0.01] --> Train Loss: 0.859056, Val Loss: 0.858611\n"
     ]
    },
    {
     "name": "stderr",
     "output_type": "stream",
     "text": [
      "Epoch 40: 100%|██████████| 1143/1143 [01:16<00:00, 14.93it/s, batch_loss=0.844]\n",
      "Evaluating: 100%|██████████| 77/77 [00:01<00:00, 40.26it/s]\n"
     ]
    },
    {
     "name": "stdout",
     "output_type": "stream",
     "text": [
      "Epoch 40/100 [hc=64, lr=0.01] --> Train Loss: 0.859045, Val Loss: 0.858646\n"
     ]
    },
    {
     "name": "stderr",
     "output_type": "stream",
     "text": [
      "Epoch 41: 100%|██████████| 1143/1143 [01:16<00:00, 14.96it/s, batch_loss=0.863]\n",
      "Evaluating: 100%|██████████| 77/77 [00:01<00:00, 39.19it/s]\n"
     ]
    },
    {
     "name": "stdout",
     "output_type": "stream",
     "text": [
      "Epoch 41/100 [hc=64, lr=0.01] --> Train Loss: 0.859065, Val Loss: 0.858794\n"
     ]
    },
    {
     "name": "stderr",
     "output_type": "stream",
     "text": [
      "Epoch 42: 100%|██████████| 1143/1143 [01:16<00:00, 14.94it/s, batch_loss=0.86] \n",
      "Evaluating: 100%|██████████| 77/77 [00:01<00:00, 40.31it/s]\n"
     ]
    },
    {
     "name": "stdout",
     "output_type": "stream",
     "text": [
      "Epoch 42/100 [hc=64, lr=0.01] --> Train Loss: 0.859043, Val Loss: 0.858637\n"
     ]
    },
    {
     "name": "stderr",
     "output_type": "stream",
     "text": [
      "Epoch 43: 100%|██████████| 1143/1143 [01:16<00:00, 14.93it/s, batch_loss=0.871]\n",
      "Evaluating: 100%|██████████| 77/77 [00:01<00:00, 40.26it/s]\n"
     ]
    },
    {
     "name": "stdout",
     "output_type": "stream",
     "text": [
      "Epoch 43/100 [hc=64, lr=0.01] --> Train Loss: 0.859023, Val Loss: 0.859054\n"
     ]
    },
    {
     "name": "stderr",
     "output_type": "stream",
     "text": [
      "Epoch 44: 100%|██████████| 1143/1143 [01:16<00:00, 14.95it/s, batch_loss=0.882]\n",
      "Evaluating: 100%|██████████| 77/77 [00:01<00:00, 40.26it/s]\n"
     ]
    },
    {
     "name": "stdout",
     "output_type": "stream",
     "text": [
      "Epoch 44/100 [hc=64, lr=0.01] --> Train Loss: 0.859055, Val Loss: 0.858584\n"
     ]
    },
    {
     "name": "stderr",
     "output_type": "stream",
     "text": [
      "Epoch 45: 100%|██████████| 1143/1143 [01:16<00:00, 14.93it/s, batch_loss=0.855]\n",
      "Evaluating: 100%|██████████| 77/77 [00:01<00:00, 40.31it/s]\n"
     ]
    },
    {
     "name": "stdout",
     "output_type": "stream",
     "text": [
      "Epoch 45/100 [hc=64, lr=0.01] --> Train Loss: 0.859053, Val Loss: 0.858704\n"
     ]
    },
    {
     "name": "stderr",
     "output_type": "stream",
     "text": [
      "Epoch 46: 100%|██████████| 1143/1143 [01:16<00:00, 14.96it/s, batch_loss=0.853]\n",
      "Evaluating: 100%|██████████| 77/77 [00:02<00:00, 37.24it/s]\n"
     ]
    },
    {
     "name": "stdout",
     "output_type": "stream",
     "text": [
      "Epoch 46/100 [hc=64, lr=0.01] --> Train Loss: 0.859057, Val Loss: 0.858888\n"
     ]
    },
    {
     "name": "stderr",
     "output_type": "stream",
     "text": [
      "Epoch 47: 100%|██████████| 1143/1143 [01:16<00:00, 14.96it/s, batch_loss=0.851]\n",
      "Evaluating: 100%|██████████| 77/77 [00:01<00:00, 40.16it/s]\n"
     ]
    },
    {
     "name": "stdout",
     "output_type": "stream",
     "text": [
      "Epoch 47/100 [hc=64, lr=0.01] --> Train Loss: 0.859030, Val Loss: 0.858783\n"
     ]
    },
    {
     "name": "stderr",
     "output_type": "stream",
     "text": [
      "Epoch 48: 100%|██████████| 1143/1143 [01:16<00:00, 14.93it/s, batch_loss=0.855]\n",
      "Evaluating: 100%|██████████| 77/77 [00:01<00:00, 40.39it/s]\n"
     ]
    },
    {
     "name": "stdout",
     "output_type": "stream",
     "text": [
      "Epoch 48/100 [hc=64, lr=0.01] --> Train Loss: 0.859071, Val Loss: 0.859003\n"
     ]
    },
    {
     "name": "stderr",
     "output_type": "stream",
     "text": [
      "Epoch 49: 100%|██████████| 1143/1143 [01:16<00:00, 14.96it/s, batch_loss=0.873]\n",
      "Evaluating: 100%|██████████| 77/77 [00:01<00:00, 40.25it/s]\n"
     ]
    },
    {
     "name": "stdout",
     "output_type": "stream",
     "text": [
      "Epoch 49/100 [hc=64, lr=0.01] --> Train Loss: 0.859023, Val Loss: 0.858881\n"
     ]
    },
    {
     "name": "stderr",
     "output_type": "stream",
     "text": [
      "Epoch 50: 100%|██████████| 1143/1143 [01:16<00:00, 14.93it/s, batch_loss=0.842]\n",
      "Evaluating: 100%|██████████| 77/77 [00:01<00:00, 39.99it/s]\n"
     ]
    },
    {
     "name": "stdout",
     "output_type": "stream",
     "text": [
      "Epoch 50/100 [hc=64, lr=0.01] --> Train Loss: 0.859040, Val Loss: 0.858529\n"
     ]
    },
    {
     "name": "stderr",
     "output_type": "stream",
     "text": [
      "Epoch 51: 100%|██████████| 1143/1143 [01:16<00:00, 14.93it/s, batch_loss=0.845]\n",
      "Evaluating: 100%|██████████| 77/77 [00:01<00:00, 40.42it/s]\n"
     ]
    },
    {
     "name": "stdout",
     "output_type": "stream",
     "text": [
      "Epoch 51/100 [hc=64, lr=0.01] --> Train Loss: 0.859035, Val Loss: 0.858722\n"
     ]
    },
    {
     "name": "stderr",
     "output_type": "stream",
     "text": [
      "Epoch 52: 100%|██████████| 1143/1143 [01:16<00:00, 14.96it/s, batch_loss=0.84] \n",
      "Evaluating: 100%|██████████| 77/77 [00:01<00:00, 40.28it/s]\n"
     ]
    },
    {
     "name": "stdout",
     "output_type": "stream",
     "text": [
      "Epoch 52/100 [hc=64, lr=0.01] --> Train Loss: 0.859071, Val Loss: 0.858634\n"
     ]
    },
    {
     "name": "stderr",
     "output_type": "stream",
     "text": [
      "Epoch 53: 100%|██████████| 1143/1143 [01:16<00:00, 14.93it/s, batch_loss=0.844]\n",
      "Evaluating: 100%|██████████| 77/77 [00:01<00:00, 40.28it/s]\n"
     ]
    },
    {
     "name": "stdout",
     "output_type": "stream",
     "text": [
      "Epoch 53/100 [hc=64, lr=0.01] --> Train Loss: 0.859027, Val Loss: 0.858679\n"
     ]
    },
    {
     "name": "stderr",
     "output_type": "stream",
     "text": [
      "Epoch 54: 100%|██████████| 1143/1143 [01:16<00:00, 14.93it/s, batch_loss=0.869]\n",
      "Evaluating: 100%|██████████| 77/77 [00:01<00:00, 40.22it/s]\n"
     ]
    },
    {
     "name": "stdout",
     "output_type": "stream",
     "text": [
      "Epoch 54/100 [hc=64, lr=0.01] --> Train Loss: 0.859032, Val Loss: 0.858592\n"
     ]
    },
    {
     "name": "stderr",
     "output_type": "stream",
     "text": [
      "Epoch 55: 100%|██████████| 1143/1143 [01:16<00:00, 14.95it/s, batch_loss=0.861]\n",
      "Evaluating: 100%|██████████| 77/77 [00:01<00:00, 40.23it/s]\n"
     ]
    },
    {
     "name": "stdout",
     "output_type": "stream",
     "text": [
      "Epoch 55/100 [hc=64, lr=0.01] --> Train Loss: 0.859051, Val Loss: 0.858776\n"
     ]
    },
    {
     "name": "stderr",
     "output_type": "stream",
     "text": [
      "Epoch 56: 100%|██████████| 1143/1143 [01:16<00:00, 14.93it/s, batch_loss=0.857]\n",
      "Evaluating: 100%|██████████| 77/77 [00:01<00:00, 40.38it/s]\n"
     ]
    },
    {
     "name": "stdout",
     "output_type": "stream",
     "text": [
      "Epoch 56/100 [hc=64, lr=0.01] --> Train Loss: 0.859035, Val Loss: 0.858624\n"
     ]
    },
    {
     "name": "stderr",
     "output_type": "stream",
     "text": [
      "Epoch 57: 100%|██████████| 1143/1143 [01:16<00:00, 14.93it/s, batch_loss=0.864]\n",
      "Evaluating: 100%|██████████| 77/77 [00:01<00:00, 40.27it/s]\n"
     ]
    },
    {
     "name": "stdout",
     "output_type": "stream",
     "text": [
      "Epoch 57/100 [hc=64, lr=0.01] --> Train Loss: 0.859025, Val Loss: 0.859008\n"
     ]
    },
    {
     "name": "stderr",
     "output_type": "stream",
     "text": [
      "Epoch 58: 100%|██████████| 1143/1143 [01:16<00:00, 14.95it/s, batch_loss=0.87] \n",
      "Evaluating: 100%|██████████| 77/77 [00:01<00:00, 40.25it/s]\n"
     ]
    },
    {
     "name": "stdout",
     "output_type": "stream",
     "text": [
      "Epoch 58/100 [hc=64, lr=0.01] --> Train Loss: 0.859041, Val Loss: 0.858615\n"
     ]
    },
    {
     "name": "stderr",
     "output_type": "stream",
     "text": [
      "Epoch 59: 100%|██████████| 1143/1143 [01:16<00:00, 14.92it/s, batch_loss=0.842]\n",
      "Evaluating: 100%|██████████| 77/77 [00:01<00:00, 40.32it/s]\n"
     ]
    },
    {
     "name": "stdout",
     "output_type": "stream",
     "text": [
      "Epoch 59/100 [hc=64, lr=0.01] --> Train Loss: 0.859057, Val Loss: 0.858582\n"
     ]
    },
    {
     "name": "stderr",
     "output_type": "stream",
     "text": [
      "Epoch 60: 100%|██████████| 1143/1143 [01:16<00:00, 14.94it/s, batch_loss=0.893]\n",
      "Evaluating: 100%|██████████| 77/77 [00:01<00:00, 40.28it/s]\n"
     ]
    },
    {
     "name": "stdout",
     "output_type": "stream",
     "text": [
      "Epoch 60/100 [hc=64, lr=0.01] --> Train Loss: 0.859039, Val Loss: 0.858584\n"
     ]
    },
    {
     "name": "stderr",
     "output_type": "stream",
     "text": [
      "Epoch 61: 100%|██████████| 1143/1143 [01:16<00:00, 14.93it/s, batch_loss=0.876]\n",
      "Evaluating: 100%|██████████| 77/77 [00:01<00:00, 40.45it/s]\n"
     ]
    },
    {
     "name": "stdout",
     "output_type": "stream",
     "text": [
      "Epoch 61/100 [hc=64, lr=0.01] --> Train Loss: 0.859046, Val Loss: 0.859309\n"
     ]
    },
    {
     "name": "stderr",
     "output_type": "stream",
     "text": [
      "Epoch 62: 100%|██████████| 1143/1143 [01:16<00:00, 14.92it/s, batch_loss=0.842]\n",
      "Evaluating: 100%|██████████| 77/77 [00:01<00:00, 40.23it/s]\n"
     ]
    },
    {
     "name": "stdout",
     "output_type": "stream",
     "text": [
      "Epoch 62/100 [hc=64, lr=0.01] --> Train Loss: 0.859058, Val Loss: 0.858714\n"
     ]
    },
    {
     "name": "stderr",
     "output_type": "stream",
     "text": [
      "Epoch 63: 100%|██████████| 1143/1143 [01:16<00:00, 14.95it/s, batch_loss=0.86] \n",
      "Evaluating: 100%|██████████| 77/77 [00:01<00:00, 40.17it/s]\n"
     ]
    },
    {
     "name": "stdout",
     "output_type": "stream",
     "text": [
      "Epoch 63/100 [hc=64, lr=0.01] --> Train Loss: 0.859049, Val Loss: 0.859153\n"
     ]
    },
    {
     "name": "stderr",
     "output_type": "stream",
     "text": [
      "Epoch 64: 100%|██████████| 1143/1143 [01:16<00:00, 14.93it/s, batch_loss=0.873]\n",
      "Evaluating: 100%|██████████| 77/77 [00:01<00:00, 40.31it/s]\n"
     ]
    },
    {
     "name": "stdout",
     "output_type": "stream",
     "text": [
      "Epoch 64/100 [hc=64, lr=0.01] --> Train Loss: 0.859058, Val Loss: 0.858772\n"
     ]
    },
    {
     "name": "stderr",
     "output_type": "stream",
     "text": [
      "Epoch 65: 100%|██████████| 1143/1143 [01:16<00:00, 14.93it/s, batch_loss=0.875]\n",
      "Evaluating: 100%|██████████| 77/77 [00:01<00:00, 40.33it/s]\n"
     ]
    },
    {
     "name": "stdout",
     "output_type": "stream",
     "text": [
      "Epoch 65/100 [hc=64, lr=0.01] --> Train Loss: 0.859036, Val Loss: 0.859110\n"
     ]
    },
    {
     "name": "stderr",
     "output_type": "stream",
     "text": [
      "Epoch 66: 100%|██████████| 1143/1143 [01:16<00:00, 14.96it/s, batch_loss=0.881]\n",
      "Evaluating: 100%|██████████| 77/77 [00:01<00:00, 40.31it/s]\n"
     ]
    },
    {
     "name": "stdout",
     "output_type": "stream",
     "text": [
      "Epoch 66/100 [hc=64, lr=0.01] --> Train Loss: 0.859071, Val Loss: 0.858673\n"
     ]
    },
    {
     "name": "stderr",
     "output_type": "stream",
     "text": [
      "Epoch 67: 100%|██████████| 1143/1143 [01:16<00:00, 14.92it/s, batch_loss=0.874]\n",
      "Evaluating: 100%|██████████| 77/77 [00:01<00:00, 40.17it/s]\n"
     ]
    },
    {
     "name": "stdout",
     "output_type": "stream",
     "text": [
      "Epoch 67/100 [hc=64, lr=0.01] --> Train Loss: 0.859088, Val Loss: 0.858587\n"
     ]
    },
    {
     "name": "stderr",
     "output_type": "stream",
     "text": [
      "Epoch 68: 100%|██████████| 1143/1143 [01:16<00:00, 14.92it/s, batch_loss=0.876]\n",
      "Evaluating: 100%|██████████| 77/77 [00:01<00:00, 40.13it/s]\n"
     ]
    },
    {
     "name": "stdout",
     "output_type": "stream",
     "text": [
      "Epoch 68/100 [hc=64, lr=0.01] --> Train Loss: 0.859032, Val Loss: 0.858623\n"
     ]
    },
    {
     "name": "stderr",
     "output_type": "stream",
     "text": [
      "Epoch 69: 100%|██████████| 1143/1143 [01:16<00:00, 14.96it/s, batch_loss=0.864]\n",
      "Evaluating: 100%|██████████| 77/77 [00:01<00:00, 40.39it/s]\n"
     ]
    },
    {
     "name": "stdout",
     "output_type": "stream",
     "text": [
      "Epoch 69/100 [hc=64, lr=0.01] --> Train Loss: 0.859039, Val Loss: 0.858701\n"
     ]
    },
    {
     "name": "stderr",
     "output_type": "stream",
     "text": [
      "Epoch 70: 100%|██████████| 1143/1143 [01:16<00:00, 14.93it/s, batch_loss=0.847]\n",
      "Evaluating: 100%|██████████| 77/77 [00:01<00:00, 40.24it/s]\n"
     ]
    },
    {
     "name": "stdout",
     "output_type": "stream",
     "text": [
      "Epoch 70/100 [hc=64, lr=0.01] --> Train Loss: 0.859024, Val Loss: 0.858615\n"
     ]
    },
    {
     "name": "stderr",
     "output_type": "stream",
     "text": [
      "Epoch 71: 100%|██████████| 1143/1143 [01:16<00:00, 14.93it/s, batch_loss=0.841]\n",
      "Evaluating: 100%|██████████| 77/77 [00:02<00:00, 37.53it/s]\n"
     ]
    },
    {
     "name": "stdout",
     "output_type": "stream",
     "text": [
      "Epoch 71/100 [hc=64, lr=0.01] --> Train Loss: 0.859044, Val Loss: 0.858629\n"
     ]
    },
    {
     "name": "stderr",
     "output_type": "stream",
     "text": [
      "Epoch 72: 100%|██████████| 1143/1143 [01:16<00:00, 14.95it/s, batch_loss=0.872]\n",
      "Evaluating: 100%|██████████| 77/77 [00:01<00:00, 40.31it/s]\n"
     ]
    },
    {
     "name": "stdout",
     "output_type": "stream",
     "text": [
      "Epoch 72/100 [hc=64, lr=0.01] --> Train Loss: 0.859040, Val Loss: 0.858809\n"
     ]
    },
    {
     "name": "stderr",
     "output_type": "stream",
     "text": [
      "Epoch 73: 100%|██████████| 1143/1143 [01:16<00:00, 14.93it/s, batch_loss=0.883]\n",
      "Evaluating: 100%|██████████| 77/77 [00:01<00:00, 40.24it/s]\n"
     ]
    },
    {
     "name": "stdout",
     "output_type": "stream",
     "text": [
      "Epoch 73/100 [hc=64, lr=0.01] --> Train Loss: 0.859044, Val Loss: 0.858570\n"
     ]
    },
    {
     "name": "stderr",
     "output_type": "stream",
     "text": [
      "Epoch 74: 100%|██████████| 1143/1143 [01:16<00:00, 14.96it/s, batch_loss=0.873]\n",
      "Evaluating: 100%|██████████| 77/77 [00:01<00:00, 40.26it/s]\n"
     ]
    },
    {
     "name": "stdout",
     "output_type": "stream",
     "text": [
      "Epoch 74/100 [hc=64, lr=0.01] --> Train Loss: 0.859043, Val Loss: 0.858535\n"
     ]
    },
    {
     "name": "stderr",
     "output_type": "stream",
     "text": [
      "Epoch 75: 100%|██████████| 1143/1143 [01:16<00:00, 14.93it/s, batch_loss=0.851]\n",
      "Evaluating: 100%|██████████| 77/77 [00:01<00:00, 40.19it/s]\n"
     ]
    },
    {
     "name": "stdout",
     "output_type": "stream",
     "text": [
      "Epoch 75/100 [hc=64, lr=0.01] --> Train Loss: 0.859075, Val Loss: 0.858691\n"
     ]
    },
    {
     "name": "stderr",
     "output_type": "stream",
     "text": [
      "Epoch 76: 100%|██████████| 1143/1143 [01:16<00:00, 14.92it/s, batch_loss=0.873]\n",
      "Evaluating: 100%|██████████| 77/77 [00:01<00:00, 40.04it/s]\n"
     ]
    },
    {
     "name": "stdout",
     "output_type": "stream",
     "text": [
      "Epoch 76/100 [hc=64, lr=0.01] --> Train Loss: 0.859023, Val Loss: 0.858910\n"
     ]
    },
    {
     "name": "stderr",
     "output_type": "stream",
     "text": [
      "Epoch 77: 100%|██████████| 1143/1143 [01:16<00:00, 14.96it/s, batch_loss=0.862]\n",
      "Evaluating: 100%|██████████| 77/77 [00:01<00:00, 40.40it/s]\n"
     ]
    },
    {
     "name": "stdout",
     "output_type": "stream",
     "text": [
      "Epoch 77/100 [hc=64, lr=0.01] --> Train Loss: 0.859029, Val Loss: 0.858583\n"
     ]
    },
    {
     "name": "stderr",
     "output_type": "stream",
     "text": [
      "Epoch 78: 100%|██████████| 1143/1143 [01:16<00:00, 14.92it/s, batch_loss=0.859]\n",
      "Evaluating: 100%|██████████| 77/77 [00:01<00:00, 40.15it/s]\n"
     ]
    },
    {
     "name": "stdout",
     "output_type": "stream",
     "text": [
      "Epoch 78/100 [hc=64, lr=0.01] --> Train Loss: 0.859056, Val Loss: 0.858654\n"
     ]
    },
    {
     "name": "stderr",
     "output_type": "stream",
     "text": [
      "Epoch 79: 100%|██████████| 1143/1143 [01:16<00:00, 14.92it/s, batch_loss=0.851]\n",
      "Evaluating: 100%|██████████| 77/77 [00:01<00:00, 40.20it/s]\n"
     ]
    },
    {
     "name": "stdout",
     "output_type": "stream",
     "text": [
      "Epoch 79/100 [hc=64, lr=0.01] --> Train Loss: 0.859015, Val Loss: 0.858830\n"
     ]
    },
    {
     "name": "stderr",
     "output_type": "stream",
     "text": [
      "Epoch 80: 100%|██████████| 1143/1143 [01:16<00:00, 14.91it/s, batch_loss=0.846]\n",
      "Evaluating: 100%|██████████| 77/77 [00:01<00:00, 40.16it/s]\n"
     ]
    },
    {
     "name": "stdout",
     "output_type": "stream",
     "text": [
      "Epoch 80/100 [hc=64, lr=0.01] --> Train Loss: 0.859042, Val Loss: 0.858865\n"
     ]
    },
    {
     "name": "stderr",
     "output_type": "stream",
     "text": [
      "Epoch 81: 100%|██████████| 1143/1143 [01:16<00:00, 14.93it/s, batch_loss=0.849]\n",
      "Evaluating: 100%|██████████| 77/77 [00:01<00:00, 40.24it/s]\n"
     ]
    },
    {
     "name": "stdout",
     "output_type": "stream",
     "text": [
      "Epoch 81/100 [hc=64, lr=0.01] --> Train Loss: 0.859040, Val Loss: 0.858718\n"
     ]
    },
    {
     "name": "stderr",
     "output_type": "stream",
     "text": [
      "Epoch 82: 100%|██████████| 1143/1143 [01:16<00:00, 14.92it/s, batch_loss=0.885]\n",
      "Evaluating: 100%|██████████| 77/77 [00:01<00:00, 40.36it/s]\n"
     ]
    },
    {
     "name": "stdout",
     "output_type": "stream",
     "text": [
      "Epoch 82/100 [hc=64, lr=0.01] --> Train Loss: 0.859012, Val Loss: 0.858851\n"
     ]
    },
    {
     "name": "stderr",
     "output_type": "stream",
     "text": [
      "Epoch 83: 100%|██████████| 1143/1143 [01:16<00:00, 14.96it/s, batch_loss=0.862]\n",
      "Evaluating: 100%|██████████| 77/77 [00:01<00:00, 39.98it/s]\n"
     ]
    },
    {
     "name": "stdout",
     "output_type": "stream",
     "text": [
      "Epoch 83/100 [hc=64, lr=0.01] --> Train Loss: 0.859047, Val Loss: 0.858721\n"
     ]
    },
    {
     "name": "stderr",
     "output_type": "stream",
     "text": [
      "Epoch 84: 100%|██████████| 1143/1143 [01:16<00:00, 14.92it/s, batch_loss=0.882]\n",
      "Evaluating: 100%|██████████| 77/77 [00:01<00:00, 40.16it/s]\n"
     ]
    },
    {
     "name": "stdout",
     "output_type": "stream",
     "text": [
      "Epoch 84/100 [hc=64, lr=0.01] --> Train Loss: 0.859042, Val Loss: 0.858741\n"
     ]
    },
    {
     "name": "stderr",
     "output_type": "stream",
     "text": [
      "Epoch 85: 100%|██████████| 1143/1143 [01:16<00:00, 14.95it/s, batch_loss=0.881]\n",
      "Evaluating: 100%|██████████| 77/77 [00:01<00:00, 40.25it/s]\n"
     ]
    },
    {
     "name": "stdout",
     "output_type": "stream",
     "text": [
      "Epoch 85/100 [hc=64, lr=0.01] --> Train Loss: 0.859060, Val Loss: 0.858563\n"
     ]
    },
    {
     "name": "stderr",
     "output_type": "stream",
     "text": [
      "Epoch 86: 100%|██████████| 1143/1143 [01:16<00:00, 14.93it/s, batch_loss=0.885]\n",
      "Evaluating: 100%|██████████| 77/77 [00:01<00:00, 40.30it/s]\n"
     ]
    },
    {
     "name": "stdout",
     "output_type": "stream",
     "text": [
      "Epoch 86/100 [hc=64, lr=0.01] --> Train Loss: 0.859084, Val Loss: 0.858910\n"
     ]
    },
    {
     "name": "stderr",
     "output_type": "stream",
     "text": [
      "Epoch 87: 100%|██████████| 1143/1143 [01:16<00:00, 14.93it/s, batch_loss=0.856]\n",
      "Evaluating: 100%|██████████| 77/77 [00:01<00:00, 40.20it/s]\n"
     ]
    },
    {
     "name": "stdout",
     "output_type": "stream",
     "text": [
      "Epoch 87/100 [hc=64, lr=0.01] --> Train Loss: 0.859053, Val Loss: 0.858599\n"
     ]
    },
    {
     "name": "stderr",
     "output_type": "stream",
     "text": [
      "Epoch 88: 100%|██████████| 1143/1143 [01:16<00:00, 14.96it/s, batch_loss=0.846]\n",
      "Evaluating: 100%|██████████| 77/77 [00:01<00:00, 40.19it/s]\n"
     ]
    },
    {
     "name": "stdout",
     "output_type": "stream",
     "text": [
      "Epoch 88/100 [hc=64, lr=0.01] --> Train Loss: 0.859053, Val Loss: 0.858965\n"
     ]
    },
    {
     "name": "stderr",
     "output_type": "stream",
     "text": [
      "Epoch 89: 100%|██████████| 1143/1143 [01:16<00:00, 14.93it/s, batch_loss=0.863]\n",
      "Evaluating: 100%|██████████| 77/77 [00:01<00:00, 40.24it/s]\n"
     ]
    },
    {
     "name": "stdout",
     "output_type": "stream",
     "text": [
      "Epoch 89/100 [hc=64, lr=0.01] --> Train Loss: 0.859063, Val Loss: 0.858911\n"
     ]
    },
    {
     "name": "stderr",
     "output_type": "stream",
     "text": [
      "Epoch 90: 100%|██████████| 1143/1143 [01:16<00:00, 14.93it/s, batch_loss=0.865]\n",
      "Evaluating: 100%|██████████| 77/77 [00:01<00:00, 40.27it/s]\n"
     ]
    },
    {
     "name": "stdout",
     "output_type": "stream",
     "text": [
      "Epoch 90/100 [hc=64, lr=0.01] --> Train Loss: 0.859036, Val Loss: 0.858983\n"
     ]
    },
    {
     "name": "stderr",
     "output_type": "stream",
     "text": [
      "Epoch 91: 100%|██████████| 1143/1143 [01:16<00:00, 14.96it/s, batch_loss=0.87] \n",
      "Evaluating: 100%|██████████| 77/77 [00:01<00:00, 40.24it/s]\n"
     ]
    },
    {
     "name": "stdout",
     "output_type": "stream",
     "text": [
      "Epoch 91/100 [hc=64, lr=0.01] --> Train Loss: 0.859052, Val Loss: 0.859026\n"
     ]
    },
    {
     "name": "stderr",
     "output_type": "stream",
     "text": [
      "Epoch 92: 100%|██████████| 1143/1143 [01:16<00:00, 14.93it/s, batch_loss=0.853]\n",
      "Evaluating: 100%|██████████| 77/77 [00:01<00:00, 39.99it/s]\n"
     ]
    },
    {
     "name": "stdout",
     "output_type": "stream",
     "text": [
      "Epoch 92/100 [hc=64, lr=0.01] --> Train Loss: 0.859036, Val Loss: 0.858700\n"
     ]
    },
    {
     "name": "stderr",
     "output_type": "stream",
     "text": [
      "Epoch 93: 100%|██████████| 1143/1143 [01:16<00:00, 14.92it/s, batch_loss=0.886]\n",
      "Evaluating: 100%|██████████| 77/77 [00:01<00:00, 40.43it/s]\n"
     ]
    },
    {
     "name": "stdout",
     "output_type": "stream",
     "text": [
      "Epoch 93/100 [hc=64, lr=0.01] --> Train Loss: 0.859038, Val Loss: 0.859099\n"
     ]
    },
    {
     "name": "stderr",
     "output_type": "stream",
     "text": [
      "Epoch 94: 100%|██████████| 1143/1143 [01:16<00:00, 14.95it/s, batch_loss=0.851]\n",
      "Evaluating: 100%|██████████| 77/77 [00:01<00:00, 40.30it/s]\n"
     ]
    },
    {
     "name": "stdout",
     "output_type": "stream",
     "text": [
      "Epoch 94/100 [hc=64, lr=0.01] --> Train Loss: 0.859049, Val Loss: 0.858619\n"
     ]
    },
    {
     "name": "stderr",
     "output_type": "stream",
     "text": [
      "Epoch 95: 100%|██████████| 1143/1143 [01:16<00:00, 14.93it/s, batch_loss=0.87] \n",
      "Evaluating: 100%|██████████| 77/77 [00:01<00:00, 40.30it/s]\n"
     ]
    },
    {
     "name": "stdout",
     "output_type": "stream",
     "text": [
      "Epoch 95/100 [hc=64, lr=0.01] --> Train Loss: 0.859039, Val Loss: 0.858589\n"
     ]
    },
    {
     "name": "stderr",
     "output_type": "stream",
     "text": [
      "Epoch 96: 100%|██████████| 1143/1143 [01:16<00:00, 14.96it/s, batch_loss=0.863]\n",
      "Evaluating: 100%|██████████| 77/77 [00:02<00:00, 37.74it/s]\n"
     ]
    },
    {
     "name": "stdout",
     "output_type": "stream",
     "text": [
      "Epoch 96/100 [hc=64, lr=0.01] --> Train Loss: 0.859038, Val Loss: 0.859232\n"
     ]
    },
    {
     "name": "stderr",
     "output_type": "stream",
     "text": [
      "Epoch 97: 100%|██████████| 1143/1143 [01:16<00:00, 14.96it/s, batch_loss=0.887]\n",
      "Evaluating: 100%|██████████| 77/77 [00:01<00:00, 40.20it/s]\n"
     ]
    },
    {
     "name": "stdout",
     "output_type": "stream",
     "text": [
      "Epoch 97/100 [hc=64, lr=0.01] --> Train Loss: 0.859055, Val Loss: 0.858628\n"
     ]
    },
    {
     "name": "stderr",
     "output_type": "stream",
     "text": [
      "Epoch 98: 100%|██████████| 1143/1143 [01:16<00:00, 14.93it/s, batch_loss=0.865]\n",
      "Evaluating: 100%|██████████| 77/77 [00:01<00:00, 40.47it/s]\n"
     ]
    },
    {
     "name": "stdout",
     "output_type": "stream",
     "text": [
      "Epoch 98/100 [hc=64, lr=0.01] --> Train Loss: 0.859034, Val Loss: 0.858670\n"
     ]
    },
    {
     "name": "stderr",
     "output_type": "stream",
     "text": [
      "Epoch 99: 100%|██████████| 1143/1143 [01:16<00:00, 14.96it/s, batch_loss=0.835]\n",
      "Evaluating: 100%|██████████| 77/77 [00:01<00:00, 40.13it/s]\n"
     ]
    },
    {
     "name": "stdout",
     "output_type": "stream",
     "text": [
      "Epoch 99/100 [hc=64, lr=0.01] --> Train Loss: 0.859063, Val Loss: 0.858734\n"
     ]
    },
    {
     "name": "stderr",
     "output_type": "stream",
     "text": [
      "Epoch 100: 100%|██████████| 1143/1143 [01:16<00:00, 14.93it/s, batch_loss=0.851]\n",
      "Evaluating: 100%|██████████| 77/77 [00:01<00:00, 40.32it/s]\n"
     ]
    },
    {
     "name": "stdout",
     "output_type": "stream",
     "text": [
      "Epoch 100/100 [hc=64, lr=0.01] --> Train Loss: 0.859054, Val Loss: 0.858599\n"
     ]
    },
    {
     "name": "stderr",
     "output_type": "stream",
     "text": [
      "Epoch 1: 100%|██████████| 1143/1143 [02:34<00:00,  7.38it/s, batch_loss=0.187]\n",
      "Evaluating: 100%|██████████| 77/77 [00:03<00:00, 22.28it/s]\n"
     ]
    },
    {
     "name": "stdout",
     "output_type": "stream",
     "text": [
      "Epoch 1/100 [hc=128, lr=0.001] --> Train Loss: 0.237884, Val Loss: 0.191047\n"
     ]
    },
    {
     "name": "stderr",
     "output_type": "stream",
     "text": [
      "Epoch 2: 100%|██████████| 1143/1143 [02:34<00:00,  7.39it/s, batch_loss=0.161]\n",
      "Evaluating: 100%|██████████| 77/77 [00:03<00:00, 22.29it/s]\n"
     ]
    },
    {
     "name": "stdout",
     "output_type": "stream",
     "text": [
      "Epoch 2/100 [hc=128, lr=0.001] --> Train Loss: 0.177808, Val Loss: 0.171747\n"
     ]
    },
    {
     "name": "stderr",
     "output_type": "stream",
     "text": [
      "Epoch 3: 100%|██████████| 1143/1143 [02:34<00:00,  7.38it/s, batch_loss=0.194]\n",
      "Evaluating: 100%|██████████| 77/77 [00:03<00:00, 22.16it/s]\n"
     ]
    },
    {
     "name": "stdout",
     "output_type": "stream",
     "text": [
      "Epoch 3/100 [hc=128, lr=0.001] --> Train Loss: 0.168139, Val Loss: 0.165900\n"
     ]
    },
    {
     "name": "stderr",
     "output_type": "stream",
     "text": [
      "Epoch 4: 100%|██████████| 1143/1143 [02:34<00:00,  7.38it/s, batch_loss=0.12] \n",
      "Evaluating: 100%|██████████| 77/77 [00:03<00:00, 22.26it/s]\n"
     ]
    },
    {
     "name": "stdout",
     "output_type": "stream",
     "text": [
      "Epoch 4/100 [hc=128, lr=0.001] --> Train Loss: 0.163293, Val Loss: 0.163416\n"
     ]
    },
    {
     "name": "stderr",
     "output_type": "stream",
     "text": [
      "Epoch 5: 100%|██████████| 1143/1143 [02:34<00:00,  7.39it/s, batch_loss=0.154]\n",
      "Evaluating: 100%|██████████| 77/77 [00:03<00:00, 22.31it/s]\n"
     ]
    },
    {
     "name": "stdout",
     "output_type": "stream",
     "text": [
      "Epoch 5/100 [hc=128, lr=0.001] --> Train Loss: 0.159102, Val Loss: 0.158747\n"
     ]
    },
    {
     "name": "stderr",
     "output_type": "stream",
     "text": [
      "Epoch 6: 100%|██████████| 1143/1143 [02:34<00:00,  7.38it/s, batch_loss=0.154]\n",
      "Evaluating: 100%|██████████| 77/77 [00:03<00:00, 22.31it/s]\n"
     ]
    },
    {
     "name": "stdout",
     "output_type": "stream",
     "text": [
      "Epoch 6/100 [hc=128, lr=0.001] --> Train Loss: 0.153749, Val Loss: 0.155614\n"
     ]
    },
    {
     "name": "stderr",
     "output_type": "stream",
     "text": [
      "Epoch 7: 100%|██████████| 1143/1143 [02:34<00:00,  7.38it/s, batch_loss=0.155]\n",
      "Evaluating: 100%|██████████| 77/77 [00:03<00:00, 22.29it/s]\n"
     ]
    },
    {
     "name": "stdout",
     "output_type": "stream",
     "text": [
      "Epoch 7/100 [hc=128, lr=0.001] --> Train Loss: 0.147993, Val Loss: 0.153688\n"
     ]
    },
    {
     "name": "stderr",
     "output_type": "stream",
     "text": [
      "Epoch 8: 100%|██████████| 1143/1143 [02:34<00:00,  7.39it/s, batch_loss=0.124] \n",
      "Evaluating: 100%|██████████| 77/77 [00:03<00:00, 22.25it/s]\n"
     ]
    },
    {
     "name": "stdout",
     "output_type": "stream",
     "text": [
      "Epoch 8/100 [hc=128, lr=0.001] --> Train Loss: 0.141676, Val Loss: 0.150929\n"
     ]
    },
    {
     "name": "stderr",
     "output_type": "stream",
     "text": [
      "Epoch 9: 100%|██████████| 1143/1143 [02:34<00:00,  7.38it/s, batch_loss=0.0963]\n",
      "Evaluating: 100%|██████████| 77/77 [00:03<00:00, 22.21it/s]\n"
     ]
    },
    {
     "name": "stdout",
     "output_type": "stream",
     "text": [
      "Epoch 9/100 [hc=128, lr=0.001] --> Train Loss: 0.135713, Val Loss: 0.148000\n"
     ]
    },
    {
     "name": "stderr",
     "output_type": "stream",
     "text": [
      "Epoch 10: 100%|██████████| 1143/1143 [02:34<00:00,  7.38it/s, batch_loss=0.122]\n",
      "Evaluating: 100%|██████████| 77/77 [00:03<00:00, 22.27it/s]\n"
     ]
    },
    {
     "name": "stdout",
     "output_type": "stream",
     "text": [
      "Epoch 10/100 [hc=128, lr=0.001] --> Train Loss: 0.130256, Val Loss: 0.147314\n"
     ]
    },
    {
     "name": "stderr",
     "output_type": "stream",
     "text": [
      "Epoch 11: 100%|██████████| 1143/1143 [02:34<00:00,  7.39it/s, batch_loss=0.12] \n",
      "Evaluating: 100%|██████████| 77/77 [00:03<00:00, 22.28it/s]\n"
     ]
    },
    {
     "name": "stdout",
     "output_type": "stream",
     "text": [
      "Epoch 11/100 [hc=128, lr=0.001] --> Train Loss: 0.124485, Val Loss: 0.146538\n"
     ]
    },
    {
     "name": "stderr",
     "output_type": "stream",
     "text": [
      "Epoch 12: 100%|██████████| 1143/1143 [02:34<00:00,  7.38it/s, batch_loss=0.105]\n",
      "Evaluating: 100%|██████████| 77/77 [00:03<00:00, 22.29it/s]\n"
     ]
    },
    {
     "name": "stdout",
     "output_type": "stream",
     "text": [
      "Epoch 12/100 [hc=128, lr=0.001] --> Train Loss: 0.118747, Val Loss: 0.145316\n"
     ]
    },
    {
     "name": "stderr",
     "output_type": "stream",
     "text": [
      "Epoch 13: 100%|██████████| 1143/1143 [02:34<00:00,  7.38it/s, batch_loss=0.159]\n",
      "Evaluating: 100%|██████████| 77/77 [00:03<00:00, 22.29it/s]\n"
     ]
    },
    {
     "name": "stdout",
     "output_type": "stream",
     "text": [
      "Epoch 13/100 [hc=128, lr=0.001] --> Train Loss: 0.112197, Val Loss: 0.140969\n"
     ]
    },
    {
     "name": "stderr",
     "output_type": "stream",
     "text": [
      "Epoch 14: 100%|██████████| 1143/1143 [02:34<00:00,  7.38it/s, batch_loss=0.0954]\n",
      "Evaluating: 100%|██████████| 77/77 [00:03<00:00, 22.29it/s]\n"
     ]
    },
    {
     "name": "stdout",
     "output_type": "stream",
     "text": [
      "Epoch 14/100 [hc=128, lr=0.001] --> Train Loss: 0.106290, Val Loss: 0.137983\n"
     ]
    },
    {
     "name": "stderr",
     "output_type": "stream",
     "text": [
      "Epoch 15: 100%|██████████| 1143/1143 [02:34<00:00,  7.38it/s, batch_loss=0.11] \n",
      "Evaluating: 100%|██████████| 77/77 [00:03<00:00, 22.21it/s]\n"
     ]
    },
    {
     "name": "stdout",
     "output_type": "stream",
     "text": [
      "Epoch 15/100 [hc=128, lr=0.001] --> Train Loss: 0.100249, Val Loss: 0.138946\n"
     ]
    },
    {
     "name": "stderr",
     "output_type": "stream",
     "text": [
      "Epoch 16: 100%|██████████| 1143/1143 [02:34<00:00,  7.39it/s, batch_loss=0.0965]\n",
      "Evaluating: 100%|██████████| 77/77 [00:03<00:00, 22.28it/s]\n"
     ]
    },
    {
     "name": "stdout",
     "output_type": "stream",
     "text": [
      "Epoch 16/100 [hc=128, lr=0.001] --> Train Loss: 0.095167, Val Loss: 0.138763\n"
     ]
    },
    {
     "name": "stderr",
     "output_type": "stream",
     "text": [
      "Epoch 17: 100%|██████████| 1143/1143 [02:34<00:00,  7.38it/s, batch_loss=0.0899]\n",
      "Evaluating: 100%|██████████| 77/77 [00:03<00:00, 22.30it/s]\n"
     ]
    },
    {
     "name": "stdout",
     "output_type": "stream",
     "text": [
      "Epoch 17/100 [hc=128, lr=0.001] --> Train Loss: 0.090656, Val Loss: 0.136701\n"
     ]
    },
    {
     "name": "stderr",
     "output_type": "stream",
     "text": [
      "Epoch 18: 100%|██████████| 1143/1143 [02:34<00:00,  7.38it/s, batch_loss=0.101] \n",
      "Evaluating: 100%|██████████| 77/77 [00:03<00:00, 22.22it/s]\n"
     ]
    },
    {
     "name": "stdout",
     "output_type": "stream",
     "text": [
      "Epoch 18/100 [hc=128, lr=0.001] --> Train Loss: 0.086737, Val Loss: 0.137059\n"
     ]
    },
    {
     "name": "stderr",
     "output_type": "stream",
     "text": [
      "Epoch 19: 100%|██████████| 1143/1143 [02:34<00:00,  7.39it/s, batch_loss=0.117] \n",
      "Evaluating: 100%|██████████| 77/77 [00:03<00:00, 22.29it/s]\n"
     ]
    },
    {
     "name": "stdout",
     "output_type": "stream",
     "text": [
      "Epoch 19/100 [hc=128, lr=0.001] --> Train Loss: 0.083010, Val Loss: 0.140749\n"
     ]
    },
    {
     "name": "stderr",
     "output_type": "stream",
     "text": [
      "Epoch 20: 100%|██████████| 1143/1143 [02:34<00:00,  7.39it/s, batch_loss=0.0967]\n",
      "Evaluating: 100%|██████████| 77/77 [00:03<00:00, 22.29it/s]\n"
     ]
    },
    {
     "name": "stdout",
     "output_type": "stream",
     "text": [
      "Epoch 20/100 [hc=128, lr=0.001] --> Train Loss: 0.079640, Val Loss: 0.141382\n"
     ]
    },
    {
     "name": "stderr",
     "output_type": "stream",
     "text": [
      "Epoch 21: 100%|██████████| 1143/1143 [02:34<00:00,  7.39it/s, batch_loss=0.0724]\n",
      "Evaluating: 100%|██████████| 77/77 [00:03<00:00, 22.28it/s]\n"
     ]
    },
    {
     "name": "stdout",
     "output_type": "stream",
     "text": [
      "Epoch 21/100 [hc=128, lr=0.001] --> Train Loss: 0.075971, Val Loss: 0.139431\n"
     ]
    },
    {
     "name": "stderr",
     "output_type": "stream",
     "text": [
      "Epoch 22: 100%|██████████| 1143/1143 [02:34<00:00,  7.39it/s, batch_loss=0.0817]\n",
      "Evaluating: 100%|██████████| 77/77 [00:03<00:00, 22.30it/s]\n"
     ]
    },
    {
     "name": "stdout",
     "output_type": "stream",
     "text": [
      "Epoch 22/100 [hc=128, lr=0.001] --> Train Loss: 0.072727, Val Loss: 0.144907\n"
     ]
    },
    {
     "name": "stderr",
     "output_type": "stream",
     "text": [
      "Epoch 23: 100%|██████████| 1143/1143 [02:34<00:00,  7.39it/s, batch_loss=0.0908]\n",
      "Evaluating: 100%|██████████| 77/77 [00:03<00:00, 22.27it/s]\n"
     ]
    },
    {
     "name": "stdout",
     "output_type": "stream",
     "text": [
      "Epoch 23/100 [hc=128, lr=0.001] --> Train Loss: 0.070101, Val Loss: 0.144134\n"
     ]
    },
    {
     "name": "stderr",
     "output_type": "stream",
     "text": [
      "Epoch 24: 100%|██████████| 1143/1143 [02:34<00:00,  7.39it/s, batch_loss=0.0956]\n",
      "Evaluating: 100%|██████████| 77/77 [00:03<00:00, 22.25it/s]\n"
     ]
    },
    {
     "name": "stdout",
     "output_type": "stream",
     "text": [
      "Epoch 24/100 [hc=128, lr=0.001] --> Train Loss: 0.067116, Val Loss: 0.148166\n"
     ]
    },
    {
     "name": "stderr",
     "output_type": "stream",
     "text": [
      "Epoch 25: 100%|██████████| 1143/1143 [02:34<00:00,  7.39it/s, batch_loss=0.0544]\n",
      "Evaluating: 100%|██████████| 77/77 [00:03<00:00, 22.28it/s]\n"
     ]
    },
    {
     "name": "stdout",
     "output_type": "stream",
     "text": [
      "Epoch 25/100 [hc=128, lr=0.001] --> Train Loss: 0.064345, Val Loss: 0.149559\n"
     ]
    },
    {
     "name": "stderr",
     "output_type": "stream",
     "text": [
      "Epoch 26: 100%|██████████| 1143/1143 [02:34<00:00,  7.38it/s, batch_loss=0.0708]\n",
      "Evaluating: 100%|██████████| 77/77 [00:03<00:00, 22.32it/s]\n"
     ]
    },
    {
     "name": "stdout",
     "output_type": "stream",
     "text": [
      "Epoch 26/100 [hc=128, lr=0.001] --> Train Loss: 0.061492, Val Loss: 0.151387\n"
     ]
    },
    {
     "name": "stderr",
     "output_type": "stream",
     "text": [
      "Epoch 27: 100%|██████████| 1143/1143 [02:34<00:00,  7.38it/s, batch_loss=0.0698]\n",
      "Evaluating: 100%|██████████| 77/77 [00:03<00:00, 22.30it/s]\n"
     ]
    },
    {
     "name": "stdout",
     "output_type": "stream",
     "text": [
      "Epoch 27/100 [hc=128, lr=0.001] --> Train Loss: 0.059475, Val Loss: 0.150089\n"
     ]
    },
    {
     "name": "stderr",
     "output_type": "stream",
     "text": [
      "Epoch 28: 100%|██████████| 1143/1143 [02:34<00:00,  7.39it/s, batch_loss=0.0634]\n",
      "Evaluating: 100%|██████████| 77/77 [00:03<00:00, 22.27it/s]\n"
     ]
    },
    {
     "name": "stdout",
     "output_type": "stream",
     "text": [
      "Epoch 28/100 [hc=128, lr=0.001] --> Train Loss: 0.057290, Val Loss: 0.151828\n"
     ]
    },
    {
     "name": "stderr",
     "output_type": "stream",
     "text": [
      "Epoch 29: 100%|██████████| 1143/1143 [02:34<00:00,  7.38it/s, batch_loss=0.0786]\n",
      "Evaluating: 100%|██████████| 77/77 [00:03<00:00, 22.22it/s]\n"
     ]
    },
    {
     "name": "stdout",
     "output_type": "stream",
     "text": [
      "Epoch 29/100 [hc=128, lr=0.001] --> Train Loss: 0.054780, Val Loss: 0.155441\n"
     ]
    },
    {
     "name": "stderr",
     "output_type": "stream",
     "text": [
      "Epoch 30: 100%|██████████| 1143/1143 [02:34<00:00,  7.39it/s, batch_loss=0.047] \n",
      "Evaluating: 100%|██████████| 77/77 [00:03<00:00, 22.32it/s]\n"
     ]
    },
    {
     "name": "stdout",
     "output_type": "stream",
     "text": [
      "Epoch 30/100 [hc=128, lr=0.001] --> Train Loss: 0.052928, Val Loss: 0.154492\n"
     ]
    },
    {
     "name": "stderr",
     "output_type": "stream",
     "text": [
      "Epoch 31: 100%|██████████| 1143/1143 [02:34<00:00,  7.38it/s, batch_loss=0.0723]\n",
      "Evaluating: 100%|██████████| 77/77 [00:03<00:00, 22.29it/s]\n"
     ]
    },
    {
     "name": "stdout",
     "output_type": "stream",
     "text": [
      "Epoch 31/100 [hc=128, lr=0.001] --> Train Loss: 0.051080, Val Loss: 0.156914\n"
     ]
    },
    {
     "name": "stderr",
     "output_type": "stream",
     "text": [
      "Epoch 32: 100%|██████████| 1143/1143 [02:34<00:00,  7.39it/s, batch_loss=0.0637]\n",
      "Evaluating: 100%|██████████| 77/77 [00:03<00:00, 22.28it/s]\n"
     ]
    },
    {
     "name": "stdout",
     "output_type": "stream",
     "text": [
      "Epoch 32/100 [hc=128, lr=0.001] --> Train Loss: 0.049384, Val Loss: 0.154450\n"
     ]
    },
    {
     "name": "stderr",
     "output_type": "stream",
     "text": [
      "Epoch 33: 100%|██████████| 1143/1143 [02:34<00:00,  7.39it/s, batch_loss=0.055] \n",
      "Evaluating: 100%|██████████| 77/77 [00:03<00:00, 22.30it/s]\n"
     ]
    },
    {
     "name": "stdout",
     "output_type": "stream",
     "text": [
      "Epoch 33/100 [hc=128, lr=0.001] --> Train Loss: 0.047525, Val Loss: 0.159331\n"
     ]
    },
    {
     "name": "stderr",
     "output_type": "stream",
     "text": [
      "Epoch 34: 100%|██████████| 1143/1143 [02:34<00:00,  7.39it/s, batch_loss=0.0506]\n",
      "Evaluating: 100%|██████████| 77/77 [00:03<00:00, 22.30it/s]\n"
     ]
    },
    {
     "name": "stdout",
     "output_type": "stream",
     "text": [
      "Epoch 34/100 [hc=128, lr=0.001] --> Train Loss: 0.046148, Val Loss: 0.165767\n"
     ]
    },
    {
     "name": "stderr",
     "output_type": "stream",
     "text": [
      "Epoch 35: 100%|██████████| 1143/1143 [02:34<00:00,  7.38it/s, batch_loss=0.0361]\n",
      "Evaluating: 100%|██████████| 77/77 [00:03<00:00, 22.29it/s]\n"
     ]
    },
    {
     "name": "stdout",
     "output_type": "stream",
     "text": [
      "Epoch 35/100 [hc=128, lr=0.001] --> Train Loss: 0.044516, Val Loss: 0.163396\n"
     ]
    },
    {
     "name": "stderr",
     "output_type": "stream",
     "text": [
      "Epoch 36: 100%|██████████| 1143/1143 [02:35<00:00,  7.37it/s, batch_loss=0.0505]\n",
      "Evaluating: 100%|██████████| 77/77 [00:03<00:00, 22.30it/s]\n"
     ]
    },
    {
     "name": "stdout",
     "output_type": "stream",
     "text": [
      "Epoch 36/100 [hc=128, lr=0.001] --> Train Loss: 0.043294, Val Loss: 0.170159\n"
     ]
    },
    {
     "name": "stderr",
     "output_type": "stream",
     "text": [
      "Epoch 37: 100%|██████████| 1143/1143 [02:34<00:00,  7.38it/s, batch_loss=0.0343]\n",
      "Evaluating: 100%|██████████| 77/77 [00:03<00:00, 22.26it/s]\n"
     ]
    },
    {
     "name": "stdout",
     "output_type": "stream",
     "text": [
      "Epoch 37/100 [hc=128, lr=0.001] --> Train Loss: 0.042010, Val Loss: 0.166307\n"
     ]
    },
    {
     "name": "stderr",
     "output_type": "stream",
     "text": [
      "Epoch 38: 100%|██████████| 1143/1143 [02:34<00:00,  7.38it/s, batch_loss=0.0363]\n",
      "Evaluating: 100%|██████████| 77/77 [00:03<00:00, 22.30it/s]\n"
     ]
    },
    {
     "name": "stdout",
     "output_type": "stream",
     "text": [
      "Epoch 38/100 [hc=128, lr=0.001] --> Train Loss: 0.040779, Val Loss: 0.173055\n"
     ]
    },
    {
     "name": "stderr",
     "output_type": "stream",
     "text": [
      "Epoch 39: 100%|██████████| 1143/1143 [02:34<00:00,  7.39it/s, batch_loss=0.045] \n",
      "Evaluating: 100%|██████████| 77/77 [00:03<00:00, 22.30it/s]\n"
     ]
    },
    {
     "name": "stdout",
     "output_type": "stream",
     "text": [
      "Epoch 39/100 [hc=128, lr=0.001] --> Train Loss: 0.039794, Val Loss: 0.177878\n"
     ]
    },
    {
     "name": "stderr",
     "output_type": "stream",
     "text": [
      "Epoch 40: 100%|██████████| 1143/1143 [02:34<00:00,  7.38it/s, batch_loss=0.0303]\n",
      "Evaluating: 100%|██████████| 77/77 [00:03<00:00, 22.30it/s]\n"
     ]
    },
    {
     "name": "stdout",
     "output_type": "stream",
     "text": [
      "Epoch 40/100 [hc=128, lr=0.001] --> Train Loss: 0.038688, Val Loss: 0.179583\n"
     ]
    },
    {
     "name": "stderr",
     "output_type": "stream",
     "text": [
      "Epoch 41: 100%|██████████| 1143/1143 [02:34<00:00,  7.39it/s, batch_loss=0.0305]\n",
      "Evaluating: 100%|██████████| 77/77 [00:03<00:00, 22.27it/s]\n"
     ]
    },
    {
     "name": "stdout",
     "output_type": "stream",
     "text": [
      "Epoch 41/100 [hc=128, lr=0.001] --> Train Loss: 0.037202, Val Loss: 0.181664\n"
     ]
    },
    {
     "name": "stderr",
     "output_type": "stream",
     "text": [
      "Epoch 42: 100%|██████████| 1143/1143 [02:34<00:00,  7.39it/s, batch_loss=0.0441]\n",
      "Evaluating: 100%|██████████| 77/77 [00:03<00:00, 22.26it/s]\n"
     ]
    },
    {
     "name": "stdout",
     "output_type": "stream",
     "text": [
      "Epoch 42/100 [hc=128, lr=0.001] --> Train Loss: 0.036475, Val Loss: 0.182994\n"
     ]
    },
    {
     "name": "stderr",
     "output_type": "stream",
     "text": [
      "Epoch 43: 100%|██████████| 1143/1143 [02:34<00:00,  7.39it/s, batch_loss=0.0359]\n",
      "Evaluating: 100%|██████████| 77/77 [00:03<00:00, 22.30it/s]\n"
     ]
    },
    {
     "name": "stdout",
     "output_type": "stream",
     "text": [
      "Epoch 43/100 [hc=128, lr=0.001] --> Train Loss: 0.035896, Val Loss: 0.187224\n"
     ]
    },
    {
     "name": "stderr",
     "output_type": "stream",
     "text": [
      "Epoch 44: 100%|██████████| 1143/1143 [02:34<00:00,  7.39it/s, batch_loss=0.0187]\n",
      "Evaluating: 100%|██████████| 77/77 [00:03<00:00, 21.46it/s]\n"
     ]
    },
    {
     "name": "stdout",
     "output_type": "stream",
     "text": [
      "Epoch 44/100 [hc=128, lr=0.001] --> Train Loss: 0.034786, Val Loss: 0.186786\n"
     ]
    },
    {
     "name": "stderr",
     "output_type": "stream",
     "text": [
      "Epoch 45: 100%|██████████| 1143/1143 [02:34<00:00,  7.39it/s, batch_loss=0.0212]\n",
      "Evaluating: 100%|██████████| 77/77 [00:03<00:00, 22.29it/s]\n"
     ]
    },
    {
     "name": "stdout",
     "output_type": "stream",
     "text": [
      "Epoch 45/100 [hc=128, lr=0.001] --> Train Loss: 0.033949, Val Loss: 0.189316\n"
     ]
    },
    {
     "name": "stderr",
     "output_type": "stream",
     "text": [
      "Epoch 46: 100%|██████████| 1143/1143 [02:34<00:00,  7.39it/s, batch_loss=0.0443]\n",
      "Evaluating: 100%|██████████| 77/77 [00:03<00:00, 22.32it/s]\n"
     ]
    },
    {
     "name": "stdout",
     "output_type": "stream",
     "text": [
      "Epoch 46/100 [hc=128, lr=0.001] --> Train Loss: 0.033586, Val Loss: 0.195791\n"
     ]
    },
    {
     "name": "stderr",
     "output_type": "stream",
     "text": [
      "Epoch 47: 100%|██████████| 1143/1143 [02:34<00:00,  7.39it/s, batch_loss=0.05]  \n",
      "Evaluating: 100%|██████████| 77/77 [00:03<00:00, 22.26it/s]\n"
     ]
    },
    {
     "name": "stdout",
     "output_type": "stream",
     "text": [
      "Epoch 47/100 [hc=128, lr=0.001] --> Train Loss: 0.033149, Val Loss: 0.198093\n"
     ]
    },
    {
     "name": "stderr",
     "output_type": "stream",
     "text": [
      "Epoch 48: 100%|██████████| 1143/1143 [02:34<00:00,  7.39it/s, batch_loss=0.0483]\n",
      "Evaluating: 100%|██████████| 77/77 [00:03<00:00, 22.23it/s]\n"
     ]
    },
    {
     "name": "stdout",
     "output_type": "stream",
     "text": [
      "Epoch 48/100 [hc=128, lr=0.001] --> Train Loss: 0.032319, Val Loss: 0.197833\n"
     ]
    },
    {
     "name": "stderr",
     "output_type": "stream",
     "text": [
      "Epoch 49: 100%|██████████| 1143/1143 [02:34<00:00,  7.39it/s, batch_loss=0.0103]\n",
      "Evaluating: 100%|██████████| 77/77 [00:03<00:00, 22.32it/s]\n"
     ]
    },
    {
     "name": "stdout",
     "output_type": "stream",
     "text": [
      "Epoch 49/100 [hc=128, lr=0.001] --> Train Loss: 0.031635, Val Loss: 0.202188\n"
     ]
    },
    {
     "name": "stderr",
     "output_type": "stream",
     "text": [
      "Epoch 50: 100%|██████████| 1143/1143 [02:34<00:00,  7.39it/s, batch_loss=0.0255]\n",
      "Evaluating: 100%|██████████| 77/77 [00:03<00:00, 22.28it/s]\n"
     ]
    },
    {
     "name": "stdout",
     "output_type": "stream",
     "text": [
      "Epoch 50/100 [hc=128, lr=0.001] --> Train Loss: 0.031592, Val Loss: 0.197631\n"
     ]
    },
    {
     "name": "stderr",
     "output_type": "stream",
     "text": [
      "Epoch 51: 100%|██████████| 1143/1143 [02:34<00:00,  7.39it/s, batch_loss=0.0293]\n",
      "Evaluating: 100%|██████████| 77/77 [00:03<00:00, 22.29it/s]\n"
     ]
    },
    {
     "name": "stdout",
     "output_type": "stream",
     "text": [
      "Epoch 51/100 [hc=128, lr=0.001] --> Train Loss: 0.031280, Val Loss: 0.199806\n"
     ]
    },
    {
     "name": "stderr",
     "output_type": "stream",
     "text": [
      "Epoch 52: 100%|██████████| 1143/1143 [02:34<00:00,  7.38it/s, batch_loss=0.0574]\n",
      "Evaluating: 100%|██████████| 77/77 [00:03<00:00, 22.27it/s]\n"
     ]
    },
    {
     "name": "stdout",
     "output_type": "stream",
     "text": [
      "Epoch 52/100 [hc=128, lr=0.001] --> Train Loss: 0.030422, Val Loss: 0.193373\n"
     ]
    },
    {
     "name": "stderr",
     "output_type": "stream",
     "text": [
      "Epoch 53: 100%|██████████| 1143/1143 [02:34<00:00,  7.39it/s, batch_loss=0.0304]\n",
      "Evaluating: 100%|██████████| 77/77 [00:03<00:00, 22.23it/s]\n"
     ]
    },
    {
     "name": "stdout",
     "output_type": "stream",
     "text": [
      "Epoch 53/100 [hc=128, lr=0.001] --> Train Loss: 0.029990, Val Loss: 0.195210\n"
     ]
    },
    {
     "name": "stderr",
     "output_type": "stream",
     "text": [
      "Epoch 54: 100%|██████████| 1143/1143 [02:34<00:00,  7.38it/s, batch_loss=0.0471]\n",
      "Evaluating: 100%|██████████| 77/77 [00:03<00:00, 22.27it/s]\n"
     ]
    },
    {
     "name": "stdout",
     "output_type": "stream",
     "text": [
      "Epoch 54/100 [hc=128, lr=0.001] --> Train Loss: 0.029641, Val Loss: 0.195193\n"
     ]
    },
    {
     "name": "stderr",
     "output_type": "stream",
     "text": [
      "Epoch 55: 100%|██████████| 1143/1143 [02:34<00:00,  7.39it/s, batch_loss=0.0215]\n",
      "Evaluating: 100%|██████████| 77/77 [00:03<00:00, 22.32it/s]\n"
     ]
    },
    {
     "name": "stdout",
     "output_type": "stream",
     "text": [
      "Epoch 55/100 [hc=128, lr=0.001] --> Train Loss: 0.029645, Val Loss: 0.202058\n"
     ]
    },
    {
     "name": "stderr",
     "output_type": "stream",
     "text": [
      "Epoch 56: 100%|██████████| 1143/1143 [02:34<00:00,  7.39it/s, batch_loss=0.0152]\n",
      "Evaluating: 100%|██████████| 77/77 [00:03<00:00, 22.32it/s]\n"
     ]
    },
    {
     "name": "stdout",
     "output_type": "stream",
     "text": [
      "Epoch 56/100 [hc=128, lr=0.001] --> Train Loss: 0.029257, Val Loss: 0.201498\n"
     ]
    },
    {
     "name": "stderr",
     "output_type": "stream",
     "text": [
      "Epoch 57: 100%|██████████| 1143/1143 [02:34<00:00,  7.39it/s, batch_loss=0.0376]\n",
      "Evaluating: 100%|██████████| 77/77 [00:03<00:00, 22.31it/s]\n"
     ]
    },
    {
     "name": "stdout",
     "output_type": "stream",
     "text": [
      "Epoch 57/100 [hc=128, lr=0.001] --> Train Loss: 0.028864, Val Loss: 0.200551\n"
     ]
    },
    {
     "name": "stderr",
     "output_type": "stream",
     "text": [
      "Epoch 58: 100%|██████████| 1143/1143 [02:34<00:00,  7.39it/s, batch_loss=0.0222]\n",
      "Evaluating: 100%|██████████| 77/77 [00:03<00:00, 22.28it/s]\n"
     ]
    },
    {
     "name": "stdout",
     "output_type": "stream",
     "text": [
      "Epoch 58/100 [hc=128, lr=0.001] --> Train Loss: 0.028563, Val Loss: 0.201417\n"
     ]
    },
    {
     "name": "stderr",
     "output_type": "stream",
     "text": [
      "Epoch 59: 100%|██████████| 1143/1143 [02:34<00:00,  7.38it/s, batch_loss=0.034] \n",
      "Evaluating: 100%|██████████| 77/77 [00:03<00:00, 22.25it/s]\n"
     ]
    },
    {
     "name": "stdout",
     "output_type": "stream",
     "text": [
      "Epoch 59/100 [hc=128, lr=0.001] --> Train Loss: 0.028861, Val Loss: 0.203974\n"
     ]
    },
    {
     "name": "stderr",
     "output_type": "stream",
     "text": [
      "Epoch 60: 100%|██████████| 1143/1143 [02:34<00:00,  7.38it/s, batch_loss=0.0294]\n",
      "Evaluating: 100%|██████████| 77/77 [00:03<00:00, 22.29it/s]\n"
     ]
    },
    {
     "name": "stdout",
     "output_type": "stream",
     "text": [
      "Epoch 60/100 [hc=128, lr=0.001] --> Train Loss: 0.028411, Val Loss: 0.202275\n"
     ]
    },
    {
     "name": "stderr",
     "output_type": "stream",
     "text": [
      "Epoch 61: 100%|██████████| 1143/1143 [02:34<00:00,  7.39it/s, batch_loss=0.0229]\n",
      "Evaluating: 100%|██████████| 77/77 [00:03<00:00, 21.46it/s]\n"
     ]
    },
    {
     "name": "stdout",
     "output_type": "stream",
     "text": [
      "Epoch 61/100 [hc=128, lr=0.001] --> Train Loss: 0.027738, Val Loss: 0.201082\n"
     ]
    },
    {
     "name": "stderr",
     "output_type": "stream",
     "text": [
      "Epoch 62: 100%|██████████| 1143/1143 [02:34<00:00,  7.39it/s, batch_loss=0.0286]\n",
      "Evaluating: 100%|██████████| 77/77 [00:03<00:00, 22.31it/s]\n"
     ]
    },
    {
     "name": "stdout",
     "output_type": "stream",
     "text": [
      "Epoch 62/100 [hc=128, lr=0.001] --> Train Loss: 0.027613, Val Loss: 0.198701\n"
     ]
    },
    {
     "name": "stderr",
     "output_type": "stream",
     "text": [
      "Epoch 63: 100%|██████████| 1143/1143 [02:34<00:00,  7.39it/s, batch_loss=0.0436]\n",
      "Evaluating: 100%|██████████| 77/77 [00:03<00:00, 22.31it/s]\n"
     ]
    },
    {
     "name": "stdout",
     "output_type": "stream",
     "text": [
      "Epoch 63/100 [hc=128, lr=0.001] --> Train Loss: 0.028467, Val Loss: 0.201896\n"
     ]
    },
    {
     "name": "stderr",
     "output_type": "stream",
     "text": [
      "Epoch 64: 100%|██████████| 1143/1143 [02:34<00:00,  7.39it/s, batch_loss=0.0246]\n",
      "Evaluating: 100%|██████████| 77/77 [00:03<00:00, 22.31it/s]\n"
     ]
    },
    {
     "name": "stdout",
     "output_type": "stream",
     "text": [
      "Epoch 64/100 [hc=128, lr=0.001] --> Train Loss: 0.027725, Val Loss: 0.208155\n"
     ]
    },
    {
     "name": "stderr",
     "output_type": "stream",
     "text": [
      "Epoch 65: 100%|██████████| 1143/1143 [02:34<00:00,  7.38it/s, batch_loss=0.0189]\n",
      "Evaluating: 100%|██████████| 77/77 [00:03<00:00, 22.25it/s]\n"
     ]
    },
    {
     "name": "stdout",
     "output_type": "stream",
     "text": [
      "Epoch 65/100 [hc=128, lr=0.001] --> Train Loss: 0.026950, Val Loss: 0.205688\n"
     ]
    },
    {
     "name": "stderr",
     "output_type": "stream",
     "text": [
      "Epoch 66: 100%|██████████| 1143/1143 [02:34<00:00,  7.39it/s, batch_loss=0.0303]\n",
      "Evaluating: 100%|██████████| 77/77 [00:03<00:00, 22.24it/s]\n"
     ]
    },
    {
     "name": "stdout",
     "output_type": "stream",
     "text": [
      "Epoch 66/100 [hc=128, lr=0.001] --> Train Loss: 0.026884, Val Loss: 0.201125\n"
     ]
    },
    {
     "name": "stderr",
     "output_type": "stream",
     "text": [
      "Epoch 67: 100%|██████████| 1143/1143 [02:34<00:00,  7.39it/s, batch_loss=0.0364]\n",
      "Evaluating: 100%|██████████| 77/77 [00:03<00:00, 22.31it/s]\n"
     ]
    },
    {
     "name": "stdout",
     "output_type": "stream",
     "text": [
      "Epoch 67/100 [hc=128, lr=0.001] --> Train Loss: 0.027804, Val Loss: 0.201495\n"
     ]
    },
    {
     "name": "stderr",
     "output_type": "stream",
     "text": [
      "Epoch 68: 100%|██████████| 1143/1143 [02:34<00:00,  7.38it/s, batch_loss=0.0244]\n",
      "Evaluating: 100%|██████████| 77/77 [00:03<00:00, 22.29it/s]\n"
     ]
    },
    {
     "name": "stdout",
     "output_type": "stream",
     "text": [
      "Epoch 68/100 [hc=128, lr=0.001] --> Train Loss: 0.027598, Val Loss: 0.199979\n"
     ]
    },
    {
     "name": "stderr",
     "output_type": "stream",
     "text": [
      "Epoch 69: 100%|██████████| 1143/1143 [02:34<00:00,  7.39it/s, batch_loss=0.0164]\n",
      "Evaluating: 100%|██████████| 77/77 [00:03<00:00, 22.24it/s]\n"
     ]
    },
    {
     "name": "stdout",
     "output_type": "stream",
     "text": [
      "Epoch 69/100 [hc=128, lr=0.001] --> Train Loss: 0.026553, Val Loss: 0.193673\n"
     ]
    },
    {
     "name": "stderr",
     "output_type": "stream",
     "text": [
      "Epoch 70: 100%|██████████| 1143/1143 [02:34<00:00,  7.39it/s, batch_loss=0.0296]\n",
      "Evaluating: 100%|██████████| 77/77 [00:03<00:00, 22.29it/s]\n"
     ]
    },
    {
     "name": "stdout",
     "output_type": "stream",
     "text": [
      "Epoch 70/100 [hc=128, lr=0.001] --> Train Loss: 0.025614, Val Loss: 0.203175\n"
     ]
    },
    {
     "name": "stderr",
     "output_type": "stream",
     "text": [
      "Epoch 71: 100%|██████████| 1143/1143 [02:34<00:00,  7.38it/s, batch_loss=0.0259]\n",
      "Evaluating: 100%|██████████| 77/77 [00:03<00:00, 22.26it/s]\n"
     ]
    },
    {
     "name": "stdout",
     "output_type": "stream",
     "text": [
      "Epoch 71/100 [hc=128, lr=0.001] --> Train Loss: 0.026446, Val Loss: 0.199740\n"
     ]
    },
    {
     "name": "stderr",
     "output_type": "stream",
     "text": [
      "Epoch 72: 100%|██████████| 1143/1143 [02:34<00:00,  7.38it/s, batch_loss=0.0376]\n",
      "Evaluating: 100%|██████████| 77/77 [00:03<00:00, 22.25it/s]\n"
     ]
    },
    {
     "name": "stdout",
     "output_type": "stream",
     "text": [
      "Epoch 72/100 [hc=128, lr=0.001] --> Train Loss: 0.027116, Val Loss: 0.201007\n"
     ]
    },
    {
     "name": "stderr",
     "output_type": "stream",
     "text": [
      "Epoch 73: 100%|██████████| 1143/1143 [02:34<00:00,  7.39it/s, batch_loss=0.0358]\n",
      "Evaluating: 100%|██████████| 77/77 [00:03<00:00, 22.27it/s]\n"
     ]
    },
    {
     "name": "stdout",
     "output_type": "stream",
     "text": [
      "Epoch 73/100 [hc=128, lr=0.001] --> Train Loss: 0.026474, Val Loss: 0.200541\n"
     ]
    },
    {
     "name": "stderr",
     "output_type": "stream",
     "text": [
      "Epoch 74: 100%|██████████| 1143/1143 [02:34<00:00,  7.39it/s, batch_loss=0.0268]\n",
      "Evaluating: 100%|██████████| 77/77 [00:03<00:00, 22.32it/s]\n"
     ]
    },
    {
     "name": "stdout",
     "output_type": "stream",
     "text": [
      "Epoch 74/100 [hc=128, lr=0.001] --> Train Loss: 0.026503, Val Loss: 0.194619\n"
     ]
    },
    {
     "name": "stderr",
     "output_type": "stream",
     "text": [
      "Epoch 75: 100%|██████████| 1143/1143 [02:34<00:00,  7.38it/s, batch_loss=0.0262]\n",
      "Evaluating: 100%|██████████| 77/77 [00:03<00:00, 22.28it/s]\n"
     ]
    },
    {
     "name": "stdout",
     "output_type": "stream",
     "text": [
      "Epoch 75/100 [hc=128, lr=0.001] --> Train Loss: 0.026376, Val Loss: 0.198401\n"
     ]
    },
    {
     "name": "stderr",
     "output_type": "stream",
     "text": [
      "Epoch 76: 100%|██████████| 1143/1143 [02:34<00:00,  7.39it/s, batch_loss=0.00943]\n",
      "Evaluating: 100%|██████████| 77/77 [00:03<00:00, 22.25it/s]\n"
     ]
    },
    {
     "name": "stdout",
     "output_type": "stream",
     "text": [
      "Epoch 76/100 [hc=128, lr=0.001] --> Train Loss: 0.026114, Val Loss: 0.199679\n"
     ]
    },
    {
     "name": "stderr",
     "output_type": "stream",
     "text": [
      "Epoch 77: 100%|██████████| 1143/1143 [02:34<00:00,  7.38it/s, batch_loss=0.00881]\n",
      "Evaluating: 100%|██████████| 77/77 [00:03<00:00, 22.27it/s]\n"
     ]
    },
    {
     "name": "stdout",
     "output_type": "stream",
     "text": [
      "Epoch 77/100 [hc=128, lr=0.001] --> Train Loss: 0.025669, Val Loss: 0.200163\n"
     ]
    },
    {
     "name": "stderr",
     "output_type": "stream",
     "text": [
      "Epoch 78: 100%|██████████| 1143/1143 [02:34<00:00,  7.39it/s, batch_loss=0.0272]\n",
      "Evaluating: 100%|██████████| 77/77 [00:03<00:00, 21.48it/s]\n"
     ]
    },
    {
     "name": "stdout",
     "output_type": "stream",
     "text": [
      "Epoch 78/100 [hc=128, lr=0.001] --> Train Loss: 0.025416, Val Loss: 0.198114\n"
     ]
    },
    {
     "name": "stderr",
     "output_type": "stream",
     "text": [
      "Epoch 79: 100%|██████████| 1143/1143 [02:34<00:00,  7.39it/s, batch_loss=0.0226]\n",
      "Evaluating: 100%|██████████| 77/77 [00:03<00:00, 22.28it/s]\n"
     ]
    },
    {
     "name": "stdout",
     "output_type": "stream",
     "text": [
      "Epoch 79/100 [hc=128, lr=0.001] --> Train Loss: 0.025602, Val Loss: 0.198480\n"
     ]
    },
    {
     "name": "stderr",
     "output_type": "stream",
     "text": [
      "Epoch 80: 100%|██████████| 1143/1143 [02:34<00:00,  7.39it/s, batch_loss=0.0217]\n",
      "Evaluating: 100%|██████████| 77/77 [00:03<00:00, 22.27it/s]\n"
     ]
    },
    {
     "name": "stdout",
     "output_type": "stream",
     "text": [
      "Epoch 80/100 [hc=128, lr=0.001] --> Train Loss: 0.025838, Val Loss: 0.200906\n"
     ]
    },
    {
     "name": "stderr",
     "output_type": "stream",
     "text": [
      "Epoch 81: 100%|██████████| 1143/1143 [02:34<00:00,  7.38it/s, batch_loss=0.0222]\n",
      "Evaluating: 100%|██████████| 77/77 [00:03<00:00, 22.28it/s]\n"
     ]
    },
    {
     "name": "stdout",
     "output_type": "stream",
     "text": [
      "Epoch 81/100 [hc=128, lr=0.001] --> Train Loss: 0.025930, Val Loss: 0.198804\n"
     ]
    },
    {
     "name": "stderr",
     "output_type": "stream",
     "text": [
      "Epoch 82: 100%|██████████| 1143/1143 [02:34<00:00,  7.39it/s, batch_loss=0.0223]\n",
      "Evaluating: 100%|██████████| 77/77 [00:03<00:00, 22.30it/s]\n"
     ]
    },
    {
     "name": "stdout",
     "output_type": "stream",
     "text": [
      "Epoch 82/100 [hc=128, lr=0.001] --> Train Loss: 0.025768, Val Loss: 0.194070\n"
     ]
    },
    {
     "name": "stderr",
     "output_type": "stream",
     "text": [
      "Epoch 83: 100%|██████████| 1143/1143 [02:34<00:00,  7.38it/s, batch_loss=0.0244]\n",
      "Evaluating: 100%|██████████| 77/77 [00:03<00:00, 22.29it/s]\n"
     ]
    },
    {
     "name": "stdout",
     "output_type": "stream",
     "text": [
      "Epoch 83/100 [hc=128, lr=0.001] --> Train Loss: 0.025418, Val Loss: 0.197707\n"
     ]
    },
    {
     "name": "stderr",
     "output_type": "stream",
     "text": [
      "Epoch 84: 100%|██████████| 1143/1143 [02:34<00:00,  7.39it/s, batch_loss=0.0472]\n",
      "Evaluating: 100%|██████████| 77/77 [00:03<00:00, 22.21it/s]\n"
     ]
    },
    {
     "name": "stdout",
     "output_type": "stream",
     "text": [
      "Epoch 84/100 [hc=128, lr=0.001] --> Train Loss: 0.025309, Val Loss: 0.198756\n"
     ]
    },
    {
     "name": "stderr",
     "output_type": "stream",
     "text": [
      "Epoch 85: 100%|██████████| 1143/1143 [02:34<00:00,  7.38it/s, batch_loss=0.0208]\n",
      "Evaluating: 100%|██████████| 77/77 [00:03<00:00, 22.25it/s]\n"
     ]
    },
    {
     "name": "stdout",
     "output_type": "stream",
     "text": [
      "Epoch 85/100 [hc=128, lr=0.001] --> Train Loss: 0.025308, Val Loss: 0.197214\n"
     ]
    },
    {
     "name": "stderr",
     "output_type": "stream",
     "text": [
      "Epoch 86: 100%|██████████| 1143/1143 [02:34<00:00,  7.38it/s, batch_loss=0.0245]\n",
      "Evaluating: 100%|██████████| 77/77 [00:03<00:00, 22.30it/s]\n"
     ]
    },
    {
     "name": "stdout",
     "output_type": "stream",
     "text": [
      "Epoch 86/100 [hc=128, lr=0.001] --> Train Loss: 0.025285, Val Loss: 0.203206\n"
     ]
    },
    {
     "name": "stderr",
     "output_type": "stream",
     "text": [
      "Epoch 87: 100%|██████████| 1143/1143 [02:34<00:00,  7.39it/s, batch_loss=0.034] \n",
      "Evaluating: 100%|██████████| 77/77 [00:03<00:00, 22.31it/s]\n"
     ]
    },
    {
     "name": "stdout",
     "output_type": "stream",
     "text": [
      "Epoch 87/100 [hc=128, lr=0.001] --> Train Loss: 0.025291, Val Loss: 0.199369\n"
     ]
    },
    {
     "name": "stderr",
     "output_type": "stream",
     "text": [
      "Epoch 88: 100%|██████████| 1143/1143 [02:34<00:00,  7.38it/s, batch_loss=0.00699]\n",
      "Evaluating: 100%|██████████| 77/77 [00:03<00:00, 22.31it/s]\n"
     ]
    },
    {
     "name": "stdout",
     "output_type": "stream",
     "text": [
      "Epoch 88/100 [hc=128, lr=0.001] --> Train Loss: 0.024895, Val Loss: 0.198347\n"
     ]
    },
    {
     "name": "stderr",
     "output_type": "stream",
     "text": [
      "Epoch 89: 100%|██████████| 1143/1143 [02:34<00:00,  7.39it/s, batch_loss=0.0344]\n",
      "Evaluating: 100%|██████████| 77/77 [00:03<00:00, 22.29it/s]\n"
     ]
    },
    {
     "name": "stdout",
     "output_type": "stream",
     "text": [
      "Epoch 89/100 [hc=128, lr=0.001] --> Train Loss: 0.024806, Val Loss: 0.198350\n"
     ]
    },
    {
     "name": "stderr",
     "output_type": "stream",
     "text": [
      "Epoch 90: 100%|██████████| 1143/1143 [02:34<00:00,  7.39it/s, batch_loss=0.00955]\n",
      "Evaluating: 100%|██████████| 77/77 [00:03<00:00, 22.30it/s]\n"
     ]
    },
    {
     "name": "stdout",
     "output_type": "stream",
     "text": [
      "Epoch 90/100 [hc=128, lr=0.001] --> Train Loss: 0.024905, Val Loss: 0.199716\n"
     ]
    },
    {
     "name": "stderr",
     "output_type": "stream",
     "text": [
      "Epoch 91: 100%|██████████| 1143/1143 [02:34<00:00,  7.39it/s, batch_loss=0.04]  \n",
      "Evaluating: 100%|██████████| 77/77 [00:03<00:00, 22.29it/s]\n"
     ]
    },
    {
     "name": "stdout",
     "output_type": "stream",
     "text": [
      "Epoch 91/100 [hc=128, lr=0.001] --> Train Loss: 0.024910, Val Loss: 0.201896\n"
     ]
    },
    {
     "name": "stderr",
     "output_type": "stream",
     "text": [
      "Epoch 92: 100%|██████████| 1143/1143 [02:34<00:00,  7.39it/s, batch_loss=0.0281]\n",
      "Evaluating: 100%|██████████| 77/77 [00:03<00:00, 22.25it/s]\n"
     ]
    },
    {
     "name": "stdout",
     "output_type": "stream",
     "text": [
      "Epoch 92/100 [hc=128, lr=0.001] --> Train Loss: 0.024752, Val Loss: 0.195495\n"
     ]
    },
    {
     "name": "stderr",
     "output_type": "stream",
     "text": [
      "Epoch 93: 100%|██████████| 1143/1143 [02:34<00:00,  7.39it/s, batch_loss=0.0177]\n",
      "Evaluating: 100%|██████████| 77/77 [00:03<00:00, 22.29it/s]\n"
     ]
    },
    {
     "name": "stdout",
     "output_type": "stream",
     "text": [
      "Epoch 93/100 [hc=128, lr=0.001] --> Train Loss: 0.024673, Val Loss: 0.200361\n"
     ]
    },
    {
     "name": "stderr",
     "output_type": "stream",
     "text": [
      "Epoch 94: 100%|██████████| 1143/1143 [02:34<00:00,  7.39it/s, batch_loss=0.0169]\n",
      "Evaluating: 100%|██████████| 77/77 [00:03<00:00, 22.31it/s]\n"
     ]
    },
    {
     "name": "stdout",
     "output_type": "stream",
     "text": [
      "Epoch 94/100 [hc=128, lr=0.001] --> Train Loss: 0.024845, Val Loss: 0.197040\n"
     ]
    },
    {
     "name": "stderr",
     "output_type": "stream",
     "text": [
      "Epoch 95: 100%|██████████| 1143/1143 [02:34<00:00,  7.39it/s, batch_loss=0.0452]\n",
      "Evaluating: 100%|██████████| 77/77 [00:03<00:00, 22.26it/s]\n"
     ]
    },
    {
     "name": "stdout",
     "output_type": "stream",
     "text": [
      "Epoch 95/100 [hc=128, lr=0.001] --> Train Loss: 0.024795, Val Loss: 0.198085\n"
     ]
    },
    {
     "name": "stderr",
     "output_type": "stream",
     "text": [
      "Epoch 96: 100%|██████████| 1143/1143 [02:34<00:00,  7.39it/s, batch_loss=0.0355]\n",
      "Evaluating: 100%|██████████| 77/77 [00:03<00:00, 22.28it/s]\n"
     ]
    },
    {
     "name": "stdout",
     "output_type": "stream",
     "text": [
      "Epoch 96/100 [hc=128, lr=0.001] --> Train Loss: 0.024728, Val Loss: 0.201943\n"
     ]
    },
    {
     "name": "stderr",
     "output_type": "stream",
     "text": [
      "Epoch 97: 100%|██████████| 1143/1143 [02:34<00:00,  7.38it/s, batch_loss=0.0145]\n",
      "Evaluating: 100%|██████████| 77/77 [00:03<00:00, 22.26it/s]\n"
     ]
    },
    {
     "name": "stdout",
     "output_type": "stream",
     "text": [
      "Epoch 97/100 [hc=128, lr=0.001] --> Train Loss: 0.024650, Val Loss: 0.199066\n"
     ]
    },
    {
     "name": "stderr",
     "output_type": "stream",
     "text": [
      "Epoch 98: 100%|██████████| 1143/1143 [02:34<00:00,  7.39it/s, batch_loss=0.0154]\n",
      "Evaluating: 100%|██████████| 77/77 [00:03<00:00, 22.26it/s]\n"
     ]
    },
    {
     "name": "stdout",
     "output_type": "stream",
     "text": [
      "Epoch 98/100 [hc=128, lr=0.001] --> Train Loss: 0.024305, Val Loss: 0.194083\n"
     ]
    },
    {
     "name": "stderr",
     "output_type": "stream",
     "text": [
      "Epoch 99: 100%|██████████| 1143/1143 [02:34<00:00,  7.38it/s, batch_loss=0.0339]\n",
      "Evaluating: 100%|██████████| 77/77 [00:03<00:00, 22.29it/s]\n"
     ]
    },
    {
     "name": "stdout",
     "output_type": "stream",
     "text": [
      "Epoch 99/100 [hc=128, lr=0.001] --> Train Loss: 0.024339, Val Loss: 0.197266\n"
     ]
    },
    {
     "name": "stderr",
     "output_type": "stream",
     "text": [
      "Epoch 100: 100%|██████████| 1143/1143 [02:34<00:00,  7.38it/s, batch_loss=0.0323]\n",
      "Evaluating: 100%|██████████| 77/77 [00:03<00:00, 22.27it/s]\n"
     ]
    },
    {
     "name": "stdout",
     "output_type": "stream",
     "text": [
      "Epoch 100/100 [hc=128, lr=0.001] --> Train Loss: 0.024530, Val Loss: 0.200080\n"
     ]
    },
    {
     "name": "stderr",
     "output_type": "stream",
     "text": [
      "Epoch 1: 100%|██████████| 1143/1143 [02:34<00:00,  7.39it/s, batch_loss=0.229]\n",
      "Evaluating: 100%|██████████| 77/77 [00:03<00:00, 22.27it/s]\n"
     ]
    },
    {
     "name": "stdout",
     "output_type": "stream",
     "text": [
      "Epoch 1/100 [hc=128, lr=0.01] --> Train Loss: 0.245257, Val Loss: 0.180224\n"
     ]
    },
    {
     "name": "stderr",
     "output_type": "stream",
     "text": [
      "Epoch 2: 100%|██████████| 1143/1143 [02:34<00:00,  7.38it/s, batch_loss=0.177]\n",
      "Evaluating: 100%|██████████| 77/77 [00:03<00:00, 22.25it/s]\n"
     ]
    },
    {
     "name": "stdout",
     "output_type": "stream",
     "text": [
      "Epoch 2/100 [hc=128, lr=0.01] --> Train Loss: 0.172666, Val Loss: 0.173851\n"
     ]
    },
    {
     "name": "stderr",
     "output_type": "stream",
     "text": [
      "Epoch 3: 100%|██████████| 1143/1143 [02:34<00:00,  7.39it/s, batch_loss=0.179]\n",
      "Evaluating: 100%|██████████| 77/77 [00:03<00:00, 22.34it/s]\n"
     ]
    },
    {
     "name": "stdout",
     "output_type": "stream",
     "text": [
      "Epoch 3/100 [hc=128, lr=0.01] --> Train Loss: 0.167153, Val Loss: 0.169789\n"
     ]
    },
    {
     "name": "stderr",
     "output_type": "stream",
     "text": [
      "Epoch 4: 100%|██████████| 1143/1143 [02:35<00:00,  7.37it/s, batch_loss=0.202]\n",
      "Evaluating: 100%|██████████| 77/77 [00:03<00:00, 22.26it/s]\n"
     ]
    },
    {
     "name": "stdout",
     "output_type": "stream",
     "text": [
      "Epoch 4/100 [hc=128, lr=0.01] --> Train Loss: 0.163712, Val Loss: 0.166508\n"
     ]
    },
    {
     "name": "stderr",
     "output_type": "stream",
     "text": [
      "Epoch 5: 100%|██████████| 1143/1143 [02:34<00:00,  7.38it/s, batch_loss=0.0917]\n",
      "Evaluating: 100%|██████████| 77/77 [00:03<00:00, 22.30it/s]\n"
     ]
    },
    {
     "name": "stdout",
     "output_type": "stream",
     "text": [
      "Epoch 5/100 [hc=128, lr=0.01] --> Train Loss: 0.160262, Val Loss: 0.165985\n"
     ]
    },
    {
     "name": "stderr",
     "output_type": "stream",
     "text": [
      "Epoch 6: 100%|██████████| 1143/1143 [02:34<00:00,  7.38it/s, batch_loss=0.175]\n",
      "Evaluating: 100%|██████████| 77/77 [00:03<00:00, 22.28it/s]\n"
     ]
    },
    {
     "name": "stdout",
     "output_type": "stream",
     "text": [
      "Epoch 6/100 [hc=128, lr=0.01] --> Train Loss: 0.156603, Val Loss: 0.160483\n"
     ]
    },
    {
     "name": "stderr",
     "output_type": "stream",
     "text": [
      "Epoch 7: 100%|██████████| 1143/1143 [02:34<00:00,  7.39it/s, batch_loss=0.181]\n",
      "Evaluating: 100%|██████████| 77/77 [00:03<00:00, 22.28it/s]\n"
     ]
    },
    {
     "name": "stdout",
     "output_type": "stream",
     "text": [
      "Epoch 7/100 [hc=128, lr=0.01] --> Train Loss: 0.152395, Val Loss: 0.160043\n"
     ]
    },
    {
     "name": "stderr",
     "output_type": "stream",
     "text": [
      "Epoch 8: 100%|██████████| 1143/1143 [02:34<00:00,  7.38it/s, batch_loss=0.161]\n",
      "Evaluating: 100%|██████████| 77/77 [00:03<00:00, 22.26it/s]\n"
     ]
    },
    {
     "name": "stdout",
     "output_type": "stream",
     "text": [
      "Epoch 8/100 [hc=128, lr=0.01] --> Train Loss: 0.148020, Val Loss: 0.156949\n"
     ]
    },
    {
     "name": "stderr",
     "output_type": "stream",
     "text": [
      "Epoch 9: 100%|██████████| 1143/1143 [02:34<00:00,  7.38it/s, batch_loss=0.0778]\n",
      "Evaluating: 100%|██████████| 77/77 [00:03<00:00, 21.47it/s]\n"
     ]
    },
    {
     "name": "stdout",
     "output_type": "stream",
     "text": [
      "Epoch 9/100 [hc=128, lr=0.01] --> Train Loss: 0.142801, Val Loss: 0.154914\n"
     ]
    },
    {
     "name": "stderr",
     "output_type": "stream",
     "text": [
      "Epoch 10: 100%|██████████| 1143/1143 [02:34<00:00,  7.39it/s, batch_loss=0.152]\n",
      "Evaluating: 100%|██████████| 77/77 [00:03<00:00, 22.16it/s]\n"
     ]
    },
    {
     "name": "stdout",
     "output_type": "stream",
     "text": [
      "Epoch 10/100 [hc=128, lr=0.01] --> Train Loss: 0.140508, Val Loss: 0.155579\n"
     ]
    },
    {
     "name": "stderr",
     "output_type": "stream",
     "text": [
      "Epoch 11: 100%|██████████| 1143/1143 [02:34<00:00,  7.39it/s, batch_loss=0.116]\n",
      "Evaluating: 100%|██████████| 77/77 [00:03<00:00, 22.33it/s]\n"
     ]
    },
    {
     "name": "stdout",
     "output_type": "stream",
     "text": [
      "Epoch 11/100 [hc=128, lr=0.01] --> Train Loss: 0.132452, Val Loss: 0.155470\n"
     ]
    },
    {
     "name": "stderr",
     "output_type": "stream",
     "text": [
      "Epoch 12: 100%|██████████| 1143/1143 [02:34<00:00,  7.39it/s, batch_loss=0.184] \n",
      "Evaluating: 100%|██████████| 77/77 [00:03<00:00, 22.23it/s]\n"
     ]
    },
    {
     "name": "stdout",
     "output_type": "stream",
     "text": [
      "Epoch 12/100 [hc=128, lr=0.01] --> Train Loss: 0.128610, Val Loss: 0.155455\n"
     ]
    },
    {
     "name": "stderr",
     "output_type": "stream",
     "text": [
      "Epoch 13: 100%|██████████| 1143/1143 [02:34<00:00,  7.38it/s, batch_loss=0.144]\n",
      "Evaluating: 100%|██████████| 77/77 [00:03<00:00, 22.27it/s]\n"
     ]
    },
    {
     "name": "stdout",
     "output_type": "stream",
     "text": [
      "Epoch 13/100 [hc=128, lr=0.01] --> Train Loss: 0.123882, Val Loss: 0.153048\n"
     ]
    },
    {
     "name": "stderr",
     "output_type": "stream",
     "text": [
      "Epoch 14: 100%|██████████| 1143/1143 [02:34<00:00,  7.38it/s, batch_loss=0.0973]\n",
      "Evaluating: 100%|██████████| 77/77 [00:03<00:00, 22.30it/s]\n"
     ]
    },
    {
     "name": "stdout",
     "output_type": "stream",
     "text": [
      "Epoch 14/100 [hc=128, lr=0.01] --> Train Loss: 0.119934, Val Loss: 0.154757\n"
     ]
    },
    {
     "name": "stderr",
     "output_type": "stream",
     "text": [
      "Epoch 15: 100%|██████████| 1143/1143 [02:34<00:00,  7.40it/s, batch_loss=0.824]\n",
      "Evaluating: 100%|██████████| 77/77 [00:03<00:00, 22.34it/s]\n"
     ]
    },
    {
     "name": "stdout",
     "output_type": "stream",
     "text": [
      "Epoch 15/100 [hc=128, lr=0.01] --> Train Loss: 225.673831, Val Loss: 0.859593\n"
     ]
    },
    {
     "name": "stderr",
     "output_type": "stream",
     "text": [
      "Epoch 16: 100%|██████████| 1143/1143 [02:34<00:00,  7.40it/s, batch_loss=0.869]\n",
      "Evaluating: 100%|██████████| 77/77 [00:03<00:00, 22.30it/s]\n"
     ]
    },
    {
     "name": "stdout",
     "output_type": "stream",
     "text": [
      "Epoch 16/100 [hc=128, lr=0.01] --> Train Loss: 0.860456, Val Loss: 0.859464\n"
     ]
    },
    {
     "name": "stderr",
     "output_type": "stream",
     "text": [
      "Epoch 17: 100%|██████████| 1143/1143 [02:34<00:00,  7.40it/s, batch_loss=0.857]\n",
      "Evaluating: 100%|██████████| 77/77 [00:03<00:00, 22.32it/s]\n"
     ]
    },
    {
     "name": "stdout",
     "output_type": "stream",
     "text": [
      "Epoch 17/100 [hc=128, lr=0.01] --> Train Loss: 0.862618, Val Loss: 0.860237\n"
     ]
    },
    {
     "name": "stderr",
     "output_type": "stream",
     "text": [
      "Epoch 18: 100%|██████████| 1143/1143 [02:34<00:00,  7.41it/s, batch_loss=0.852]\n",
      "Evaluating: 100%|██████████| 77/77 [00:03<00:00, 22.31it/s]\n"
     ]
    },
    {
     "name": "stdout",
     "output_type": "stream",
     "text": [
      "Epoch 18/100 [hc=128, lr=0.01] --> Train Loss: 0.867555, Val Loss: 0.860714\n"
     ]
    },
    {
     "name": "stderr",
     "output_type": "stream",
     "text": [
      "Epoch 19: 100%|██████████| 1143/1143 [02:34<00:00,  7.40it/s, batch_loss=0.871]\n",
      "Evaluating: 100%|██████████| 77/77 [00:03<00:00, 22.32it/s]\n"
     ]
    },
    {
     "name": "stdout",
     "output_type": "stream",
     "text": [
      "Epoch 19/100 [hc=128, lr=0.01] --> Train Loss: 0.873817, Val Loss: 0.889130\n"
     ]
    },
    {
     "name": "stderr",
     "output_type": "stream",
     "text": [
      "Epoch 20: 100%|██████████| 1143/1143 [02:34<00:00,  7.40it/s, batch_loss=0.904]\n",
      "Evaluating: 100%|██████████| 77/77 [00:03<00:00, 22.33it/s]\n"
     ]
    },
    {
     "name": "stdout",
     "output_type": "stream",
     "text": [
      "Epoch 20/100 [hc=128, lr=0.01] --> Train Loss: 0.877178, Val Loss: 0.868536\n"
     ]
    },
    {
     "name": "stderr",
     "output_type": "stream",
     "text": [
      "Epoch 21: 100%|██████████| 1143/1143 [02:34<00:00,  7.41it/s, batch_loss=0.884]\n",
      "Evaluating: 100%|██████████| 77/77 [00:03<00:00, 22.32it/s]\n"
     ]
    },
    {
     "name": "stdout",
     "output_type": "stream",
     "text": [
      "Epoch 21/100 [hc=128, lr=0.01] --> Train Loss: 0.876853, Val Loss: 0.869042\n"
     ]
    },
    {
     "name": "stderr",
     "output_type": "stream",
     "text": [
      "Epoch 22: 100%|██████████| 1143/1143 [02:34<00:00,  7.40it/s, batch_loss=0.849]\n",
      "Evaluating: 100%|██████████| 77/77 [00:03<00:00, 22.32it/s]\n"
     ]
    },
    {
     "name": "stdout",
     "output_type": "stream",
     "text": [
      "Epoch 22/100 [hc=128, lr=0.01] --> Train Loss: 0.867778, Val Loss: 0.861499\n"
     ]
    },
    {
     "name": "stderr",
     "output_type": "stream",
     "text": [
      "Epoch 23: 100%|██████████| 1143/1143 [02:35<00:00,  7.35it/s, batch_loss=0.841]\n",
      "Evaluating: 100%|██████████| 77/77 [00:03<00:00, 21.64it/s]\n"
     ]
    },
    {
     "name": "stdout",
     "output_type": "stream",
     "text": [
      "Epoch 23/100 [hc=128, lr=0.01] --> Train Loss: 0.860692, Val Loss: 0.859255\n"
     ]
    },
    {
     "name": "stderr",
     "output_type": "stream",
     "text": [
      "Epoch 24: 100%|██████████| 1143/1143 [02:37<00:00,  7.24it/s, batch_loss=0.901]\n",
      "Evaluating: 100%|██████████| 77/77 [00:03<00:00, 21.40it/s]\n"
     ]
    },
    {
     "name": "stdout",
     "output_type": "stream",
     "text": [
      "Epoch 24/100 [hc=128, lr=0.01] --> Train Loss: 0.868713, Val Loss: 0.895324\n"
     ]
    },
    {
     "name": "stderr",
     "output_type": "stream",
     "text": [
      "Epoch 25: 100%|██████████| 1143/1143 [02:38<00:00,  7.20it/s, batch_loss=0.857]\n",
      "Evaluating: 100%|██████████| 77/77 [00:03<00:00, 21.78it/s]\n"
     ]
    },
    {
     "name": "stdout",
     "output_type": "stream",
     "text": [
      "Epoch 25/100 [hc=128, lr=0.01] --> Train Loss: 0.859100, Val Loss: 0.858760\n"
     ]
    },
    {
     "name": "stderr",
     "output_type": "stream",
     "text": [
      "Epoch 26: 100%|██████████| 1143/1143 [02:37<00:00,  7.26it/s, batch_loss=0.847]\n",
      "Evaluating: 100%|██████████| 77/77 [00:03<00:00, 20.88it/s]\n"
     ]
    },
    {
     "name": "stdout",
     "output_type": "stream",
     "text": [
      "Epoch 26/100 [hc=128, lr=0.01] --> Train Loss: 0.858963, Val Loss: 0.858626\n"
     ]
    },
    {
     "name": "stderr",
     "output_type": "stream",
     "text": [
      "Epoch 27: 100%|██████████| 1143/1143 [02:36<00:00,  7.31it/s, batch_loss=0.891]\n",
      "Evaluating: 100%|██████████| 77/77 [00:03<00:00, 21.93it/s]\n"
     ]
    },
    {
     "name": "stdout",
     "output_type": "stream",
     "text": [
      "Epoch 27/100 [hc=128, lr=0.01] --> Train Loss: 0.859023, Val Loss: 0.858774\n"
     ]
    },
    {
     "name": "stderr",
     "output_type": "stream",
     "text": [
      "Epoch 28: 100%|██████████| 1143/1143 [02:36<00:00,  7.31it/s, batch_loss=0.871]\n",
      "Evaluating: 100%|██████████| 77/77 [00:03<00:00, 21.94it/s]\n"
     ]
    },
    {
     "name": "stdout",
     "output_type": "stream",
     "text": [
      "Epoch 28/100 [hc=128, lr=0.01] --> Train Loss: 0.859034, Val Loss: 0.858866\n"
     ]
    },
    {
     "name": "stderr",
     "output_type": "stream",
     "text": [
      "Epoch 29: 100%|██████████| 1143/1143 [02:36<00:00,  7.32it/s, batch_loss=0.833]\n",
      "Evaluating: 100%|██████████| 77/77 [00:03<00:00, 21.96it/s]\n"
     ]
    },
    {
     "name": "stdout",
     "output_type": "stream",
     "text": [
      "Epoch 29/100 [hc=128, lr=0.01] --> Train Loss: 0.859062, Val Loss: 0.858530\n"
     ]
    },
    {
     "name": "stderr",
     "output_type": "stream",
     "text": [
      "Epoch 30: 100%|██████████| 1143/1143 [02:36<00:00,  7.32it/s, batch_loss=0.863]\n",
      "Evaluating: 100%|██████████| 77/77 [00:03<00:00, 21.96it/s]\n"
     ]
    },
    {
     "name": "stdout",
     "output_type": "stream",
     "text": [
      "Epoch 30/100 [hc=128, lr=0.01] --> Train Loss: 0.859057, Val Loss: 0.858925\n"
     ]
    },
    {
     "name": "stderr",
     "output_type": "stream",
     "text": [
      "Epoch 31: 100%|██████████| 1143/1143 [02:36<00:00,  7.32it/s, batch_loss=0.846]\n",
      "Evaluating: 100%|██████████| 77/77 [00:03<00:00, 21.96it/s]\n"
     ]
    },
    {
     "name": "stdout",
     "output_type": "stream",
     "text": [
      "Epoch 31/100 [hc=128, lr=0.01] --> Train Loss: 0.859042, Val Loss: 0.858951\n"
     ]
    },
    {
     "name": "stderr",
     "output_type": "stream",
     "text": [
      "Epoch 32: 100%|██████████| 1143/1143 [02:36<00:00,  7.33it/s, batch_loss=0.854]\n",
      "Evaluating: 100%|██████████| 77/77 [00:03<00:00, 21.96it/s]\n"
     ]
    },
    {
     "name": "stdout",
     "output_type": "stream",
     "text": [
      "Epoch 32/100 [hc=128, lr=0.01] --> Train Loss: 0.859053, Val Loss: 0.858615\n"
     ]
    },
    {
     "name": "stderr",
     "output_type": "stream",
     "text": [
      "Epoch 33: 100%|██████████| 1143/1143 [02:36<00:00,  7.32it/s, batch_loss=0.842]\n",
      "Evaluating: 100%|██████████| 77/77 [00:03<00:00, 21.99it/s]\n"
     ]
    },
    {
     "name": "stdout",
     "output_type": "stream",
     "text": [
      "Epoch 33/100 [hc=128, lr=0.01] --> Train Loss: 0.859023, Val Loss: 0.858866\n"
     ]
    },
    {
     "name": "stderr",
     "output_type": "stream",
     "text": [
      "Epoch 34: 100%|██████████| 1143/1143 [02:38<00:00,  7.23it/s, batch_loss=0.867]\n",
      "Evaluating: 100%|██████████| 77/77 [00:03<00:00, 21.66it/s]\n"
     ]
    },
    {
     "name": "stdout",
     "output_type": "stream",
     "text": [
      "Epoch 34/100 [hc=128, lr=0.01] --> Train Loss: 0.859038, Val Loss: 0.858692\n"
     ]
    },
    {
     "name": "stderr",
     "output_type": "stream",
     "text": [
      "Epoch 35: 100%|██████████| 1143/1143 [02:37<00:00,  7.26it/s, batch_loss=0.857]\n",
      "Evaluating: 100%|██████████| 77/77 [00:03<00:00, 21.59it/s]\n"
     ]
    },
    {
     "name": "stdout",
     "output_type": "stream",
     "text": [
      "Epoch 35/100 [hc=128, lr=0.01] --> Train Loss: 0.859047, Val Loss: 0.858568\n"
     ]
    },
    {
     "name": "stderr",
     "output_type": "stream",
     "text": [
      "Epoch 36: 100%|██████████| 1143/1143 [02:37<00:00,  7.25it/s, batch_loss=0.848]\n",
      "Evaluating: 100%|██████████| 77/77 [00:03<00:00, 21.59it/s]\n"
     ]
    },
    {
     "name": "stdout",
     "output_type": "stream",
     "text": [
      "Epoch 36/100 [hc=128, lr=0.01] --> Train Loss: 0.859033, Val Loss: 0.858846\n"
     ]
    },
    {
     "name": "stderr",
     "output_type": "stream",
     "text": [
      "Epoch 37: 100%|██████████| 1143/1143 [02:37<00:00,  7.25it/s, batch_loss=0.846]\n",
      "Evaluating: 100%|██████████| 77/77 [00:03<00:00, 21.63it/s]\n"
     ]
    },
    {
     "name": "stdout",
     "output_type": "stream",
     "text": [
      "Epoch 37/100 [hc=128, lr=0.01] --> Train Loss: 0.859026, Val Loss: 0.858585\n"
     ]
    },
    {
     "name": "stderr",
     "output_type": "stream",
     "text": [
      "Epoch 38: 100%|██████████| 1143/1143 [02:37<00:00,  7.26it/s, batch_loss=0.866]\n",
      "Evaluating: 100%|██████████| 77/77 [00:03<00:00, 21.69it/s]\n"
     ]
    },
    {
     "name": "stdout",
     "output_type": "stream",
     "text": [
      "Epoch 38/100 [hc=128, lr=0.01] --> Train Loss: 0.859040, Val Loss: 0.858671\n"
     ]
    },
    {
     "name": "stderr",
     "output_type": "stream",
     "text": [
      "Epoch 39: 100%|██████████| 1143/1143 [02:37<00:00,  7.27it/s, batch_loss=0.851]\n",
      "Evaluating: 100%|██████████| 77/77 [00:03<00:00, 21.73it/s]\n"
     ]
    },
    {
     "name": "stdout",
     "output_type": "stream",
     "text": [
      "Epoch 39/100 [hc=128, lr=0.01] --> Train Loss: 0.859052, Val Loss: 0.858837\n"
     ]
    },
    {
     "name": "stderr",
     "output_type": "stream",
     "text": [
      "Epoch 40: 100%|██████████| 1143/1143 [02:37<00:00,  7.27it/s, batch_loss=0.864]\n",
      "Evaluating: 100%|██████████| 77/77 [00:03<00:00, 20.83it/s]\n"
     ]
    },
    {
     "name": "stdout",
     "output_type": "stream",
     "text": [
      "Epoch 40/100 [hc=128, lr=0.01] --> Train Loss: 0.859058, Val Loss: 0.858582\n"
     ]
    },
    {
     "name": "stderr",
     "output_type": "stream",
     "text": [
      "Epoch 41: 100%|██████████| 1143/1143 [02:37<00:00,  7.28it/s, batch_loss=0.868]\n",
      "Evaluating: 100%|██████████| 77/77 [00:03<00:00, 21.76it/s]\n"
     ]
    },
    {
     "name": "stdout",
     "output_type": "stream",
     "text": [
      "Epoch 41/100 [hc=128, lr=0.01] --> Train Loss: 0.859074, Val Loss: 0.858713\n"
     ]
    },
    {
     "name": "stderr",
     "output_type": "stream",
     "text": [
      "Epoch 42: 100%|██████████| 1143/1143 [02:37<00:00,  7.26it/s, batch_loss=0.863]\n",
      "Evaluating: 100%|██████████| 77/77 [00:03<00:00, 21.73it/s]\n"
     ]
    },
    {
     "name": "stdout",
     "output_type": "stream",
     "text": [
      "Epoch 42/100 [hc=128, lr=0.01] --> Train Loss: 0.859081, Val Loss: 0.858596\n"
     ]
    },
    {
     "name": "stderr",
     "output_type": "stream",
     "text": [
      "Epoch 43: 100%|██████████| 1143/1143 [02:37<00:00,  7.27it/s, batch_loss=0.86] \n",
      "Evaluating: 100%|██████████| 77/77 [00:03<00:00, 21.79it/s]\n"
     ]
    },
    {
     "name": "stdout",
     "output_type": "stream",
     "text": [
      "Epoch 43/100 [hc=128, lr=0.01] --> Train Loss: 0.859029, Val Loss: 0.858664\n"
     ]
    },
    {
     "name": "stderr",
     "output_type": "stream",
     "text": [
      "Epoch 44: 100%|██████████| 1143/1143 [02:35<00:00,  7.34it/s, batch_loss=0.861]\n",
      "Evaluating: 100%|██████████| 77/77 [00:03<00:00, 22.28it/s]\n"
     ]
    },
    {
     "name": "stdout",
     "output_type": "stream",
     "text": [
      "Epoch 44/100 [hc=128, lr=0.01] --> Train Loss: 0.859033, Val Loss: 0.859114\n"
     ]
    },
    {
     "name": "stderr",
     "output_type": "stream",
     "text": [
      "Epoch 45: 100%|██████████| 1143/1143 [02:34<00:00,  7.39it/s, batch_loss=0.874]\n",
      "Evaluating: 100%|██████████| 77/77 [00:03<00:00, 22.21it/s]\n"
     ]
    },
    {
     "name": "stdout",
     "output_type": "stream",
     "text": [
      "Epoch 45/100 [hc=128, lr=0.01] --> Train Loss: 0.859057, Val Loss: 0.858700\n"
     ]
    },
    {
     "name": "stderr",
     "output_type": "stream",
     "text": [
      "Epoch 46: 100%|██████████| 1143/1143 [02:34<00:00,  7.40it/s, batch_loss=0.84] \n",
      "Evaluating: 100%|██████████| 77/77 [00:03<00:00, 22.23it/s]\n"
     ]
    },
    {
     "name": "stdout",
     "output_type": "stream",
     "text": [
      "Epoch 46/100 [hc=128, lr=0.01] --> Train Loss: 0.859049, Val Loss: 0.858804\n"
     ]
    },
    {
     "name": "stderr",
     "output_type": "stream",
     "text": [
      "Epoch 47: 100%|██████████| 1143/1143 [02:34<00:00,  7.39it/s, batch_loss=0.845]\n",
      "Evaluating: 100%|██████████| 77/77 [00:03<00:00, 22.27it/s]\n"
     ]
    },
    {
     "name": "stdout",
     "output_type": "stream",
     "text": [
      "Epoch 47/100 [hc=128, lr=0.01] --> Train Loss: 0.859042, Val Loss: 0.858762\n"
     ]
    },
    {
     "name": "stderr",
     "output_type": "stream",
     "text": [
      "Epoch 48: 100%|██████████| 1143/1143 [02:34<00:00,  7.39it/s, batch_loss=0.866]\n",
      "Evaluating: 100%|██████████| 77/77 [00:03<00:00, 22.29it/s]\n"
     ]
    },
    {
     "name": "stdout",
     "output_type": "stream",
     "text": [
      "Epoch 48/100 [hc=128, lr=0.01] --> Train Loss: 0.859043, Val Loss: 0.858623\n"
     ]
    },
    {
     "name": "stderr",
     "output_type": "stream",
     "text": [
      "Epoch 49: 100%|██████████| 1143/1143 [02:34<00:00,  7.40it/s, batch_loss=0.878]\n",
      "Evaluating: 100%|██████████| 77/77 [00:03<00:00, 22.24it/s]\n"
     ]
    },
    {
     "name": "stdout",
     "output_type": "stream",
     "text": [
      "Epoch 49/100 [hc=128, lr=0.01] --> Train Loss: 0.859038, Val Loss: 0.859096\n"
     ]
    },
    {
     "name": "stderr",
     "output_type": "stream",
     "text": [
      "Epoch 50: 100%|██████████| 1143/1143 [02:34<00:00,  7.39it/s, batch_loss=0.873]\n",
      "Evaluating: 100%|██████████| 77/77 [00:03<00:00, 22.21it/s]\n"
     ]
    },
    {
     "name": "stdout",
     "output_type": "stream",
     "text": [
      "Epoch 50/100 [hc=128, lr=0.01] --> Train Loss: 0.859039, Val Loss: 0.858688\n"
     ]
    },
    {
     "name": "stderr",
     "output_type": "stream",
     "text": [
      "Epoch 51: 100%|██████████| 1143/1143 [02:34<00:00,  7.40it/s, batch_loss=0.876]\n",
      "Evaluating: 100%|██████████| 77/77 [00:03<00:00, 22.29it/s]\n"
     ]
    },
    {
     "name": "stdout",
     "output_type": "stream",
     "text": [
      "Epoch 51/100 [hc=128, lr=0.01] --> Train Loss: 0.859017, Val Loss: 0.858946\n"
     ]
    },
    {
     "name": "stderr",
     "output_type": "stream",
     "text": [
      "Epoch 52: 100%|██████████| 1143/1143 [02:34<00:00,  7.40it/s, batch_loss=0.898]\n",
      "Evaluating: 100%|██████████| 77/77 [00:03<00:00, 22.28it/s]\n"
     ]
    },
    {
     "name": "stdout",
     "output_type": "stream",
     "text": [
      "Epoch 52/100 [hc=128, lr=0.01] --> Train Loss: 0.859054, Val Loss: 0.858584\n"
     ]
    },
    {
     "name": "stderr",
     "output_type": "stream",
     "text": [
      "Epoch 53: 100%|██████████| 1143/1143 [02:34<00:00,  7.39it/s, batch_loss=0.864]\n",
      "Evaluating: 100%|██████████| 77/77 [00:03<00:00, 22.23it/s]\n"
     ]
    },
    {
     "name": "stdout",
     "output_type": "stream",
     "text": [
      "Epoch 53/100 [hc=128, lr=0.01] --> Train Loss: 0.859056, Val Loss: 0.858950\n"
     ]
    },
    {
     "name": "stderr",
     "output_type": "stream",
     "text": [
      "Epoch 54: 100%|██████████| 1143/1143 [02:34<00:00,  7.39it/s, batch_loss=0.895]\n",
      "Evaluating: 100%|██████████| 77/77 [00:03<00:00, 22.20it/s]\n"
     ]
    },
    {
     "name": "stdout",
     "output_type": "stream",
     "text": [
      "Epoch 54/100 [hc=128, lr=0.01] --> Train Loss: 0.859052, Val Loss: 0.858670\n"
     ]
    },
    {
     "name": "stderr",
     "output_type": "stream",
     "text": [
      "Epoch 55: 100%|██████████| 1143/1143 [02:34<00:00,  7.40it/s, batch_loss=0.844]\n",
      "Evaluating: 100%|██████████| 77/77 [00:03<00:00, 22.26it/s]\n"
     ]
    },
    {
     "name": "stdout",
     "output_type": "stream",
     "text": [
      "Epoch 55/100 [hc=128, lr=0.01] --> Train Loss: 0.859035, Val Loss: 0.858585\n"
     ]
    },
    {
     "name": "stderr",
     "output_type": "stream",
     "text": [
      "Epoch 56: 100%|██████████| 1143/1143 [02:34<00:00,  7.38it/s, batch_loss=0.84] \n",
      "Evaluating: 100%|██████████| 77/77 [00:03<00:00, 22.24it/s]\n"
     ]
    },
    {
     "name": "stdout",
     "output_type": "stream",
     "text": [
      "Epoch 56/100 [hc=128, lr=0.01] --> Train Loss: 0.859048, Val Loss: 0.858771\n"
     ]
    },
    {
     "name": "stderr",
     "output_type": "stream",
     "text": [
      "Epoch 57: 100%|██████████| 1143/1143 [02:34<00:00,  7.40it/s, batch_loss=0.841]\n",
      "Evaluating: 100%|██████████| 77/77 [00:03<00:00, 22.26it/s]\n"
     ]
    },
    {
     "name": "stdout",
     "output_type": "stream",
     "text": [
      "Epoch 57/100 [hc=128, lr=0.01] --> Train Loss: 0.859036, Val Loss: 0.858554\n"
     ]
    },
    {
     "name": "stderr",
     "output_type": "stream",
     "text": [
      "Epoch 58: 100%|██████████| 1143/1143 [02:34<00:00,  7.39it/s, batch_loss=0.847]\n",
      "Evaluating: 100%|██████████| 77/77 [00:03<00:00, 22.22it/s]\n"
     ]
    },
    {
     "name": "stdout",
     "output_type": "stream",
     "text": [
      "Epoch 58/100 [hc=128, lr=0.01] --> Train Loss: 0.859030, Val Loss: 0.858568\n"
     ]
    },
    {
     "name": "stderr",
     "output_type": "stream",
     "text": [
      "Epoch 59: 100%|██████████| 1143/1143 [02:34<00:00,  7.39it/s, batch_loss=0.856]\n",
      "Evaluating: 100%|██████████| 77/77 [00:03<00:00, 22.20it/s]\n"
     ]
    },
    {
     "name": "stdout",
     "output_type": "stream",
     "text": [
      "Epoch 59/100 [hc=128, lr=0.01] --> Train Loss: 0.859040, Val Loss: 0.858787\n"
     ]
    },
    {
     "name": "stderr",
     "output_type": "stream",
     "text": [
      "Epoch 60: 100%|██████████| 1143/1143 [02:34<00:00,  7.40it/s, batch_loss=0.848]\n",
      "Evaluating: 100%|██████████| 77/77 [00:03<00:00, 22.29it/s]\n"
     ]
    },
    {
     "name": "stdout",
     "output_type": "stream",
     "text": [
      "Epoch 60/100 [hc=128, lr=0.01] --> Train Loss: 0.859053, Val Loss: 0.858856\n"
     ]
    },
    {
     "name": "stderr",
     "output_type": "stream",
     "text": [
      "Epoch 61: 100%|██████████| 1143/1143 [02:34<00:00,  7.39it/s, batch_loss=0.857]\n",
      "Evaluating: 100%|██████████| 77/77 [00:03<00:00, 22.25it/s]\n"
     ]
    },
    {
     "name": "stdout",
     "output_type": "stream",
     "text": [
      "Epoch 61/100 [hc=128, lr=0.01] --> Train Loss: 0.859047, Val Loss: 0.858644\n"
     ]
    },
    {
     "name": "stderr",
     "output_type": "stream",
     "text": [
      "Epoch 62: 100%|██████████| 1143/1143 [02:34<00:00,  7.39it/s, batch_loss=0.859]\n",
      "Evaluating: 100%|██████████| 77/77 [00:03<00:00, 22.24it/s]\n"
     ]
    },
    {
     "name": "stdout",
     "output_type": "stream",
     "text": [
      "Epoch 62/100 [hc=128, lr=0.01] --> Train Loss: 0.859013, Val Loss: 0.858722\n"
     ]
    },
    {
     "name": "stderr",
     "output_type": "stream",
     "text": [
      "Epoch 63: 100%|██████████| 1143/1143 [02:34<00:00,  7.40it/s, batch_loss=0.845]\n",
      "Evaluating: 100%|██████████| 77/77 [00:03<00:00, 22.26it/s]\n"
     ]
    },
    {
     "name": "stdout",
     "output_type": "stream",
     "text": [
      "Epoch 63/100 [hc=128, lr=0.01] --> Train Loss: 0.859044, Val Loss: 0.858684\n"
     ]
    },
    {
     "name": "stderr",
     "output_type": "stream",
     "text": [
      "Epoch 64: 100%|██████████| 1143/1143 [02:34<00:00,  7.40it/s, batch_loss=0.882]\n",
      "Evaluating: 100%|██████████| 77/77 [00:03<00:00, 22.28it/s]\n"
     ]
    },
    {
     "name": "stdout",
     "output_type": "stream",
     "text": [
      "Epoch 64/100 [hc=128, lr=0.01] --> Train Loss: 0.859057, Val Loss: 0.858564\n"
     ]
    },
    {
     "name": "stderr",
     "output_type": "stream",
     "text": [
      "Epoch 65: 100%|██████████| 1143/1143 [02:34<00:00,  7.39it/s, batch_loss=0.894]\n",
      "Evaluating: 100%|██████████| 77/77 [00:03<00:00, 22.25it/s]\n"
     ]
    },
    {
     "name": "stdout",
     "output_type": "stream",
     "text": [
      "Epoch 65/100 [hc=128, lr=0.01] --> Train Loss: 0.859042, Val Loss: 0.858665\n"
     ]
    },
    {
     "name": "stderr",
     "output_type": "stream",
     "text": [
      "Epoch 66: 100%|██████████| 1143/1143 [02:34<00:00,  7.40it/s, batch_loss=0.859]\n",
      "Evaluating: 100%|██████████| 77/77 [00:03<00:00, 22.29it/s]\n"
     ]
    },
    {
     "name": "stdout",
     "output_type": "stream",
     "text": [
      "Epoch 66/100 [hc=128, lr=0.01] --> Train Loss: 0.859023, Val Loss: 0.858780\n"
     ]
    },
    {
     "name": "stderr",
     "output_type": "stream",
     "text": [
      "Epoch 67: 100%|██████████| 1143/1143 [02:34<00:00,  7.39it/s, batch_loss=0.864]\n",
      "Evaluating: 100%|██████████| 77/77 [00:03<00:00, 22.25it/s]\n"
     ]
    },
    {
     "name": "stdout",
     "output_type": "stream",
     "text": [
      "Epoch 67/100 [hc=128, lr=0.01] --> Train Loss: 0.859043, Val Loss: 0.858864\n"
     ]
    },
    {
     "name": "stderr",
     "output_type": "stream",
     "text": [
      "Epoch 68: 100%|██████████| 1143/1143 [02:34<00:00,  7.39it/s, batch_loss=0.828]\n",
      "Evaluating: 100%|██████████| 77/77 [00:03<00:00, 22.26it/s]\n"
     ]
    },
    {
     "name": "stdout",
     "output_type": "stream",
     "text": [
      "Epoch 68/100 [hc=128, lr=0.01] --> Train Loss: 0.859040, Val Loss: 0.858835\n"
     ]
    },
    {
     "name": "stderr",
     "output_type": "stream",
     "text": [
      "Epoch 69: 100%|██████████| 1143/1143 [02:34<00:00,  7.40it/s, batch_loss=0.841]\n",
      "Evaluating: 100%|██████████| 77/77 [00:03<00:00, 22.23it/s]\n"
     ]
    },
    {
     "name": "stdout",
     "output_type": "stream",
     "text": [
      "Epoch 69/100 [hc=128, lr=0.01] --> Train Loss: 0.859042, Val Loss: 0.858622\n"
     ]
    },
    {
     "name": "stderr",
     "output_type": "stream",
     "text": [
      "Epoch 70: 100%|██████████| 1143/1143 [02:34<00:00,  7.40it/s, batch_loss=0.89] \n",
      "Evaluating: 100%|██████████| 77/77 [00:03<00:00, 22.26it/s]\n"
     ]
    },
    {
     "name": "stdout",
     "output_type": "stream",
     "text": [
      "Epoch 70/100 [hc=128, lr=0.01] --> Train Loss: 0.859029, Val Loss: 0.859106\n"
     ]
    },
    {
     "name": "stderr",
     "output_type": "stream",
     "text": [
      "Epoch 71: 100%|██████████| 1143/1143 [02:34<00:00,  7.39it/s, batch_loss=0.892]\n",
      "Evaluating: 100%|██████████| 77/77 [00:03<00:00, 22.28it/s]\n"
     ]
    },
    {
     "name": "stdout",
     "output_type": "stream",
     "text": [
      "Epoch 71/100 [hc=128, lr=0.01] --> Train Loss: 0.859056, Val Loss: 0.858738\n"
     ]
    },
    {
     "name": "stderr",
     "output_type": "stream",
     "text": [
      "Epoch 72: 100%|██████████| 1143/1143 [02:34<00:00,  7.40it/s, batch_loss=0.862]\n",
      "Evaluating: 100%|██████████| 77/77 [00:03<00:00, 22.23it/s]\n"
     ]
    },
    {
     "name": "stdout",
     "output_type": "stream",
     "text": [
      "Epoch 72/100 [hc=128, lr=0.01] --> Train Loss: 0.859055, Val Loss: 0.858826\n"
     ]
    },
    {
     "name": "stderr",
     "output_type": "stream",
     "text": [
      "Epoch 73: 100%|██████████| 1143/1143 [02:34<00:00,  7.39it/s, batch_loss=0.878]\n",
      "Evaluating: 100%|██████████| 77/77 [00:03<00:00, 22.28it/s]\n"
     ]
    },
    {
     "name": "stdout",
     "output_type": "stream",
     "text": [
      "Epoch 73/100 [hc=128, lr=0.01] --> Train Loss: 0.859029, Val Loss: 0.858573\n"
     ]
    },
    {
     "name": "stderr",
     "output_type": "stream",
     "text": [
      "Epoch 74: 100%|██████████| 1143/1143 [02:34<00:00,  7.40it/s, batch_loss=0.854]\n",
      "Evaluating: 100%|██████████| 77/77 [00:03<00:00, 22.29it/s]\n"
     ]
    },
    {
     "name": "stdout",
     "output_type": "stream",
     "text": [
      "Epoch 74/100 [hc=128, lr=0.01] --> Train Loss: 0.859036, Val Loss: 0.858596\n"
     ]
    },
    {
     "name": "stderr",
     "output_type": "stream",
     "text": [
      "Epoch 75: 100%|██████████| 1143/1143 [02:34<00:00,  7.39it/s, batch_loss=0.847]\n",
      "Evaluating: 100%|██████████| 77/77 [00:03<00:00, 22.29it/s]\n"
     ]
    },
    {
     "name": "stdout",
     "output_type": "stream",
     "text": [
      "Epoch 75/100 [hc=128, lr=0.01] --> Train Loss: 0.859060, Val Loss: 0.858701\n"
     ]
    },
    {
     "name": "stderr",
     "output_type": "stream",
     "text": [
      "Epoch 76: 100%|██████████| 1143/1143 [02:34<00:00,  7.39it/s, batch_loss=0.856]\n",
      "Evaluating: 100%|██████████| 77/77 [00:03<00:00, 22.27it/s]\n"
     ]
    },
    {
     "name": "stdout",
     "output_type": "stream",
     "text": [
      "Epoch 76/100 [hc=128, lr=0.01] --> Train Loss: 0.859058, Val Loss: 0.858873\n"
     ]
    },
    {
     "name": "stderr",
     "output_type": "stream",
     "text": [
      "Epoch 77: 100%|██████████| 1143/1143 [02:34<00:00,  7.40it/s, batch_loss=0.866]\n",
      "Evaluating: 100%|██████████| 77/77 [00:03<00:00, 22.28it/s]\n"
     ]
    },
    {
     "name": "stdout",
     "output_type": "stream",
     "text": [
      "Epoch 77/100 [hc=128, lr=0.01] --> Train Loss: 0.859043, Val Loss: 0.858614\n"
     ]
    },
    {
     "name": "stderr",
     "output_type": "stream",
     "text": [
      "Epoch 78: 100%|██████████| 1143/1143 [02:34<00:00,  7.39it/s, batch_loss=0.848]\n",
      "Evaluating: 100%|██████████| 77/77 [00:03<00:00, 22.23it/s]\n"
     ]
    },
    {
     "name": "stdout",
     "output_type": "stream",
     "text": [
      "Epoch 78/100 [hc=128, lr=0.01] --> Train Loss: 0.859044, Val Loss: 0.858660\n"
     ]
    },
    {
     "name": "stderr",
     "output_type": "stream",
     "text": [
      "Epoch 79: 100%|██████████| 1143/1143 [02:34<00:00,  7.38it/s, batch_loss=0.846]\n",
      "Evaluating: 100%|██████████| 77/77 [00:03<00:00, 22.28it/s]\n"
     ]
    },
    {
     "name": "stdout",
     "output_type": "stream",
     "text": [
      "Epoch 79/100 [hc=128, lr=0.01] --> Train Loss: 0.859035, Val Loss: 0.858661\n"
     ]
    },
    {
     "name": "stderr",
     "output_type": "stream",
     "text": [
      "Epoch 80: 100%|██████████| 1143/1143 [02:34<00:00,  7.40it/s, batch_loss=0.845]\n",
      "Evaluating: 100%|██████████| 77/77 [00:03<00:00, 22.19it/s]\n"
     ]
    },
    {
     "name": "stdout",
     "output_type": "stream",
     "text": [
      "Epoch 80/100 [hc=128, lr=0.01] --> Train Loss: 0.859043, Val Loss: 0.858575\n"
     ]
    },
    {
     "name": "stderr",
     "output_type": "stream",
     "text": [
      "Epoch 81: 100%|██████████| 1143/1143 [02:34<00:00,  7.39it/s, batch_loss=0.856]\n",
      "Evaluating: 100%|██████████| 77/77 [00:03<00:00, 22.25it/s]\n"
     ]
    },
    {
     "name": "stdout",
     "output_type": "stream",
     "text": [
      "Epoch 81/100 [hc=128, lr=0.01] --> Train Loss: 0.859032, Val Loss: 0.858638\n"
     ]
    },
    {
     "name": "stderr",
     "output_type": "stream",
     "text": [
      "Epoch 82: 100%|██████████| 1143/1143 [02:34<00:00,  7.39it/s, batch_loss=0.854]\n",
      "Evaluating: 100%|██████████| 77/77 [00:03<00:00, 22.26it/s]\n"
     ]
    },
    {
     "name": "stdout",
     "output_type": "stream",
     "text": [
      "Epoch 82/100 [hc=128, lr=0.01] --> Train Loss: 0.859053, Val Loss: 0.858607\n"
     ]
    },
    {
     "name": "stderr",
     "output_type": "stream",
     "text": [
      "Epoch 83: 100%|██████████| 1143/1143 [02:34<00:00,  7.40it/s, batch_loss=0.876]\n",
      "Evaluating: 100%|██████████| 77/77 [00:03<00:00, 22.24it/s]\n"
     ]
    },
    {
     "name": "stdout",
     "output_type": "stream",
     "text": [
      "Epoch 83/100 [hc=128, lr=0.01] --> Train Loss: 0.859047, Val Loss: 0.858794\n"
     ]
    },
    {
     "name": "stderr",
     "output_type": "stream",
     "text": [
      "Epoch 84: 100%|██████████| 1143/1143 [02:34<00:00,  7.39it/s, batch_loss=0.858]\n",
      "Evaluating: 100%|██████████| 77/77 [00:03<00:00, 22.28it/s]\n"
     ]
    },
    {
     "name": "stdout",
     "output_type": "stream",
     "text": [
      "Epoch 84/100 [hc=128, lr=0.01] --> Train Loss: 0.859053, Val Loss: 0.858642\n"
     ]
    },
    {
     "name": "stderr",
     "output_type": "stream",
     "text": [
      "Epoch 85: 100%|██████████| 1143/1143 [02:34<00:00,  7.39it/s, batch_loss=0.876]\n",
      "Evaluating: 100%|██████████| 77/77 [00:03<00:00, 22.25it/s]\n"
     ]
    },
    {
     "name": "stdout",
     "output_type": "stream",
     "text": [
      "Epoch 85/100 [hc=128, lr=0.01] --> Train Loss: 0.859058, Val Loss: 0.858583\n"
     ]
    },
    {
     "name": "stderr",
     "output_type": "stream",
     "text": [
      "Epoch 86: 100%|██████████| 1143/1143 [02:34<00:00,  7.40it/s, batch_loss=0.882]\n",
      "Evaluating: 100%|██████████| 77/77 [00:03<00:00, 22.25it/s]\n"
     ]
    },
    {
     "name": "stdout",
     "output_type": "stream",
     "text": [
      "Epoch 86/100 [hc=128, lr=0.01] --> Train Loss: 0.859061, Val Loss: 0.858603\n"
     ]
    },
    {
     "name": "stderr",
     "output_type": "stream",
     "text": [
      "Epoch 87: 100%|██████████| 1143/1143 [02:34<00:00,  7.39it/s, batch_loss=0.837]\n",
      "Evaluating: 100%|██████████| 77/77 [00:03<00:00, 22.24it/s]\n"
     ]
    },
    {
     "name": "stdout",
     "output_type": "stream",
     "text": [
      "Epoch 87/100 [hc=128, lr=0.01] --> Train Loss: 0.859041, Val Loss: 0.858601\n"
     ]
    },
    {
     "name": "stderr",
     "output_type": "stream",
     "text": [
      "Epoch 88: 100%|██████████| 1143/1143 [02:34<00:00,  7.40it/s, batch_loss=0.853]\n",
      "Evaluating: 100%|██████████| 77/77 [00:03<00:00, 21.41it/s]\n"
     ]
    },
    {
     "name": "stdout",
     "output_type": "stream",
     "text": [
      "Epoch 88/100 [hc=128, lr=0.01] --> Train Loss: 0.859058, Val Loss: 0.858771\n"
     ]
    },
    {
     "name": "stderr",
     "output_type": "stream",
     "text": [
      "Epoch 89: 100%|██████████| 1143/1143 [02:34<00:00,  7.40it/s, batch_loss=0.859]\n",
      "Evaluating: 100%|██████████| 77/77 [00:03<00:00, 22.24it/s]\n"
     ]
    },
    {
     "name": "stdout",
     "output_type": "stream",
     "text": [
      "Epoch 89/100 [hc=128, lr=0.01] --> Train Loss: 0.859054, Val Loss: 0.858574\n"
     ]
    },
    {
     "name": "stderr",
     "output_type": "stream",
     "text": [
      "Epoch 90: 100%|██████████| 1143/1143 [02:34<00:00,  7.39it/s, batch_loss=0.845]\n",
      "Evaluating: 100%|██████████| 77/77 [00:03<00:00, 21.48it/s]\n"
     ]
    },
    {
     "name": "stdout",
     "output_type": "stream",
     "text": [
      "Epoch 90/100 [hc=128, lr=0.01] --> Train Loss: 0.859041, Val Loss: 0.858703\n"
     ]
    },
    {
     "name": "stderr",
     "output_type": "stream",
     "text": [
      "Epoch 91: 100%|██████████| 1143/1143 [02:34<00:00,  7.40it/s, batch_loss=0.875]\n",
      "Evaluating: 100%|██████████| 77/77 [00:03<00:00, 22.24it/s]\n"
     ]
    },
    {
     "name": "stdout",
     "output_type": "stream",
     "text": [
      "Epoch 91/100 [hc=128, lr=0.01] --> Train Loss: 0.859045, Val Loss: 0.858674\n"
     ]
    },
    {
     "name": "stderr",
     "output_type": "stream",
     "text": [
      "Epoch 92: 100%|██████████| 1143/1143 [02:34<00:00,  7.39it/s, batch_loss=0.882]\n",
      "Evaluating: 100%|██████████| 77/77 [00:03<00:00, 22.25it/s]\n"
     ]
    },
    {
     "name": "stdout",
     "output_type": "stream",
     "text": [
      "Epoch 92/100 [hc=128, lr=0.01] --> Train Loss: 0.859049, Val Loss: 0.858603\n"
     ]
    },
    {
     "name": "stderr",
     "output_type": "stream",
     "text": [
      "Epoch 93: 100%|██████████| 1143/1143 [02:34<00:00,  7.39it/s, batch_loss=0.855]\n",
      "Evaluating: 100%|██████████| 77/77 [00:03<00:00, 22.26it/s]\n"
     ]
    },
    {
     "name": "stdout",
     "output_type": "stream",
     "text": [
      "Epoch 93/100 [hc=128, lr=0.01] --> Train Loss: 0.859068, Val Loss: 0.858778\n"
     ]
    },
    {
     "name": "stderr",
     "output_type": "stream",
     "text": [
      "Epoch 94: 100%|██████████| 1143/1143 [02:34<00:00,  7.40it/s, batch_loss=0.875]\n",
      "Evaluating: 100%|██████████| 77/77 [00:03<00:00, 22.19it/s]\n"
     ]
    },
    {
     "name": "stdout",
     "output_type": "stream",
     "text": [
      "Epoch 94/100 [hc=128, lr=0.01] --> Train Loss: 0.859047, Val Loss: 0.858775\n"
     ]
    },
    {
     "name": "stderr",
     "output_type": "stream",
     "text": [
      "Epoch 95: 100%|██████████| 1143/1143 [02:34<00:00,  7.39it/s, batch_loss=0.863]\n",
      "Evaluating: 100%|██████████| 77/77 [00:03<00:00, 22.17it/s]\n"
     ]
    },
    {
     "name": "stdout",
     "output_type": "stream",
     "text": [
      "Epoch 95/100 [hc=128, lr=0.01] --> Train Loss: 0.859066, Val Loss: 0.858584\n"
     ]
    },
    {
     "name": "stderr",
     "output_type": "stream",
     "text": [
      "Epoch 96: 100%|██████████| 1143/1143 [02:34<00:00,  7.39it/s, batch_loss=0.896]\n",
      "Evaluating: 100%|██████████| 77/77 [00:03<00:00, 22.23it/s]\n"
     ]
    },
    {
     "name": "stdout",
     "output_type": "stream",
     "text": [
      "Epoch 96/100 [hc=128, lr=0.01] --> Train Loss: 0.859048, Val Loss: 0.858680\n"
     ]
    },
    {
     "name": "stderr",
     "output_type": "stream",
     "text": [
      "Epoch 97: 100%|██████████| 1143/1143 [02:34<00:00,  7.40it/s, batch_loss=0.882]\n",
      "Evaluating: 100%|██████████| 77/77 [00:03<00:00, 22.25it/s]\n"
     ]
    },
    {
     "name": "stdout",
     "output_type": "stream",
     "text": [
      "Epoch 97/100 [hc=128, lr=0.01] --> Train Loss: 0.859055, Val Loss: 0.858629\n"
     ]
    },
    {
     "name": "stderr",
     "output_type": "stream",
     "text": [
      "Epoch 98: 100%|██████████| 1143/1143 [02:34<00:00,  7.39it/s, batch_loss=0.845]\n",
      "Evaluating: 100%|██████████| 77/77 [00:03<00:00, 22.22it/s]\n"
     ]
    },
    {
     "name": "stdout",
     "output_type": "stream",
     "text": [
      "Epoch 98/100 [hc=128, lr=0.01] --> Train Loss: 0.859058, Val Loss: 0.858656\n"
     ]
    },
    {
     "name": "stderr",
     "output_type": "stream",
     "text": [
      "Epoch 99: 100%|██████████| 1143/1143 [02:34<00:00,  7.39it/s, batch_loss=0.871]\n",
      "Evaluating: 100%|██████████| 77/77 [00:03<00:00, 22.23it/s]\n"
     ]
    },
    {
     "name": "stdout",
     "output_type": "stream",
     "text": [
      "Epoch 99/100 [hc=128, lr=0.01] --> Train Loss: 0.859029, Val Loss: 0.858946\n"
     ]
    },
    {
     "name": "stderr",
     "output_type": "stream",
     "text": [
      "Epoch 100: 100%|██████████| 1143/1143 [02:34<00:00,  7.40it/s, batch_loss=0.854]\n",
      "Evaluating: 100%|██████████| 77/77 [00:03<00:00, 22.25it/s]\n"
     ]
    },
    {
     "name": "stdout",
     "output_type": "stream",
     "text": [
      "Epoch 100/100 [hc=128, lr=0.01] --> Train Loss: 0.859029, Val Loss: 0.858803\n"
     ]
    },
    {
     "name": "stderr",
     "output_type": "stream",
     "text": [
      "Epoch 1: 100%|██████████| 1143/1143 [06:03<00:00,  3.14it/s, batch_loss=0.181]\n",
      "Evaluating: 100%|██████████| 77/77 [00:07<00:00, 10.76it/s]\n"
     ]
    },
    {
     "name": "stdout",
     "output_type": "stream",
     "text": [
      "Epoch 1/100 [hc=256, lr=0.001] --> Train Loss: 0.221771, Val Loss: 0.179795\n"
     ]
    },
    {
     "name": "stderr",
     "output_type": "stream",
     "text": [
      "Epoch 2: 100%|██████████| 1143/1143 [06:03<00:00,  3.14it/s, batch_loss=0.201]\n",
      "Evaluating: 100%|██████████| 77/77 [00:07<00:00, 10.75it/s]\n"
     ]
    },
    {
     "name": "stdout",
     "output_type": "stream",
     "text": [
      "Epoch 2/100 [hc=256, lr=0.001] --> Train Loss: 0.168272, Val Loss: 0.166101\n"
     ]
    },
    {
     "name": "stderr",
     "output_type": "stream",
     "text": [
      "Epoch 3: 100%|██████████| 1143/1143 [06:03<00:00,  3.14it/s, batch_loss=0.116]\n",
      "Evaluating: 100%|██████████| 77/77 [00:07<00:00, 10.74it/s]\n"
     ]
    },
    {
     "name": "stdout",
     "output_type": "stream",
     "text": [
      "Epoch 3/100 [hc=256, lr=0.001] --> Train Loss: 0.159910, Val Loss: 0.158227\n"
     ]
    },
    {
     "name": "stderr",
     "output_type": "stream",
     "text": [
      "Epoch 4: 100%|██████████| 1143/1143 [06:03<00:00,  3.14it/s, batch_loss=0.116]\n",
      "Evaluating: 100%|██████████| 77/77 [00:07<00:00, 10.75it/s]\n"
     ]
    },
    {
     "name": "stdout",
     "output_type": "stream",
     "text": [
      "Epoch 4/100 [hc=256, lr=0.001] --> Train Loss: 0.152792, Val Loss: 0.156824\n"
     ]
    },
    {
     "name": "stderr",
     "output_type": "stream",
     "text": [
      "Epoch 5: 100%|██████████| 1143/1143 [06:03<00:00,  3.14it/s, batch_loss=0.156]\n",
      "Evaluating: 100%|██████████| 77/77 [00:07<00:00, 10.75it/s]\n"
     ]
    },
    {
     "name": "stdout",
     "output_type": "stream",
     "text": [
      "Epoch 5/100 [hc=256, lr=0.001] --> Train Loss: 0.145142, Val Loss: 0.151023\n"
     ]
    },
    {
     "name": "stderr",
     "output_type": "stream",
     "text": [
      "Epoch 6: 100%|██████████| 1143/1143 [06:03<00:00,  3.14it/s, batch_loss=0.177]\n",
      "Evaluating: 100%|██████████| 77/77 [00:07<00:00, 10.75it/s]\n"
     ]
    },
    {
     "name": "stdout",
     "output_type": "stream",
     "text": [
      "Epoch 6/100 [hc=256, lr=0.001] --> Train Loss: 0.136430, Val Loss: 0.148938\n"
     ]
    },
    {
     "name": "stderr",
     "output_type": "stream",
     "text": [
      "Epoch 7: 100%|██████████| 1143/1143 [06:03<00:00,  3.14it/s, batch_loss=0.122]\n",
      "Evaluating: 100%|██████████| 77/77 [00:07<00:00, 10.75it/s]\n"
     ]
    },
    {
     "name": "stdout",
     "output_type": "stream",
     "text": [
      "Epoch 7/100 [hc=256, lr=0.001] --> Train Loss: 0.128241, Val Loss: 0.144619\n"
     ]
    },
    {
     "name": "stderr",
     "output_type": "stream",
     "text": [
      "Epoch 8: 100%|██████████| 1143/1143 [06:03<00:00,  3.14it/s, batch_loss=0.136] \n",
      "Evaluating: 100%|██████████| 77/77 [00:07<00:00, 10.75it/s]\n"
     ]
    },
    {
     "name": "stdout",
     "output_type": "stream",
     "text": [
      "Epoch 8/100 [hc=256, lr=0.001] --> Train Loss: 0.119456, Val Loss: 0.143087\n"
     ]
    },
    {
     "name": "stderr",
     "output_type": "stream",
     "text": [
      "Epoch 9: 100%|██████████| 1143/1143 [06:03<00:00,  3.14it/s, batch_loss=0.106] \n",
      "Evaluating: 100%|██████████| 77/77 [00:07<00:00, 10.73it/s]\n"
     ]
    },
    {
     "name": "stdout",
     "output_type": "stream",
     "text": [
      "Epoch 9/100 [hc=256, lr=0.001] --> Train Loss: 0.111558, Val Loss: 0.141435\n"
     ]
    },
    {
     "name": "stderr",
     "output_type": "stream",
     "text": [
      "Epoch 10: 100%|██████████| 1143/1143 [06:03<00:00,  3.14it/s, batch_loss=0.0814]\n",
      "Evaluating: 100%|██████████| 77/77 [00:07<00:00, 10.75it/s]\n"
     ]
    },
    {
     "name": "stdout",
     "output_type": "stream",
     "text": [
      "Epoch 10/100 [hc=256, lr=0.001] --> Train Loss: 0.103670, Val Loss: 0.144900\n"
     ]
    },
    {
     "name": "stderr",
     "output_type": "stream",
     "text": [
      "Epoch 11: 100%|██████████| 1143/1143 [06:03<00:00,  3.14it/s, batch_loss=0.133] \n",
      "Evaluating: 100%|██████████| 77/77 [00:07<00:00, 10.74it/s]\n"
     ]
    },
    {
     "name": "stdout",
     "output_type": "stream",
     "text": [
      "Epoch 11/100 [hc=256, lr=0.001] --> Train Loss: 0.095258, Val Loss: 0.139333\n"
     ]
    },
    {
     "name": "stderr",
     "output_type": "stream",
     "text": [
      "Epoch 12: 100%|██████████| 1143/1143 [06:03<00:00,  3.14it/s, batch_loss=0.114] \n",
      "Evaluating: 100%|██████████| 77/77 [00:07<00:00, 10.74it/s]\n"
     ]
    },
    {
     "name": "stdout",
     "output_type": "stream",
     "text": [
      "Epoch 12/100 [hc=256, lr=0.001] --> Train Loss: 0.087286, Val Loss: 0.143964\n"
     ]
    },
    {
     "name": "stderr",
     "output_type": "stream",
     "text": [
      "Epoch 13: 100%|██████████| 1143/1143 [06:03<00:00,  3.15it/s, batch_loss=0.0749]\n",
      "Evaluating: 100%|██████████| 77/77 [00:07<00:00, 10.75it/s]\n"
     ]
    },
    {
     "name": "stdout",
     "output_type": "stream",
     "text": [
      "Epoch 13/100 [hc=256, lr=0.001] --> Train Loss: 0.080158, Val Loss: 0.141113\n"
     ]
    },
    {
     "name": "stderr",
     "output_type": "stream",
     "text": [
      "Epoch 14: 100%|██████████| 1143/1143 [06:03<00:00,  3.15it/s, batch_loss=0.0761]\n",
      "Evaluating: 100%|██████████| 77/77 [00:07<00:00, 10.74it/s]\n"
     ]
    },
    {
     "name": "stdout",
     "output_type": "stream",
     "text": [
      "Epoch 14/100 [hc=256, lr=0.001] --> Train Loss: 0.074488, Val Loss: 0.142347\n"
     ]
    },
    {
     "name": "stderr",
     "output_type": "stream",
     "text": [
      "Epoch 15: 100%|██████████| 1143/1143 [06:03<00:00,  3.15it/s, batch_loss=0.126] \n",
      "Evaluating: 100%|██████████| 77/77 [00:07<00:00, 10.75it/s]\n"
     ]
    },
    {
     "name": "stdout",
     "output_type": "stream",
     "text": [
      "Epoch 15/100 [hc=256, lr=0.001] --> Train Loss: 0.070018, Val Loss: 0.145592\n"
     ]
    },
    {
     "name": "stderr",
     "output_type": "stream",
     "text": [
      "Epoch 16: 100%|██████████| 1143/1143 [06:03<00:00,  3.15it/s, batch_loss=0.0837]\n",
      "Evaluating: 100%|██████████| 77/77 [00:07<00:00, 10.48it/s]\n"
     ]
    },
    {
     "name": "stdout",
     "output_type": "stream",
     "text": [
      "Epoch 16/100 [hc=256, lr=0.001] --> Train Loss: 0.065931, Val Loss: 0.146056\n"
     ]
    },
    {
     "name": "stderr",
     "output_type": "stream",
     "text": [
      "Epoch 17: 100%|██████████| 1143/1143 [06:03<00:00,  3.15it/s, batch_loss=0.0587]\n",
      "Evaluating: 100%|██████████| 77/77 [00:07<00:00, 10.73it/s]\n"
     ]
    },
    {
     "name": "stdout",
     "output_type": "stream",
     "text": [
      "Epoch 17/100 [hc=256, lr=0.001] --> Train Loss: 0.062303, Val Loss: 0.153218\n"
     ]
    },
    {
     "name": "stderr",
     "output_type": "stream",
     "text": [
      "Epoch 18: 100%|██████████| 1143/1143 [06:03<00:00,  3.15it/s, batch_loss=0.0585]\n",
      "Evaluating: 100%|██████████| 77/77 [00:07<00:00, 10.73it/s]\n"
     ]
    },
    {
     "name": "stdout",
     "output_type": "stream",
     "text": [
      "Epoch 18/100 [hc=256, lr=0.001] --> Train Loss: 0.058921, Val Loss: 0.153115\n"
     ]
    },
    {
     "name": "stderr",
     "output_type": "stream",
     "text": [
      "Epoch 19: 100%|██████████| 1143/1143 [06:03<00:00,  3.15it/s, batch_loss=0.0797]\n",
      "Evaluating: 100%|██████████| 77/77 [00:07<00:00, 10.74it/s]\n"
     ]
    },
    {
     "name": "stdout",
     "output_type": "stream",
     "text": [
      "Epoch 19/100 [hc=256, lr=0.001] --> Train Loss: 0.055795, Val Loss: 0.156800\n"
     ]
    },
    {
     "name": "stderr",
     "output_type": "stream",
     "text": [
      "Epoch 20: 100%|██████████| 1143/1143 [06:03<00:00,  3.14it/s, batch_loss=0.053] \n",
      "Evaluating: 100%|██████████| 77/77 [00:07<00:00, 10.74it/s]\n"
     ]
    },
    {
     "name": "stdout",
     "output_type": "stream",
     "text": [
      "Epoch 20/100 [hc=256, lr=0.001] --> Train Loss: 0.052727, Val Loss: 0.159657\n"
     ]
    },
    {
     "name": "stderr",
     "output_type": "stream",
     "text": [
      "Epoch 21: 100%|██████████| 1143/1143 [06:03<00:00,  3.15it/s, batch_loss=0.0336]\n",
      "Evaluating: 100%|██████████| 77/77 [00:07<00:00, 10.74it/s]\n"
     ]
    },
    {
     "name": "stdout",
     "output_type": "stream",
     "text": [
      "Epoch 21/100 [hc=256, lr=0.001] --> Train Loss: 0.049604, Val Loss: 0.164131\n"
     ]
    },
    {
     "name": "stderr",
     "output_type": "stream",
     "text": [
      "Epoch 22: 100%|██████████| 1143/1143 [06:03<00:00,  3.15it/s, batch_loss=0.0487]\n",
      "Evaluating: 100%|██████████| 77/77 [00:07<00:00, 10.75it/s]\n"
     ]
    },
    {
     "name": "stdout",
     "output_type": "stream",
     "text": [
      "Epoch 22/100 [hc=256, lr=0.001] --> Train Loss: 0.047417, Val Loss: 0.167375\n"
     ]
    },
    {
     "name": "stderr",
     "output_type": "stream",
     "text": [
      "Epoch 23: 100%|██████████| 1143/1143 [06:03<00:00,  3.14it/s, batch_loss=0.047] \n",
      "Evaluating: 100%|██████████| 77/77 [00:07<00:00, 10.74it/s]\n"
     ]
    },
    {
     "name": "stdout",
     "output_type": "stream",
     "text": [
      "Epoch 23/100 [hc=256, lr=0.001] --> Train Loss: 0.044500, Val Loss: 0.171615\n"
     ]
    },
    {
     "name": "stderr",
     "output_type": "stream",
     "text": [
      "Epoch 24: 100%|██████████| 1143/1143 [06:03<00:00,  3.14it/s, batch_loss=0.0413]\n",
      "Evaluating: 100%|██████████| 77/77 [00:07<00:00, 10.75it/s]\n"
     ]
    },
    {
     "name": "stdout",
     "output_type": "stream",
     "text": [
      "Epoch 24/100 [hc=256, lr=0.001] --> Train Loss: 0.042501, Val Loss: 0.179506\n"
     ]
    },
    {
     "name": "stderr",
     "output_type": "stream",
     "text": [
      "Epoch 25: 100%|██████████| 1143/1143 [06:03<00:00,  3.15it/s, batch_loss=0.0503]\n",
      "Evaluating: 100%|██████████| 77/77 [00:07<00:00, 10.75it/s]\n"
     ]
    },
    {
     "name": "stdout",
     "output_type": "stream",
     "text": [
      "Epoch 25/100 [hc=256, lr=0.001] --> Train Loss: 0.040159, Val Loss: 0.184307\n"
     ]
    },
    {
     "name": "stderr",
     "output_type": "stream",
     "text": [
      "Epoch 26: 100%|██████████| 1143/1143 [06:03<00:00,  3.15it/s, batch_loss=0.022] \n",
      "Evaluating: 100%|██████████| 77/77 [00:07<00:00, 10.73it/s]\n"
     ]
    },
    {
     "name": "stdout",
     "output_type": "stream",
     "text": [
      "Epoch 26/100 [hc=256, lr=0.001] --> Train Loss: 0.038403, Val Loss: 0.190724\n"
     ]
    },
    {
     "name": "stderr",
     "output_type": "stream",
     "text": [
      "Epoch 27: 100%|██████████| 1143/1143 [06:03<00:00,  3.15it/s, batch_loss=0.0342]\n",
      "Evaluating: 100%|██████████| 77/77 [00:07<00:00, 10.76it/s]\n"
     ]
    },
    {
     "name": "stdout",
     "output_type": "stream",
     "text": [
      "Epoch 27/100 [hc=256, lr=0.001] --> Train Loss: 0.036984, Val Loss: 0.185563\n"
     ]
    },
    {
     "name": "stderr",
     "output_type": "stream",
     "text": [
      "Epoch 28: 100%|██████████| 1143/1143 [06:03<00:00,  3.15it/s, batch_loss=0.0324]\n",
      "Evaluating: 100%|██████████| 77/77 [00:07<00:00, 10.74it/s]\n"
     ]
    },
    {
     "name": "stdout",
     "output_type": "stream",
     "text": [
      "Epoch 28/100 [hc=256, lr=0.001] --> Train Loss: 0.035715, Val Loss: 0.194872\n"
     ]
    },
    {
     "name": "stderr",
     "output_type": "stream",
     "text": [
      "Epoch 29: 100%|██████████| 1143/1143 [06:03<00:00,  3.15it/s, batch_loss=0.0241]\n",
      "Evaluating: 100%|██████████| 77/77 [00:07<00:00, 10.74it/s]\n"
     ]
    },
    {
     "name": "stdout",
     "output_type": "stream",
     "text": [
      "Epoch 29/100 [hc=256, lr=0.001] --> Train Loss: 0.034266, Val Loss: 0.196440\n"
     ]
    },
    {
     "name": "stderr",
     "output_type": "stream",
     "text": [
      "Epoch 30: 100%|██████████| 1143/1143 [06:03<00:00,  3.15it/s, batch_loss=0.0247]\n",
      "Evaluating: 100%|██████████| 77/77 [00:07<00:00, 10.76it/s]\n"
     ]
    },
    {
     "name": "stdout",
     "output_type": "stream",
     "text": [
      "Epoch 30/100 [hc=256, lr=0.001] --> Train Loss: 0.033281, Val Loss: 0.201445\n"
     ]
    },
    {
     "name": "stderr",
     "output_type": "stream",
     "text": [
      "Epoch 31: 100%|██████████| 1143/1143 [06:03<00:00,  3.15it/s, batch_loss=0.0309]\n",
      "Evaluating: 100%|██████████| 77/77 [00:07<00:00, 10.75it/s]\n"
     ]
    },
    {
     "name": "stdout",
     "output_type": "stream",
     "text": [
      "Epoch 31/100 [hc=256, lr=0.001] --> Train Loss: 0.032462, Val Loss: 0.201051\n"
     ]
    },
    {
     "name": "stderr",
     "output_type": "stream",
     "text": [
      "Epoch 32: 100%|██████████| 1143/1143 [06:03<00:00,  3.15it/s, batch_loss=0.0292]\n",
      "Evaluating: 100%|██████████| 77/77 [00:07<00:00, 10.75it/s]\n"
     ]
    },
    {
     "name": "stdout",
     "output_type": "stream",
     "text": [
      "Epoch 32/100 [hc=256, lr=0.001] --> Train Loss: 0.031868, Val Loss: 0.203034\n"
     ]
    },
    {
     "name": "stderr",
     "output_type": "stream",
     "text": [
      "Epoch 33: 100%|██████████| 1143/1143 [06:03<00:00,  3.15it/s, batch_loss=0.0269]\n",
      "Evaluating: 100%|██████████| 77/77 [00:07<00:00, 10.74it/s]\n"
     ]
    },
    {
     "name": "stdout",
     "output_type": "stream",
     "text": [
      "Epoch 33/100 [hc=256, lr=0.001] --> Train Loss: 0.031461, Val Loss: 0.196135\n"
     ]
    },
    {
     "name": "stderr",
     "output_type": "stream",
     "text": [
      "Epoch 34: 100%|██████████| 1143/1143 [06:03<00:00,  3.15it/s, batch_loss=0.0389]\n",
      "Evaluating: 100%|██████████| 77/77 [00:07<00:00, 10.74it/s]\n"
     ]
    },
    {
     "name": "stdout",
     "output_type": "stream",
     "text": [
      "Epoch 34/100 [hc=256, lr=0.001] --> Train Loss: 0.030619, Val Loss: 0.199887\n"
     ]
    },
    {
     "name": "stderr",
     "output_type": "stream",
     "text": [
      "Epoch 35: 100%|██████████| 1143/1143 [06:03<00:00,  3.15it/s, batch_loss=0.0471]\n",
      "Evaluating: 100%|██████████| 77/77 [00:07<00:00, 10.72it/s]\n"
     ]
    },
    {
     "name": "stdout",
     "output_type": "stream",
     "text": [
      "Epoch 35/100 [hc=256, lr=0.001] --> Train Loss: 0.029662, Val Loss: 0.191639\n"
     ]
    },
    {
     "name": "stderr",
     "output_type": "stream",
     "text": [
      "Epoch 36: 100%|██████████| 1143/1143 [06:03<00:00,  3.15it/s, batch_loss=0.0343]\n",
      "Evaluating: 100%|██████████| 77/77 [00:07<00:00, 10.75it/s]\n"
     ]
    },
    {
     "name": "stdout",
     "output_type": "stream",
     "text": [
      "Epoch 36/100 [hc=256, lr=0.001] --> Train Loss: 0.029856, Val Loss: 0.207547\n"
     ]
    },
    {
     "name": "stderr",
     "output_type": "stream",
     "text": [
      "Epoch 37: 100%|██████████| 1143/1143 [06:03<00:00,  3.15it/s, batch_loss=0.0192]\n",
      "Evaluating: 100%|██████████| 77/77 [00:07<00:00, 10.75it/s]\n"
     ]
    },
    {
     "name": "stdout",
     "output_type": "stream",
     "text": [
      "Epoch 37/100 [hc=256, lr=0.001] --> Train Loss: 0.029176, Val Loss: 0.204500\n"
     ]
    },
    {
     "name": "stderr",
     "output_type": "stream",
     "text": [
      "Epoch 38: 100%|██████████| 1143/1143 [06:03<00:00,  3.15it/s, batch_loss=0.0375]\n",
      "Evaluating: 100%|██████████| 77/77 [00:07<00:00, 10.74it/s]\n"
     ]
    },
    {
     "name": "stdout",
     "output_type": "stream",
     "text": [
      "Epoch 38/100 [hc=256, lr=0.001] --> Train Loss: 0.028483, Val Loss: 0.199897\n"
     ]
    },
    {
     "name": "stderr",
     "output_type": "stream",
     "text": [
      "Epoch 39: 100%|██████████| 1143/1143 [06:03<00:00,  3.15it/s, batch_loss=0.0319]\n",
      "Evaluating: 100%|██████████| 77/77 [00:07<00:00, 10.75it/s]\n"
     ]
    },
    {
     "name": "stdout",
     "output_type": "stream",
     "text": [
      "Epoch 39/100 [hc=256, lr=0.001] --> Train Loss: 0.028203, Val Loss: 0.196922\n"
     ]
    },
    {
     "name": "stderr",
     "output_type": "stream",
     "text": [
      "Epoch 40: 100%|██████████| 1143/1143 [06:03<00:00,  3.14it/s, batch_loss=0.0236]\n",
      "Evaluating: 100%|██████████| 77/77 [00:07<00:00, 10.73it/s]\n"
     ]
    },
    {
     "name": "stdout",
     "output_type": "stream",
     "text": [
      "Epoch 40/100 [hc=256, lr=0.001] --> Train Loss: 0.028392, Val Loss: 0.206635\n"
     ]
    },
    {
     "name": "stderr",
     "output_type": "stream",
     "text": [
      "Epoch 41: 100%|██████████| 1143/1143 [06:03<00:00,  3.15it/s, batch_loss=0.0418]\n",
      "Evaluating: 100%|██████████| 77/77 [00:07<00:00, 10.53it/s]\n"
     ]
    },
    {
     "name": "stdout",
     "output_type": "stream",
     "text": [
      "Epoch 41/100 [hc=256, lr=0.001] --> Train Loss: 0.028172, Val Loss: 0.203668\n"
     ]
    },
    {
     "name": "stderr",
     "output_type": "stream",
     "text": [
      "Epoch 42: 100%|██████████| 1143/1143 [06:03<00:00,  3.15it/s, batch_loss=0.0181]\n",
      "Evaluating: 100%|██████████| 77/77 [00:07<00:00, 10.74it/s]\n"
     ]
    },
    {
     "name": "stdout",
     "output_type": "stream",
     "text": [
      "Epoch 42/100 [hc=256, lr=0.001] --> Train Loss: 0.027145, Val Loss: 0.201138\n"
     ]
    },
    {
     "name": "stderr",
     "output_type": "stream",
     "text": [
      "Epoch 43: 100%|██████████| 1143/1143 [06:03<00:00,  3.14it/s, batch_loss=0.0303]\n",
      "Evaluating: 100%|██████████| 77/77 [00:07<00:00, 10.75it/s]\n"
     ]
    },
    {
     "name": "stdout",
     "output_type": "stream",
     "text": [
      "Epoch 43/100 [hc=256, lr=0.001] --> Train Loss: 0.026951, Val Loss: 0.201221\n"
     ]
    },
    {
     "name": "stderr",
     "output_type": "stream",
     "text": [
      "Epoch 44: 100%|██████████| 1143/1143 [06:03<00:00,  3.15it/s, batch_loss=0.0304]\n",
      "Evaluating: 100%|██████████| 77/77 [00:07<00:00, 10.74it/s]\n"
     ]
    },
    {
     "name": "stdout",
     "output_type": "stream",
     "text": [
      "Epoch 44/100 [hc=256, lr=0.001] --> Train Loss: 0.027139, Val Loss: 0.196007\n"
     ]
    },
    {
     "name": "stderr",
     "output_type": "stream",
     "text": [
      "Epoch 45: 100%|██████████| 1143/1143 [06:03<00:00,  3.14it/s, batch_loss=0.0378]\n",
      "Evaluating: 100%|██████████| 77/77 [00:07<00:00, 10.75it/s]\n"
     ]
    },
    {
     "name": "stdout",
     "output_type": "stream",
     "text": [
      "Epoch 45/100 [hc=256, lr=0.001] --> Train Loss: 0.026965, Val Loss: 0.205459\n"
     ]
    },
    {
     "name": "stderr",
     "output_type": "stream",
     "text": [
      "Epoch 46: 100%|██████████| 1143/1143 [06:03<00:00,  3.15it/s, batch_loss=0.041] \n",
      "Evaluating: 100%|██████████| 77/77 [00:07<00:00, 10.73it/s]\n"
     ]
    },
    {
     "name": "stdout",
     "output_type": "stream",
     "text": [
      "Epoch 46/100 [hc=256, lr=0.001] --> Train Loss: 0.026706, Val Loss: 0.202863\n"
     ]
    },
    {
     "name": "stderr",
     "output_type": "stream",
     "text": [
      "Epoch 47: 100%|██████████| 1143/1143 [06:03<00:00,  3.15it/s, batch_loss=0.00988]\n",
      "Evaluating: 100%|██████████| 77/77 [00:07<00:00, 10.75it/s]\n"
     ]
    },
    {
     "name": "stdout",
     "output_type": "stream",
     "text": [
      "Epoch 47/100 [hc=256, lr=0.001] --> Train Loss: 0.026212, Val Loss: 0.199826\n"
     ]
    },
    {
     "name": "stderr",
     "output_type": "stream",
     "text": [
      "Epoch 48: 100%|██████████| 1143/1143 [06:03<00:00,  3.15it/s, batch_loss=0.0201]\n",
      "Evaluating: 100%|██████████| 77/77 [00:07<00:00, 10.74it/s]\n"
     ]
    },
    {
     "name": "stdout",
     "output_type": "stream",
     "text": [
      "Epoch 48/100 [hc=256, lr=0.001] --> Train Loss: 0.026245, Val Loss: 0.201661\n"
     ]
    },
    {
     "name": "stderr",
     "output_type": "stream",
     "text": [
      "Epoch 49: 100%|██████████| 1143/1143 [06:03<00:00,  3.15it/s, batch_loss=0.00915]\n",
      "Evaluating: 100%|██████████| 77/77 [00:07<00:00, 10.74it/s]\n"
     ]
    },
    {
     "name": "stdout",
     "output_type": "stream",
     "text": [
      "Epoch 49/100 [hc=256, lr=0.001] --> Train Loss: 0.025995, Val Loss: 0.203992\n"
     ]
    },
    {
     "name": "stderr",
     "output_type": "stream",
     "text": [
      "Epoch 50: 100%|██████████| 1143/1143 [06:03<00:00,  3.15it/s, batch_loss=0.0208]\n",
      "Evaluating: 100%|██████████| 77/77 [00:07<00:00, 10.73it/s]\n"
     ]
    },
    {
     "name": "stdout",
     "output_type": "stream",
     "text": [
      "Epoch 50/100 [hc=256, lr=0.001] --> Train Loss: 0.025854, Val Loss: 0.200073\n"
     ]
    },
    {
     "name": "stderr",
     "output_type": "stream",
     "text": [
      "Epoch 51: 100%|██████████| 1143/1143 [06:03<00:00,  3.15it/s, batch_loss=0.0287]\n",
      "Evaluating: 100%|██████████| 77/77 [00:07<00:00, 10.74it/s]\n"
     ]
    },
    {
     "name": "stdout",
     "output_type": "stream",
     "text": [
      "Epoch 51/100 [hc=256, lr=0.001] --> Train Loss: 0.025890, Val Loss: 0.202479\n"
     ]
    },
    {
     "name": "stderr",
     "output_type": "stream",
     "text": [
      "Epoch 52: 100%|██████████| 1143/1143 [06:03<00:00,  3.15it/s, batch_loss=0.0289]\n",
      "Evaluating: 100%|██████████| 77/77 [00:07<00:00, 10.75it/s]\n"
     ]
    },
    {
     "name": "stdout",
     "output_type": "stream",
     "text": [
      "Epoch 52/100 [hc=256, lr=0.001] --> Train Loss: 0.025481, Val Loss: 0.203873\n"
     ]
    },
    {
     "name": "stderr",
     "output_type": "stream",
     "text": [
      "Epoch 53: 100%|██████████| 1143/1143 [06:03<00:00,  3.15it/s, batch_loss=0.015] \n",
      "Evaluating: 100%|██████████| 77/77 [00:07<00:00, 10.74it/s]\n"
     ]
    },
    {
     "name": "stdout",
     "output_type": "stream",
     "text": [
      "Epoch 53/100 [hc=256, lr=0.001] --> Train Loss: 0.025589, Val Loss: 0.204052\n"
     ]
    },
    {
     "name": "stderr",
     "output_type": "stream",
     "text": [
      "Epoch 54: 100%|██████████| 1143/1143 [06:03<00:00,  3.15it/s, batch_loss=0.027] \n",
      "Evaluating: 100%|██████████| 77/77 [00:07<00:00, 10.75it/s]\n"
     ]
    },
    {
     "name": "stdout",
     "output_type": "stream",
     "text": [
      "Epoch 54/100 [hc=256, lr=0.001] --> Train Loss: 0.025600, Val Loss: 0.195219\n"
     ]
    },
    {
     "name": "stderr",
     "output_type": "stream",
     "text": [
      "Epoch 55: 100%|██████████| 1143/1143 [06:03<00:00,  3.15it/s, batch_loss=0.0172]\n",
      "Evaluating: 100%|██████████| 77/77 [00:07<00:00, 10.74it/s]\n"
     ]
    },
    {
     "name": "stdout",
     "output_type": "stream",
     "text": [
      "Epoch 55/100 [hc=256, lr=0.001] --> Train Loss: 0.025712, Val Loss: 0.204010\n"
     ]
    },
    {
     "name": "stderr",
     "output_type": "stream",
     "text": [
      "Epoch 56: 100%|██████████| 1143/1143 [06:03<00:00,  3.15it/s, batch_loss=0.0248]\n",
      "Evaluating: 100%|██████████| 77/77 [00:07<00:00, 10.72it/s]\n"
     ]
    },
    {
     "name": "stdout",
     "output_type": "stream",
     "text": [
      "Epoch 56/100 [hc=256, lr=0.001] --> Train Loss: 0.025540, Val Loss: 0.200420\n"
     ]
    },
    {
     "name": "stderr",
     "output_type": "stream",
     "text": [
      "Epoch 57: 100%|██████████| 1143/1143 [06:03<00:00,  3.15it/s, batch_loss=0.0161]\n",
      "Evaluating: 100%|██████████| 77/77 [00:07<00:00, 10.72it/s]\n"
     ]
    },
    {
     "name": "stdout",
     "output_type": "stream",
     "text": [
      "Epoch 57/100 [hc=256, lr=0.001] --> Train Loss: 0.024760, Val Loss: 0.201141\n"
     ]
    },
    {
     "name": "stderr",
     "output_type": "stream",
     "text": [
      "Epoch 58: 100%|██████████| 1143/1143 [06:03<00:00,  3.15it/s, batch_loss=0.0207]\n",
      "Evaluating: 100%|██████████| 77/77 [00:07<00:00, 10.74it/s]\n"
     ]
    },
    {
     "name": "stdout",
     "output_type": "stream",
     "text": [
      "Epoch 58/100 [hc=256, lr=0.001] --> Train Loss: 0.024978, Val Loss: 0.203783\n"
     ]
    },
    {
     "name": "stderr",
     "output_type": "stream",
     "text": [
      "Epoch 59: 100%|██████████| 1143/1143 [06:03<00:00,  3.15it/s, batch_loss=0.0544]\n",
      "Evaluating: 100%|██████████| 77/77 [00:07<00:00, 10.74it/s]\n"
     ]
    },
    {
     "name": "stdout",
     "output_type": "stream",
     "text": [
      "Epoch 59/100 [hc=256, lr=0.001] --> Train Loss: 0.025070, Val Loss: 0.197922\n"
     ]
    },
    {
     "name": "stderr",
     "output_type": "stream",
     "text": [
      "Epoch 60: 100%|██████████| 1143/1143 [06:03<00:00,  3.14it/s, batch_loss=0.0202]\n",
      "Evaluating: 100%|██████████| 77/77 [00:07<00:00, 10.75it/s]\n"
     ]
    },
    {
     "name": "stdout",
     "output_type": "stream",
     "text": [
      "Epoch 60/100 [hc=256, lr=0.001] --> Train Loss: 0.024865, Val Loss: 0.198780\n"
     ]
    },
    {
     "name": "stderr",
     "output_type": "stream",
     "text": [
      "Epoch 61: 100%|██████████| 1143/1143 [06:03<00:00,  3.15it/s, batch_loss=0.04]  \n",
      "Evaluating: 100%|██████████| 77/77 [00:07<00:00, 10.75it/s]\n"
     ]
    },
    {
     "name": "stdout",
     "output_type": "stream",
     "text": [
      "Epoch 61/100 [hc=256, lr=0.001] --> Train Loss: 0.024849, Val Loss: 0.198761\n"
     ]
    },
    {
     "name": "stderr",
     "output_type": "stream",
     "text": [
      "Epoch 62: 100%|██████████| 1143/1143 [06:03<00:00,  3.15it/s, batch_loss=0.0215]\n",
      "Evaluating: 100%|██████████| 77/77 [00:07<00:00, 10.74it/s]\n"
     ]
    },
    {
     "name": "stdout",
     "output_type": "stream",
     "text": [
      "Epoch 62/100 [hc=256, lr=0.001] --> Train Loss: 0.024556, Val Loss: 0.199295\n"
     ]
    },
    {
     "name": "stderr",
     "output_type": "stream",
     "text": [
      "Epoch 63: 100%|██████████| 1143/1143 [06:03<00:00,  3.15it/s, batch_loss=0.0177]\n",
      "Evaluating: 100%|██████████| 77/77 [00:07<00:00, 10.73it/s]\n"
     ]
    },
    {
     "name": "stdout",
     "output_type": "stream",
     "text": [
      "Epoch 63/100 [hc=256, lr=0.001] --> Train Loss: 0.024525, Val Loss: 0.195351\n"
     ]
    },
    {
     "name": "stderr",
     "output_type": "stream",
     "text": [
      "Epoch 64: 100%|██████████| 1143/1143 [06:03<00:00,  3.15it/s, batch_loss=0.0366]\n",
      "Evaluating: 100%|██████████| 77/77 [00:07<00:00, 10.73it/s]\n"
     ]
    },
    {
     "name": "stdout",
     "output_type": "stream",
     "text": [
      "Epoch 64/100 [hc=256, lr=0.001] --> Train Loss: 0.024987, Val Loss: 0.200059\n"
     ]
    },
    {
     "name": "stderr",
     "output_type": "stream",
     "text": [
      "Epoch 65: 100%|██████████| 1143/1143 [06:03<00:00,  3.15it/s, batch_loss=0.0255]\n",
      "Evaluating: 100%|██████████| 77/77 [00:07<00:00, 10.75it/s]\n"
     ]
    },
    {
     "name": "stdout",
     "output_type": "stream",
     "text": [
      "Epoch 65/100 [hc=256, lr=0.001] --> Train Loss: 0.024701, Val Loss: 0.193739\n"
     ]
    },
    {
     "name": "stderr",
     "output_type": "stream",
     "text": [
      "Epoch 66: 100%|██████████| 1143/1143 [06:04<00:00,  3.14it/s, batch_loss=0.0191]\n",
      "Evaluating: 100%|██████████| 77/77 [00:07<00:00, 10.45it/s]\n"
     ]
    },
    {
     "name": "stdout",
     "output_type": "stream",
     "text": [
      "Epoch 66/100 [hc=256, lr=0.001] --> Train Loss: 0.024067, Val Loss: 0.195747\n"
     ]
    },
    {
     "name": "stderr",
     "output_type": "stream",
     "text": [
      "Epoch 67: 100%|██████████| 1143/1143 [06:04<00:00,  3.14it/s, batch_loss=0.0383]\n",
      "Evaluating: 100%|██████████| 77/77 [00:07<00:00, 10.69it/s]\n"
     ]
    },
    {
     "name": "stdout",
     "output_type": "stream",
     "text": [
      "Epoch 67/100 [hc=256, lr=0.001] --> Train Loss: 0.024006, Val Loss: 0.197969\n"
     ]
    },
    {
     "name": "stderr",
     "output_type": "stream",
     "text": [
      "Epoch 68: 100%|██████████| 1143/1143 [06:03<00:00,  3.14it/s, batch_loss=0.0133]\n",
      "Evaluating: 100%|██████████| 77/77 [00:07<00:00, 10.71it/s]\n"
     ]
    },
    {
     "name": "stdout",
     "output_type": "stream",
     "text": [
      "Epoch 68/100 [hc=256, lr=0.001] --> Train Loss: 0.024355, Val Loss: 0.196412\n"
     ]
    },
    {
     "name": "stderr",
     "output_type": "stream",
     "text": [
      "Epoch 69: 100%|██████████| 1143/1143 [06:03<00:00,  3.14it/s, batch_loss=0.0189]\n",
      "Evaluating: 100%|██████████| 77/77 [00:07<00:00, 10.69it/s]\n"
     ]
    },
    {
     "name": "stdout",
     "output_type": "stream",
     "text": [
      "Epoch 69/100 [hc=256, lr=0.001] --> Train Loss: 0.024124, Val Loss: 0.202898\n"
     ]
    },
    {
     "name": "stderr",
     "output_type": "stream",
     "text": [
      "Epoch 70: 100%|██████████| 1143/1143 [06:03<00:00,  3.14it/s, batch_loss=0.0231]\n",
      "Evaluating: 100%|██████████| 77/77 [00:07<00:00, 10.70it/s]\n"
     ]
    },
    {
     "name": "stdout",
     "output_type": "stream",
     "text": [
      "Epoch 70/100 [hc=256, lr=0.001] --> Train Loss: 0.024057, Val Loss: 0.195752\n"
     ]
    },
    {
     "name": "stderr",
     "output_type": "stream",
     "text": [
      "Epoch 71: 100%|██████████| 1143/1143 [06:03<00:00,  3.14it/s, batch_loss=0.0249] \n",
      "Evaluating: 100%|██████████| 77/77 [00:07<00:00, 10.72it/s]\n"
     ]
    },
    {
     "name": "stdout",
     "output_type": "stream",
     "text": [
      "Epoch 71/100 [hc=256, lr=0.001] --> Train Loss: 0.024290, Val Loss: 0.199781\n"
     ]
    },
    {
     "name": "stderr",
     "output_type": "stream",
     "text": [
      "Epoch 72: 100%|██████████| 1143/1143 [06:03<00:00,  3.14it/s, batch_loss=0.0314]\n",
      "Evaluating: 100%|██████████| 77/77 [00:07<00:00, 10.75it/s]\n"
     ]
    },
    {
     "name": "stdout",
     "output_type": "stream",
     "text": [
      "Epoch 72/100 [hc=256, lr=0.001] --> Train Loss: 0.024576, Val Loss: 0.197346\n"
     ]
    },
    {
     "name": "stderr",
     "output_type": "stream",
     "text": [
      "Epoch 73: 100%|██████████| 1143/1143 [06:03<00:00,  3.14it/s, batch_loss=0.0286]\n",
      "Evaluating: 100%|██████████| 77/77 [00:07<00:00, 10.74it/s]\n"
     ]
    },
    {
     "name": "stdout",
     "output_type": "stream",
     "text": [
      "Epoch 73/100 [hc=256, lr=0.001] --> Train Loss: 0.023996, Val Loss: 0.192792\n"
     ]
    },
    {
     "name": "stderr",
     "output_type": "stream",
     "text": [
      "Epoch 74: 100%|██████████| 1143/1143 [06:03<00:00,  3.14it/s, batch_loss=0.0287]\n",
      "Evaluating: 100%|██████████| 77/77 [00:07<00:00, 10.72it/s]\n"
     ]
    },
    {
     "name": "stdout",
     "output_type": "stream",
     "text": [
      "Epoch 74/100 [hc=256, lr=0.001] --> Train Loss: 0.023841, Val Loss: 0.198978\n"
     ]
    },
    {
     "name": "stderr",
     "output_type": "stream",
     "text": [
      "Epoch 75: 100%|██████████| 1143/1143 [06:04<00:00,  3.14it/s, batch_loss=0.0168]\n",
      "Evaluating: 100%|██████████| 77/77 [00:07<00:00, 10.74it/s]\n"
     ]
    },
    {
     "name": "stdout",
     "output_type": "stream",
     "text": [
      "Epoch 75/100 [hc=256, lr=0.001] --> Train Loss: 0.023789, Val Loss: 0.199247\n"
     ]
    },
    {
     "name": "stderr",
     "output_type": "stream",
     "text": [
      "Epoch 76: 100%|██████████| 1143/1143 [06:08<00:00,  3.10it/s, batch_loss=0.0145]\n",
      "Evaluating: 100%|██████████| 77/77 [00:07<00:00, 10.45it/s]\n"
     ]
    },
    {
     "name": "stdout",
     "output_type": "stream",
     "text": [
      "Epoch 76/100 [hc=256, lr=0.001] --> Train Loss: 0.023969, Val Loss: 0.195447\n"
     ]
    },
    {
     "name": "stderr",
     "output_type": "stream",
     "text": [
      "Epoch 77: 100%|██████████| 1143/1143 [06:13<00:00,  3.06it/s, batch_loss=0.00858]\n",
      "Evaluating: 100%|██████████| 77/77 [00:07<00:00, 10.09it/s]\n"
     ]
    },
    {
     "name": "stdout",
     "output_type": "stream",
     "text": [
      "Epoch 77/100 [hc=256, lr=0.001] --> Train Loss: 0.024060, Val Loss: 0.199584\n"
     ]
    },
    {
     "name": "stderr",
     "output_type": "stream",
     "text": [
      "Epoch 78: 100%|██████████| 1143/1143 [06:17<00:00,  3.03it/s, batch_loss=0.0409]\n",
      "Evaluating: 100%|██████████| 77/77 [00:07<00:00, 10.39it/s]\n"
     ]
    },
    {
     "name": "stdout",
     "output_type": "stream",
     "text": [
      "Epoch 78/100 [hc=256, lr=0.001] --> Train Loss: 0.023853, Val Loss: 0.192594\n"
     ]
    },
    {
     "name": "stderr",
     "output_type": "stream",
     "text": [
      "Epoch 79: 100%|██████████| 1143/1143 [06:16<00:00,  3.04it/s, batch_loss=0.0193]\n",
      "Evaluating: 100%|██████████| 77/77 [00:07<00:00, 10.42it/s]\n"
     ]
    },
    {
     "name": "stdout",
     "output_type": "stream",
     "text": [
      "Epoch 79/100 [hc=256, lr=0.001] --> Train Loss: 0.023448, Val Loss: 0.195147\n"
     ]
    },
    {
     "name": "stderr",
     "output_type": "stream",
     "text": [
      "Epoch 80: 100%|██████████| 1143/1143 [06:16<00:00,  3.03it/s, batch_loss=0.0199]\n",
      "Evaluating: 100%|██████████| 77/77 [00:07<00:00, 10.40it/s]\n"
     ]
    },
    {
     "name": "stdout",
     "output_type": "stream",
     "text": [
      "Epoch 80/100 [hc=256, lr=0.001] --> Train Loss: 0.023583, Val Loss: 0.196997\n"
     ]
    },
    {
     "name": "stderr",
     "output_type": "stream",
     "text": [
      "Epoch 81: 100%|██████████| 1143/1143 [06:16<00:00,  3.04it/s, batch_loss=0.0309]\n",
      "Evaluating: 100%|██████████| 77/77 [00:07<00:00, 10.17it/s]\n"
     ]
    },
    {
     "name": "stdout",
     "output_type": "stream",
     "text": [
      "Epoch 81/100 [hc=256, lr=0.001] --> Train Loss: 0.024112, Val Loss: 0.196568\n"
     ]
    },
    {
     "name": "stderr",
     "output_type": "stream",
     "text": [
      "Epoch 82: 100%|██████████| 1143/1143 [06:17<00:00,  3.03it/s, batch_loss=0.0294]\n",
      "Evaluating: 100%|██████████| 77/77 [00:07<00:00, 10.06it/s]\n"
     ]
    },
    {
     "name": "stdout",
     "output_type": "stream",
     "text": [
      "Epoch 82/100 [hc=256, lr=0.001] --> Train Loss: 0.023615, Val Loss: 0.197047\n"
     ]
    },
    {
     "name": "stderr",
     "output_type": "stream",
     "text": [
      "Epoch 83: 100%|██████████| 1143/1143 [06:16<00:00,  3.04it/s, batch_loss=0.0216]\n",
      "Evaluating: 100%|██████████| 77/77 [00:07<00:00, 10.38it/s]\n"
     ]
    },
    {
     "name": "stdout",
     "output_type": "stream",
     "text": [
      "Epoch 83/100 [hc=256, lr=0.001] --> Train Loss: 0.023101, Val Loss: 0.195998\n"
     ]
    },
    {
     "name": "stderr",
     "output_type": "stream",
     "text": [
      "Epoch 84: 100%|██████████| 1143/1143 [06:17<00:00,  3.03it/s, batch_loss=0.0209]\n",
      "Evaluating: 100%|██████████| 77/77 [00:07<00:00, 10.26it/s]\n"
     ]
    },
    {
     "name": "stdout",
     "output_type": "stream",
     "text": [
      "Epoch 84/100 [hc=256, lr=0.001] --> Train Loss: 0.023200, Val Loss: 0.197240\n"
     ]
    },
    {
     "name": "stderr",
     "output_type": "stream",
     "text": [
      "Epoch 85: 100%|██████████| 1143/1143 [06:20<00:00,  3.00it/s, batch_loss=0.0192]\n",
      "Evaluating: 100%|██████████| 77/77 [00:07<00:00, 10.14it/s]\n"
     ]
    },
    {
     "name": "stdout",
     "output_type": "stream",
     "text": [
      "Epoch 85/100 [hc=256, lr=0.001] --> Train Loss: 0.023562, Val Loss: 0.191156\n"
     ]
    },
    {
     "name": "stderr",
     "output_type": "stream",
     "text": [
      "Epoch 86: 100%|██████████| 1143/1143 [06:21<00:00,  3.00it/s, batch_loss=0.0225]\n",
      "Evaluating: 100%|██████████| 77/77 [00:07<00:00, 10.15it/s]\n"
     ]
    },
    {
     "name": "stdout",
     "output_type": "stream",
     "text": [
      "Epoch 86/100 [hc=256, lr=0.001] --> Train Loss: 0.023759, Val Loss: 0.193861\n"
     ]
    },
    {
     "name": "stderr",
     "output_type": "stream",
     "text": [
      "Epoch 87: 100%|██████████| 1143/1143 [06:23<00:00,  2.98it/s, batch_loss=0.0412]\n",
      "Evaluating: 100%|██████████| 77/77 [00:07<00:00, 10.30it/s]\n"
     ]
    },
    {
     "name": "stdout",
     "output_type": "stream",
     "text": [
      "Epoch 87/100 [hc=256, lr=0.001] --> Train Loss: 0.023743, Val Loss: 0.194179\n"
     ]
    },
    {
     "name": "stderr",
     "output_type": "stream",
     "text": [
      "Epoch 88: 100%|██████████| 1143/1143 [06:15<00:00,  3.04it/s, batch_loss=0.0321]\n",
      "Evaluating: 100%|██████████| 77/77 [00:07<00:00, 10.30it/s]\n"
     ]
    },
    {
     "name": "stdout",
     "output_type": "stream",
     "text": [
      "Epoch 88/100 [hc=256, lr=0.001] --> Train Loss: 0.023501, Val Loss: 0.192227\n"
     ]
    },
    {
     "name": "stderr",
     "output_type": "stream",
     "text": [
      "Epoch 89: 100%|██████████| 1143/1143 [06:17<00:00,  3.03it/s, batch_loss=0.0286]\n",
      "Evaluating: 100%|██████████| 77/77 [00:07<00:00, 10.32it/s]\n"
     ]
    },
    {
     "name": "stdout",
     "output_type": "stream",
     "text": [
      "Epoch 89/100 [hc=256, lr=0.001] --> Train Loss: 0.023335, Val Loss: 0.195910\n"
     ]
    },
    {
     "name": "stderr",
     "output_type": "stream",
     "text": [
      "Epoch 90: 100%|██████████| 1143/1143 [06:03<00:00,  3.15it/s, batch_loss=0.0572]\n",
      "Evaluating: 100%|██████████| 77/77 [00:07<00:00, 10.73it/s]\n"
     ]
    },
    {
     "name": "stdout",
     "output_type": "stream",
     "text": [
      "Epoch 90/100 [hc=256, lr=0.001] --> Train Loss: 0.023598, Val Loss: 0.195868\n"
     ]
    },
    {
     "name": "stderr",
     "output_type": "stream",
     "text": [
      "Epoch 91: 100%|██████████| 1143/1143 [06:01<00:00,  3.16it/s, batch_loss=0.0309]\n",
      "Evaluating: 100%|██████████| 77/77 [00:07<00:00, 10.79it/s]\n"
     ]
    },
    {
     "name": "stdout",
     "output_type": "stream",
     "text": [
      "Epoch 91/100 [hc=256, lr=0.001] --> Train Loss: 0.023096, Val Loss: 0.197676\n"
     ]
    },
    {
     "name": "stderr",
     "output_type": "stream",
     "text": [
      "Epoch 92: 100%|██████████| 1143/1143 [06:01<00:00,  3.16it/s, batch_loss=0.0325]\n",
      "Evaluating: 100%|██████████| 77/77 [00:07<00:00, 10.79it/s]\n"
     ]
    },
    {
     "name": "stdout",
     "output_type": "stream",
     "text": [
      "Epoch 92/100 [hc=256, lr=0.001] --> Train Loss: 0.022912, Val Loss: 0.195451\n"
     ]
    },
    {
     "name": "stderr",
     "output_type": "stream",
     "text": [
      "Epoch 93: 100%|██████████| 1143/1143 [06:01<00:00,  3.16it/s, batch_loss=0.0225]\n",
      "Evaluating: 100%|██████████| 77/77 [00:07<00:00, 10.79it/s]\n"
     ]
    },
    {
     "name": "stdout",
     "output_type": "stream",
     "text": [
      "Epoch 93/100 [hc=256, lr=0.001] --> Train Loss: 0.023037, Val Loss: 0.193933\n"
     ]
    },
    {
     "name": "stderr",
     "output_type": "stream",
     "text": [
      "Epoch 94: 100%|██████████| 1143/1143 [06:01<00:00,  3.16it/s, batch_loss=0.0371]\n",
      "Evaluating: 100%|██████████| 77/77 [00:07<00:00, 10.78it/s]\n"
     ]
    },
    {
     "name": "stdout",
     "output_type": "stream",
     "text": [
      "Epoch 94/100 [hc=256, lr=0.001] --> Train Loss: 0.023234, Val Loss: 0.195186\n"
     ]
    },
    {
     "name": "stderr",
     "output_type": "stream",
     "text": [
      "Epoch 95: 100%|██████████| 1143/1143 [06:01<00:00,  3.16it/s, batch_loss=0.0256]\n",
      "Evaluating: 100%|██████████| 77/77 [00:07<00:00, 10.78it/s]\n"
     ]
    },
    {
     "name": "stdout",
     "output_type": "stream",
     "text": [
      "Epoch 95/100 [hc=256, lr=0.001] --> Train Loss: 0.023156, Val Loss: 0.195487\n"
     ]
    },
    {
     "name": "stderr",
     "output_type": "stream",
     "text": [
      "Epoch 96: 100%|██████████| 1143/1143 [06:01<00:00,  3.16it/s, batch_loss=0.0255]\n",
      "Evaluating: 100%|██████████| 77/77 [00:07<00:00, 10.78it/s]\n"
     ]
    },
    {
     "name": "stdout",
     "output_type": "stream",
     "text": [
      "Epoch 96/100 [hc=256, lr=0.001] --> Train Loss: 0.023046, Val Loss: 0.196211\n"
     ]
    },
    {
     "name": "stderr",
     "output_type": "stream",
     "text": [
      "Epoch 97: 100%|██████████| 1143/1143 [06:01<00:00,  3.17it/s, batch_loss=0.0232]\n",
      "Evaluating: 100%|██████████| 77/77 [00:07<00:00, 10.79it/s]\n"
     ]
    },
    {
     "name": "stdout",
     "output_type": "stream",
     "text": [
      "Epoch 97/100 [hc=256, lr=0.001] --> Train Loss: 0.023316, Val Loss: 0.197675\n"
     ]
    },
    {
     "name": "stderr",
     "output_type": "stream",
     "text": [
      "Epoch 98: 100%|██████████| 1143/1143 [06:01<00:00,  3.16it/s, batch_loss=0.0254]\n",
      "Evaluating: 100%|██████████| 77/77 [00:07<00:00, 10.78it/s]\n"
     ]
    },
    {
     "name": "stdout",
     "output_type": "stream",
     "text": [
      "Epoch 98/100 [hc=256, lr=0.001] --> Train Loss: 0.023328, Val Loss: 0.196139\n"
     ]
    },
    {
     "name": "stderr",
     "output_type": "stream",
     "text": [
      "Epoch 99: 100%|██████████| 1143/1143 [06:01<00:00,  3.16it/s, batch_loss=0.0185]\n",
      "Evaluating: 100%|██████████| 77/77 [00:07<00:00, 10.79it/s]\n"
     ]
    },
    {
     "name": "stdout",
     "output_type": "stream",
     "text": [
      "Epoch 99/100 [hc=256, lr=0.001] --> Train Loss: 0.023364, Val Loss: 0.194930\n"
     ]
    },
    {
     "name": "stderr",
     "output_type": "stream",
     "text": [
      "Epoch 100: 100%|██████████| 1143/1143 [06:01<00:00,  3.16it/s, batch_loss=0.0507]\n",
      "Evaluating: 100%|██████████| 77/77 [00:07<00:00, 10.78it/s]\n"
     ]
    },
    {
     "name": "stdout",
     "output_type": "stream",
     "text": [
      "Epoch 100/100 [hc=256, lr=0.001] --> Train Loss: 0.022986, Val Loss: 0.189551\n"
     ]
    },
    {
     "name": "stderr",
     "output_type": "stream",
     "text": [
      "Epoch 1: 100%|██████████| 1143/1143 [06:02<00:00,  3.15it/s, batch_loss=0.878]\n",
      "Evaluating: 100%|██████████| 77/77 [00:07<00:00, 10.78it/s]\n"
     ]
    },
    {
     "name": "stdout",
     "output_type": "stream",
     "text": [
      "Epoch 1/100 [hc=256, lr=0.01] --> Train Loss: 129247429.911785, Val Loss: 1410.059566\n"
     ]
    },
    {
     "name": "stderr",
     "output_type": "stream",
     "text": [
      "Epoch 2: 100%|██████████| 1143/1143 [06:00<00:00,  3.17it/s, batch_loss=2.06e+3]\n",
      "Evaluating: 100%|██████████| 77/77 [00:07<00:00, 10.78it/s]\n"
     ]
    },
    {
     "name": "stdout",
     "output_type": "stream",
     "text": [
      "Epoch 2/100 [hc=256, lr=0.01] --> Train Loss: 1185.401804, Val Loss: 1410.059566\n"
     ]
    },
    {
     "name": "stderr",
     "output_type": "stream",
     "text": [
      "Epoch 3: 100%|██████████| 1143/1143 [06:00<00:00,  3.17it/s, batch_loss=452]   \n",
      "Evaluating: 100%|██████████| 77/77 [00:07<00:00, 10.78it/s]\n"
     ]
    },
    {
     "name": "stdout",
     "output_type": "stream",
     "text": [
      "Epoch 3/100 [hc=256, lr=0.01] --> Train Loss: 1185.401784, Val Loss: 1410.059566\n"
     ]
    },
    {
     "name": "stderr",
     "output_type": "stream",
     "text": [
      "Epoch 4: 100%|██████████| 1143/1143 [06:00<00:00,  3.17it/s, batch_loss=4.79]\n",
      "Evaluating: 100%|██████████| 77/77 [00:07<00:00, 10.78it/s]\n"
     ]
    },
    {
     "name": "stdout",
     "output_type": "stream",
     "text": [
      "Epoch 4/100 [hc=256, lr=0.01] --> Train Loss: 1185.401785, Val Loss: 1410.059566\n"
     ]
    },
    {
     "name": "stderr",
     "output_type": "stream",
     "text": [
      "Epoch 5: 100%|██████████| 1143/1143 [06:00<00:00,  3.17it/s, batch_loss=223]    \n",
      "Evaluating: 100%|██████████| 77/77 [00:07<00:00, 10.59it/s]\n"
     ]
    },
    {
     "name": "stdout",
     "output_type": "stream",
     "text": [
      "Epoch 5/100 [hc=256, lr=0.01] --> Train Loss: 1185.401801, Val Loss: 1410.059566\n"
     ]
    },
    {
     "name": "stderr",
     "output_type": "stream",
     "text": [
      "Epoch 6: 100%|██████████| 1143/1143 [06:00<00:00,  3.17it/s, batch_loss=0.859]\n",
      "Evaluating: 100%|██████████| 77/77 [00:07<00:00, 10.78it/s]\n"
     ]
    },
    {
     "name": "stdout",
     "output_type": "stream",
     "text": [
      "Epoch 6/100 [hc=256, lr=0.01] --> Train Loss: 1185.401806, Val Loss: 1410.059566\n"
     ]
    },
    {
     "name": "stderr",
     "output_type": "stream",
     "text": [
      "Epoch 7: 100%|██████████| 1143/1143 [06:00<00:00,  3.17it/s, batch_loss=3.1] \n",
      "Evaluating: 100%|██████████| 77/77 [00:07<00:00, 10.79it/s]\n"
     ]
    },
    {
     "name": "stdout",
     "output_type": "stream",
     "text": [
      "Epoch 7/100 [hc=256, lr=0.01] --> Train Loss: 1185.401784, Val Loss: 1410.059566\n"
     ]
    },
    {
     "name": "stderr",
     "output_type": "stream",
     "text": [
      "Epoch 8: 100%|██████████| 1143/1143 [06:00<00:00,  3.17it/s, batch_loss=0.875]\n",
      "Evaluating: 100%|██████████| 77/77 [00:07<00:00, 10.78it/s]\n"
     ]
    },
    {
     "name": "stdout",
     "output_type": "stream",
     "text": [
      "Epoch 8/100 [hc=256, lr=0.01] --> Train Loss: 1185.401780, Val Loss: 1410.059566\n"
     ]
    },
    {
     "name": "stderr",
     "output_type": "stream",
     "text": [
      "Epoch 9: 100%|██████████| 1143/1143 [06:00<00:00,  3.17it/s, batch_loss=854] \n",
      "Evaluating: 100%|██████████| 77/77 [00:07<00:00, 10.79it/s]\n"
     ]
    },
    {
     "name": "stdout",
     "output_type": "stream",
     "text": [
      "Epoch 9/100 [hc=256, lr=0.01] --> Train Loss: 1185.401778, Val Loss: 1410.059566\n"
     ]
    },
    {
     "name": "stderr",
     "output_type": "stream",
     "text": [
      "Epoch 10: 100%|██████████| 1143/1143 [06:00<00:00,  3.17it/s, batch_loss=2.07e+3]\n",
      "Evaluating: 100%|██████████| 77/77 [00:07<00:00, 10.78it/s]\n"
     ]
    },
    {
     "name": "stdout",
     "output_type": "stream",
     "text": [
      "Epoch 10/100 [hc=256, lr=0.01] --> Train Loss: 1185.401797, Val Loss: 1410.059566\n"
     ]
    },
    {
     "name": "stderr",
     "output_type": "stream",
     "text": [
      "Epoch 11: 100%|██████████| 1143/1143 [06:00<00:00,  3.17it/s, batch_loss=145]  \n",
      "Evaluating: 100%|██████████| 77/77 [00:07<00:00, 10.78it/s]\n"
     ]
    },
    {
     "name": "stdout",
     "output_type": "stream",
     "text": [
      "Epoch 11/100 [hc=256, lr=0.01] --> Train Loss: 1185.401800, Val Loss: 1410.059566\n"
     ]
    },
    {
     "name": "stderr",
     "output_type": "stream",
     "text": [
      "Epoch 12: 100%|██████████| 1143/1143 [06:00<00:00,  3.17it/s, batch_loss=1.4e+4] \n",
      "Evaluating: 100%|██████████| 77/77 [00:07<00:00, 10.78it/s]\n"
     ]
    },
    {
     "name": "stdout",
     "output_type": "stream",
     "text": [
      "Epoch 12/100 [hc=256, lr=0.01] --> Train Loss: 1185.401782, Val Loss: 1410.059566\n"
     ]
    },
    {
     "name": "stderr",
     "output_type": "stream",
     "text": [
      "Epoch 13: 100%|██████████| 1143/1143 [06:00<00:00,  3.17it/s, batch_loss=0.869]\n",
      "Evaluating: 100%|██████████| 77/77 [00:07<00:00, 10.77it/s]\n"
     ]
    },
    {
     "name": "stdout",
     "output_type": "stream",
     "text": [
      "Epoch 13/100 [hc=256, lr=0.01] --> Train Loss: 1185.401794, Val Loss: 1410.059566\n"
     ]
    },
    {
     "name": "stderr",
     "output_type": "stream",
     "text": [
      "Epoch 14: 100%|██████████| 1143/1143 [06:00<00:00,  3.17it/s, batch_loss=22.9] \n",
      "Evaluating: 100%|██████████| 77/77 [00:07<00:00, 10.78it/s]\n"
     ]
    },
    {
     "name": "stdout",
     "output_type": "stream",
     "text": [
      "Epoch 14/100 [hc=256, lr=0.01] --> Train Loss: 1185.401810, Val Loss: 1410.059566\n"
     ]
    },
    {
     "name": "stderr",
     "output_type": "stream",
     "text": [
      "Epoch 15: 100%|██████████| 1143/1143 [06:00<00:00,  3.17it/s, batch_loss=334]  \n",
      "Evaluating: 100%|██████████| 77/77 [00:07<00:00, 10.77it/s]\n"
     ]
    },
    {
     "name": "stdout",
     "output_type": "stream",
     "text": [
      "Epoch 15/100 [hc=256, lr=0.01] --> Train Loss: 1185.401783, Val Loss: 1410.059566\n"
     ]
    },
    {
     "name": "stderr",
     "output_type": "stream",
     "text": [
      "Epoch 16: 100%|██████████| 1143/1143 [06:00<00:00,  3.17it/s, batch_loss=0.858]\n",
      "Evaluating: 100%|██████████| 77/77 [00:07<00:00, 10.78it/s]\n"
     ]
    },
    {
     "name": "stdout",
     "output_type": "stream",
     "text": [
      "Epoch 16/100 [hc=256, lr=0.01] --> Train Loss: 1185.401771, Val Loss: 1410.059566\n"
     ]
    },
    {
     "name": "stderr",
     "output_type": "stream",
     "text": [
      "Epoch 17: 100%|██████████| 1143/1143 [06:00<00:00,  3.17it/s, batch_loss=20.8]   \n",
      "Evaluating: 100%|██████████| 77/77 [00:07<00:00, 10.78it/s]\n"
     ]
    },
    {
     "name": "stdout",
     "output_type": "stream",
     "text": [
      "Epoch 17/100 [hc=256, lr=0.01] --> Train Loss: 1185.401793, Val Loss: 1410.059566\n"
     ]
    },
    {
     "name": "stderr",
     "output_type": "stream",
     "text": [
      "Epoch 18: 100%|██████████| 1143/1143 [06:05<00:00,  3.13it/s, batch_loss=409]    \n",
      "Evaluating: 100%|██████████| 77/77 [00:07<00:00, 10.34it/s]\n"
     ]
    },
    {
     "name": "stdout",
     "output_type": "stream",
     "text": [
      "Epoch 18/100 [hc=256, lr=0.01] --> Train Loss: 1185.401803, Val Loss: 1410.059566\n"
     ]
    },
    {
     "name": "stderr",
     "output_type": "stream",
     "text": [
      "Epoch 19: 100%|██████████| 1143/1143 [06:12<00:00,  3.06it/s, batch_loss=3.81]  \n",
      "Evaluating: 100%|██████████| 77/77 [00:07<00:00, 10.39it/s]\n"
     ]
    },
    {
     "name": "stdout",
     "output_type": "stream",
     "text": [
      "Epoch 19/100 [hc=256, lr=0.01] --> Train Loss: 1185.401810, Val Loss: 1410.059566\n"
     ]
    },
    {
     "name": "stderr",
     "output_type": "stream",
     "text": [
      "Epoch 20: 100%|██████████| 1143/1143 [1:31:04<00:00,  4.78s/it, batch_loss=58]    \n",
      "Evaluating: 100%|██████████| 77/77 [00:07<00:00, 10.42it/s]\n"
     ]
    },
    {
     "name": "stdout",
     "output_type": "stream",
     "text": [
      "Epoch 20/100 [hc=256, lr=0.01] --> Train Loss: 1185.401815, Val Loss: 1410.059566\n"
     ]
    },
    {
     "name": "stderr",
     "output_type": "stream",
     "text": [
      "Epoch 21: 100%|██████████| 1143/1143 [06:09<00:00,  3.09it/s, batch_loss=1.34]\n",
      "Evaluating: 100%|██████████| 77/77 [00:07<00:00, 10.45it/s]\n"
     ]
    },
    {
     "name": "stdout",
     "output_type": "stream",
     "text": [
      "Epoch 21/100 [hc=256, lr=0.01] --> Train Loss: 1185.401780, Val Loss: 1410.059566\n"
     ]
    },
    {
     "name": "stderr",
     "output_type": "stream",
     "text": [
      "Epoch 22: 100%|██████████| 1143/1143 [06:09<00:00,  3.09it/s, batch_loss=0.964]  \n",
      "Evaluating: 100%|██████████| 77/77 [00:07<00:00, 10.47it/s]\n"
     ]
    },
    {
     "name": "stdout",
     "output_type": "stream",
     "text": [
      "Epoch 22/100 [hc=256, lr=0.01] --> Train Loss: 1185.401781, Val Loss: 1410.059566\n"
     ]
    },
    {
     "name": "stderr",
     "output_type": "stream",
     "text": [
      "Epoch 23: 100%|██████████| 1143/1143 [06:09<00:00,  3.09it/s, batch_loss=0.844] \n",
      "Evaluating: 100%|██████████| 77/77 [00:07<00:00, 10.49it/s]\n"
     ]
    },
    {
     "name": "stdout",
     "output_type": "stream",
     "text": [
      "Epoch 23/100 [hc=256, lr=0.01] --> Train Loss: 1185.401775, Val Loss: 1410.059566\n"
     ]
    },
    {
     "name": "stderr",
     "output_type": "stream",
     "text": [
      "Epoch 24: 100%|██████████| 1143/1143 [06:09<00:00,  3.09it/s, batch_loss=1.54] \n",
      "Evaluating: 100%|██████████| 77/77 [00:07<00:00, 10.48it/s]\n"
     ]
    },
    {
     "name": "stdout",
     "output_type": "stream",
     "text": [
      "Epoch 24/100 [hc=256, lr=0.01] --> Train Loss: 1185.401801, Val Loss: 1410.059566\n"
     ]
    },
    {
     "name": "stderr",
     "output_type": "stream",
     "text": [
      "Epoch 25: 100%|██████████| 1143/1143 [06:09<00:00,  3.09it/s, batch_loss=555]  \n",
      "Evaluating: 100%|██████████| 77/77 [00:07<00:00, 10.47it/s]\n"
     ]
    },
    {
     "name": "stdout",
     "output_type": "stream",
     "text": [
      "Epoch 25/100 [hc=256, lr=0.01] --> Train Loss: 1185.401798, Val Loss: 1410.059566\n"
     ]
    },
    {
     "name": "stderr",
     "output_type": "stream",
     "text": [
      "Epoch 26: 100%|██████████| 1143/1143 [06:09<00:00,  3.09it/s, batch_loss=9.12] \n",
      "Evaluating: 100%|██████████| 77/77 [00:07<00:00, 10.48it/s]\n"
     ]
    },
    {
     "name": "stdout",
     "output_type": "stream",
     "text": [
      "Epoch 26/100 [hc=256, lr=0.01] --> Train Loss: 1185.401767, Val Loss: 1410.059566\n"
     ]
    },
    {
     "name": "stderr",
     "output_type": "stream",
     "text": [
      "Epoch 27: 100%|██████████| 1143/1143 [06:09<00:00,  3.09it/s, batch_loss=148]\n",
      "Evaluating: 100%|██████████| 77/77 [00:07<00:00, 10.48it/s]\n"
     ]
    },
    {
     "name": "stdout",
     "output_type": "stream",
     "text": [
      "Epoch 27/100 [hc=256, lr=0.01] --> Train Loss: 1185.401787, Val Loss: 1410.059566\n"
     ]
    },
    {
     "name": "stderr",
     "output_type": "stream",
     "text": [
      "Epoch 28: 100%|██████████| 1143/1143 [06:09<00:00,  3.09it/s, batch_loss=150]   \n",
      "Evaluating: 100%|██████████| 77/77 [00:07<00:00, 10.47it/s]\n"
     ]
    },
    {
     "name": "stdout",
     "output_type": "stream",
     "text": [
      "Epoch 28/100 [hc=256, lr=0.01] --> Train Loss: 1185.401812, Val Loss: 1410.059566\n"
     ]
    },
    {
     "name": "stderr",
     "output_type": "stream",
     "text": [
      "Epoch 29: 100%|██████████| 1143/1143 [06:09<00:00,  3.09it/s, batch_loss=3.89e+3]\n",
      "Evaluating: 100%|██████████| 77/77 [00:07<00:00, 10.46it/s]\n"
     ]
    },
    {
     "name": "stdout",
     "output_type": "stream",
     "text": [
      "Epoch 29/100 [hc=256, lr=0.01] --> Train Loss: 1185.401796, Val Loss: 1410.059566\n"
     ]
    },
    {
     "name": "stderr",
     "output_type": "stream",
     "text": [
      "Epoch 30: 100%|██████████| 1143/1143 [06:10<00:00,  3.09it/s, batch_loss=1.75e+4]\n",
      "Evaluating: 100%|██████████| 77/77 [00:07<00:00, 10.47it/s]\n"
     ]
    },
    {
     "name": "stdout",
     "output_type": "stream",
     "text": [
      "Epoch 30/100 [hc=256, lr=0.01] --> Train Loss: 1185.401796, Val Loss: 1410.059566\n"
     ]
    },
    {
     "name": "stderr",
     "output_type": "stream",
     "text": [
      "Epoch 31: 100%|██████████| 1143/1143 [06:09<00:00,  3.09it/s, batch_loss=1.1e+3] \n",
      "Evaluating: 100%|██████████| 77/77 [00:07<00:00, 10.47it/s]\n"
     ]
    },
    {
     "name": "stdout",
     "output_type": "stream",
     "text": [
      "Epoch 31/100 [hc=256, lr=0.01] --> Train Loss: 1185.401794, Val Loss: 1410.059566\n"
     ]
    },
    {
     "name": "stderr",
     "output_type": "stream",
     "text": [
      "Epoch 32: 100%|██████████| 1143/1143 [06:09<00:00,  3.09it/s, batch_loss=82.9]  \n",
      "Evaluating: 100%|██████████| 77/77 [00:07<00:00, 10.46it/s]\n"
     ]
    },
    {
     "name": "stdout",
     "output_type": "stream",
     "text": [
      "Epoch 32/100 [hc=256, lr=0.01] --> Train Loss: 1185.401807, Val Loss: 1410.059566\n"
     ]
    },
    {
     "name": "stderr",
     "output_type": "stream",
     "text": [
      "Epoch 33: 100%|██████████| 1143/1143 [06:09<00:00,  3.10it/s, batch_loss=9.35]\n",
      "Evaluating: 100%|██████████| 77/77 [00:07<00:00, 10.26it/s]\n"
     ]
    },
    {
     "name": "stdout",
     "output_type": "stream",
     "text": [
      "Epoch 33/100 [hc=256, lr=0.01] --> Train Loss: 1185.401780, Val Loss: 1410.059566\n"
     ]
    },
    {
     "name": "stderr",
     "output_type": "stream",
     "text": [
      "Epoch 34: 100%|██████████| 1143/1143 [06:09<00:00,  3.09it/s, batch_loss=239]  \n",
      "Evaluating: 100%|██████████| 77/77 [00:07<00:00, 10.47it/s]\n"
     ]
    },
    {
     "name": "stdout",
     "output_type": "stream",
     "text": [
      "Epoch 34/100 [hc=256, lr=0.01] --> Train Loss: 1185.401794, Val Loss: 1410.059566\n"
     ]
    },
    {
     "name": "stderr",
     "output_type": "stream",
     "text": [
      "Epoch 35: 100%|██████████| 1143/1143 [06:09<00:00,  3.09it/s, batch_loss=3.31]\n",
      "Evaluating: 100%|██████████| 77/77 [00:07<00:00, 10.48it/s]\n"
     ]
    },
    {
     "name": "stdout",
     "output_type": "stream",
     "text": [
      "Epoch 35/100 [hc=256, lr=0.01] --> Train Loss: 1185.401803, Val Loss: 1410.059566\n"
     ]
    },
    {
     "name": "stderr",
     "output_type": "stream",
     "text": [
      "Epoch 36: 100%|██████████| 1143/1143 [06:09<00:00,  3.10it/s, batch_loss=2.39]  \n",
      "Evaluating: 100%|██████████| 77/77 [00:07<00:00, 10.46it/s]\n"
     ]
    },
    {
     "name": "stdout",
     "output_type": "stream",
     "text": [
      "Epoch 36/100 [hc=256, lr=0.01] --> Train Loss: 1185.401793, Val Loss: 1410.059566\n"
     ]
    },
    {
     "name": "stderr",
     "output_type": "stream",
     "text": [
      "Epoch 37: 100%|██████████| 1143/1143 [06:09<00:00,  3.09it/s, batch_loss=1.28e+3]\n",
      "Evaluating: 100%|██████████| 77/77 [00:07<00:00, 10.47it/s]\n"
     ]
    },
    {
     "name": "stdout",
     "output_type": "stream",
     "text": [
      "Epoch 37/100 [hc=256, lr=0.01] --> Train Loss: 1185.401774, Val Loss: 1410.059566\n"
     ]
    },
    {
     "name": "stderr",
     "output_type": "stream",
     "text": [
      "Epoch 38: 100%|██████████| 1143/1143 [06:09<00:00,  3.09it/s, batch_loss=1.59e+3]\n",
      "Evaluating: 100%|██████████| 77/77 [00:07<00:00, 10.47it/s]\n"
     ]
    },
    {
     "name": "stdout",
     "output_type": "stream",
     "text": [
      "Epoch 38/100 [hc=256, lr=0.01] --> Train Loss: 1185.401782, Val Loss: 1410.059566\n"
     ]
    },
    {
     "name": "stderr",
     "output_type": "stream",
     "text": [
      "Epoch 39: 100%|██████████| 1143/1143 [06:10<00:00,  3.09it/s, batch_loss=302]  \n",
      "Evaluating: 100%|██████████| 77/77 [00:07<00:00, 10.47it/s]\n"
     ]
    },
    {
     "name": "stdout",
     "output_type": "stream",
     "text": [
      "Epoch 39/100 [hc=256, lr=0.01] --> Train Loss: 1185.401796, Val Loss: 1410.059566\n"
     ]
    },
    {
     "name": "stderr",
     "output_type": "stream",
     "text": [
      "Epoch 40: 100%|██████████| 1143/1143 [06:09<00:00,  3.09it/s, batch_loss=1.69e+3]\n",
      "Evaluating: 100%|██████████| 77/77 [00:07<00:00, 10.48it/s]\n"
     ]
    },
    {
     "name": "stdout",
     "output_type": "stream",
     "text": [
      "Epoch 40/100 [hc=256, lr=0.01] --> Train Loss: 1185.401767, Val Loss: 1410.059566\n"
     ]
    },
    {
     "name": "stderr",
     "output_type": "stream",
     "text": [
      "Epoch 41: 100%|██████████| 1143/1143 [06:09<00:00,  3.09it/s, batch_loss=1.13e+3]\n",
      "Evaluating: 100%|██████████| 77/77 [00:07<00:00, 10.46it/s]\n"
     ]
    },
    {
     "name": "stdout",
     "output_type": "stream",
     "text": [
      "Epoch 41/100 [hc=256, lr=0.01] --> Train Loss: 1185.401783, Val Loss: 1410.059566\n"
     ]
    },
    {
     "name": "stderr",
     "output_type": "stream",
     "text": [
      "Epoch 42: 100%|██████████| 1143/1143 [06:09<00:00,  3.09it/s, batch_loss=0.85]   \n",
      "Evaluating: 100%|██████████| 77/77 [00:07<00:00, 10.49it/s]\n"
     ]
    },
    {
     "name": "stdout",
     "output_type": "stream",
     "text": [
      "Epoch 42/100 [hc=256, lr=0.01] --> Train Loss: 1185.401786, Val Loss: 1410.059566\n"
     ]
    },
    {
     "name": "stderr",
     "output_type": "stream",
     "text": [
      "Epoch 43: 100%|██████████| 1143/1143 [06:09<00:00,  3.09it/s, batch_loss=131] \n",
      "Evaluating: 100%|██████████| 77/77 [00:07<00:00, 10.46it/s]\n"
     ]
    },
    {
     "name": "stdout",
     "output_type": "stream",
     "text": [
      "Epoch 43/100 [hc=256, lr=0.01] --> Train Loss: 1185.401795, Val Loss: 1410.059566\n"
     ]
    },
    {
     "name": "stderr",
     "output_type": "stream",
     "text": [
      "Epoch 44: 100%|██████████| 1143/1143 [06:09<00:00,  3.09it/s, batch_loss=0.887]  \n",
      "Evaluating: 100%|██████████| 77/77 [00:07<00:00, 10.46it/s]\n"
     ]
    },
    {
     "name": "stdout",
     "output_type": "stream",
     "text": [
      "Epoch 44/100 [hc=256, lr=0.01] --> Train Loss: 1185.401779, Val Loss: 1410.059566\n"
     ]
    },
    {
     "name": "stderr",
     "output_type": "stream",
     "text": [
      "Epoch 45: 100%|██████████| 1143/1143 [06:09<00:00,  3.09it/s, batch_loss=148] \n",
      "Evaluating: 100%|██████████| 77/77 [00:07<00:00, 10.48it/s]\n"
     ]
    },
    {
     "name": "stdout",
     "output_type": "stream",
     "text": [
      "Epoch 45/100 [hc=256, lr=0.01] --> Train Loss: 1185.401785, Val Loss: 1410.059566\n"
     ]
    },
    {
     "name": "stderr",
     "output_type": "stream",
     "text": [
      "Epoch 46: 100%|██████████| 1143/1143 [06:09<00:00,  3.09it/s, batch_loss=2.08]\n",
      "Evaluating: 100%|██████████| 77/77 [00:07<00:00, 10.48it/s]\n"
     ]
    },
    {
     "name": "stdout",
     "output_type": "stream",
     "text": [
      "Epoch 46/100 [hc=256, lr=0.01] --> Train Loss: 1185.401790, Val Loss: 1410.059566\n"
     ]
    },
    {
     "name": "stderr",
     "output_type": "stream",
     "text": [
      "Epoch 47: 100%|██████████| 1143/1143 [06:09<00:00,  3.09it/s, batch_loss=601]   \n",
      "Evaluating: 100%|██████████| 77/77 [00:07<00:00, 10.27it/s]\n"
     ]
    },
    {
     "name": "stdout",
     "output_type": "stream",
     "text": [
      "Epoch 47/100 [hc=256, lr=0.01] --> Train Loss: 1185.401796, Val Loss: 1410.059566\n"
     ]
    },
    {
     "name": "stderr",
     "output_type": "stream",
     "text": [
      "Epoch 48: 100%|██████████| 1143/1143 [06:09<00:00,  3.10it/s, batch_loss=1.14e+3]\n",
      "Evaluating: 100%|██████████| 77/77 [00:07<00:00, 10.47it/s]\n"
     ]
    },
    {
     "name": "stdout",
     "output_type": "stream",
     "text": [
      "Epoch 48/100 [hc=256, lr=0.01] --> Train Loss: 1185.401795, Val Loss: 1410.059566\n"
     ]
    },
    {
     "name": "stderr",
     "output_type": "stream",
     "text": [
      "Epoch 49: 100%|██████████| 1143/1143 [06:10<00:00,  3.09it/s, batch_loss=207] \n",
      "Evaluating: 100%|██████████| 77/77 [00:07<00:00, 10.48it/s]\n"
     ]
    },
    {
     "name": "stdout",
     "output_type": "stream",
     "text": [
      "Epoch 49/100 [hc=256, lr=0.01] --> Train Loss: 1185.401774, Val Loss: 1410.059566\n"
     ]
    },
    {
     "name": "stderr",
     "output_type": "stream",
     "text": [
      "Epoch 50: 100%|██████████| 1143/1143 [06:09<00:00,  3.09it/s, batch_loss=38]    \n",
      "Evaluating: 100%|██████████| 77/77 [00:07<00:00, 10.47it/s]\n"
     ]
    },
    {
     "name": "stdout",
     "output_type": "stream",
     "text": [
      "Epoch 50/100 [hc=256, lr=0.01] --> Train Loss: 1185.401817, Val Loss: 1410.059566\n"
     ]
    },
    {
     "name": "stderr",
     "output_type": "stream",
     "text": [
      "Epoch 51: 100%|██████████| 1143/1143 [06:09<00:00,  3.09it/s, batch_loss=0.888]\n",
      "Evaluating: 100%|██████████| 77/77 [00:07<00:00, 10.47it/s]\n"
     ]
    },
    {
     "name": "stdout",
     "output_type": "stream",
     "text": [
      "Epoch 51/100 [hc=256, lr=0.01] --> Train Loss: 1185.401783, Val Loss: 1410.059566\n"
     ]
    },
    {
     "name": "stderr",
     "output_type": "stream",
     "text": [
      "Epoch 52: 100%|██████████| 1143/1143 [06:09<00:00,  3.09it/s, batch_loss=9.48]\n",
      "Evaluating: 100%|██████████| 77/77 [00:07<00:00, 10.47it/s]\n"
     ]
    },
    {
     "name": "stdout",
     "output_type": "stream",
     "text": [
      "Epoch 52/100 [hc=256, lr=0.01] --> Train Loss: 1185.401786, Val Loss: 1410.059566\n"
     ]
    },
    {
     "name": "stderr",
     "output_type": "stream",
     "text": [
      "Epoch 53: 100%|██████████| 1143/1143 [06:09<00:00,  3.09it/s, batch_loss=0.905]  \n",
      "Evaluating: 100%|██████████| 77/77 [00:07<00:00, 10.48it/s]\n"
     ]
    },
    {
     "name": "stdout",
     "output_type": "stream",
     "text": [
      "Epoch 53/100 [hc=256, lr=0.01] --> Train Loss: 1185.401787, Val Loss: 1410.059566\n"
     ]
    },
    {
     "name": "stderr",
     "output_type": "stream",
     "text": [
      "Epoch 54: 100%|██████████| 1143/1143 [06:09<00:00,  3.09it/s, batch_loss=656]\n",
      "Evaluating: 100%|██████████| 77/77 [00:07<00:00, 10.47it/s]\n"
     ]
    },
    {
     "name": "stdout",
     "output_type": "stream",
     "text": [
      "Epoch 54/100 [hc=256, lr=0.01] --> Train Loss: 1185.401804, Val Loss: 1410.059566\n"
     ]
    },
    {
     "name": "stderr",
     "output_type": "stream",
     "text": [
      "Epoch 55: 100%|██████████| 1143/1143 [06:09<00:00,  3.09it/s, batch_loss=9.6]    \n",
      "Evaluating: 100%|██████████| 77/77 [00:07<00:00, 10.46it/s]\n"
     ]
    },
    {
     "name": "stdout",
     "output_type": "stream",
     "text": [
      "Epoch 55/100 [hc=256, lr=0.01] --> Train Loss: 1185.401781, Val Loss: 1410.059566\n"
     ]
    },
    {
     "name": "stderr",
     "output_type": "stream",
     "text": [
      "Epoch 56: 100%|██████████| 1143/1143 [06:09<00:00,  3.09it/s, batch_loss=444]    \n",
      "Evaluating: 100%|██████████| 77/77 [00:07<00:00, 10.45it/s]\n"
     ]
    },
    {
     "name": "stdout",
     "output_type": "stream",
     "text": [
      "Epoch 56/100 [hc=256, lr=0.01] --> Train Loss: 1185.401781, Val Loss: 1410.059566\n"
     ]
    },
    {
     "name": "stderr",
     "output_type": "stream",
     "text": [
      "Epoch 57: 100%|██████████| 1143/1143 [06:09<00:00,  3.09it/s, batch_loss=1.69]\n",
      "Evaluating: 100%|██████████| 77/77 [00:07<00:00, 10.47it/s]\n"
     ]
    },
    {
     "name": "stdout",
     "output_type": "stream",
     "text": [
      "Epoch 57/100 [hc=256, lr=0.01] --> Train Loss: 1185.401785, Val Loss: 1410.059566\n"
     ]
    },
    {
     "name": "stderr",
     "output_type": "stream",
     "text": [
      "Epoch 58: 100%|██████████| 1143/1143 [06:10<00:00,  3.09it/s, batch_loss=125]    \n",
      "Evaluating: 100%|██████████| 77/77 [00:07<00:00, 10.45it/s]\n"
     ]
    },
    {
     "name": "stdout",
     "output_type": "stream",
     "text": [
      "Epoch 58/100 [hc=256, lr=0.01] --> Train Loss: 1185.401814, Val Loss: 1410.059566\n"
     ]
    },
    {
     "name": "stderr",
     "output_type": "stream",
     "text": [
      "Epoch 59: 100%|██████████| 1143/1143 [06:09<00:00,  3.09it/s, batch_loss=10.3]\n",
      "Evaluating: 100%|██████████| 77/77 [00:07<00:00, 10.47it/s]\n"
     ]
    },
    {
     "name": "stdout",
     "output_type": "stream",
     "text": [
      "Epoch 59/100 [hc=256, lr=0.01] --> Train Loss: 1185.401788, Val Loss: 1410.059566\n"
     ]
    },
    {
     "name": "stderr",
     "output_type": "stream",
     "text": [
      "Epoch 60: 100%|██████████| 1143/1143 [06:09<00:00,  3.09it/s, batch_loss=6.73]   \n",
      "Evaluating: 100%|██████████| 77/77 [00:07<00:00, 10.46it/s]\n"
     ]
    },
    {
     "name": "stdout",
     "output_type": "stream",
     "text": [
      "Epoch 60/100 [hc=256, lr=0.01] --> Train Loss: 1185.401816, Val Loss: 1410.059566\n"
     ]
    },
    {
     "name": "stderr",
     "output_type": "stream",
     "text": [
      "Epoch 61: 100%|██████████| 1143/1143 [06:09<00:00,  3.10it/s, batch_loss=15.4]   \n",
      "Evaluating: 100%|██████████| 77/77 [00:07<00:00, 10.27it/s]\n"
     ]
    },
    {
     "name": "stdout",
     "output_type": "stream",
     "text": [
      "Epoch 61/100 [hc=256, lr=0.01] --> Train Loss: 1185.401788, Val Loss: 1410.059566\n"
     ]
    },
    {
     "name": "stderr",
     "output_type": "stream",
     "text": [
      "Epoch 62: 100%|██████████| 1143/1143 [06:09<00:00,  3.09it/s, batch_loss=0.996]\n",
      "Evaluating: 100%|██████████| 77/77 [00:07<00:00, 10.48it/s]\n"
     ]
    },
    {
     "name": "stdout",
     "output_type": "stream",
     "text": [
      "Epoch 62/100 [hc=256, lr=0.01] --> Train Loss: 1185.401785, Val Loss: 1410.059566\n"
     ]
    },
    {
     "name": "stderr",
     "output_type": "stream",
     "text": [
      "Epoch 63: 100%|██████████| 1143/1143 [06:09<00:00,  3.09it/s, batch_loss=26.1]  \n",
      "Evaluating: 100%|██████████| 77/77 [00:07<00:00, 10.44it/s]\n"
     ]
    },
    {
     "name": "stdout",
     "output_type": "stream",
     "text": [
      "Epoch 63/100 [hc=256, lr=0.01] --> Train Loss: 1185.401795, Val Loss: 1410.059566\n"
     ]
    },
    {
     "name": "stderr",
     "output_type": "stream",
     "text": [
      "Epoch 64: 100%|██████████| 1143/1143 [06:09<00:00,  3.09it/s, batch_loss=1.5e+3]\n",
      "Evaluating: 100%|██████████| 77/77 [00:07<00:00, 10.48it/s]\n"
     ]
    },
    {
     "name": "stdout",
     "output_type": "stream",
     "text": [
      "Epoch 64/100 [hc=256, lr=0.01] --> Train Loss: 1185.401795, Val Loss: 1410.059566\n"
     ]
    },
    {
     "name": "stderr",
     "output_type": "stream",
     "text": [
      "Epoch 65: 100%|██████████| 1143/1143 [06:09<00:00,  3.09it/s, batch_loss=383]    \n",
      "Evaluating: 100%|██████████| 77/77 [00:07<00:00, 10.47it/s]\n"
     ]
    },
    {
     "name": "stdout",
     "output_type": "stream",
     "text": [
      "Epoch 65/100 [hc=256, lr=0.01] --> Train Loss: 1185.401785, Val Loss: 1410.059566\n"
     ]
    },
    {
     "name": "stderr",
     "output_type": "stream",
     "text": [
      "Epoch 66: 100%|██████████| 1143/1143 [06:09<00:00,  3.09it/s, batch_loss=0.869]\n",
      "Evaluating: 100%|██████████| 77/77 [00:07<00:00, 10.47it/s]\n"
     ]
    },
    {
     "name": "stdout",
     "output_type": "stream",
     "text": [
      "Epoch 66/100 [hc=256, lr=0.01] --> Train Loss: 1185.401809, Val Loss: 1410.059566\n"
     ]
    },
    {
     "name": "stderr",
     "output_type": "stream",
     "text": [
      "Epoch 67: 100%|██████████| 1143/1143 [06:09<00:00,  3.10it/s, batch_loss=1.54]\n",
      "Evaluating: 100%|██████████| 77/77 [00:07<00:00, 10.48it/s]\n"
     ]
    },
    {
     "name": "stdout",
     "output_type": "stream",
     "text": [
      "Epoch 67/100 [hc=256, lr=0.01] --> Train Loss: 1185.401794, Val Loss: 1410.059566\n"
     ]
    },
    {
     "name": "stderr",
     "output_type": "stream",
     "text": [
      "Epoch 68: 100%|██████████| 1143/1143 [06:10<00:00,  3.09it/s, batch_loss=0.879]  \n",
      "Evaluating: 100%|██████████| 77/77 [00:07<00:00, 10.46it/s]\n"
     ]
    },
    {
     "name": "stdout",
     "output_type": "stream",
     "text": [
      "Epoch 68/100 [hc=256, lr=0.01] --> Train Loss: 1185.401809, Val Loss: 1410.059566\n"
     ]
    },
    {
     "name": "stderr",
     "output_type": "stream",
     "text": [
      "Epoch 69: 100%|██████████| 1143/1143 [06:09<00:00,  3.09it/s, batch_loss=69.5] \n",
      "Evaluating: 100%|██████████| 77/77 [00:07<00:00, 10.47it/s]\n"
     ]
    },
    {
     "name": "stdout",
     "output_type": "stream",
     "text": [
      "Epoch 69/100 [hc=256, lr=0.01] --> Train Loss: 1185.401799, Val Loss: 1410.059566\n"
     ]
    },
    {
     "name": "stderr",
     "output_type": "stream",
     "text": [
      "Epoch 70: 100%|██████████| 1143/1143 [06:09<00:00,  3.09it/s, batch_loss=745]    \n",
      "Evaluating: 100%|██████████| 77/77 [00:07<00:00, 10.47it/s]\n"
     ]
    },
    {
     "name": "stdout",
     "output_type": "stream",
     "text": [
      "Epoch 70/100 [hc=256, lr=0.01] --> Train Loss: 1185.401789, Val Loss: 1410.059566\n"
     ]
    },
    {
     "name": "stderr",
     "output_type": "stream",
     "text": [
      "Epoch 71: 100%|██████████| 1143/1143 [06:09<00:00,  3.09it/s, batch_loss=5.86]\n",
      "Evaluating: 100%|██████████| 77/77 [00:07<00:00, 10.46it/s]\n"
     ]
    },
    {
     "name": "stdout",
     "output_type": "stream",
     "text": [
      "Epoch 71/100 [hc=256, lr=0.01] --> Train Loss: 1185.401781, Val Loss: 1410.059566\n"
     ]
    },
    {
     "name": "stderr",
     "output_type": "stream",
     "text": [
      "Epoch 72: 100%|██████████| 1143/1143 [06:09<00:00,  3.09it/s, batch_loss=0.869]\n",
      "Evaluating: 100%|██████████| 77/77 [00:07<00:00, 10.45it/s]\n"
     ]
    },
    {
     "name": "stdout",
     "output_type": "stream",
     "text": [
      "Epoch 72/100 [hc=256, lr=0.01] --> Train Loss: 1185.401792, Val Loss: 1410.059566\n"
     ]
    },
    {
     "name": "stderr",
     "output_type": "stream",
     "text": [
      "Epoch 73: 100%|██████████| 1143/1143 [06:09<00:00,  3.09it/s, batch_loss=14.8]  \n",
      "Evaluating: 100%|██████████| 77/77 [00:07<00:00, 10.47it/s]\n"
     ]
    },
    {
     "name": "stdout",
     "output_type": "stream",
     "text": [
      "Epoch 73/100 [hc=256, lr=0.01] --> Train Loss: 1185.401801, Val Loss: 1410.059566\n"
     ]
    },
    {
     "name": "stderr",
     "output_type": "stream",
     "text": [
      "Epoch 74: 100%|██████████| 1143/1143 [06:09<00:00,  3.09it/s, batch_loss=1.14e+3]\n",
      "Evaluating: 100%|██████████| 77/77 [00:07<00:00, 10.47it/s]\n"
     ]
    },
    {
     "name": "stdout",
     "output_type": "stream",
     "text": [
      "Epoch 74/100 [hc=256, lr=0.01] --> Train Loss: 1185.401794, Val Loss: 1410.059566\n"
     ]
    },
    {
     "name": "stderr",
     "output_type": "stream",
     "text": [
      "Epoch 75: 100%|██████████| 1143/1143 [06:09<00:00,  3.09it/s, batch_loss=69.3]   \n",
      "Evaluating: 100%|██████████| 77/77 [00:07<00:00, 10.44it/s]\n"
     ]
    },
    {
     "name": "stdout",
     "output_type": "stream",
     "text": [
      "Epoch 75/100 [hc=256, lr=0.01] --> Train Loss: 1185.401806, Val Loss: 1410.059566\n"
     ]
    },
    {
     "name": "stderr",
     "output_type": "stream",
     "text": [
      "Epoch 76: 100%|██████████| 1143/1143 [06:09<00:00,  3.09it/s, batch_loss=67.7]   \n",
      "Evaluating: 100%|██████████| 77/77 [00:07<00:00, 10.46it/s]\n"
     ]
    },
    {
     "name": "stdout",
     "output_type": "stream",
     "text": [
      "Epoch 76/100 [hc=256, lr=0.01] --> Train Loss: 1185.401786, Val Loss: 1410.059566\n"
     ]
    },
    {
     "name": "stderr",
     "output_type": "stream",
     "text": [
      "Epoch 77: 100%|██████████| 1143/1143 [06:10<00:00,  3.09it/s, batch_loss=1.12e+4]\n",
      "Evaluating: 100%|██████████| 77/77 [00:07<00:00, 10.35it/s]\n"
     ]
    },
    {
     "name": "stdout",
     "output_type": "stream",
     "text": [
      "Epoch 77/100 [hc=256, lr=0.01] --> Train Loss: 1185.401779, Val Loss: 1410.059566\n"
     ]
    },
    {
     "name": "stderr",
     "output_type": "stream",
     "text": [
      "Epoch 78: 100%|██████████| 1143/1143 [06:09<00:00,  3.09it/s, batch_loss=0.887]\n",
      "Evaluating: 100%|██████████| 77/77 [00:07<00:00, 10.46it/s]\n"
     ]
    },
    {
     "name": "stdout",
     "output_type": "stream",
     "text": [
      "Epoch 78/100 [hc=256, lr=0.01] --> Train Loss: 1185.401773, Val Loss: 1410.059566\n"
     ]
    },
    {
     "name": "stderr",
     "output_type": "stream",
     "text": [
      "Epoch 79: 100%|██████████| 1143/1143 [06:09<00:00,  3.09it/s, batch_loss=0.872]\n",
      "Evaluating: 100%|██████████| 77/77 [00:07<00:00, 10.46it/s]\n"
     ]
    },
    {
     "name": "stdout",
     "output_type": "stream",
     "text": [
      "Epoch 79/100 [hc=256, lr=0.01] --> Train Loss: 1185.401784, Val Loss: 1410.059566\n"
     ]
    },
    {
     "name": "stderr",
     "output_type": "stream",
     "text": [
      "Epoch 80: 100%|██████████| 1143/1143 [06:09<00:00,  3.09it/s, batch_loss=383]    \n",
      "Evaluating: 100%|██████████| 77/77 [00:07<00:00, 10.47it/s]\n"
     ]
    },
    {
     "name": "stdout",
     "output_type": "stream",
     "text": [
      "Epoch 80/100 [hc=256, lr=0.01] --> Train Loss: 1185.401801, Val Loss: 1410.059566\n"
     ]
    },
    {
     "name": "stderr",
     "output_type": "stream",
     "text": [
      "Epoch 81: 100%|██████████| 1143/1143 [06:09<00:00,  3.09it/s, batch_loss=0.899] \n",
      "Evaluating: 100%|██████████| 77/77 [00:07<00:00, 10.46it/s]\n"
     ]
    },
    {
     "name": "stdout",
     "output_type": "stream",
     "text": [
      "Epoch 81/100 [hc=256, lr=0.01] --> Train Loss: 1185.401815, Val Loss: 1410.059566\n"
     ]
    },
    {
     "name": "stderr",
     "output_type": "stream",
     "text": [
      "Epoch 82: 100%|██████████| 1143/1143 [06:09<00:00,  3.09it/s, batch_loss=34.4]   \n",
      "Evaluating: 100%|██████████| 77/77 [00:07<00:00, 10.47it/s]\n"
     ]
    },
    {
     "name": "stdout",
     "output_type": "stream",
     "text": [
      "Epoch 82/100 [hc=256, lr=0.01] --> Train Loss: 1185.401801, Val Loss: 1410.059566\n"
     ]
    },
    {
     "name": "stderr",
     "output_type": "stream",
     "text": [
      "Epoch 83: 100%|██████████| 1143/1143 [06:09<00:00,  3.09it/s, batch_loss=10.8]  \n",
      "Evaluating: 100%|██████████| 77/77 [00:07<00:00, 10.46it/s]\n"
     ]
    },
    {
     "name": "stdout",
     "output_type": "stream",
     "text": [
      "Epoch 83/100 [hc=256, lr=0.01] --> Train Loss: 1185.401789, Val Loss: 1410.059566\n"
     ]
    },
    {
     "name": "stderr",
     "output_type": "stream",
     "text": [
      "Epoch 84: 100%|██████████| 1143/1143 [06:09<00:00,  3.09it/s, batch_loss=30.4]\n",
      "Evaluating: 100%|██████████| 77/77 [00:07<00:00, 10.47it/s]\n"
     ]
    },
    {
     "name": "stdout",
     "output_type": "stream",
     "text": [
      "Epoch 84/100 [hc=256, lr=0.01] --> Train Loss: 1185.401797, Val Loss: 1410.059566\n"
     ]
    },
    {
     "name": "stderr",
     "output_type": "stream",
     "text": [
      "Epoch 85: 100%|██████████| 1143/1143 [06:09<00:00,  3.09it/s, batch_loss=186]  \n",
      "Evaluating: 100%|██████████| 77/77 [00:07<00:00, 10.46it/s]\n"
     ]
    },
    {
     "name": "stdout",
     "output_type": "stream",
     "text": [
      "Epoch 85/100 [hc=256, lr=0.01] --> Train Loss: 1185.401786, Val Loss: 1410.059566\n"
     ]
    },
    {
     "name": "stderr",
     "output_type": "stream",
     "text": [
      "Epoch 86: 100%|██████████| 1143/1143 [06:09<00:00,  3.09it/s, batch_loss=15.7] \n",
      "Evaluating: 100%|██████████| 77/77 [00:07<00:00, 10.46it/s]\n"
     ]
    },
    {
     "name": "stdout",
     "output_type": "stream",
     "text": [
      "Epoch 86/100 [hc=256, lr=0.01] --> Train Loss: 1185.401793, Val Loss: 1410.059566\n"
     ]
    },
    {
     "name": "stderr",
     "output_type": "stream",
     "text": [
      "Epoch 87: 100%|██████████| 1143/1143 [06:10<00:00,  3.09it/s, batch_loss=0.901]  \n",
      "Evaluating: 100%|██████████| 77/77 [00:07<00:00, 10.45it/s]\n"
     ]
    },
    {
     "name": "stdout",
     "output_type": "stream",
     "text": [
      "Epoch 87/100 [hc=256, lr=0.01] --> Train Loss: 1185.401786, Val Loss: 1410.059566\n"
     ]
    },
    {
     "name": "stderr",
     "output_type": "stream",
     "text": [
      "Epoch 88: 100%|██████████| 1143/1143 [06:09<00:00,  3.09it/s, batch_loss=0.848]\n",
      "Evaluating: 100%|██████████| 77/77 [00:07<00:00, 10.47it/s]\n"
     ]
    },
    {
     "name": "stdout",
     "output_type": "stream",
     "text": [
      "Epoch 88/100 [hc=256, lr=0.01] --> Train Loss: 1185.401802, Val Loss: 1410.059566\n"
     ]
    },
    {
     "name": "stderr",
     "output_type": "stream",
     "text": [
      "Epoch 89: 100%|██████████| 1143/1143 [06:09<00:00,  3.09it/s, batch_loss=0.877]  \n",
      "Evaluating: 100%|██████████| 77/77 [00:07<00:00, 10.47it/s]\n"
     ]
    },
    {
     "name": "stdout",
     "output_type": "stream",
     "text": [
      "Epoch 89/100 [hc=256, lr=0.01] --> Train Loss: 1185.401801, Val Loss: 1410.059566\n"
     ]
    },
    {
     "name": "stderr",
     "output_type": "stream",
     "text": [
      "Epoch 90: 100%|██████████| 1143/1143 [06:09<00:00,  3.09it/s, batch_loss=4.38e+3]\n",
      "Evaluating: 100%|██████████| 77/77 [00:07<00:00, 10.47it/s]\n"
     ]
    },
    {
     "name": "stdout",
     "output_type": "stream",
     "text": [
      "Epoch 90/100 [hc=256, lr=0.01] --> Train Loss: 1185.401807, Val Loss: 1410.059566\n"
     ]
    },
    {
     "name": "stderr",
     "output_type": "stream",
     "text": [
      "Epoch 91: 100%|██████████| 1143/1143 [06:09<00:00,  3.09it/s, batch_loss=1.39e+4]\n",
      "Evaluating: 100%|██████████| 77/77 [00:07<00:00, 10.47it/s]\n"
     ]
    },
    {
     "name": "stdout",
     "output_type": "stream",
     "text": [
      "Epoch 91/100 [hc=256, lr=0.01] --> Train Loss: 1185.401773, Val Loss: 1410.059566\n"
     ]
    },
    {
     "name": "stderr",
     "output_type": "stream",
     "text": [
      "Epoch 92: 100%|██████████| 1143/1143 [06:09<00:00,  3.09it/s, batch_loss=165]   \n",
      "Evaluating: 100%|██████████| 77/77 [00:07<00:00, 10.27it/s]\n"
     ]
    },
    {
     "name": "stdout",
     "output_type": "stream",
     "text": [
      "Epoch 92/100 [hc=256, lr=0.01] --> Train Loss: 1185.401809, Val Loss: 1410.059566\n"
     ]
    },
    {
     "name": "stderr",
     "output_type": "stream",
     "text": [
      "Epoch 93: 100%|██████████| 1143/1143 [06:09<00:00,  3.09it/s, batch_loss=0.856]\n",
      "Evaluating: 100%|██████████| 77/77 [00:07<00:00, 10.44it/s]\n"
     ]
    },
    {
     "name": "stdout",
     "output_type": "stream",
     "text": [
      "Epoch 93/100 [hc=256, lr=0.01] --> Train Loss: 1185.401777, Val Loss: 1410.059566\n"
     ]
    },
    {
     "name": "stderr",
     "output_type": "stream",
     "text": [
      "Epoch 94: 100%|██████████| 1143/1143 [06:09<00:00,  3.09it/s, batch_loss=0.897]\n",
      "Evaluating: 100%|██████████| 77/77 [00:07<00:00, 10.46it/s]\n"
     ]
    },
    {
     "name": "stdout",
     "output_type": "stream",
     "text": [
      "Epoch 94/100 [hc=256, lr=0.01] --> Train Loss: 1185.401806, Val Loss: 1410.059566\n"
     ]
    },
    {
     "name": "stderr",
     "output_type": "stream",
     "text": [
      "Epoch 95: 100%|██████████| 1143/1143 [06:09<00:00,  3.09it/s, batch_loss=359]   \n",
      "Evaluating: 100%|██████████| 77/77 [00:07<00:00, 10.47it/s]\n"
     ]
    },
    {
     "name": "stdout",
     "output_type": "stream",
     "text": [
      "Epoch 95/100 [hc=256, lr=0.01] --> Train Loss: 1185.401785, Val Loss: 1410.059566\n"
     ]
    },
    {
     "name": "stderr",
     "output_type": "stream",
     "text": [
      "Epoch 96: 100%|██████████| 1143/1143 [06:09<00:00,  3.09it/s, batch_loss=0.914] \n",
      "Evaluating: 100%|██████████| 77/77 [00:07<00:00, 10.46it/s]\n"
     ]
    },
    {
     "name": "stdout",
     "output_type": "stream",
     "text": [
      "Epoch 96/100 [hc=256, lr=0.01] --> Train Loss: 1185.401801, Val Loss: 1410.059566\n"
     ]
    },
    {
     "name": "stderr",
     "output_type": "stream",
     "text": [
      "Epoch 97: 100%|██████████| 1143/1143 [06:10<00:00,  3.08it/s, batch_loss=6.05e+3]\n",
      "Evaluating: 100%|██████████| 77/77 [00:07<00:00, 10.47it/s]\n"
     ]
    },
    {
     "name": "stdout",
     "output_type": "stream",
     "text": [
      "Epoch 97/100 [hc=256, lr=0.01] --> Train Loss: 1185.401777, Val Loss: 1410.059566\n"
     ]
    },
    {
     "name": "stderr",
     "output_type": "stream",
     "text": [
      "Epoch 98: 100%|██████████| 1143/1143 [06:09<00:00,  3.09it/s, batch_loss=72.2]\n",
      "Evaluating: 100%|██████████| 77/77 [00:07<00:00, 10.45it/s]\n"
     ]
    },
    {
     "name": "stdout",
     "output_type": "stream",
     "text": [
      "Epoch 98/100 [hc=256, lr=0.01] --> Train Loss: 1185.401797, Val Loss: 1410.059566\n"
     ]
    },
    {
     "name": "stderr",
     "output_type": "stream",
     "text": [
      "Epoch 99: 100%|██████████| 1143/1143 [06:09<00:00,  3.09it/s, batch_loss=84.5]   \n",
      "Evaluating: 100%|██████████| 77/77 [00:07<00:00, 10.47it/s]\n"
     ]
    },
    {
     "name": "stdout",
     "output_type": "stream",
     "text": [
      "Epoch 99/100 [hc=256, lr=0.01] --> Train Loss: 1185.401786, Val Loss: 1410.059566\n"
     ]
    },
    {
     "name": "stderr",
     "output_type": "stream",
     "text": [
      "Epoch 100: 100%|██████████| 1143/1143 [06:09<00:00,  3.09it/s, batch_loss=130]    \n",
      "Evaluating: 100%|██████████| 77/77 [00:07<00:00, 10.46it/s]"
     ]
    },
    {
     "name": "stdout",
     "output_type": "stream",
     "text": [
      "Epoch 100/100 [hc=256, lr=0.01] --> Train Loss: 1185.401805, Val Loss: 1410.059566\n"
     ]
    },
    {
     "name": "stderr",
     "output_type": "stream",
     "text": [
      "\n"
     ]
    }
   ],
   "execution_count": 46
  },
  {
   "metadata": {
    "ExecuteTime": {
     "end_time": "2025-01-22T08:22:20.088783Z",
     "start_time": "2025-01-22T08:22:19.833221Z"
    }
   },
   "cell_type": "code",
   "source": [
    "# ==== Plot a heatmap of the best validation losses ====\n",
    "plt.figure(figsize=(8, 6))\n",
    "# 'origin=\"lower\"' can be used if you want the (0,0) in bottom-left corner\n",
    "im = plt.imshow(best_val_losses_map, cmap=\"viridis\", aspect=\"auto\")\n",
    "plt.colorbar(im, label='Best Validation Loss')\n",
    "plt.xticks(range(len(lrs)), [str(lr) for lr in lrs])\n",
    "plt.yticks(range(len(hcs)), [str(hc) for hc in hcs])\n",
    "plt.xlabel(\"Learning Rate\")\n",
    "plt.ylabel(\"Hidden Channels (hc)\")\n",
    "plt.title(\"Best Validation Loss Heatmap\")\n",
    "plt.tight_layout()\n",
    "heatmap_filename = f\"best_val_loss_heatmap_{datetime.now().strftime('%y%m%d-%H%M%S')}.png\"\n",
    "plt.savefig(heatmap_filename)\n",
    "plt.show()\n",
    "\n",
    "print(\"Grid search complete!\")\n",
    "print(\"Best validation losses map:\\n\", best_val_losses_map)"
   ],
   "id": "6c225adad09ab96e",
   "outputs": [
    {
     "data": {
      "text/plain": [
       "<Figure size 800x600 with 2 Axes>"
      ],
      "image/png": "[encoded data removed]"
     },
     "metadata": {},
     "output_type": "display_data"
    },
    {
     "name": "stdout",
     "output_type": "stream",
     "text": [
      "Grid search complete!\n",
      "Best validation losses map:\n",
      " [[1.39036490e-01 1.52673263e-01]\n",
      " [1.36701421e-01 1.53047985e-01]\n",
      " [1.39333141e-01 1.41005957e+03]]\n"
     ]
    }
   ],
   "execution_count": 47
  },
  {
   "cell_type": "code",
   "source": [
    "# # Training loop\n",
    "# num_epochs = 100\n",
    "# for epoch in range(num_epochs):\n",
    "#     train_loss = train_one_epoch(model, train_loader, criterion, optimizer, device, epoch, report_freq=256, save_after_batch=False, save_path=save_path)\n",
    "#     \n",
    "#     val_loss = evaluate(model, val_loader, criterion, device)\n",
    "# \n",
    "#     # Print progress for each epoch\n",
    "#     print(f\"Epoch {epoch+1}/{num_epochs}, Training Loss: {train_loss:.4f}, Validation Loss: {val_loss:.8f}\")\n",
    "# \n",
    "#     # Save losses for plotting\n",
    "#     train_losses.append(train_loss)\n",
    "#     val_losses.append(val_loss)\n",
    "# \n",
    "#     # Step the scheduler\n",
    "#     scheduler.step(val_loss)\n",
    "# \n",
    "# timestamp = datetime.now().strftime('%y%m%d-%H%M%S')\n",
    "# # Plot the losses\n",
    "# plt.figure()\n",
    "# plt.plot(range(1, len(train_losses) + 1), train_losses, label='Training Loss')\n",
    "# plt.plot(range(1, len(val_losses) + 1), val_losses, label='Validation Loss')\n",
    "# plt.xlabel('Epoch')\n",
    "# plt.ylabel('Loss')\n",
    "# plt.title('Training and Validation Loss over Epochs')\n",
    "# plt.legend()\n",
    "# plt.grid(True)\n",
    "# plt.yscale('log')  # Set the y-axis to log scale\n",
    "# plt.savefig(f'loss_plot_{timestamp}.png')  # Save the plot as a PNG file\n",
    "# plt.show()  # Display the plot"
   ],
   "metadata": {
    "collapsed": false
   },
   "id": "187c632e4ec0f2ce",
   "outputs": [],
   "execution_count": null
  },
  {
   "cell_type": "code",
   "source": [
    "# Save the model weights at the end of training\n",
    "# save_model(model, save_path)\n",
    "save_path_posttraining = f'{save_path[:-4]}_e{len(train_losses)}.pth'\n",
    "save_model(model, save_path_posttraining)\n",
    "print(f\"Saved model weights to {save_path_posttraining}\")"
   ],
   "metadata": {
    "collapsed": false,
    "ExecuteTime": {
     "end_time": "2025-01-19T20:19:23.166501Z",
     "start_time": "2025-01-19T20:19:19.974691Z"
    }
   },
   "id": "f62dd41019c7b158",
   "outputs": [
    {
     "name": "stdout",
     "output_type": "stream",
     "text": [
      "Saved model weights to ./model_weights_hc256_lr1e-03_wd1e-05_ss10_gamma1e-01_e120.pth\n"
     ]
    }
   ],
   "execution_count": 34
  },
  {
   "cell_type": "code",
   "source": [
    "# Load older model weights\n",
    "# load_path = './model_weights_e101.pth'\n",
    "# load_model(model, load_path)"
   ],
   "metadata": {
    "collapsed": false,
    "ExecuteTime": {
     "end_time": "2025-01-19T20:19:23.190918Z",
     "start_time": "2025-01-19T20:19:23.188298Z"
    }
   },
   "id": "d89299ed9d683809",
   "outputs": [],
   "execution_count": 35
  },
  {
   "cell_type": "code",
   "source": [
    "# Get a batch from the validation loader\n",
    "inputs, targets = next(iter(val_loader))\n",
    "inputs, targets = inputs.to(device), targets.to(device)\n",
    "\n",
    "# Get a single sample from the batch\n",
    "input_sample = inputs[36]\n",
    "target_sample = targets[36]\n",
    "\n",
    "# Run the model to get predictions\n",
    "model.eval()\n",
    "with torch.no_grad():\n",
    "    output_sample = model(input_sample.unsqueeze(0)).squeeze(0)\n",
    "\n",
    "# Plot the inputs, predictions, and targets\n",
    "plot_predictions_and_targets(input_sample, output_sample, target_sample)\n"
   ],
   "metadata": {
    "collapsed": false,
    "ExecuteTime": {
     "end_time": "2025-01-19T20:19:23.933424Z",
     "start_time": "2025-01-19T20:19:23.555483Z"
    }
   },
   "id": "cd1231284e89a2bd",
   "outputs": [
    {
     "ename": "IndexError",
     "evalue": "index 2 is out of bounds for dimension 0 with size 2",
     "output_type": "error",
     "traceback": [
      "\u001B[1;31m---------------------------------------------------------------------------\u001B[0m",
      "\u001B[1;31mIndexError\u001B[0m                                Traceback (most recent call last)",
      "Cell \u001B[1;32mIn[36], line 15\u001B[0m\n\u001B[0;32m     12\u001B[0m     output_sample \u001B[38;5;241m=\u001B[39m model(input_sample\u001B[38;5;241m.\u001B[39munsqueeze(\u001B[38;5;241m0\u001B[39m))\u001B[38;5;241m.\u001B[39msqueeze(\u001B[38;5;241m0\u001B[39m)\n\u001B[0;32m     14\u001B[0m \u001B[38;5;66;03m# Plot the inputs, predictions, and targets\u001B[39;00m\n\u001B[1;32m---> 15\u001B[0m plot_predictions_and_targets(input_sample, output_sample, target_sample)\n",
      "Cell \u001B[1;32mIn[28], line 57\u001B[0m, in \u001B[0;36mplot_predictions_and_targets\u001B[1;34m(inputs, outputs, targets, save, save_dir, file_suffix)\u001B[0m\n\u001B[0;32m     54\u001B[0m target_filename \u001B[38;5;241m=\u001B[39m \u001B[38;5;124mf\u001B[39m\u001B[38;5;124m'\u001B[39m\u001B[38;5;132;01m{\u001B[39;00msave_dir\u001B[38;5;132;01m}\u001B[39;00m\u001B[38;5;124m/target_\u001B[39m\u001B[38;5;132;01m{\u001B[39;00mfile_suffix\u001B[38;5;132;01m}\u001B[39;00m\u001B[38;5;124m.png\u001B[39m\u001B[38;5;124m'\u001B[39m\n\u001B[0;32m     56\u001B[0m input_labels \u001B[38;5;241m=\u001B[39m [(\u001B[38;5;241m0\u001B[39m, \u001B[38;5;124m'\u001B[39m\u001B[38;5;124mgeometry\u001B[39m\u001B[38;5;124m'\u001B[39m), (\u001B[38;5;241m1\u001B[39m, \u001B[38;5;124m'\u001B[39m\u001B[38;5;124mwaveform\u001B[39m\u001B[38;5;124m'\u001B[39m), (\u001B[38;5;241m2\u001B[39m, \u001B[38;5;124m'\u001B[39m\u001B[38;5;124mband\u001B[39m\u001B[38;5;124m'\u001B[39m)]\n\u001B[1;32m---> 57\u001B[0m plot_inputs(inputs, \u001B[38;5;124m'\u001B[39m\u001B[38;5;124mInputs\u001B[39m\u001B[38;5;124m'\u001B[39m, input_labels, save\u001B[38;5;241m=\u001B[39msave, save_path\u001B[38;5;241m=\u001B[39minput_filename)\n\u001B[0;32m     59\u001B[0m \u001B[38;5;66;03m# Compute global min and max for shared colorbar between outputs and targets\u001B[39;00m\n\u001B[0;32m     60\u001B[0m vmin \u001B[38;5;241m=\u001B[39m \u001B[38;5;28mmin\u001B[39m(np\u001B[38;5;241m.\u001B[39mmin(outputs\u001B[38;5;241m.\u001B[39mcpu()\u001B[38;5;241m.\u001B[39mnumpy()), np\u001B[38;5;241m.\u001B[39mmin(targets\u001B[38;5;241m.\u001B[39mcpu()\u001B[38;5;241m.\u001B[39mnumpy()))\n",
      "Cell \u001B[1;32mIn[28], line 44\u001B[0m, in \u001B[0;36mplot_inputs\u001B[1;34m(data, title, labels, save, save_path)\u001B[0m\n\u001B[0;32m     42\u001B[0m \u001B[38;5;28;01mdef\u001B[39;00m \u001B[38;5;21mplot_inputs\u001B[39m(data, title, labels, save\u001B[38;5;241m=\u001B[39m\u001B[38;5;28;01mFalse\u001B[39;00m, save_path\u001B[38;5;241m=\u001B[39m\u001B[38;5;124m'\u001B[39m\u001B[38;5;124mexample_plot.png\u001B[39m\u001B[38;5;124m'\u001B[39m):\n\u001B[0;32m     43\u001B[0m     \u001B[38;5;66;03m# Plot inputs with layout (1, 3) and custom figure size\u001B[39;00m\n\u001B[1;32m---> 44\u001B[0m     plot_sample(data, title, labels, shared_colorbar\u001B[38;5;241m=\u001B[39m\u001B[38;5;28;01mTrue\u001B[39;00m, layout\u001B[38;5;241m=\u001B[39m(\u001B[38;5;241m1\u001B[39m, \u001B[38;5;241m3\u001B[39m), save\u001B[38;5;241m=\u001B[39msave, save_path\u001B[38;5;241m=\u001B[39msave_path)\n",
      "Cell \u001B[1;32mIn[28], line 21\u001B[0m, in \u001B[0;36mplot_sample\u001B[1;34m(data, title, labels, shared_colorbar, vmin, vmax, layout, save, save_path)\u001B[0m\n\u001B[0;32m     18\u001B[0m     \u001B[38;5;28;01mraise\u001B[39;00m \u001B[38;5;167;01mValueError\u001B[39;00m(\u001B[38;5;124m\"\u001B[39m\u001B[38;5;124mUnsupported layout\u001B[39m\u001B[38;5;124m\"\u001B[39m)\n\u001B[0;32m     20\u001B[0m \u001B[38;5;28;01mfor\u001B[39;00m ax, (idx, label) \u001B[38;5;129;01min\u001B[39;00m \u001B[38;5;28mzip\u001B[39m(axes\u001B[38;5;241m.\u001B[39mflatten(), labels):\n\u001B[1;32m---> 21\u001B[0m     im \u001B[38;5;241m=\u001B[39m ax\u001B[38;5;241m.\u001B[39mimshow(data[idx, :, :]\u001B[38;5;241m.\u001B[39mcpu(), cmap\u001B[38;5;241m=\u001B[39m\u001B[38;5;124m'\u001B[39m\u001B[38;5;124mviridis\u001B[39m\u001B[38;5;124m'\u001B[39m, vmin\u001B[38;5;241m=\u001B[39mvmin \u001B[38;5;28;01mif\u001B[39;00m shared_colorbar \u001B[38;5;28;01melse\u001B[39;00m \u001B[38;5;28;01mNone\u001B[39;00m, vmax\u001B[38;5;241m=\u001B[39mvmax \u001B[38;5;28;01mif\u001B[39;00m shared_colorbar \u001B[38;5;28;01melse\u001B[39;00m \u001B[38;5;28;01mNone\u001B[39;00m)\n\u001B[0;32m     22\u001B[0m     ax\u001B[38;5;241m.\u001B[39mset_title(label)\n\u001B[0;32m     23\u001B[0m     \u001B[38;5;28;01mif\u001B[39;00m \u001B[38;5;129;01mnot\u001B[39;00m shared_colorbar:\n",
      "\u001B[1;31mIndexError\u001B[0m: index 2 is out of bounds for dimension 0 with size 2"
     ]
    },
    {
     "data": {
      "text/plain": [
       "<Figure size 1200x400 with 3 Axes>"
      ],
      "image/png": "[encoded data removed]"
     },
     "metadata": {},
     "output_type": "display_data"
    }
   ],
   "execution_count": 36
  },
  {
   "metadata": {
    "ExecuteTime": {
     "end_time": "2025-01-19T20:20:27.356367Z",
     "start_time": "2025-01-19T20:20:27.350804Z"
    }
   },
   "cell_type": "code",
   "source": [
    "def plot_model_weights_histogram(model, log_scale=False, print_analytics=False):\n",
    "    \"\"\"\n",
    "    Plots a histogram of the weight values of a given model.\n",
    "    \n",
    "    Parameters:\n",
    "        model: The model object (e.g., PyTorch or TensorFlow model).\n",
    "        log_scale (bool): If True, the y-axis of the histogram is set to logarithmic scale.\n",
    "        print_analytics (bool): If True, prints the mean, standard deviation, and total number of weights.\n",
    "    \"\"\"\n",
    "    # Extract all weight values\n",
    "    weights = []\n",
    "\n",
    "    # For PyTorch model\n",
    "    if hasattr(model, \"parameters\"):\n",
    "        for param in model.parameters():\n",
    "            if param.requires_grad:  # Focus only on trainable parameters\n",
    "                weights.append(param.data.cpu().numpy().flatten())\n",
    "\n",
    "    # For TensorFlow/Keras model\n",
    "    elif hasattr(model, \"trainable_weights\"):\n",
    "        for layer_weights in model.trainable_weights:\n",
    "            weights.append(layer_weights.numpy().flatten())\n",
    "\n",
    "    else:\n",
    "        raise ValueError(\"Unsupported model type. The model must be a PyTorch or TensorFlow model.\")\n",
    "\n",
    "    # Flatten and concatenate all weights into a single array\n",
    "    all_weights = np.concatenate(weights)\n",
    "\n",
    "    # Print analytics if the flag is set\n",
    "    if print_analytics:\n",
    "        mean = np.mean(all_weights)\n",
    "        std_dev = np.std(all_weights)\n",
    "        total_weights = all_weights.size\n",
    "        print(f\"Model Weight Analytics:\")\n",
    "        print(f\"  Mean: {mean:.4f}\")\n",
    "        print(f\"  Standard Deviation: {std_dev:.4f}\")\n",
    "        print(f\"  Total Number of Weights: {total_weights}\")\n",
    "\n",
    "    # Plot histogram\n",
    "    plt.figure(figsize=(10, 6))\n",
    "    plt.hist(all_weights, bins=100, alpha=0.75, color='blue', edgecolor='black')\n",
    "    plt.title(\"Histogram of Model Weight Values\")\n",
    "    plt.xlabel(\"Weight Value\")\n",
    "    plt.ylabel(\"Frequency\")\n",
    "\n",
    "    if log_scale:\n",
    "        plt.yscale('log')  # Set y-axis to logarithmic scale\n",
    "        plt.ylabel(\"Frequency (log scale)\")\n",
    "\n",
    "    plt.grid(axis='y', alpha=0.75)\n",
    "    plt.show()"
   ],
   "id": "bfed4b51d2b8d757",
   "outputs": [],
   "execution_count": 39
  },
  {
   "metadata": {
    "ExecuteTime": {
     "end_time": "2025-01-19T20:20:31.806050Z",
     "start_time": "2025-01-19T20:20:28.125213Z"
    }
   },
   "cell_type": "code",
   "source": "plot_model_weights_histogram(model, log_scale=True, print_analytics=True)",
   "id": "c8e4b3a36886b2a5",
   "outputs": [
    {
     "name": "stdout",
     "output_type": "stream",
     "text": [
      "Model Weight Analytics:\n",
      "  Mean: 0.0011\n",
      "  Standard Deviation: 0.2514\n",
      "  Total Number of Weights: 285609220\n"
     ]
    },
    {
     "data": {
      "text/plain": [
       "<Figure size 1000x600 with 1 Axes>"
      ],
      "image/png": "[encoded data removed]"
     },
     "metadata": {},
     "output_type": "display_data"
    }
   ],
   "execution_count": 40
  },
  {
   "metadata": {
    "ExecuteTime": {
     "end_time": "2025-01-19T20:20:35.619925Z",
     "start_time": "2025-01-19T20:20:32.669096Z"
    }
   },
   "cell_type": "code",
   "source": "initialized_model = FourierNeuralOperator(modes_height=design_res, modes_width=design_res, in_channels=3, out_channels=4, hidden=hc).to(device)",
   "id": "c15356a23670e1f2",
   "outputs": [],
   "execution_count": 41
  },
  {
   "metadata": {
    "ExecuteTime": {
     "end_time": "2025-01-19T20:20:38.649761Z",
     "start_time": "2025-01-19T20:20:35.629935Z"
    }
   },
   "cell_type": "code",
   "source": "plot_model_weights_histogram(initialized_model, log_scale=True, print_analytics=True)",
   "id": "56993c9774faabf",
   "outputs": [
    {
     "name": "stdout",
     "output_type": "stream",
     "text": [
      "Model Weight Analytics:\n",
      "  Mean: 0.0000\n",
      "  Standard Deviation: 0.0442\n",
      "  Total Number of Weights: 285609476\n"
     ]
    },
    {
     "data": {
      "text/plain": [
       "<Figure size 1000x600 with 1 Axes>"
      ],
      "image/png": "[encoded data removed]"
     },
     "metadata": {},
     "output_type": "display_data"
    }
   ],
   "execution_count": 42
  },
  {
   "metadata": {
    "ExecuteTime": {
     "end_time": "2025-01-07T21:21:15.705610Z",
     "start_time": "2025-01-07T21:21:15.691928Z"
    }
   },
   "cell_type": "code",
   "source": [
    "def process_dataloader(model, dataloader, save_folder, split_name, device='cpu', prefix=\"\"):\n",
    "    \"\"\"\n",
    "    Process a single dataloader, generate predictions, and save predictions, targets, and inputs.\n",
    "\n",
    "    Parameters:\n",
    "    - model: Trained PyTorch model.\n",
    "    - dataloader: DataLoader to process.\n",
    "    - save_folder: Path to save the output files.\n",
    "    - split_name: Identifier for the dataset split (e.g., 'train', 'validation', or 'test').\n",
    "    - device: Device to run the model on ('cpu' or 'cuda').\n",
    "    - prefix: String to prefix the file names with.\n",
    "    \"\"\"\n",
    "    all_predictions, all_targets, all_inputs = [], [], []\n",
    "\n",
    "    # Ensure the model is in evaluation mode\n",
    "    model.eval()\n",
    "    model.to(device)\n",
    "\n",
    "    with torch.no_grad():\n",
    "        for batch in dataloader:\n",
    "            # Assuming dataloader returns (inputs, targets)\n",
    "            inputs, targets = batch\n",
    "            inputs, targets = inputs.to(device), targets.to(device)\n",
    "\n",
    "            # Generate predictions\n",
    "            predictions = model(inputs)\n",
    "\n",
    "            # Store inputs, targets, and predictions\n",
    "            all_predictions.append(predictions.cpu())\n",
    "            all_targets.append(targets.cpu())\n",
    "            all_inputs.append(inputs.cpu())\n",
    "\n",
    "    # Concatenate all batches into single tensors\n",
    "    all_predictions = torch.cat(all_predictions, dim=0)\n",
    "    all_targets = torch.cat(all_targets, dim=0)\n",
    "    all_inputs = torch.cat(all_inputs, dim=0)\n",
    "\n",
    "    # Save tensors to files\n",
    "    os.makedirs(save_folder, exist_ok=True)\n",
    "    torch.save(all_predictions, os.path.join(save_folder, f\"{prefix}{split_name}_predictions.pt\"))\n",
    "    torch.save(all_targets, os.path.join(save_folder, f\"{prefix}{split_name}_targets.pt\"))\n",
    "    torch.save(all_inputs, os.path.join(save_folder, f\"{prefix}{split_name}_inputs.pt\"))\n",
    "\n",
    "    print(f\"Saved {split_name} predictions, targets, and inputs to {save_folder}\")\n",
    "\n",
    "\n",
    "def save_predictions(model, train_loader, val_loader, test_loader, save_folder, device='cpu', prefix=\"\", combine_datasets=False):\n",
    "    \"\"\"\n",
    "    Generate predictions for train, validation, and test datasets, or their combination, and save them to files.\n",
    "\n",
    "    Parameters:\n",
    "    - model: Trained PyTorch model.\n",
    "    - train_loader: DataLoader for the training dataset.\n",
    "    - val_loader: DataLoader for the validation dataset.\n",
    "    - test_loader: DataLoader for the test dataset.\n",
    "    - save_folder: Path to save the output files.\n",
    "    - device: Device to run the model on ('cpu' or 'cuda').\n",
    "    - prefix: String to prefix the file names with.\n",
    "    - combine_datasets (bool): If True, combine all datasets before processing.\n",
    "    \"\"\"\n",
    "    if combine_datasets:\n",
    "        print(\"Combining training, validation, and test datasets...\")\n",
    "        combined_dataset = ConcatDataset([\n",
    "            train_loader.dataset,\n",
    "            val_loader.dataset,\n",
    "            test_loader.dataset\n",
    "        ])\n",
    "        combined_loader = DataLoader(combined_dataset, batch_size=train_loader.batch_size, shuffle=False)\n",
    "        process_dataloader(model, combined_loader, save_folder, \"combined\", device=device, prefix=prefix)\n",
    "    else:\n",
    "        # Process train, validation, and test loaders separately\n",
    "        process_dataloader(model, train_loader, save_folder, \"train\", device=device, prefix=prefix)\n",
    "        process_dataloader(model, val_loader, save_folder, \"validation\", device=device, prefix=prefix)\n",
    "        process_dataloader(model, test_loader, save_folder, \"test\", device=device, prefix=prefix)"
   ],
   "id": "a04108f934f9534a",
   "outputs": [],
   "execution_count": 53
  },
  {
   "metadata": {
    "jupyter": {
     "is_executing": true
    },
    "ExecuteTime": {
     "start_time": "2025-01-07T21:21:59.068276Z"
    }
   },
   "cell_type": "code",
   "source": "save_predictions(model, train_loader, val_loader, test_loader, \"prediction target datasets\", device='cuda', prefix=\"hc256_250107_\")",
   "id": "9e07fc1905bb8dd8",
   "outputs": [],
   "execution_count": null
  },
  {
   "cell_type": "code",
   "source": [
    "def save_sample_predictions(sample_num, interval, filename_suffix, file_path, model, val_loader, device, start_sample=0, plot_preview=False):\n",
    "    # Ensure the directory exists, create if not\n",
    "    os.makedirs(file_path, exist_ok=True)\n",
    "\n",
    "    # Get a batch from the validation loader\n",
    "    inputs, targets = next(iter(val_loader))\n",
    "    inputs, targets = inputs.to(device), targets.to(device)\n",
    "\n",
    "    # Loop through the samples based on sample_num\n",
    "    for i in range(sample_num):\n",
    "        # Calculate the current sample index based on start_sample and interval\n",
    "        current_sample = start_sample + i * interval\n",
    "\n",
    "        # Make sure the current sample index is within bounds\n",
    "        if current_sample >= len(inputs):\n",
    "            print(f\"Sample index {current_sample} exceeds the number of available samples. Stopping loop.\")\n",
    "            break\n",
    "\n",
    "        # Extract the current sample for inputs and targets\n",
    "        input_sample = inputs[current_sample]\n",
    "        target_sample = targets[current_sample]\n",
    "\n",
    "        # Run the model to get predictions\n",
    "        model.eval()\n",
    "        with torch.no_grad():\n",
    "            output_sample = model(input_sample.unsqueeze(0)).squeeze(0)\n",
    "\n",
    "        # Generate the file suffix for this specific sample\n",
    "        file_suffix = f'sample{i+1}_{filename_suffix}'\n",
    "\n",
    "        # Plot and save the inputs, predictions, and targets using the new functionality\n",
    "        plot_predictions_and_targets(\n",
    "            input_sample,\n",
    "            output_sample,\n",
    "            target_sample,\n",
    "            save=True,                   # Save the plots\n",
    "            save_dir=file_path,           # Directory to save the plots\n",
    "            file_suffix=file_suffix       # Suffix to make filenames unique\n",
    "        )\n",
    "\n",
    "        # Optionally preview the plots if plot_preview is True\n",
    "        if plot_preview:\n",
    "            plot_predictions_and_targets(\n",
    "                input_sample,\n",
    "                output_sample,\n",
    "                target_sample,\n",
    "                save=False                 # Only display the plots\n",
    "            )\n",
    "\n",
    "        print(f'Saved sample {i+1} with suffix {file_suffix} in {file_path}')\n"
   ],
   "metadata": {
    "collapsed": false,
    "ExecuteTime": {
     "end_time": "2025-01-07T17:14:12.176174Z",
     "start_time": "2025-01-07T17:14:12.160038Z"
    }
   },
   "id": "6444107e946f4e73",
   "outputs": [],
   "execution_count": 32
  },
  {
   "metadata": {},
   "cell_type": "code",
   "source": [
    "figure_folder = 'figures/hc128'\n",
    "figure_suffix = f'hc{hc}_lr{lr:.0e}_wd{wd:.0e}_ss{ss}_gamma{gamma:.0e}'\n",
    "save_sample_predictions(16, 8, figure_suffix, figure_folder, model, val_loader, device)\n"
   ],
   "id": "fbc187dba792988a",
   "outputs": [],
   "execution_count": null
  },
  {
   "metadata": {
    "ExecuteTime": {
     "end_time": "2025-01-07T17:14:22.177843Z",
     "start_time": "2025-01-07T17:14:22.175257Z"
    }
   },
   "cell_type": "code",
   "source": "",
   "id": "2d8b341ada4aef44",
   "outputs": [],
   "execution_count": null
  }
 ],
 "metadata": {
  "kernelspec": {
   "display_name": "Python 3",
   "language": "python",
   "name": "python3"
  },
  "language_info": {
   "codemirror_mode": {
    "name": "ipython",
    "version": 2
   },
   "file_extension": ".py",
   "mimetype": "text/x-python",
   "name": "python",
   "nbconvert_exporter": "python",
   "pygments_lexer": "ipython2",
   "version": "2.7.6"
  }
 },
 "nbformat": 4,
 "nbformat_minor": 5
}
