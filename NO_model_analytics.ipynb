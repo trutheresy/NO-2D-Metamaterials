{
 "cells": [
  {
   "cell_type": "code",
   "id": "1bd28adb8509702c",
   "metadata": {
    "ExecuteTime": {
     "end_time": "2024-11-13T18:01:35.509374Z",
     "start_time": "2024-11-13T18:01:35.506051Z"
    }
   },
   "source": [
    "import torch\n",
    "import matplotlib.pyplot as plt\n",
    "import wandb\n",
    "#import torch.utils.tensorboard as tutb\n",
    "import os\n",
    "\n",
    "def plot_model_weights_histogram(model_path):\n",
    "    # Load the model's state dictionary\n",
    "    state_dict = torch.load(model_path, map_location=torch.device('cpu'))\n",
    "\n",
    "    # Extract weights from each layer and combine them into a single list\n",
    "    weights = []\n",
    "    for param_tensor in state_dict:\n",
    "        if \"weight\" in param_tensor:  # Look only for weight tensors\n",
    "            weights.extend(state_dict[param_tensor].cpu().numpy().flatten())\n",
    "\n",
    "    # Plot histogram\n",
    "    plt.figure(figsize=(10, 6))\n",
    "    plt.hist(weights, bins=50, alpha=0.75)\n",
    "    plt.xlabel('Weight values')\n",
    "    plt.ylabel('Frequency')\n",
    "    plt.title('Histogram of Model Weights')\n",
    "    plt.grid(True)\n",
    "    plt.show()\n"
   ],
   "outputs": [],
   "execution_count": 6
  },
  {
   "metadata": {
    "collapsed": true,
    "jupyter": {
     "is_executing": true
    },
    "ExecuteTime": {
     "start_time": "2024-11-13T18:01:36.107924Z"
    }
   },
   "cell_type": "code",
   "source": [
    "# Example usage\n",
    "plot_model_weights_histogram('model_weights/RAdam_20241113_004451/RAdam_epoch_3_lr=0.01_weight_decay=0.pt')"
   ],
   "id": "initial_id",
   "outputs": [
    {
     "name": "stderr",
     "output_type": "stream",
     "text": [
      "C:\\Users\\hz283\\AppData\\Local\\Temp\\ipykernel_60800\\2814157227.py:9: FutureWarning: You are using `torch.load` with `weights_only=False` (the current default value), which uses the default pickle module implicitly. It is possible to construct malicious pickle data which will execute arbitrary code during unpickling (See https://github.com/pytorch/pytorch/blob/main/SECURITY.md#untrusted-models for more details). In a future release, the default value for `weights_only` will be flipped to `True`. This limits the functions that could be executed during unpickling. Arbitrary objects will no longer be allowed to be loaded via this mode unless they are explicitly allowlisted by the user via `torch.serialization.add_safe_globals`. We recommend you start setting `weights_only=True` for any use case where you don't have full control of the loaded file. Please open an issue on GitHub for any issues related to this experimental feature.\n",
      "  state_dict = torch.load(model_path, map_location=torch.device('cpu'))\n"
     ]
    }
   ],
   "execution_count": null
  },
  {
   "metadata": {},
   "cell_type": "code",
   "outputs": [],
   "execution_count": null,
   "source": "",
   "id": "e6a36296b1b2ed1b"
  }
 ],
 "metadata": {
  "kernelspec": {
   "display_name": "Python 3",
   "language": "python",
   "name": "python3"
  },
  "language_info": {
   "codemirror_mode": {
    "name": "ipython",
    "version": 2
   },
   "file_extension": ".py",
   "mimetype": "text/x-python",
   "name": "python",
   "nbconvert_exporter": "python",
   "pygments_lexer": "ipython2",
   "version": "2.7.6"
  }
 },
 "nbformat": 4,
 "nbformat_minor": 5
}
