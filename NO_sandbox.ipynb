{
 "cells": [
  {
   "cell_type": "code",
   "execution_count": 39,
   "id": "initial_id",
   "metadata": {
    "collapsed": true,
    "ExecuteTime": {
     "end_time": "2024-03-25T07:11:22.696762200Z",
     "start_time": "2024-03-25T07:11:22.667755700Z"
    }
   },
   "outputs": [],
   "source": [
    "# Import modules for building a neural operator model\n",
    "import numpy as np\n",
    "import scipy as sp\n",
    "import torch\n",
    "import torch.optim as optim\n",
    "\n",
    "# Import specialized neural operator model tools\n",
    "from neuralop.models import FNO, TFNO\n",
    "from neuralop import Trainer\n",
    "from neuralop.datasets import load_darcy_flow_small\n",
    "from neuralop.utils import count_model_params\n",
    "from neuralop.datasets import data_transforms\n",
    "from neuralop import LpLoss, H1Loss\n",
    "\n",
    "# For creating datasets and data loaders for training and evaluation\n",
    "from torch.utils.data import DataLoader, Dataset, TensorDataset, random_split\n",
    "\n",
    "# Optional: torchvision for augmentations and transformations (if working with image-like data)\n",
    "import torchvision.transforms as transforms\n",
    "\n",
    "# For plotting and visualization\n",
    "import matplotlib.pyplot as plt\n",
    "\n",
    "# Optional: Use tqdm for progress bars during training and evaluation\n",
    "from tqdm import tqdm\n",
    "\n",
    "# For handling file paths and directories\n",
    "import os\n",
    "import sys\n",
    "import h5py\n",
    "\n",
    "# Optional: If your model or data processing requires specific numerical operations (e.g., FFT)\n",
    "from torch.fft import fft, ifft\n",
    "\n",
    "# Optional: If you are working with graph data or architectures\n",
    "# import torch_geometric\n",
    "\n",
    "# If you need automatic differentiation for custom operations or gradients\n",
    "from torch.autograd import Function\n"
   ]
  },
  {
   "cell_type": "code",
   "execution_count": 2,
   "outputs": [
    {
     "name": "stdout",
     "output_type": "stream",
     "text": [
      "Using Device: cuda\n",
      "Using PyTorch version: 2.1.0\n"
     ]
    }
   ],
   "source": [
    "#Set the device for the neural operator model\n",
    "device = torch.device('cuda' if torch.cuda.is_available() else 'cpu')\n",
    "print('Using Device:', device)\n",
    "print(\"Using PyTorch version:\", torch.__version__)"
   ],
   "metadata": {
    "collapsed": false,
    "ExecuteTime": {
     "end_time": "2024-03-22T03:48:57.177158900Z",
     "start_time": "2024-03-22T03:48:57.131805100Z"
    }
   },
   "id": "ccbd700ab9b52f1f"
  },
  {
   "cell_type": "code",
   "execution_count": 36,
   "outputs": [
    {
     "name": "stdout",
     "output_type": "stream",
     "text": [
      "OUTPUT\\preliminary_datasets\\DATA N_pix32x32 N_ele1x1 N_wv25x13 N_disp100 N_eig6 offset0 01-Mar-2024 19-13-23.mat\n"
     ]
    }
   ],
   "source": [
    "#Load the data for the neural operator model\n",
    "datafolder_name = [\"OUTPUT\",\"preliminary_datasets\"]\n",
    "datafile_name = \"DATA N_pix32x32 N_ele1x1 N_wv25x13 N_disp100 N_eig6 offset0 01-Mar-2024 19-13-23.mat\"\n",
    "data_path = os.path.join(*datafolder_name, datafile_name)\n",
    "print(data_path)\n",
    "\n",
    "# Load the .mat file using h5py\n",
    "with h5py.File(data_path, 'r') as file:\n",
    "    # print(file['EIGENVECTOR_DATA'].dtype.names)\n",
    "    # print(file['EIGENVALUE_DATA'].dtype.names)\n",
    "    # print(file['WAVEVECTOR_DATA'].dtype.names)\n",
    "    # Load the data arrays\n",
    "    EIGENVALUE_DATA = np.array(file['EIGENVALUE_DATA'])\n",
    "    EIGENVECTOR_DATA_real = np.array(file['EIGENVECTOR_DATA']['real'])\n",
    "    EIGENVECTOR_DATA_imag = np.array(file['EIGENVECTOR_DATA']['imag'])\n",
    "    EIGENVECTOR_DATA = EIGENVECTOR_DATA_real + 1j * EIGENVECTOR_DATA_imag\n",
    "    WAVEVECTOR_DATA = np.array(file['WAVEVECTOR_DATA'])\n",
    "\n",
    "    # Convert to PyTorch tensors\n",
    "    EIGENVALUE_DATA_tensor = torch.tensor(EIGENVALUE_DATA, dtype=torch.float32)\n",
    "    EIGENVECTOR_DATA_tensor = torch.tensor(EIGENVECTOR_DATA, dtype=torch.complex64)\n",
    "    WAVEVECTOR_DATA_tensor = torch.tensor(WAVEVECTOR_DATA, dtype=torch.float32)\n",
    "\n",
    "    # Unpack the 'const' struct\n",
    "    # This assumes 'const' contains datasets directly. If it contains groups, you'll need to adjust the code\n",
    "    const = {key: np.array(file['const'][key]) for key in file['const']}\n",
    "\n",
    "    # Assign numbers to variables\n",
    "    N_struct = np.array(file['N_struct'])  # Adjust indexing if necessary\n",
    "    design_params = np.array(file['design_params'])\n",
    "    designs = np.array(file['designs'])\n",
    "    imag_tol = np.array(file['imag_tol'])\n",
    "    rng_seed_offset = np.array(file['rng_seed_offset'])"
   ],
   "metadata": {
    "collapsed": false,
    "ExecuteTime": {
     "end_time": "2024-03-25T06:55:17.261190Z",
     "start_time": "2024-03-25T06:54:03.592670Z"
    }
   },
   "id": "f1f917ca2deb400e"
  },
  {
   "cell_type": "code",
   "execution_count": 34,
   "outputs": [
    {
     "name": "stdout",
     "output_type": "stream",
     "text": [
      "EIGENVALUE_DATA shape: torch.Size([100, 6, 325])\n",
      "EIGENVECTOR_DATA shape: torch.Size([100, 6, 325, 2048])\n",
      "WAVEVECTOR_DATA shape: torch.Size([100, 2, 325])\n",
      "N_struct: 100.0\n",
      "design_params: 3707764736\n",
      "designs: [[0. 0. 0. ... 0. 0. 0.]\n",
      " [0. 0. 0. ... 0. 0. 0.]\n",
      " [0. 0. 0. ... 0. 0. 0.]\n",
      " ...\n",
      " [0. 0. 0. ... 0. 0. 0.]\n",
      " [0. 0. 0. ... 0. 0. 0.]\n",
      " [0. 0. 0. ... 0. 0. 0.]]\n",
      "imag_tol: 0.001\n"
     ]
    }
   ],
   "source": [
    "# Print shapes or values to verify\n",
    "print(\"EIGENVALUE_DATA shape:\", EIGENVALUE_DATA_tensor.shape)\n",
    "print(\"EIGENVECTOR_DATA shape:\", EIGENVECTOR_DATA_tensor.shape) #Complex valued, 32x32 nodes, 2 DoF per node, 100 structs, 6 bands\n",
    "print(\"WAVEVECTOR_DATA shape:\", WAVEVECTOR_DATA_tensor.shape)\n",
    "#print(\"const contents:\", const)\n",
    "print(\"N_struct:\", N_struct)\n",
    "print(\"design_params:\", design_params)\n",
    "print(\"designs:\", designs)\n",
    "print(\"imag_tol:\", imag_tol)\n",
    "#print(\"rng_seed_offset:\", rng_seed_offset)"
   ],
   "metadata": {
    "collapsed": false,
    "ExecuteTime": {
     "end_time": "2024-03-25T06:43:17.514098900Z",
     "start_time": "2024-03-25T06:43:17.386098900Z"
    }
   },
   "id": "b66eb3117bfd0f5d"
  },
  {
   "cell_type": "code",
   "execution_count": 21,
   "outputs": [],
   "source": [
    "def plot_histograms(array_slice):\n",
    "    \"\"\"\n",
    "    Plots histograms for the input array slice.\n",
    "    If the array slice contains real numbers, plots one histogram.\n",
    "    If the array slice contains complex numbers, plots two histograms side by side,\n",
    "    one for the real parts and one for the imaginary parts.\n",
    "    \"\"\"\n",
    "    # Check if the array slice contains complex numbers\n",
    "    if np.iscomplexobj(array_slice):\n",
    "        # Prepare the plot area with two subplots\n",
    "        fig, axs = plt.subplots(1, 2, figsize=(12, 4))\n",
    "\n",
    "        # Plot histogram of real parts\n",
    "        axs[0].hist(array_slice.real, bins=100, color='skyblue', edgecolor='black')\n",
    "        axs[0].set_title('Histogram of Real Parts')\n",
    "\n",
    "        # Plot histogram of imaginary parts\n",
    "        axs[1].hist(array_slice.imag, bins=100, color='salmon', edgecolor='black')\n",
    "        axs[1].set_title('Histogram of Imaginary Parts')\n",
    "\n",
    "        plt.suptitle('Histograms of Complex Array Slice')\n",
    "    else:\n",
    "        # Plot a single histogram for real-valued array slice\n",
    "        plt.figure(figsize=(6, 6))\n",
    "        plt.hist(array_slice, bins=30, color='skyblue', edgecolor='black')\n",
    "        plt.title('Histogram of Real Array Slice')\n",
    "\n",
    "    plt.show()"
   ],
   "metadata": {
    "collapsed": false,
    "ExecuteTime": {
     "end_time": "2024-03-25T03:28:17.385972100Z",
     "start_time": "2024-03-25T03:28:17.362462700Z"
    }
   },
   "id": "db6575ea7fe2d3ea"
  },
  {
   "cell_type": "code",
   "execution_count": 26,
   "outputs": [
    {
     "data": {
      "text/plain": "<Figure size 1200x400 with 2 Axes>",
      "image/png": "[encoded data removed]"
     },
     "metadata": {},
     "output_type": "display_data"
    }
   ],
   "source": [
    "struct = 0\n",
    "band = 0\n",
    "wavevector = 300\n",
    "node = 0\n",
    "plot_histograms(EIGENVECTOR_DATA[struct, band, wavevector, :])\n",
    "#plot_histograms(WAVEVECTOR_DATA[struct, 0, :])"
   ],
   "metadata": {
    "collapsed": false,
    "ExecuteTime": {
     "end_time": "2024-03-25T03:59:51.455608600Z",
     "start_time": "2024-03-25T03:59:51.155646600Z"
    }
   },
   "id": "d75a9bce039ce50b"
  },
  {
   "cell_type": "code",
   "execution_count": 69,
   "outputs": [
    {
     "name": "stdout",
     "output_type": "stream",
     "text": [
      "Neural Operator model has 1212830 parameters.\n"
     ]
    }
   ],
   "source": [
    "NO_model = TFNO(n_modes=(16, 16), in_channels=3, out_channels=6, hidden_channels=32, projection_channels=16)\n",
    "NO_model.to(device)\n",
    "NO_params = count_model_params(NO_model)\n",
    "print(f'Neural Operator model has {NO_params} parameters.')"
   ],
   "metadata": {
    "collapsed": false,
    "ExecuteTime": {
     "end_time": "2024-03-25T08:06:15.508656200Z",
     "start_time": "2024-03-25T08:06:15.457140200Z"
    }
   },
   "id": "7f5f75940a27af33"
  },
  {
   "cell_type": "code",
   "execution_count": 42,
   "outputs": [],
   "source": [
    "class NormalizeOutput:\n",
    "    def __init__(self, mean=None, std=None):\n",
    "        self.mean = mean\n",
    "        self.std = std\n",
    "\n",
    "    def fit(self, outputs):\n",
    "        \"\"\"Calculate mean and std deviation from the dataset if not provided.\"\"\"\n",
    "        if self.mean is None or self.std is None:\n",
    "            self.mean = outputs.mean(axis=0)\n",
    "            self.std = outputs.std(axis=0)\n",
    "\n",
    "    def transform(self, outputs):\n",
    "        \"\"\"Normalize the outputs.\"\"\"\n",
    "        return (outputs - self.mean) / self.std\n",
    "\n",
    "    def inverse_transform(self, normalized_outputs):\n",
    "        \"\"\"Reverse the normalization to get the original scale of outputs.\"\"\"\n",
    "        return normalized_outputs * self.std + self.mean\n"
   ],
   "metadata": {
    "collapsed": false,
    "ExecuteTime": {
     "end_time": "2024-03-25T07:22:24.029898600Z",
     "start_time": "2024-03-25T07:22:24.004636400Z"
    }
   },
   "id": "a07613f3b431a93b"
  },
  {
   "cell_type": "code",
   "execution_count": 45,
   "outputs": [
    {
     "name": "stdout",
     "output_type": "stream",
     "text": [
      "designs shape: (100, 3, 32, 32)\n",
      "EIGENVALUE_DATA shape: (100, 6, 325)\n",
      "tensor(1.) tensor(0.)\n",
      "tensor(3856.4348) tensor(0.)\n"
     ]
    }
   ],
   "source": [
    "# Use designs as x_train and EIGENVALUE_DATA as y_train\n",
    "print(\"designs shape:\", designs.shape)\n",
    "print(\"EIGENVALUE_DATA shape:\", EIGENVALUE_DATA.shape)\n",
    "x_train = torch.tensor(designs, dtype=torch.float32)\n",
    "y_train = torch.tensor(EIGENVALUE_DATA, dtype=torch.float32)\n",
    "\n",
    "# Normalize the outputs\n",
    "# normalizer = NormalizeOutput()\n",
    "# normalizer.fit(y_train.numpy())\n",
    "# normalized_outputs = normalizer.transform(y_train.numpy())\n",
    "# y_train = torch.tensor(normalized_outputs, dtype=torch.float32)\n",
    "# print(normalizer.mean, normalizer.std)\n",
    "\n",
    "dataset = torch.utils.data.TensorDataset(x_train, y_train)\n",
    "print(torch.max(x_train), torch.min(x_train))\n",
    "print(torch.max(y_train), torch.min(y_train))\n",
    "#print(len(dataset))\n",
    "# Define the sizes of train and test datasets\n",
    "train_size = int(0.8 * len(dataset))  # 80% for training\n",
    "test_size = len(dataset) - train_size  # Remaining 20% for testing\n",
    "train_dataset, test_dataset = random_split(dataset, [train_size, test_size])\n",
    "train_loader = DataLoader(train_dataset, batch_size=20, shuffle=True)\n",
    "test_loader = DataLoader(test_dataset, batch_size=10, shuffle=True)"
   ],
   "metadata": {
    "collapsed": false,
    "ExecuteTime": {
     "end_time": "2024-03-25T07:25:50.503810400Z",
     "start_time": "2024-03-25T07:25:50.478867800Z"
    }
   },
   "id": "a81396b025626683"
  },
  {
   "cell_type": "code",
   "execution_count": 62,
   "outputs": [],
   "source": [
    "class DataLoaderWrapper:\n",
    "    def __init__(self, dataloader):\n",
    "        self.dataloader = dataloader\n",
    "\n",
    "    def __iter__(self):\n",
    "        # Iterate over the original DataLoader\n",
    "        for batch in self.dataloader:\n",
    "            inputs, outputs = batch  # Unpack the batch\n",
    "            # Yield a dictionary with 'inputs' and 'outputs' keys\n",
    "            yield {'x': inputs, 'y': outputs}\n",
    "\n",
    "    def __len__(self):\n",
    "        # Return the length of the original DataLoader\n",
    "        return len(self.dataloader)"
   ],
   "metadata": {
    "collapsed": false,
    "ExecuteTime": {
     "end_time": "2024-03-25T08:01:13.840695300Z",
     "start_time": "2024-03-25T08:01:13.810360700Z"
    }
   },
   "id": "e64bec2ed96e5ece"
  },
  {
   "cell_type": "code",
   "execution_count": 63,
   "outputs": [],
   "source": [
    "train_loader_wrapped = DataLoaderWrapper(train_loader)\n",
    "test_loader_wrapped = DataLoaderWrapper(test_loader)"
   ],
   "metadata": {
    "collapsed": false,
    "ExecuteTime": {
     "end_time": "2024-03-25T08:01:14.187020900Z",
     "start_time": "2024-03-25T08:01:14.169509300Z"
    }
   },
   "id": "7d5b1708897c353b"
  },
  {
   "cell_type": "code",
   "execution_count": 70,
   "outputs": [],
   "source": [
    "optimizer = torch.optim.Adam(NO_model.parameters(),\n",
    "                             lr=8e-3,\n",
    "                             weight_decay=1e-4)\n",
    "scheduler = torch.optim.lr_scheduler.CosineAnnealingLR(optimizer, T_max=30)"
   ],
   "metadata": {
    "collapsed": false,
    "ExecuteTime": {
     "end_time": "2024-03-25T08:06:27.996475100Z",
     "start_time": "2024-03-25T08:06:27.980267700Z"
    }
   },
   "id": "c68aa5fa0f6629e8"
  },
  {
   "cell_type": "code",
   "execution_count": 71,
   "outputs": [],
   "source": [
    "l2loss = LpLoss(d=2, p=2)\n",
    "h1loss = H1Loss(d=2)\n",
    "\n",
    "train_loss = h1loss\n",
    "eval_losses={'h1': h1loss, 'l2': l2loss}"
   ],
   "metadata": {
    "collapsed": false,
    "ExecuteTime": {
     "end_time": "2024-03-25T08:06:29.294678100Z",
     "start_time": "2024-03-25T08:06:29.283101100Z"
    }
   },
   "id": "69eb4989fec10f46"
  },
  {
   "cell_type": "code",
   "execution_count": 72,
   "outputs": [
    {
     "name": "stdout",
     "output_type": "stream",
     "text": [
      "\n",
      "### MODEL ###\n",
      " TFNO(\n",
      "  (fno_blocks): FNOBlocks(\n",
      "    (convs): SpectralConv(\n",
      "      (weight): ModuleList(\n",
      "        (0-3): 4 x ComplexTuckerTensor(shape=(32, 32, 16, 9), rank=(32, 32, 16, 9))\n",
      "      )\n",
      "    )\n",
      "    (fno_skips): ModuleList(\n",
      "      (0-3): 4 x Conv2d(32, 32, kernel_size=(1, 1), stride=(1, 1), bias=False)\n",
      "    )\n",
      "  )\n",
      "  (lifting): MLP(\n",
      "    (fcs): ModuleList(\n",
      "      (0): Conv2d(3, 256, kernel_size=(1, 1), stride=(1, 1))\n",
      "      (1): Conv2d(256, 32, kernel_size=(1, 1), stride=(1, 1))\n",
      "    )\n",
      "  )\n",
      "  (projection): MLP(\n",
      "    (fcs): ModuleList(\n",
      "      (0): Conv2d(32, 16, kernel_size=(1, 1), stride=(1, 1))\n",
      "      (1): Conv2d(16, 6, kernel_size=(1, 1), stride=(1, 1))\n",
      "    )\n",
      "  )\n",
      ")\n",
      "\n",
      "### OPTIMIZER ###\n",
      " Adam (\n",
      "Parameter Group 0\n",
      "    amsgrad: False\n",
      "    betas: (0.9, 0.999)\n",
      "    capturable: False\n",
      "    differentiable: False\n",
      "    eps: 1e-08\n",
      "    foreach: None\n",
      "    fused: None\n",
      "    initial_lr: 0.008\n",
      "    lr: 0.008\n",
      "    maximize: False\n",
      "    weight_decay: 0.0001\n",
      ")\n",
      "\n",
      "### SCHEDULER ###\n",
      " <torch.optim.lr_scheduler.CosineAnnealingLR object at 0x00000253A1975A60>\n",
      "\n",
      "### LOSSES ###\n",
      "\n",
      " * Train: <neuralop.losses.data_losses.H1Loss object at 0x000002539FB3A970>\n",
      "\n",
      " * Test: {'h1': <neuralop.losses.data_losses.H1Loss object at 0x000002539FB3A970>, 'l2': <neuralop.losses.data_losses.LpLoss object at 0x000002539FB3AB20>}\n"
     ]
    }
   ],
   "source": [
    "print('\\n### MODEL ###\\n', NO_model)\n",
    "print('\\n### OPTIMIZER ###\\n', optimizer)\n",
    "print('\\n### SCHEDULER ###\\n', scheduler)\n",
    "print('\\n### LOSSES ###')\n",
    "print(f'\\n * Train: {train_loss}')\n",
    "print(f'\\n * Test: {eval_losses}')"
   ],
   "metadata": {
    "collapsed": false,
    "ExecuteTime": {
     "end_time": "2024-03-25T08:06:29.664322900Z",
     "start_time": "2024-03-25T08:06:29.618426700Z"
    }
   },
   "id": "92682cbefcc320f4"
  },
  {
   "cell_type": "code",
   "execution_count": 73,
   "outputs": [
    {
     "name": "stdout",
     "output_type": "stream",
     "text": [
      "self.override_load_to_device=False\n",
      "self.overrides_loss=False\n"
     ]
    }
   ],
   "source": [
    "trainer = Trainer(model=NO_model, n_epochs=1,\n",
    "                  device=device,\n",
    "                  #data_processor=data_processor,\n",
    "                  wandb_log=False,\n",
    "                  log_test_interval=3,\n",
    "                  use_distributed=False,\n",
    "                  verbose=True)"
   ],
   "metadata": {
    "collapsed": false,
    "ExecuteTime": {
     "end_time": "2024-03-25T08:06:30.859095200Z",
     "start_time": "2024-03-25T08:06:30.847010800Z"
    }
   },
   "id": "18513458e4819e03"
  },
  {
   "cell_type": "code",
   "execution_count": 74,
   "outputs": [
    {
     "ename": "RuntimeError",
     "evalue": "The size of tensor a (1024) must match the size of tensor b (1950) at non-singleton dimension 2",
     "output_type": "error",
     "traceback": [
      "\u001B[1;31m---------------------------------------------------------------------------\u001B[0m",
      "\u001B[1;31mRuntimeError\u001B[0m                              Traceback (most recent call last)",
      "Cell \u001B[1;32mIn[74], line 1\u001B[0m\n\u001B[1;32m----> 1\u001B[0m \u001B[43mtrainer\u001B[49m\u001B[38;5;241;43m.\u001B[39;49m\u001B[43mtrain\u001B[49m\u001B[43m(\u001B[49m\u001B[43mtrain_loader\u001B[49m\u001B[38;5;241;43m=\u001B[39;49m\u001B[43mtrain_loader_wrapped\u001B[49m\u001B[43m,\u001B[49m\n\u001B[0;32m      2\u001B[0m \u001B[43m              \u001B[49m\u001B[43mtest_loaders\u001B[49m\u001B[38;5;241;43m=\u001B[39;49m\u001B[43mtest_loader_wrapped\u001B[49m\u001B[43m,\u001B[49m\n\u001B[0;32m      3\u001B[0m \u001B[43m              \u001B[49m\u001B[43moptimizer\u001B[49m\u001B[38;5;241;43m=\u001B[39;49m\u001B[43moptimizer\u001B[49m\u001B[43m,\u001B[49m\n\u001B[0;32m      4\u001B[0m \u001B[43m              \u001B[49m\u001B[43mscheduler\u001B[49m\u001B[38;5;241;43m=\u001B[39;49m\u001B[43mscheduler\u001B[49m\u001B[43m,\u001B[49m\n\u001B[0;32m      5\u001B[0m \u001B[43m              \u001B[49m\u001B[43mregularizer\u001B[49m\u001B[38;5;241;43m=\u001B[39;49m\u001B[38;5;28;43;01mFalse\u001B[39;49;00m\u001B[43m,\u001B[49m\n\u001B[0;32m      6\u001B[0m \u001B[43m              \u001B[49m\u001B[43mtraining_loss\u001B[49m\u001B[38;5;241;43m=\u001B[39;49m\u001B[43mtrain_loss\u001B[49m\u001B[43m,\u001B[49m\n\u001B[0;32m      7\u001B[0m \u001B[43m              \u001B[49m\u001B[43meval_losses\u001B[49m\u001B[38;5;241;43m=\u001B[39;49m\u001B[43meval_losses\u001B[49m\u001B[43m)\u001B[49m\n",
      "File \u001B[1;32m~\\anaconda3\\lib\\site-packages\\neuralop\\training\\trainer.py:182\u001B[0m, in \u001B[0;36mTrainer.train\u001B[1;34m(self, train_loader, test_loaders, optimizer, scheduler, regularizer, training_loss, eval_losses)\u001B[0m\n\u001B[0;32m    180\u001B[0m \u001B[38;5;28;01melse\u001B[39;00m:\n\u001B[0;32m    181\u001B[0m     \u001B[38;5;28;01mif\u001B[39;00m \u001B[38;5;28misinstance\u001B[39m(out, torch\u001B[38;5;241m.\u001B[39mTensor):\n\u001B[1;32m--> 182\u001B[0m         loss \u001B[38;5;241m=\u001B[39m training_loss(out\u001B[38;5;241m.\u001B[39mfloat(), \u001B[38;5;241m*\u001B[39m\u001B[38;5;241m*\u001B[39msample)\n\u001B[0;32m    183\u001B[0m     \u001B[38;5;28;01melif\u001B[39;00m \u001B[38;5;28misinstance\u001B[39m(out, \u001B[38;5;28mdict\u001B[39m):\n\u001B[0;32m    184\u001B[0m         loss \u001B[38;5;241m+\u001B[39m\u001B[38;5;241m=\u001B[39m training_loss(\u001B[38;5;241m*\u001B[39m\u001B[38;5;241m*\u001B[39mout, \u001B[38;5;241m*\u001B[39m\u001B[38;5;241m*\u001B[39msample)\n",
      "File \u001B[1;32m~\\anaconda3\\lib\\site-packages\\neuralop\\losses\\data_losses.py:286\u001B[0m, in \u001B[0;36mH1Loss.__call__\u001B[1;34m(self, y_pred, y, h, **kwargs)\u001B[0m\n\u001B[0;32m    285\u001B[0m \u001B[38;5;28;01mdef\u001B[39;00m \u001B[38;5;21m__call__\u001B[39m(\u001B[38;5;28mself\u001B[39m, y_pred, y, h\u001B[38;5;241m=\u001B[39m\u001B[38;5;28;01mNone\u001B[39;00m, \u001B[38;5;241m*\u001B[39m\u001B[38;5;241m*\u001B[39mkwargs):\n\u001B[1;32m--> 286\u001B[0m     \u001B[38;5;28;01mreturn\u001B[39;00m \u001B[38;5;28;43mself\u001B[39;49m\u001B[38;5;241;43m.\u001B[39;49m\u001B[43mrel\u001B[49m\u001B[43m(\u001B[49m\u001B[43my_pred\u001B[49m\u001B[43m,\u001B[49m\u001B[43m \u001B[49m\u001B[43my\u001B[49m\u001B[43m,\u001B[49m\u001B[43m \u001B[49m\u001B[43mh\u001B[49m\u001B[38;5;241;43m=\u001B[39;49m\u001B[43mh\u001B[49m\u001B[43m)\u001B[49m\n",
      "File \u001B[1;32m~\\anaconda3\\lib\\site-packages\\neuralop\\losses\\data_losses.py:270\u001B[0m, in \u001B[0;36mH1Loss.rel\u001B[1;34m(self, x, y, h)\u001B[0m\n\u001B[0;32m    266\u001B[0m         h \u001B[38;5;241m=\u001B[39m [h]\u001B[38;5;241m*\u001B[39m\u001B[38;5;28mself\u001B[39m\u001B[38;5;241m.\u001B[39md\n\u001B[0;32m    268\u001B[0m dict_x, dict_y \u001B[38;5;241m=\u001B[39m \u001B[38;5;28mself\u001B[39m\u001B[38;5;241m.\u001B[39mcompute_terms(x, y, h)\n\u001B[1;32m--> 270\u001B[0m diff \u001B[38;5;241m=\u001B[39m torch\u001B[38;5;241m.\u001B[39mnorm(\u001B[43mdict_x\u001B[49m\u001B[43m[\u001B[49m\u001B[38;5;241;43m0\u001B[39;49m\u001B[43m]\u001B[49m\u001B[43m \u001B[49m\u001B[38;5;241;43m-\u001B[39;49m\u001B[43m \u001B[49m\u001B[43mdict_y\u001B[49m\u001B[43m[\u001B[49m\u001B[38;5;241;43m0\u001B[39;49m\u001B[43m]\u001B[49m, p\u001B[38;5;241m=\u001B[39m\u001B[38;5;241m2\u001B[39m, dim\u001B[38;5;241m=\u001B[39m\u001B[38;5;241m-\u001B[39m\u001B[38;5;241m1\u001B[39m, keepdim\u001B[38;5;241m=\u001B[39m\u001B[38;5;28;01mFalse\u001B[39;00m)\u001B[38;5;241m*\u001B[39m\u001B[38;5;241m*\u001B[39m\u001B[38;5;241m2\u001B[39m\n\u001B[0;32m    271\u001B[0m ynorm \u001B[38;5;241m=\u001B[39m torch\u001B[38;5;241m.\u001B[39mnorm(dict_y[\u001B[38;5;241m0\u001B[39m], p\u001B[38;5;241m=\u001B[39m\u001B[38;5;241m2\u001B[39m, dim\u001B[38;5;241m=\u001B[39m\u001B[38;5;241m-\u001B[39m\u001B[38;5;241m1\u001B[39m, keepdim\u001B[38;5;241m=\u001B[39m\u001B[38;5;28;01mFalse\u001B[39;00m)\u001B[38;5;241m*\u001B[39m\u001B[38;5;241m*\u001B[39m\u001B[38;5;241m2\u001B[39m\n\u001B[0;32m    273\u001B[0m \u001B[38;5;28;01mfor\u001B[39;00m j \u001B[38;5;129;01min\u001B[39;00m \u001B[38;5;28mrange\u001B[39m(\u001B[38;5;241m1\u001B[39m, \u001B[38;5;28mself\u001B[39m\u001B[38;5;241m.\u001B[39md \u001B[38;5;241m+\u001B[39m \u001B[38;5;241m1\u001B[39m):\n",
      "\u001B[1;31mRuntimeError\u001B[0m: The size of tensor a (1024) must match the size of tensor b (1950) at non-singleton dimension 2"
     ]
    }
   ],
   "source": [
    "trainer.train(train_loader=train_loader_wrapped,\n",
    "              test_loaders=test_loader_wrapped,\n",
    "              optimizer=optimizer,\n",
    "              scheduler=scheduler,\n",
    "              regularizer=False,\n",
    "              training_loss=train_loss,\n",
    "              eval_losses=eval_losses)\n"
   ],
   "metadata": {
    "collapsed": false,
    "ExecuteTime": {
     "end_time": "2024-03-25T08:06:31.104179100Z",
     "start_time": "2024-03-25T08:06:31.028010500Z"
    }
   },
   "id": "ff2168e3a6dbb08c"
  },
  {
   "cell_type": "code",
   "execution_count": 75,
   "outputs": [
    {
     "name": "stdout",
     "output_type": "stream",
     "text": [
      "<class 'list'>\n",
      "Length of batch: 2\n",
      "Type of inputs: <class 'torch.Tensor'>, Shape of inputs: torch.Size([20, 3, 32, 32])\n",
      "Type of targets: <class 'torch.Tensor'>, Shape of targets: torch.Size([20, 6, 325])\n"
     ]
    }
   ],
   "source": [
    "# Check the first batch from the train_loader\n",
    "train_samples = next(iter(train_loader))\n",
    "print(type(train_samples))\n",
    "print(f\"Length of batch: {len(train_samples)}\")\n",
    "if isinstance(train_samples, (list, tuple)):\n",
    "    # Assuming the first element is inputs and the second is targets\n",
    "    print(f\"Type of inputs: {type(train_samples[0])}, Shape of inputs: {train_samples[0].shape}\")\n",
    "    print(f\"Type of targets: {type(train_samples[1])}, Shape of targets: {train_samples[1].shape}\")\n",
    "elif isinstance(train_samples, dict):\n",
    "    # If your samples are in a dictionary format\n",
    "    for key, value in train_samples.items():\n",
    "        print(f\"Key: {key}, Type of value: {type(value)}, Shape of value: {value.shape}\")\n",
    "\n",
    "# Repeat the process for test_loader if necessary\n",
    "test_samples = next(iter(test_loader))\n",
    "# Similar inspection as above for test_samples...\n"
   ],
   "metadata": {
    "collapsed": false,
    "ExecuteTime": {
     "end_time": "2024-03-25T08:06:31.497684800Z",
     "start_time": "2024-03-25T08:06:31.471679400Z"
    }
   },
   "id": "bbbeb769cec536a9"
  },
  {
   "cell_type": "code",
   "execution_count": null,
   "outputs": [],
   "source": [],
   "metadata": {
    "collapsed": false
   },
   "id": "9117151af39020ec"
  }
 ],
 "metadata": {
  "kernelspec": {
   "display_name": "Python 3",
   "language": "python",
   "name": "python3"
  },
  "language_info": {
   "codemirror_mode": {
    "name": "ipython",
    "version": 2
   },
   "file_extension": ".py",
   "mimetype": "text/x-python",
   "name": "python",
   "nbconvert_exporter": "python",
   "pygments_lexer": "ipython2",
   "version": "2.7.6"
  }
 },
 "nbformat": 4,
 "nbformat_minor": 5
}
