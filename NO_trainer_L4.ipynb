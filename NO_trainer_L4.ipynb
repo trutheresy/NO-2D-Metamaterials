{
 "cells": [
  {
   "cell_type": "code",
   "execution_count": 1,
   "id": "ba6a3ee19aef38a3",
   "metadata": {
    "ExecuteTime": {
     "end_time": "2025-02-23T05:05:55.283980Z",
     "start_time": "2025-02-23T05:05:54.804638Z"
    },
    "collapsed": false
   },
   "outputs": [],
   "source": [
    "import NO_utils_multiple\n",
    "import NO_utils\n",
    "import os\n",
    "import time\n",
    "import matplotlib.pyplot as plt\n",
    "import numpy as np\n",
    "import random\n",
    "from datetime import datetime"
   ]
  },
  {
   "cell_type": "markdown",
   "id": "80c77908e2f33b16",
   "metadata": {
    "collapsed": false
   },
   "source": [
    "## Load and visualize data"
   ]
  },
  {
   "cell_type": "code",
   "execution_count": 2,
   "id": "dd00133e",
   "metadata": {
    "ExecuteTime": {
     "end_time": "2025-02-23T05:05:55.296238Z",
     "start_time": "2025-02-23T05:05:55.291423Z"
    }
   },
   "outputs": [],
   "source": [
    "# Helper function to load and process a dataset\n",
    "def load_and_process_dataset(data_path, print_dataset=True):\n",
    "    start_time = time.time()\n",
    "    (designs, design_params, n_designs, n_panes, design_res,\n",
    "     WAVEVECTOR_DATA, WAVEFORM_DATA, n_dim, n_wavevectors,\n",
    "     EIGENVALUE_DATA, n_bands, EIGENVECTOR_DATA_x,\n",
    "     EIGENVECTOR_DATA_y, const, N_struct,\n",
    "     imag_tol, rng_seed_offset) = NO_utils.extract_data(data_path)\n",
    "\n",
    "    print(f\"Loading dataset path: {data_path}\")\n",
    "\n",
    "    # Convert all bands to spatial domain\n",
    "    bands = np.arange(1, n_bands + 1)\n",
    "    bands_fft = np.zeros((n_bands, design_res, design_res))\n",
    "    for i, band in enumerate(bands):\n",
    "        bands_fft[i], _ = NO_utils_multiple.const_to_spatial(band, design_res, plot_result=False, scaling_factor=1.0)\n",
    "\n",
    "    # Create the result dictionary\n",
    "    dataset = {\n",
    "        \"designs\": designs, \"design_params\": design_params, \"n_designs\": n_designs,\n",
    "        \"WAVEVECTOR_DATA\": WAVEVECTOR_DATA, \"WAVEFORM_DATA\": WAVEFORM_DATA,\n",
    "        \"EIGENVALUE_DATA\": EIGENVALUE_DATA, \"EIGENVECTOR_DATA_x\": EIGENVECTOR_DATA_x,\n",
    "        \"EIGENVECTOR_DATA_y\": EIGENVECTOR_DATA_y, \"bands_fft\": bands_fft\n",
    "    }\n",
    "    \n",
    "    # Stop the timer\n",
    "    end_time = time.time()\n",
    "    elapsed_time = end_time - start_time\n",
    "\n",
    "    # Print dataset sizes and elapsed time\n",
    "    if print_dataset:\n",
    "        print(f\"Dataset loaded from {data_path}:\")\n",
    "        for key, value in dataset.items():\n",
    "            print(f\"  {key}: {np.shape(value)}\")\n",
    "        print(f\"Elapsed time: {elapsed_time:.2f} seconds\")\n",
    "    \n",
    "    return dataset\n",
    "\n",
    "def save_dataset(save_path, designs, design_params, waveforms, eigenvalue_data, eigenvector_data_x, eigenvector_data_y, bands_fft):\n",
    "    \"\"\"\n",
    "    Save dataset arrays to a specified path.\n",
    "    \n",
    "    Parameters:\n",
    "    - save_path: Path to save the dataset\n",
    "    - designs: Array of design patterns\n",
    "    - design_params: Array of design parameters\n",
    "    - waveforms: Array of waveform data\n",
    "    - eigenvalue_data: Array of eigenvalues\n",
    "    - eigenvector_data_x: Array of x-component eigenvectors\n",
    "    - eigenvector_data_y: Array of y-component eigenvectors\n",
    "    - bands_fft: Array of band data in Fourier space\n",
    "    \"\"\"\n",
    "    os.makedirs(save_path, exist_ok=True)\n",
    "    \n",
    "    # Save each array with np.save\n",
    "    np.save(os.path.join(save_path, 'designs.npy'), designs)\n",
    "    np.save(os.path.join(save_path, 'design_params.npy'), design_params)\n",
    "    np.save(os.path.join(save_path, 'waveforms.npy'), waveforms)\n",
    "    np.save(os.path.join(save_path, 'eigenvalue_data.npy'), eigenvalue_data)\n",
    "    np.save(os.path.join(save_path, 'eigenvector_data_x.npy'), eigenvector_data_x)\n",
    "    np.save(os.path.join(save_path, 'eigenvector_data_y.npy'), eigenvector_data_y)\n",
    "    np.save(os.path.join(save_path, 'bands_fft.npy'), bands_fft)\n",
    "    \n",
    "    print(f\"Dataset saved to {save_path}\")"
   ]
  },
  {
   "cell_type": "code",
   "execution_count": 3,
   "id": "da5adb739d29741",
   "metadata": {
    "ExecuteTime": {
     "end_time": "2025-02-23T05:13:31.050800Z",
     "start_time": "2025-02-23T05:05:55.305994Z"
    },
    "collapsed": true
   },
   "outputs": [
    {
     "name": "stdout",
     "output_type": "stream",
     "text": [
      "Data loaded in 360.41 seconds.\n",
      "Spatial waves shape: (600, 325, 32, 32)\n",
      "n_designs: 600, n_panes: 3, design_res: 32, d_design: 2, dispersion_bands: 6, rng_seed_offset: [[0.]]\n",
      "EIGENVALUE_DATA shape: (600, 325, 6)\n",
      "EIGENVECTOR_DATA shape: (600, 325, 6, 2048)\n",
      "EIGENVECTOR_DATA_x shape: (600, 325, 6, 32, 32)\n",
      "EIGENVECTOR_DATA_y shape: (600, 325, 6, 32, 32)\n",
      "WAVEVECTOR_DATA shape: (600, 325, 2)\n",
      "WAVEFORM_DATA shape: (600, 325, 32, 32)\n",
      "designs shape: (600, 3, 32, 32)\n",
      "design_params shape: (1, 6)\n",
      "const shape: {'E_max': (1, 1), 'E_min': (1, 1), 'N_eig': (1, 1), 'N_ele': (1, 1), 'N_pix': (1, 1), 'N_wv': (2, 1), 'a': (1, 1), 'design': (3, 32, 32), 'design_scale': (6, 1), 'isSaveEigenvectors': (1, 1), 'isUseGPU': (1, 1), 'isUseImprovement': (1, 1), 'isUseParallel': (1, 1), 'isUseSecondImprovement': (1, 1), 'poisson_max': (1, 1), 'poisson_min': (1, 1), 'rho_max': (1, 1), 'rho_min': (1, 1), 'sigma_eig': (1, 1), 'symmetry_type': (4, 1), 't': (1, 1), 'wavevectors': (2, 325)}\n",
      "Loading dataset path: data\\set 1\n",
      "Dataset loaded from data\\set 1:\n",
      "  designs: (600, 3, 32, 32)\n",
      "  design_params: (1, 6)\n",
      "  n_designs: ()\n",
      "  WAVEVECTOR_DATA: (600, 325, 2)\n",
      "  WAVEFORM_DATA: (600, 325, 32, 32)\n",
      "  EIGENVALUE_DATA: (600, 325, 6)\n",
      "  EIGENVECTOR_DATA_x: (600, 325, 6, 32, 32)\n",
      "  EIGENVECTOR_DATA_y: (600, 325, 6, 32, 32)\n",
      "  bands_fft: (6, 32, 32)\n",
      "Elapsed time: 368.95 seconds\n",
      "Dataset saved to data\\set 1\n"
     ]
    }
   ],
   "source": [
    "# Load and extract data\n",
    "# Define paths for both datasets\n",
    "datafolder1_name = [\"data\", \"set 1\"]\n",
    "# datafolder2_name = [\"data\", \"set 2\"]\n",
    "# datafolder3_name = [\"data\", \"set 3\"]\n",
    "\n",
    "data_path1 = os.path.join(*datafolder1_name)\n",
    "# data_path2 = os.path.join(*datafolder2_name)\n",
    "# data_path3 = os.path.join(*datafolder3_name)\n",
    "\n",
    "# Load and process datasets\n",
    "dataset1 = load_and_process_dataset(data_path1)\n",
    "designs = dataset1[\"designs\"]\n",
    "design_params = dataset1[\"design_params\"]\n",
    "eigenvalue_data = dataset1[\"EIGENVALUE_DATA\"]\n",
    "eigenvector_data_x = dataset1[\"EIGENVECTOR_DATA_x\"]\n",
    "eigenvector_data_y = dataset1[\"EIGENVECTOR_DATA_y\"]\n",
    "#Take unique subset of waveforms    \n",
    "waveforms = dataset1[\"WAVEFORM_DATA\"][0]\n",
    "bands_fft = dataset1[\"bands_fft\"]\n",
    "# print(\"Dataset 1 loaded and saved.\")\n",
    "save_dataset(data_path1, dataset1[\"designs\"], \n",
    "             dataset1[\"design_params\"], \n",
    "             dataset1[\"WAVEFORM_DATA\"], \n",
    "             dataset1[\"EIGENVALUE_DATA\"], \n",
    "             dataset1[\"EIGENVECTOR_DATA_x\"], \n",
    "             dataset1[\"EIGENVECTOR_DATA_y\"], \n",
    "             dataset1[\"bands_fft\"])\n",
    "# Free up memory by deleting dataset1\n",
    "del dataset1\n",
    "\n",
    "# dataset2 = load_and_process_dataset(data_path2)\n",
    "# designs = np.concatenate([designs, dataset2[\"designs\"]], axis=0)\n",
    "# design_params = np.concatenate([design_params, dataset2[\"design_params\"]], axis=0)\n",
    "# eigenvalue_data = np.concatenate([eigenvalue_data, dataset2[\"EIGENVALUE_DATA\"]], axis=0)\n",
    "# eigenvector_data_x = np.concatenate([eigenvector_data_x, dataset2[\"EIGENVECTOR_DATA_x\"]], axis=0)\n",
    "# eigenvector_data_y = np.concatenate([eigenvector_data_y, dataset2[\"EIGENVECTOR_DATA_y\"]], axis=0)\n",
    "# # waveforms should be the same for each dataset\n",
    "# # bands_ftt should be the same for each dataset\n",
    "# save_dataset(data_path2, dataset2[\"designs\"],\n",
    "#              dataset2[\"design_params\"],\n",
    "#              dataset2[\"WAVEFORM_DATA\"],\n",
    "#              dataset2[\"EIGENVALUE_DATA\"],\n",
    "#              dataset2[\"EIGENVECTOR_DATA_x\"],\n",
    "#              dataset2[\"EIGENVECTOR_DATA_y\"],\n",
    "#              dataset2[\"bands_fft\"])\n",
    "# # Free up memory by deleting dataset2\n",
    "# del dataset2\n",
    "#\n",
    "# dataset3 = load_and_process_dataset(data_path3)\n",
    "# designs = np.concatenate([designs, dataset3[\"designs\"]], axis=0)\n",
    "# design_params = np.concatenate([design_params, dataset3[\"design_params\"]], axis=0)\n",
    "# eigenvalue_data = np.concatenate([eigenvalue_data, dataset3[\"EIGENVALUE_DATA\"]], axis=0)\n",
    "# eigenvector_data_x = np.concatenate([eigenvector_data_x, dataset3[\"EIGENVECTOR_DATA_x\"]], axis=0)\n",
    "# eigenvector_data_y = np.concatenate([eigenvector_data_y, dataset3[\"EIGENVECTOR_DATA_y\"]], axis=0)\n",
    "# # waveforms should be the same for each dataset\n",
    "# # bands_ftt should be the same for each dataset\n",
    "# save_dataset(data_path3, dataset3[\"designs\"],\n",
    "#              dataset3[\"design_params\"],\n",
    "#              dataset3[\"WAVEFORM_DATA\"],\n",
    "#              dataset3[\"EIGENVALUE_DATA\"],\n",
    "#              dataset3[\"EIGENVECTOR_DATA_x\"],\n",
    "#              dataset3[\"EIGENVECTOR_DATA_y\"],\n",
    "#              dataset3[\"bands_fft\"])\n",
    "# # Free up memory by deleting dataset3\n",
    "# del dataset3\n"
   ]
  },
  {
   "cell_type": "code",
   "execution_count": 4,
   "id": "6018862b59c997bb",
   "metadata": {
    "ExecuteTime": {
     "end_time": "2025-02-23T05:13:41.891153Z",
     "start_time": "2025-02-23T05:13:31.436195Z"
    }
   },
   "outputs": [
    {
     "name": "stdout",
     "output_type": "stream",
     "text": [
      "shape of designs: (600, 3, 32, 32)\n",
      "shape of waveforms: (325, 32, 32)\n",
      "shape of EIGENVALUE_DATA: (600, 325, 6)\n",
      "shape of EIGENVECTOR_DATA_x: (600, 325, 6, 32, 32)\n",
      "shape of EIGENVECTOR_DATA_y: (600, 325, 6, 32, 32)\n",
      "shape of band_fft: (6, 32, 32)\n",
      "number of designs: 600\n",
      "number of bands: 6\n",
      "number of waveforms: 325\n",
      "Max value of designs: 1.0\n",
      "Min value of designs: 0.0\n",
      "Max value of WAVEFORM_DATA: 1.0\n",
      "Min value of WAVEFORM_DATA: -0.9999995318233016\n",
      "Max value of WAVEVECTOR_DATA_x: (0.59423828125+0j)\n",
      "Min value of WAVEVECTOR_DATA_x: (-0.685546875+0j)\n",
      "Max value of WAVEVECTOR_DATA_y: (0.63818359375+0.1103515625j)\n",
      "Min value of WAVEVECTOR_DATA_y: (-0.59228515625-0.0186614990234375j)\n"
     ]
    }
   ],
   "source": [
    "#Print shapes of arrays\n",
    "print(f'shape of designs: {np.shape(designs)}')\n",
    "print(f'shape of waveforms: {np.shape(waveforms)}')\n",
    "print(f'shape of EIGENVALUE_DATA: {np.shape(eigenvalue_data)}')\n",
    "print(f'shape of EIGENVECTOR_DATA_x: {np.shape(eigenvector_data_x)}')\n",
    "print(f'shape of EIGENVECTOR_DATA_y: {np.shape(eigenvector_data_y)}')\n",
    "print(f'shape of band_fft: {np.shape(bands_fft)}')\n",
    "\n",
    "n_designs = np.shape(designs)[0]\n",
    "n_bands = np.shape(bands_fft)[0]\n",
    "n_waveforms = np.shape(waveforms)[0]\n",
    "print(f'number of designs: {n_designs}')\n",
    "print(f'number of bands: {n_bands}')\n",
    "print(f'number of waveforms: {n_waveforms}')\n",
    "\n",
    "# Print the max and min values of all the arrays with a size of 400 in its first dimension.\n",
    "print(f'Max value of designs: {np.max(designs)}')\n",
    "print(f'Min value of designs: {np.min(designs)}')\n",
    "print(f'Max value of WAVEFORM_DATA: {np.max(waveforms)}')\n",
    "print(f'Min value of WAVEFORM_DATA: {np.min(waveforms)}')\n",
    "print(f'Max value of WAVEVECTOR_DATA_x: {np.max(eigenvector_data_x)}')\n",
    "print(f'Min value of WAVEVECTOR_DATA_x: {np.min(eigenvector_data_x)}')\n",
    "print(f'Max value of WAVEVECTOR_DATA_y: {np.max(eigenvector_data_y)}')\n",
    "print(f'Min value of WAVEVECTOR_DATA_y: {np.min(eigenvector_data_y)}')"
   ]
  },
  {
   "cell_type": "code",
   "execution_count": 5,
   "id": "5e7ff1c5825a1ecc",
   "metadata": {
    "ExecuteTime": {
     "end_time": "2025-02-23T05:13:48.086208Z",
     "start_time": "2025-02-23T05:13:41.895158Z"
    },
    "collapsed": false
   },
   "outputs": [],
   "source": [
    "# Flatten the arrays and plot a separate histogram showing the distribution of values for each array with a size of 400 in its first dimension. Drop any imaginary components for the eigenvectors.\n",
    "designs_flat = designs.flatten()\n",
    "WAVEFORM_DATA_flat = waveforms.flatten()\n",
    "EIGENVECTOR_DATA_x_flat = eigenvector_data_x.flatten()\n",
    "EIGENVECTOR_DATA_y_flat = eigenvector_data_y.flatten()\n",
    "\n",
    "# Take the symlog of the flattened arrays. Take the real value for complex valued arrays.\n",
    "# designs_flat_symlog = np.sign(designs_flat) * np.log10(np.abs(designs_flat) + 1)\n",
    "# WAVEFORM_DATA_flat_symlog = np.sign(WAVEFORM_DATA_flat) * np.log10(np.abs(WAVEFORM_DATA_flat) + 1)\n",
    "# EIGENVECTOR_DATA_x_flat_symlog = np.sign(EIGENVECTOR_DATA_x_flat.real) * np.log10(np.abs(EIGENVECTOR_DATA_x_flat.real) + 1)\n",
    "# EIGENVECTOR_DATA_y_flat_symlog = np.sign(EIGENVECTOR_DATA_y_flat.real) * np.log10(np.abs(EIGENVECTOR_DATA_y_flat.real) + 1)"
   ]
  },
  {
   "cell_type": "code",
   "execution_count": 6,
   "id": "62b963bd2bde7aee",
   "metadata": {
    "ExecuteTime": {
     "end_time": "2025-02-23T05:14:24.282463Z",
     "start_time": "2025-02-23T05:13:48.167341Z"
    },
    "collapsed": false
   },
   "outputs": [
    {
     "data": {
      "image/png": "[encoded data removed]",
      "text/plain": [
       "<Figure size 1200x1200 with 4 Axes>"
      ]
     },
     "metadata": {},
     "output_type": "display_data"
    }
   ],
   "source": [
    "# Plot the histograms of flattened real values for each array\n",
    "fig, axes = plt.subplots(2, 2, figsize=(12, 12))\n",
    "\n",
    "axes[0, 0].hist(designs.flatten(), bins=100, color='b', alpha=0.7)\n",
    "axes[0, 0].set_title('Designs')\n",
    "axes[0, 0].set_xlabel('Pixel Value')\n",
    "axes[0, 0].set_ylabel('Frequency')\n",
    "\n",
    "axes[0, 1].hist(waveforms.flatten(), bins=100, color='r', alpha=0.7)\n",
    "axes[0, 1].set_title('Waveforms')\n",
    "axes[0, 1].set_xlabel('Value')\n",
    "axes[0, 1].set_ylabel('Frequency')\n",
    "\n",
    "axes[1, 0].hist(eigenvector_data_x.flatten().real, bins=100, color='g', alpha=0.7)\n",
    "axes[1, 0].set_title('Eigenvectors (x)')\n",
    "axes[1, 0].set_xlabel('Value')\n",
    "axes[1, 0].set_ylabel('Frequency')\n",
    "\n",
    "axes[1, 1].hist(eigenvector_data_y.flatten().real, bins=100, color='y', alpha=0.7)\n",
    "axes[1, 1].set_title('Eigenvectors (y)')\n",
    "axes[1, 1].set_xlabel('Value')\n",
    "axes[1, 1].set_ylabel('Frequency')\n",
    "\n",
    "plt.tight_layout()\n",
    "plt.show()"
   ]
  },
  {
   "cell_type": "code",
   "execution_count": 7,
   "id": "6d3f2966445eb4d9",
   "metadata": {
    "ExecuteTime": {
     "end_time": "2025-02-23T05:14:24.375380Z",
     "start_time": "2025-02-23T05:14:24.371776Z"
    },
    "collapsed": false
   },
   "outputs": [],
   "source": [
    "# Plot the histograms of flattened log abs values for each array\n",
    "# fig, axes = plt.subplots(2, 2, figsize=(12, 12))\n",
    "# \n",
    "# axes[0, 0].hist(designs_flat_symlog, bins=100, color='b', alpha=0.7)\n",
    "# axes[0, 0].set_title('Designs')\n",
    "# axes[0, 0].set_xlabel('Log Abs Value')\n",
    "# axes[0, 0].set_ylabel('Frequency')\n",
    "# \n",
    "# axes[0, 1].hist(WAVEFORM_DATA_flat_symlog, bins=100, color='r', alpha=0.7)\n",
    "# axes[0, 1].set_title('Waveforms')\n",
    "# axes[0, 1].set_xlabel('Log Abs Value')\n",
    "# axes[0, 1].set_ylabel('Frequency')\n",
    "# \n",
    "# axes[1, 0].hist(EIGENVECTOR_DATA_x_flat_symlog, bins=100, color='g', alpha=0.7)\n",
    "# axes[1, 0].set_title('Eigenvectors (x)')\n",
    "# axes[1, 0].set_xlabel('Log Abs Value')\n",
    "# axes[1, 0].set_ylabel('Frequency')\n",
    "# \n",
    "# axes[1, 1].hist(EIGENVECTOR_DATA_y_flat_symlog, bins=100, color='y', alpha=0.7)\n",
    "# axes[1, 1].set_title('Eigenvectors (y)')\n",
    "# axes[1, 1].set_xlabel('Log Abs Value')\n",
    "# axes[1, 1].set_ylabel('Frequency')\n",
    "# \n",
    "# plt.tight_layout()\n",
    "# plt.show()"
   ]
  },
  {
   "cell_type": "code",
   "execution_count": 8,
   "id": "d14ffb26416d07b3",
   "metadata": {
    "ExecuteTime": {
     "end_time": "2025-02-23T05:14:24.518295Z",
     "start_time": "2025-02-23T05:14:24.512951Z"
    },
    "collapsed": false
   },
   "outputs": [
    {
     "name": "stdout",
     "output_type": "stream",
     "text": [
      "Design: 477, Band: 4, Wavevector: 152\n"
     ]
    }
   ],
   "source": [
    "# Draw a random design and its corresponding eigenvectors\n",
    "#n_bands = 6\n",
    "random_seed = 36\n",
    "random.seed(random_seed)\n",
    "sample_index = np.random.randint(0, n_designs)\n",
    "sample_geometry = designs[sample_index, 0]\n",
    "sample_band = np.random.randint(0, n_bands)\n",
    "sample_waveform_index = np.random.randint(0, n_waveforms)\n",
    "sample_waveform = waveforms[sample_waveform_index]\n",
    "print(f'Design: {sample_index}, Band: {sample_band}, Wavevector: {sample_waveform_index}')"
   ]
  },
  {
   "cell_type": "code",
   "execution_count": 9,
   "id": "1178eac42dcb84f2",
   "metadata": {
    "ExecuteTime": {
     "end_time": "2025-02-23T05:14:25.201133Z",
     "start_time": "2025-02-23T05:14:24.734495Z"
    },
    "collapsed": false
   },
   "outputs": [
    {
     "name": "stdout",
     "output_type": "stream",
     "text": [
      "designs shape: (600, 3, 32, 32)\n",
      "WAVEFORM_DATA shape: (325, 32, 32)\n",
      "Average pixel values of all geometries: 0.5016087747076138\n",
      "Average pixel values of all waveforms: 0.6164027212723144\n"
     ]
    },
    {
     "data": {
      "image/png": "[encoded data removed]",
      "text/plain": [
       "<Figure size 1200x1200 with 8 Axes>"
      ]
     },
     "metadata": {},
     "output_type": "display_data"
    }
   ],
   "source": [
    "# Calculate the average values for geometry and waveform across all samples\n",
    "print(f'designs shape: {designs.shape}')\n",
    "print(f'WAVEFORM_DATA shape: {waveforms.shape}')\n",
    "\n",
    "avg_geometry = np.mean(designs[:, 0], axis=0)\n",
    "avg_waveform = np.mean(waveforms[:], axis=0)\n",
    "\n",
    "# Create the subplots\n",
    "fig, axes = plt.subplots(2, 2, figsize=(12, 12))\n",
    "\n",
    "# Plot the geometry sample on the top-left\n",
    "im1 = axes[0, 0].imshow(sample_geometry, cmap='viridis')\n",
    "axes[0, 0].set_title('Geometry Sample')\n",
    "axes[0, 0].set_xlabel('x (pixels)')\n",
    "axes[0, 0].set_ylabel('y (pixels)')\n",
    "plt.colorbar(im1, ax=axes[0, 0])\n",
    "\n",
    "# Plot the waveform sample on the top-right\n",
    "im2 = axes[0, 1].imshow(sample_waveform, cmap='viridis')\n",
    "axes[0, 1].set_title('Waveform Sample')\n",
    "axes[0, 1].set_xlabel('x (m)')\n",
    "axes[0, 1].set_ylabel('y (m)')\n",
    "plt.colorbar(im2, ax=axes[0, 1])\n",
    "\n",
    "# Plot the average geometry on the bottom-left\n",
    "im3 = axes[1, 0].imshow(avg_geometry, cmap='viridis')\n",
    "axes[1, 0].set_title('Average Geometry')\n",
    "axes[1, 0].set_xlabel('x (pixels)')\n",
    "axes[1, 0].set_ylabel('y (pixels)')\n",
    "plt.colorbar(im3, ax=axes[1, 0])\n",
    "\n",
    "# Plot the average waveform on the bottom-right\n",
    "im4 = axes[1, 1].imshow(avg_waveform, cmap='viridis')\n",
    "axes[1, 1].set_title('Average Waveform')\n",
    "axes[1, 1].set_xlabel('x (m)')\n",
    "axes[1, 1].set_ylabel('y (m)')\n",
    "plt.colorbar(im4, ax=axes[1, 1])\n",
    "\n",
    "print(f'Average pixel values of all geometries: {np.mean(designs[:,0])}')\n",
    "print(f'Average pixel values of all waveforms: {np.mean(waveforms[0,:])}')"
   ]
  },
  {
   "cell_type": "code",
   "execution_count": 10,
   "id": "initial_id",
   "metadata": {
    "ExecuteTime": {
     "end_time": "2025-02-23T05:14:25.385300Z",
     "start_time": "2025-02-23T05:14:25.213522Z"
    },
    "collapsed": false
   },
   "outputs": [
    {
     "name": "stdout",
     "output_type": "stream",
     "text": [
      "Design: 477, Band: 4, Wavevector: 152\n"
     ]
    },
    {
     "name": "stderr",
     "output_type": "stream",
     "text": [
      "c:\\Users\\hz283\\Documents\\Duke\\Research\\NO-2D-Metamaterials\\NO_utils.py:169: UserWarning: This figure includes Axes that are not compatible with tight_layout, so results might be incorrect.\n",
      "  plt.tight_layout()\n"
     ]
    },
    {
     "data": {
      "image/png": "[encoded data removed]",
      "text/plain": [
       "<Figure size 1000x800 with 5 Axes>"
      ]
     },
     "metadata": {},
     "output_type": "display_data"
    }
   ],
   "source": [
    "# View eigenvectors for the selected design, band, and wavevector\n",
    "print(f'Design: {sample_index}, Band: {sample_band}, Wavevector: {sample_waveform_index}')\n",
    "sample_eigenvector_x = eigenvector_data_x[sample_index, sample_waveform_index, sample_band]\n",
    "sample_eigenvector_y = eigenvector_data_y[sample_index, sample_waveform_index, sample_band]\n",
    "\n",
    "NO_utils.plot_eigenvectors(sample_eigenvector_x, sample_eigenvector_y, unify_scales=True)"
   ]
  },
  {
   "cell_type": "markdown",
   "id": "403252e7c7fdba30",
   "metadata": {
    "collapsed": false
   },
   "source": [
    "## Model architecture & training"
   ]
  },
  {
   "cell_type": "code",
   "execution_count": 12,
   "id": "ca8db99822c54acc",
   "metadata": {
    "ExecuteTime": {
     "end_time": "2025-02-23T05:26:21.608144Z",
     "start_time": "2025-02-23T05:26:21.595415Z"
    },
    "collapsed": false
   },
   "outputs": [
    {
     "ename": "ModuleNotFoundError",
     "evalue": "No module named 'torch.nn.functional'",
     "output_type": "error",
     "traceback": [
      "\u001b[1;31m---------------------------------------------------------------------------\u001b[0m",
      "\u001b[1;31mModuleNotFoundError\u001b[0m                       Traceback (most recent call last)",
      "Cell \u001b[1;32mIn[12], line 6\u001b[0m\n\u001b[0;32m      4\u001b[0m \u001b[38;5;28;01mimport\u001b[39;00m \u001b[38;5;21;01mtorch\u001b[39;00m\n\u001b[0;32m      5\u001b[0m \u001b[38;5;28;01mimport\u001b[39;00m \u001b[38;5;21;01mtorch\u001b[39;00m\u001b[38;5;21;01m.\u001b[39;00m\u001b[38;5;21;01mnn\u001b[39;00m \u001b[38;5;28;01mas\u001b[39;00m \u001b[38;5;21;01mnn\u001b[39;00m\n\u001b[1;32m----> 6\u001b[0m \u001b[38;5;28;01mimport\u001b[39;00m \u001b[38;5;21;01mtorch\u001b[39;00m\u001b[38;5;21;01m.\u001b[39;00m\u001b[38;5;21;01mnn\u001b[39;00m\u001b[38;5;21;01m.\u001b[39;00m\u001b[38;5;21;01mfunctional\u001b[39;00m \u001b[38;5;28;01mas\u001b[39;00m \u001b[38;5;21;01mF\u001b[39;00m\n\u001b[0;32m      7\u001b[0m \u001b[38;5;28;01mimport\u001b[39;00m \u001b[38;5;21;01mtorch\u001b[39;00m\u001b[38;5;21;01m.\u001b[39;00m\u001b[38;5;21;01mfft\u001b[39;00m\n\u001b[0;32m      8\u001b[0m \u001b[38;5;28;01mimport\u001b[39;00m \u001b[38;5;21;01mtorch\u001b[39;00m\u001b[38;5;21;01m.\u001b[39;00m\u001b[38;5;21;01moptim\u001b[39;00m \u001b[38;5;28;01mas\u001b[39;00m \u001b[38;5;21;01moptim\u001b[39;00m\n",
      "\u001b[1;31mModuleNotFoundError\u001b[0m: No module named 'torch.nn.functional'"
     ]
    }
   ],
   "source": [
    "# Import modules for building a neural operator model\n",
    "import numpy as np\n",
    "import scipy as sp\n",
    "import torch\n",
    "import torch.nn as nn\n",
    "import torch.nn.functional as F\n",
    "import torch.fft\n",
    "import torch.optim as optim\n",
    "from torch.utils.data import DataLoader, TensorDataset\n",
    "from torch.optim import Adam\n",
    "from torch.optim.lr_scheduler import CosineAnnealingLR\n",
    "\n",
    "# Import specialized neural operator model tools\n",
    "from neuralop.models import FNO, FNO2d, TFNO, TFNO2d\n",
    "from neuralop import Trainer\n",
    "from neuralop import LpLoss, H1Loss\n",
    "\n",
    "# For creating datasets and data loaders for training and evaluation\n",
    "from torch.utils.data import DataLoader, Dataset, TensorDataset, random_split, ConcatDataset\n",
    "from sklearn.preprocessing import StandardScaler\n",
    "\n",
    "# Optional: torchvision for augmentations and transformations (if working with image-like data)\n",
    "import torchvision.transforms as transforms\n",
    "\n",
    "# For plotting and visualization\n",
    "import matplotlib.pyplot as plt\n",
    "\n",
    "# Optional: Use tqdm for progress bars during training and evaluation\n",
    "from tqdm import tqdm\n",
    "\n",
    "# Optional: If you are working with graph data or architectures\n",
    "# import torch_geometric\n",
    "\n",
    "# If you need automatic differentiation for custom operations or gradients\n",
    "from torch.autograd import Function"
   ]
  },
  {
   "cell_type": "code",
   "execution_count": 12,
   "id": "f5e55a66dd87a412",
   "metadata": {
    "ExecuteTime": {
     "end_time": "2025-02-23T05:14:25.826336300Z",
     "start_time": "2025-02-21T22:36:16.526144Z"
    },
    "collapsed": false
   },
   "outputs": [
    {
     "name": "stdout",
     "output_type": "stream",
     "text": [
      "Using Device: cuda\n",
      "Using PyTorch version: 2.4.1+cu118\n"
     ]
    }
   ],
   "source": [
    "#Set the device for the neural operator model\n",
    "device = torch.device('cuda' if torch.cuda.is_available() else 'cpu')\n",
    "print('Using Device:', device)\n",
    "print(\"Using PyTorch version:\", torch.__version__)"
   ]
  },
  {
   "cell_type": "code",
   "execution_count": 13,
   "id": "e9b8e2896347d542",
   "metadata": {
    "ExecuteTime": {
     "end_time": "2025-02-23T05:14:25.846801600Z",
     "start_time": "2025-02-21T22:36:16.649344Z"
    },
    "collapsed": false
   },
   "outputs": [
    {
     "name": "stdout",
     "output_type": "stream",
     "text": [
      "Shape of the first input tensor to be assigned:\n",
      "designs[0, 0]: (32, 32)\n",
      "WAVEFORM_DATA[0, 0]: (32,)\n",
      "Shape of the first output tensor to be assigned:\n",
      "EIGENVECTOR_DATA_x[0, 0, 0]: (32, 32)\n",
      "EIGENVECTOR_DATA_x[0, 0, 0]: (32, 32)\n"
     ]
    }
   ],
   "source": [
    "# Print the shape of the first input tensor for confirmation\n",
    "print(\"Shape of the first input tensor to be assigned:\")\n",
    "print(\"designs[0, 0]:\", designs[0, 0].shape)\n",
    "print(\"WAVEFORM_DATA[0, 0]:\", waveforms[0, 0].shape)\n",
    "\n",
    "# Print the shape of the first output tensor for confirmation\n",
    "print(\"Shape of the first output tensor to be assigned:\")\n",
    "print(\"EIGENVECTOR_DATA_x[0, 0, 0]:\", eigenvector_data_x[0, 0, 0].shape)\n",
    "print(\"EIGENVECTOR_DATA_x[0, 0, 0]:\", eigenvector_data_y[0, 0, 0].shape)"
   ]
  },
  {
   "cell_type": "code",
   "execution_count": 14,
   "id": "c725e6ad5dec1c08",
   "metadata": {
    "ExecuteTime": {
     "end_time": "2025-02-23T05:14:25.847797Z",
     "start_time": "2025-02-21T22:36:16.898472Z"
    },
    "collapsed": false
   },
   "outputs": [],
   "source": [
    "def symlog_transform(x, linthresh=1):\n",
    "    return np.sign(x) * np.log10(np.abs(x) + linthresh)\n",
    "\n",
    "def symlog_inverse_transform(y, linthresh=1):\n",
    "    return np.sign(y) * (10**np.abs(y) - linthresh)\n",
    "\n",
    "# Function to fit and transform with StandardScaler, with optional symlog transformation\n",
    "def standardize_array(array, symlog=False):\n",
    "    scaler = StandardScaler()\n",
    "    original_shape = array.shape\n",
    "    array_flat = array.reshape(-1, 1)  # Flatten the array to 2D\n",
    "\n",
    "    if symlog:\n",
    "        array_flat = symlog_transform(array_flat)\n",
    "\n",
    "    array_standardized = scaler.fit_transform(array_flat).reshape(original_shape)\n",
    "    mean = scaler.mean_[0]\n",
    "    scale = scaler.scale_[0]\n",
    "\n",
    "    return array_standardized, mean, scale, symlog"
   ]
  },
  {
   "cell_type": "code",
   "execution_count": 15,
   "id": "b5942193b0603349",
   "metadata": {
    "ExecuteTime": {
     "end_time": "2025-02-23T05:14:25.847797Z",
     "start_time": "2025-02-21T22:36:16.992782Z"
    },
    "collapsed": false
   },
   "outputs": [],
   "source": [
    "# Standardizing EIGENVALUE_DATA and casting to float16\n",
    "EIGENVALUE_DATA_standardized, eigenvalue_mean, eigenvalue_scale, _ = standardize_array(eigenvalue_data)\n",
    "EIGENVALUE_DATA_standardized = EIGENVALUE_DATA_standardized.astype(np.float16)\n",
    "\n",
    "# Standardizing EIGENVECTOR_DATA_x (real and imaginary parts separately) and casting to float16\n",
    "EIGENVECTOR_x_r = eigenvector_data_x.real.astype(np.float16)\n",
    "EIGENVECTOR_x_i = eigenvector_data_x.imag.astype(np.float16)\n",
    "\n",
    "EIGENVECTOR_x_r_standardized, eigvector_x_r_mean, eigvector_x_r_scale, _ = standardize_array(EIGENVECTOR_x_r)\n",
    "EIGENVECTOR_x_r_standardized = EIGENVECTOR_x_r_standardized.astype(np.float16)\n",
    "\n",
    "EIGENVECTOR_x_i_standardized, eigvector_x_i_mean, eigvector_x_i_scale, _ = standardize_array(EIGENVECTOR_x_i)\n",
    "EIGENVECTOR_x_i_standardized = EIGENVECTOR_x_i_standardized.astype(np.float16)\n",
    "\n",
    "# Standardizing EIGENVECTOR_DATA_y (real and imaginary parts separately) and casting to float16\n",
    "EIGENVECTOR_y_r = eigenvector_data_y.real.astype(np.float16)\n",
    "EIGENVECTOR_y_i = eigenvector_data_y.imag.astype(np.float16)\n",
    "\n",
    "EIGENVECTOR_y_r_standardized, eigvector_y_r_mean, eigvector_y_r_scale, _ = standardize_array(EIGENVECTOR_y_r)\n",
    "EIGENVECTOR_y_r_standardized = EIGENVECTOR_y_r_standardized.astype(np.float16)\n",
    "\n",
    "EIGENVECTOR_y_i_standardized, eigvector_y_i_mean, eigvector_y_i_scale, _ = standardize_array(EIGENVECTOR_y_i)\n",
    "EIGENVECTOR_y_i_standardized = EIGENVECTOR_y_i_standardized.astype(np.float16)\n",
    "\n",
    "# Standardizing WAVEVECTOR_DATA and casting to float16\n",
    "WAVEVECTOR_DATA_standardized, wavevector_mean, wavevector_scale, _ = standardize_array(waveforms)\n",
    "WAVEVECTOR_DATA_standardized = WAVEVECTOR_DATA_standardized.astype(np.float16)\n",
    "\n",
    "del eigenvector_data_x, eigenvector_data_y\n"
   ]
  },
  {
   "cell_type": "code",
   "execution_count": 16,
   "id": "df16d5712fc36ecd",
   "metadata": {
    "ExecuteTime": {
     "end_time": "2025-02-23T05:14:25.877550400Z",
     "start_time": "2025-02-21T22:37:50.606703Z"
    },
    "collapsed": false
   },
   "outputs": [
    {
     "name": "stdout",
     "output_type": "stream",
     "text": [
      "EIGENVALUE_DATA_standardized shape: (600, 325, 6) dtype: float16\n",
      "EIGENVECTOR_x_r_standardized shape: (600, 325, 6, 32, 32) dtype: float16\n",
      "EIGENVECTOR_x_i_standardized shape: (600, 325, 6, 32, 32) dtype: float16\n",
      "EIGENVECTOR_y_r_standardized shape: (600, 325, 6, 32, 32) dtype: float16\n",
      "EIGENVECTOR_y_i_standardized shape: (600, 325, 6, 32, 32) dtype: float16\n",
      "WAVEVECTOR_DATA_standardized shape: (325, 32, 32) dtype: float16\n",
      "\n",
      "\n",
      "Eigenvalue mean, scale: 1878.1603291255526 800.2777320234528\n",
      "Eigenvector x real mean, scale: 0.0018456854386973039 0.016225094988913835\n",
      "Eigenvector x imag mean, scale: -0.0008928369140793255 0.014881332736059778\n",
      "Eigenvector y real mean, scale: -0.0006861322846175589 0.015982821838965548\n",
      "Eigenvector y imag mean, scale: -0.0008507395951686781 0.015198877292350333\n",
      "Wavevector mean, scale: 0.7354731009461464 0.3362319766565927\n",
      "\n",
      "\n",
      "Eigenvalue range: -2.348 2.797 dtype: float16\n"
     ]
    },
    {
     "name": "stdout",
     "output_type": "stream",
     "text": [
      "Eigenvector x real range: -42.38 36.5 dtype: float16\n",
      "Eigenvector x imag range: -39.03 39.1 dtype: float16\n",
      "Eigenvector y real range: -37.03 39.97 dtype: float16\n",
      "Eigenvector y imag range: -39.75 39.88 dtype: float16\n",
      "Wavevector range: -5.16 0.7866 dtype: float16\n"
     ]
    }
   ],
   "source": [
    "# Print shapes and data types of arrays to verify\n",
    "print(\"EIGENVALUE_DATA_standardized shape:\", EIGENVALUE_DATA_standardized.shape, \"dtype:\", EIGENVALUE_DATA_standardized.dtype)\n",
    "print(\"EIGENVECTOR_x_r_standardized shape:\", EIGENVECTOR_x_r_standardized.shape, \"dtype:\", EIGENVECTOR_x_r_standardized.dtype)\n",
    "print(\"EIGENVECTOR_x_i_standardized shape:\", EIGENVECTOR_x_i_standardized.shape, \"dtype:\", EIGENVECTOR_x_i_standardized.dtype)\n",
    "print(\"EIGENVECTOR_y_r_standardized shape:\", EIGENVECTOR_y_r_standardized.shape, \"dtype:\", EIGENVECTOR_y_r_standardized.dtype)\n",
    "print(\"EIGENVECTOR_y_i_standardized shape:\", EIGENVECTOR_y_i_standardized.shape, \"dtype:\", EIGENVECTOR_y_i_standardized.dtype)\n",
    "print(\"WAVEVECTOR_DATA_standardized shape:\", WAVEVECTOR_DATA_standardized.shape, \"dtype:\", WAVEVECTOR_DATA_standardized.dtype)\n",
    "print('\\n')\n",
    "\n",
    "# Print the mean and scale values for each standardized array\n",
    "print(\"Eigenvalue mean, scale:\", eigenvalue_mean, eigenvalue_scale)\n",
    "print(\"Eigenvector x real mean, scale:\", eigvector_x_r_mean, eigvector_x_r_scale)\n",
    "print(\"Eigenvector x imag mean, scale:\", eigvector_x_i_mean, eigvector_x_i_scale)\n",
    "print(\"Eigenvector y real mean, scale:\", eigvector_y_r_mean, eigvector_y_r_scale)\n",
    "print(\"Eigenvector y imag mean, scale:\", eigvector_y_i_mean, eigvector_y_i_scale)\n",
    "print(\"Wavevector mean, scale:\", wavevector_mean, wavevector_scale)\n",
    "print('\\n')\n",
    "\n",
    "# Print the full range and data types of values for each standardized array\n",
    "print(\"Eigenvalue range:\", np.min(EIGENVALUE_DATA_standardized), np.max(EIGENVALUE_DATA_standardized), \"dtype:\", EIGENVALUE_DATA_standardized.dtype)\n",
    "print(\"Eigenvector x real range:\", np.min(EIGENVECTOR_x_r_standardized), np.max(EIGENVECTOR_x_r_standardized), \"dtype:\", EIGENVECTOR_x_r_standardized.dtype)\n",
    "print(\"Eigenvector x imag range:\", np.min(EIGENVECTOR_x_i_standardized), np.max(EIGENVECTOR_x_i_standardized), \"dtype:\", EIGENVECTOR_x_i_standardized.dtype)\n",
    "print(\"Eigenvector y real range:\", np.min(EIGENVECTOR_y_r_standardized), np.max(EIGENVECTOR_y_r_standardized), \"dtype:\", EIGENVECTOR_y_r_standardized.dtype)\n",
    "print(\"Eigenvector y imag range:\", np.min(EIGENVECTOR_y_i_standardized), np.max(EIGENVECTOR_y_i_standardized), \"dtype:\", EIGENVECTOR_y_i_standardized.dtype)\n",
    "print(\"Wavevector range:\", np.min(WAVEVECTOR_DATA_standardized), np.max(WAVEVECTOR_DATA_standardized), \"dtype:\", WAVEVECTOR_DATA_standardized.dtype)"
   ]
  },
  {
   "cell_type": "code",
   "execution_count": 17,
   "id": "3aa46571def75542",
   "metadata": {
    "ExecuteTime": {
     "end_time": "2025-02-23T05:14:25.878549900Z",
     "start_time": "2025-02-21T22:38:08.958197Z"
    }
   },
   "outputs": [],
   "source": [
    "# Delete unused tensors to free up RAM\n",
    "del EIGENVECTOR_DATA_x_flat, EIGENVECTOR_DATA_y_flat\n",
    "del EIGENVECTOR_x_r, EIGENVECTOR_x_i, EIGENVECTOR_y_r, EIGENVECTOR_y_i"
   ]
  },
  {
   "cell_type": "code",
   "execution_count": 18,
   "id": "bbc91431636d74d1",
   "metadata": {
    "ExecuteTime": {
     "end_time": "2025-02-23T05:14:25.879550Z",
     "start_time": "2025-02-21T22:38:11.076548Z"
    },
    "collapsed": false
   },
   "outputs": [
    {
     "name": "stdout",
     "output_type": "stream",
     "text": [
      "Train dataset size: 877500\n",
      "Test dataset size: 234000\n",
      "Validation dataset size: 58500\n"
     ]
    }
   ],
   "source": [
    "# Prepare input and output data\n",
    "design_res = 32\n",
    "num_samples = n_designs * n_waveforms * n_bands\n",
    "input_data = torch.zeros((num_samples, 3, design_res, design_res))\n",
    "output_data = torch.zeros((num_samples, 4, design_res, design_res))\n",
    "\n",
    "sample_idx = 0\n",
    "for i in range(n_designs):\n",
    "    for j in range(n_waveforms):\n",
    "        for k in range(n_bands):\n",
    "\n",
    "            input_data[sample_idx, 0] = torch.from_numpy(designs[i, 0])\n",
    "            input_data[sample_idx, 1] = torch.from_numpy(waveforms[j])\n",
    "            input_data[sample_idx, 2] = torch.from_numpy(bands_fft[k])\n",
    "\n",
    "            output_data[sample_idx, 0] = torch.from_numpy(EIGENVECTOR_x_r_standardized[i, j, k])\n",
    "            output_data[sample_idx, 1] = torch.from_numpy(EIGENVECTOR_x_i_standardized[i, j, k])\n",
    "            output_data[sample_idx, 2] = torch.from_numpy(EIGENVECTOR_y_r_standardized[i, j, k])\n",
    "            output_data[sample_idx, 3] = torch.from_numpy(EIGENVECTOR_y_i_standardized[i, j, k])\n",
    "\n",
    "            sample_idx += 1\n",
    "\n",
    "# Create dataset\n",
    "dataset = TensorDataset(input_data, output_data)\n",
    "\n",
    "# Split dataset into train, test, and validation sets\n",
    "train_size = int(0.75 * len(dataset))\n",
    "test_size = int(0.2 * len(dataset))\n",
    "val_size = len(dataset) - train_size - test_size\n",
    "\n",
    "# train_dataset, test_dataset, val_dataset = torch.utils.data.random_split(dataset, [train_size, test_size, val_size])\n",
    "\n",
    "train_dataset, test_dataset, val_dataset = random_split(dataset, [train_size, test_size, val_size])\n",
    "\n",
    "batch_size = 256\n",
    "train_loader = DataLoader(train_dataset, batch_size=batch_size, shuffle=True)\n",
    "test_loader = DataLoader(test_dataset, batch_size=batch_size, shuffle=False)\n",
    "val_loader = DataLoader(val_dataset, batch_size=batch_size, shuffle=False)\n",
    "\n",
    "print(f\"Train dataset size: {len(train_dataset)}\")\n",
    "print(f\"Test dataset size: {len(test_dataset)}\")\n",
    "print(f\"Validation dataset size: {len(val_dataset)}\")"
   ]
  },
  {
   "cell_type": "code",
   "execution_count": 19,
   "id": "e25a99a85e750851",
   "metadata": {
    "ExecuteTime": {
     "end_time": "2025-02-23T05:14:25.880741400Z",
     "start_time": "2025-02-21T22:38:54.015539Z"
    },
    "collapsed": false
   },
   "outputs": [
    {
     "data": {
      "image/png": "[encoded data removed]",
      "text/plain": [
       "<Figure size 800x800 with 3 Axes>"
      ]
     },
     "metadata": {},
     "output_type": "display_data"
    }
   ],
   "source": [
    "# Visualize a random sample input from the dataset\n",
    "random_idx = np.random.randint(0, len(dataset))\n",
    "random_input, random_output = dataset[random_idx]\n",
    "input_shape = random_input.shape\n",
    "\n",
    "fig, axes = plt.subplots(1, input_shape[0], figsize=(8, 8))\n",
    "axes = axes.flatten()\n",
    "\n",
    "for i in range(3):\n",
    "    if i == 0:\n",
    "        img = random_input[i].numpy()\n",
    "    else:\n",
    "        img = random_input[i].abs().numpy()\n",
    "    axes[i].imshow(img, cmap='viridis')\n",
    "    axes[i].set_title(f'Pane {i+1}')\n",
    "    axes[i].axis('off')\n",
    "\n",
    "plt.tight_layout()\n",
    "plt.show()"
   ]
  },
  {
   "cell_type": "code",
   "execution_count": 20,
   "id": "6efb56ee142426f",
   "metadata": {
    "ExecuteTime": {
     "end_time": "2025-02-23T05:14:25.881744700Z",
     "start_time": "2025-02-21T22:38:54.380899Z"
    },
    "collapsed": false
   },
   "outputs": [
    {
     "data": {
      "image/png": "[encoded data removed]",
      "text/plain": [
       "<Figure size 800x800 with 4 Axes>"
      ]
     },
     "metadata": {},
     "output_type": "display_data"
    }
   ],
   "source": [
    "# Visualize a random sample output from the dataset\n",
    "output_shape = random_output.shape\n",
    "\n",
    "fig, axes = plt.subplots(1, output_shape[0], figsize=(8, 8))\n",
    "axes = axes.flatten()\n",
    "\n",
    "for i in range(4):\n",
    "    if i % 2 == 0:\n",
    "        img = random_output[i].numpy()\n",
    "    else:\n",
    "        img = random_output[i].abs().numpy()\n",
    "    axes[i].imshow(img, cmap='viridis')\n",
    "    axes[i].set_title(f'Component {i+1}')\n",
    "    axes[i].axis('off')\n",
    "    \n",
    "plt.tight_layout()\n",
    "plt.show()"
   ]
  },
  {
   "cell_type": "code",
   "execution_count": 21,
   "id": "5c9f7a57e356b6fb",
   "metadata": {
    "ExecuteTime": {
     "end_time": "2025-02-23T05:14:25.881744700Z",
     "start_time": "2025-02-21T22:38:54.591037Z"
    },
    "collapsed": false
   },
   "outputs": [
    {
     "name": "stdout",
     "output_type": "stream",
     "text": [
      "Input data shape: torch.Size([1170000, 3, 32, 32])\n",
      "Output data shape: torch.Size([1170000, 4, 32, 32])\n",
      "Train data size: 877500\n",
      "Test data size: 234000\n",
      "Validation data size: 58500\n",
      "Batch shape: torch.Size([256, 3, 32, 32]) torch.Size([256, 4, 32, 32])\n"
     ]
    }
   ],
   "source": [
    "# Print the shapes of the input and output data, train, test, and validation sets\n",
    "print('Input data shape:', input_data.shape)\n",
    "print('Output data shape:', output_data.shape)\n",
    "print('Train data size:', len(train_dataset))\n",
    "print('Test data size:', len(test_dataset))\n",
    "print('Validation data size:', len(val_dataset))\n",
    "\n",
    "# Inspect the first batch of data\n",
    "for sample in train_loader:\n",
    "    print('Batch shape:', sample[0].shape, sample[1].shape)\n",
    "    #print(sample)\n",
    "    break"
   ]
  },
  {
   "cell_type": "code",
   "execution_count": 22,
   "id": "593f352ff2ab7c5b",
   "metadata": {
    "ExecuteTime": {
     "end_time": "2025-02-23T05:14:25.882745800Z",
     "start_time": "2025-02-21T22:38:55.040008Z"
    },
    "collapsed": false
   },
   "outputs": [],
   "source": [
    "class FourierNeuralOperator(nn.Module):\n",
    "    def __init__(self, modes_height, modes_width, in_channels=3, out_channels=4, hidden=32, num_layers=4):\n",
    "        super(FourierNeuralOperator, self).__init__()\n",
    "        self.modes_height = modes_height  # Number of Fourier modes in height dimension\n",
    "        self.modes_width = modes_width  # Number of Fourier modes in width dimension\n",
    "        self.hidden = hidden  # Width of the hidden channels\n",
    "        self.in_channels = in_channels  # Number of input channels\n",
    "        self.out_channels = out_channels  # Number of output channels\n",
    "        self.num_layers = num_layers\n",
    "\n",
    "        # FNO2d layer\n",
    "        self.fno = FNO2d(in_channels=self.in_channels, out_channels=self.out_channels, n_modes_height=self.modes_height, n_modes_width=self.modes_width, hidden_channels=self.hidden, num_layers=self.num_layers)\n",
    "\n",
    "    def forward(self, x):\n",
    "        # Apply the FNO2d layer\n",
    "        x = self.fno(x)\n",
    "        return x"
   ]
  },
  {
   "cell_type": "code",
   "execution_count": 23,
   "id": "99b6262f00c1eee2",
   "metadata": {
    "ExecuteTime": {
     "end_time": "2025-02-23T05:14:25.883745600Z",
     "start_time": "2025-02-21T22:38:55.158426Z"
    },
    "collapsed": false
   },
   "outputs": [],
   "source": [
    "def train_one_epoch(model, loader, criterion, optimizer, device, epoch, report_freq=100, save_after_batch=False, save_path=None):\n",
    "    model.train()\n",
    "    running_loss = 0.0\n",
    "    total_batches = len(loader)\n",
    "    progress_bar = tqdm(enumerate(loader), total=total_batches, desc=f\"Epoch {epoch + 1}\")\n",
    "\n",
    "    for batch_idx, (inputs, targets) in progress_bar:\n",
    "        inputs, targets = inputs.to(device), targets.to(device)\n",
    "\n",
    "        optimizer.zero_grad()\n",
    "        outputs = model(inputs)\n",
    "        loss = criterion(outputs, targets).mean()  # Ensure the loss is a scalar\n",
    "        loss.backward()\n",
    "        optimizer.step()\n",
    "\n",
    "        running_loss += loss.item() * inputs.size(0)\n",
    "\n",
    "        # Print progress for each batch\n",
    "        if (batch_idx + 1) % report_freq == 0 or (batch_idx + 1) == total_batches:\n",
    "            progress_bar.set_postfix(batch_loss=loss.item())\n",
    "\n",
    "        # Save model weights after each batch if the flag is set\n",
    "        if save_after_batch and save_path:\n",
    "            save_model(model, save_path)\n",
    "\n",
    "    epoch_loss = running_loss / len(loader.dataset)\n",
    "\n",
    "    # Save model weights after each epoch if the flag is not set\n",
    "    if not save_after_batch and save_path:\n",
    "        save_model(model, save_path)\n",
    "\n",
    "    return epoch_loss\n",
    "\n",
    "def evaluate(model, loader, criterion, device):\n",
    "    model.eval()\n",
    "    running_loss = 0.0\n",
    "    with torch.no_grad():\n",
    "        for inputs, targets in tqdm(loader, desc=\"Evaluating\"):\n",
    "            inputs, targets = inputs.to(device), targets.to(device)\n",
    "\n",
    "            outputs = model(inputs)\n",
    "            loss = criterion(outputs, targets).mean()  # Ensure the loss is a scalar\n",
    "            running_loss += loss.item() * inputs.size(0)\n",
    "\n",
    "    epoch_loss = running_loss / len(loader.dataset)\n",
    "    return epoch_loss\n",
    "\n",
    "# Function to save the model weights\n",
    "def save_model(model, file_path):\n",
    "    torch.save(model.state_dict(), file_path)\n",
    "\n",
    "# Function to load the model weights\n",
    "def load_model(model, file_path):\n",
    "    model.load_state_dict(torch.load(file_path))"
   ]
  },
  {
   "cell_type": "code",
   "execution_count": 24,
   "id": "d4c4845496aa2e9f",
   "metadata": {
    "ExecuteTime": {
     "end_time": "2025-02-23T05:14:25.884742500Z",
     "start_time": "2025-02-21T22:38:55.446530Z"
    }
   },
   "outputs": [],
   "source": [
    "def plot_sample(data, title, labels, shared_colorbar=False, vmin=None, vmax=None, layout=None, save=False, save_path='plot.png'):\n",
    "    # Automatically select layout based on the number of data arrays if not provided\n",
    "    num_arrays = data.shape[0]\n",
    "    if layout is None:\n",
    "        if num_arrays == 3:\n",
    "            layout = (1, 3)\n",
    "        elif num_arrays == 4:\n",
    "            layout = (2, 2)\n",
    "        else:\n",
    "            raise ValueError(\"Data input must have 3 or 4 arrays for plotting.\")\n",
    "\n",
    "    # Adjust figure size based on layout\n",
    "    if layout == (1, 3):\n",
    "        fig, axes = plt.subplots(*layout, figsize=(12, 4))  # Wide and short for 1x3 layout\n",
    "    elif layout == (2, 2):\n",
    "        fig, axes = plt.subplots(*layout, figsize=(8, 8))   # Square for 2x2 layout\n",
    "    else:\n",
    "        raise ValueError(\"Unsupported layout\")\n",
    "\n",
    "    for ax, (idx, label) in zip(axes.flatten(), labels):\n",
    "        im = ax.imshow(data[idx, :, :].cpu(), cmap='viridis', vmin=vmin if shared_colorbar else None, vmax=vmax if shared_colorbar else None)\n",
    "        ax.set_title(label)\n",
    "        if not shared_colorbar:\n",
    "            fig.colorbar(im, ax=ax)\n",
    "\n",
    "    if shared_colorbar:\n",
    "        # Add a single colorbar to the right of the plot\n",
    "        cbar = fig.colorbar(im, ax=axes.ravel().tolist())\n",
    "        cbar.ax.set_ylabel('Color scale')\n",
    "\n",
    "    plt.suptitle(title)\n",
    "\n",
    "    if save:\n",
    "        # Save the figure\n",
    "        plt.savefig(save_path)\n",
    "        print(f\"Plot saved at {save_path}\")\n",
    "        plt.close(fig)\n",
    "    else:\n",
    "        # Display the figure\n",
    "        plt.show()\n",
    "\n",
    "def plot_inputs(data, title, labels, save=False, save_path='example_plot.png'):\n",
    "    # Plot inputs with layout (1, 3) and custom figure size\n",
    "    plot_sample(data, title, labels, shared_colorbar=True, layout=(1, 3), save=save, save_path=save_path)\n",
    "\n",
    "def plot_predictions_and_targets(inputs, outputs, targets, save=False, save_dir='figures/', file_suffix='example'):\n",
    "    # Ensure save directory exists if save is True\n",
    "    if save:\n",
    "        os.makedirs(save_dir, exist_ok=True)\n",
    "\n",
    "    # Add file_suffix to the filenames\n",
    "    input_filename = f'{save_dir}/input_{file_suffix}.png'\n",
    "    output_filename = f'{save_dir}/output_{file_suffix}.png'\n",
    "    target_filename = f'{save_dir}/target_{file_suffix}.png'\n",
    "\n",
    "    input_labels = [(0, 'geometry'), (1, 'waveform'), (2, 'band')]\n",
    "    plot_inputs(inputs, 'Inputs', input_labels, save=save, save_path=input_filename)\n",
    "\n",
    "    # Compute global min and max for shared colorbar between outputs and targets\n",
    "    vmin = min(np.min(outputs.cpu().numpy()), np.min(targets.cpu().numpy()))\n",
    "    vmax = max(np.max(outputs.cpu().numpy()), np.max(targets.cpu().numpy()))\n",
    "\n",
    "    prediction_labels = [(0, 'eigenvector_x_real'), (1, 'eigenvector_x_imag'), (2, 'eigenvector_y_real'), (3, 'eigenvector_y_imag')]\n",
    "    plot_sample(outputs, \"Model Predictions\", prediction_labels, shared_colorbar=True, vmin=vmin, vmax=vmax, save=save, save_path=output_filename)\n",
    "\n",
    "    target_labels = [(0, 'eigenvector_x_real'), (1, 'eigenvector_x_imag'), (2, 'eigenvector_y_real'), (3, 'eigenvector_y_imag')]\n",
    "    plot_sample(targets, \"Target Values\", target_labels, shared_colorbar=True, vmin=vmin, vmax=vmax, save=save, save_path=target_filename)\n"
   ]
  },
  {
   "cell_type": "code",
   "execution_count": 25,
   "id": "1e74de86533d94ff",
   "metadata": {
    "ExecuteTime": {
     "end_time": "2025-02-23T05:14:25.884742500Z",
     "start_time": "2025-02-21T23:07:07.626573Z"
    },
    "collapsed": false
   },
   "outputs": [],
   "source": [
    "hc = 128; lr = 1e-4; wd = 0; ss = 10; gamma = 0.1\n",
    "\n",
    "model = FourierNeuralOperator(modes_height=design_res, modes_width=design_res, in_channels=3, out_channels=4, hidden=hc).to(device)\n",
    "\n",
    "# Define the L4 Loss function\n",
    "def l4_loss(output, target, reduction='mean'):\n",
    "    loss = torch.abs(output - target) ** 4  # Cubed absolute differences\n",
    "    if reduction == 'mean':\n",
    "        return torch.mean(loss)  # Return mean loss\n",
    "    elif reduction == 'sum':\n",
    "        return torch.sum(loss)  # Return sum loss\n",
    "    elif reduction == 'none':\n",
    "        return loss  # Return element-wise loss\n",
    "    else:\n",
    "        raise ValueError(f\"Invalid value for reduction: {reduction}. Use 'mean', 'sum', or 'none'.\")\n",
    "\n",
    "criterion = l4_loss  # Use the custom L4 Loss\n",
    "\n",
    "# Define the optimizer\n",
    "optimizer = optim.AdamW(model.parameters(), lr=lr, weight_decay=wd)\n",
    "\n",
    "# Define the learning rate scheduler\n",
    "scheduler = optim.lr_scheduler.StepLR(optimizer, step_size=ss, gamma=gamma)"
   ]
  },
  {
   "cell_type": "code",
   "execution_count": 26,
   "id": "2fe5e8bed0fcfb8b",
   "metadata": {
    "ExecuteTime": {
     "end_time": "2025-02-23T05:14:25.885746200Z",
     "start_time": "2025-02-21T23:07:09.979294Z"
    },
    "collapsed": false
   },
   "outputs": [
    {
     "name": "stdout",
     "output_type": "stream",
     "text": [
      "./model_weights_L4_hc128_lr1e-04_wd0e+00_ss10_gamma1e-01.pth\n"
     ]
    }
   ],
   "source": [
    "# Parameters for saving/loading model weights\n",
    "save_path = f'./model_weights_L4_hc{hc}_lr{lr:.0e}_wd{wd:.0e}_ss{ss}_gamma{gamma:.0e}.pth'\n",
    "print(save_path)\n",
    "load_existing_model = False  # Set to True if you want to load an existing model\n",
    "\n",
    "# Load the model weights if a valid file path is provided and the flag is set\n",
    "if load_existing_model and os.path.isfile(save_path):\n",
    "    load_model(model, save_path)\n",
    "    print(f\"Loaded model weights from {save_path}\")\n",
    "\n",
    "# Lists to store losses for plotting\n",
    "train_losses = []\n",
    "val_losses = []"
   ]
  },
  {
   "cell_type": "code",
   "execution_count": 27,
   "id": "187c632e4ec0f2ce",
   "metadata": {
    "ExecuteTime": {
     "end_time": "2025-02-23T05:14:25.887745900Z",
     "start_time": "2025-02-21T23:07:15.042711Z"
    },
    "collapsed": false,
    "jupyter": {
     "is_executing": true
    }
   },
   "outputs": [
    {
     "name": "stderr",
     "output_type": "stream",
     "text": [
      "Epoch 1: 100%|██████████| 3428/3428 [09:57<00:00,  5.74it/s, batch_loss=28.4]\n",
      "Evaluating: 100%|██████████| 229/229 [00:14<00:00, 16.20it/s]\n",
      "c:\\Users\\hz283\\AppData\\Local\\anaconda3\\envs\\razer\\Lib\\site-packages\\torch\\optim\\lr_scheduler.py:232: UserWarning: The epoch parameter in `scheduler.step()` was not necessary and is being deprecated where possible. Please use `scheduler.step()` to step the scheduler. During the deprecation, if epoch is different from None, the closed form is used instead of the new chainable form, where available. Please open an issue if you are unable to replicate your use case: https://github.com/pytorch/pytorch/issues/new/choose.\n",
      "  warnings.warn(EPOCH_DEPRECATION_WARNING, UserWarning)\n"
     ]
    },
    {
     "name": "stdout",
     "output_type": "stream",
     "text": [
      "Epoch 1/180, Training Loss: 25.5980, Validation Loss: 22.2945\n"
     ]
    },
    {
     "name": "stderr",
     "output_type": "stream",
     "text": [
      "Epoch 2: 100%|██████████| 3428/3428 [09:56<00:00,  5.75it/s, batch_loss=25.8]\n",
      "Evaluating: 100%|██████████| 229/229 [00:14<00:00, 16.31it/s]\n"
     ]
    },
    {
     "name": "stdout",
     "output_type": "stream",
     "text": [
      "Epoch 2/180, Training Loss: 21.9611, Validation Loss: 21.9361\n"
     ]
    },
    {
     "name": "stderr",
     "output_type": "stream",
     "text": [
      "Epoch 3: 100%|██████████| 3428/3428 [09:55<00:00,  5.75it/s, batch_loss=22.2]\n",
      "Evaluating: 100%|██████████| 229/229 [00:14<00:00, 16.30it/s]\n"
     ]
    },
    {
     "name": "stdout",
     "output_type": "stream",
     "text": [
      "Epoch 3/180, Training Loss: 21.7962, Validation Loss: 21.8341\n"
     ]
    },
    {
     "name": "stderr",
     "output_type": "stream",
     "text": [
      "Epoch 4: 100%|██████████| 3428/3428 [09:55<00:00,  5.76it/s, batch_loss=20.3]\n",
      "Evaluating: 100%|██████████| 229/229 [00:14<00:00, 16.05it/s]\n"
     ]
    },
    {
     "name": "stdout",
     "output_type": "stream",
     "text": [
      "Epoch 4/180, Training Loss: 21.7022, Validation Loss: 21.7495\n"
     ]
    },
    {
     "name": "stderr",
     "output_type": "stream",
     "text": [
      "Epoch 5: 100%|██████████| 3428/3428 [09:57<00:00,  5.74it/s, batch_loss=26.6]\n",
      "Evaluating: 100%|██████████| 229/229 [00:14<00:00, 16.19it/s]\n"
     ]
    },
    {
     "name": "stdout",
     "output_type": "stream",
     "text": [
      "Epoch 5/180, Training Loss: 21.6259, Validation Loss: 21.6800\n"
     ]
    },
    {
     "name": "stderr",
     "output_type": "stream",
     "text": [
      "Epoch 6: 100%|██████████| 3428/3428 [09:56<00:00,  5.75it/s, batch_loss=19.8]\n",
      "Evaluating: 100%|██████████| 229/229 [00:14<00:00, 16.30it/s]\n"
     ]
    },
    {
     "name": "stdout",
     "output_type": "stream",
     "text": [
      "Epoch 6/180, Training Loss: 21.5576, Validation Loss: 21.6262\n"
     ]
    },
    {
     "name": "stderr",
     "output_type": "stream",
     "text": [
      "Epoch 7: 100%|██████████| 3428/3428 [09:55<00:00,  5.76it/s, batch_loss=22.2]\n",
      "Evaluating: 100%|██████████| 229/229 [00:14<00:00, 16.32it/s]\n"
     ]
    },
    {
     "name": "stdout",
     "output_type": "stream",
     "text": [
      "Epoch 7/180, Training Loss: 21.4963, Validation Loss: 21.5620\n"
     ]
    },
    {
     "name": "stderr",
     "output_type": "stream",
     "text": [
      "Epoch 8: 100%|██████████| 3428/3428 [09:54<00:00,  5.76it/s, batch_loss=29.7]\n",
      "Evaluating: 100%|██████████| 229/229 [00:14<00:00, 16.31it/s]\n"
     ]
    },
    {
     "name": "stdout",
     "output_type": "stream",
     "text": [
      "Epoch 8/180, Training Loss: 21.4369, Validation Loss: 21.5069\n"
     ]
    },
    {
     "name": "stderr",
     "output_type": "stream",
     "text": [
      "Epoch 9: 100%|██████████| 3428/3428 [09:55<00:00,  5.76it/s, batch_loss=21.1]\n",
      "Evaluating: 100%|██████████| 229/229 [00:14<00:00, 16.31it/s]\n"
     ]
    },
    {
     "name": "stdout",
     "output_type": "stream",
     "text": [
      "Epoch 9/180, Training Loss: 21.3802, Validation Loss: 21.4504\n"
     ]
    },
    {
     "name": "stderr",
     "output_type": "stream",
     "text": [
      "Epoch 10: 100%|██████████| 3428/3428 [09:55<00:00,  5.76it/s, batch_loss=17.6]\n",
      "Evaluating: 100%|██████████| 229/229 [00:14<00:00, 16.28it/s]\n"
     ]
    },
    {
     "name": "stdout",
     "output_type": "stream",
     "text": [
      "Epoch 10/180, Training Loss: 21.3252, Validation Loss: 21.3948\n"
     ]
    },
    {
     "name": "stderr",
     "output_type": "stream",
     "text": [
      "Epoch 11: 100%|██████████| 3428/3428 [09:55<00:00,  5.76it/s, batch_loss=20.3]\n",
      "Evaluating: 100%|██████████| 229/229 [00:14<00:00, 16.30it/s]\n"
     ]
    },
    {
     "name": "stdout",
     "output_type": "stream",
     "text": [
      "Epoch 11/180, Training Loss: 21.2728, Validation Loss: 21.3461\n"
     ]
    },
    {
     "name": "stderr",
     "output_type": "stream",
     "text": [
      "Epoch 12: 100%|██████████| 3428/3428 [09:40<00:00,  5.90it/s, batch_loss=23.3]\n",
      "Evaluating: 100%|██████████| 229/229 [00:13<00:00, 16.87it/s]\n"
     ]
    },
    {
     "name": "stdout",
     "output_type": "stream",
     "text": [
      "Epoch 12/180, Training Loss: 21.2210, Validation Loss: 21.3009\n"
     ]
    },
    {
     "name": "stderr",
     "output_type": "stream",
     "text": [
      "Epoch 13: 100%|██████████| 3428/3428 [09:35<00:00,  5.96it/s, batch_loss=23.3]\n",
      "Evaluating: 100%|██████████| 229/229 [00:13<00:00, 17.02it/s]\n"
     ]
    },
    {
     "name": "stdout",
     "output_type": "stream",
     "text": [
      "Epoch 13/180, Training Loss: 21.1704, Validation Loss: 21.2513\n"
     ]
    },
    {
     "name": "stderr",
     "output_type": "stream",
     "text": [
      "Epoch 14: 100%|██████████| 3428/3428 [09:35<00:00,  5.96it/s, batch_loss=24.3]\n",
      "Evaluating: 100%|██████████| 229/229 [00:13<00:00, 17.03it/s]\n"
     ]
    },
    {
     "name": "stdout",
     "output_type": "stream",
     "text": [
      "Epoch 14/180, Training Loss: 21.1208, Validation Loss: 21.2093\n"
     ]
    },
    {
     "name": "stderr",
     "output_type": "stream",
     "text": [
      "Epoch 15: 100%|██████████| 3428/3428 [09:35<00:00,  5.96it/s, batch_loss=19.4]\n",
      "Evaluating: 100%|██████████| 229/229 [00:13<00:00, 17.04it/s]\n"
     ]
    },
    {
     "name": "stdout",
     "output_type": "stream",
     "text": [
      "Epoch 15/180, Training Loss: 21.0709, Validation Loss: 21.1578\n"
     ]
    },
    {
     "name": "stderr",
     "output_type": "stream",
     "text": [
      "Epoch 16: 100%|██████████| 3428/3428 [09:35<00:00,  5.96it/s, batch_loss=15.7]\n",
      "Evaluating: 100%|██████████| 229/229 [00:13<00:00, 17.03it/s]\n"
     ]
    },
    {
     "name": "stdout",
     "output_type": "stream",
     "text": [
      "Epoch 16/180, Training Loss: 21.0239, Validation Loss: 21.1128\n"
     ]
    },
    {
     "name": "stderr",
     "output_type": "stream",
     "text": [
      "Epoch 17: 100%|██████████| 3428/3428 [09:35<00:00,  5.96it/s, batch_loss=20.1]\n",
      "Evaluating: 100%|██████████| 229/229 [00:13<00:00, 17.00it/s]\n"
     ]
    },
    {
     "name": "stdout",
     "output_type": "stream",
     "text": [
      "Epoch 17/180, Training Loss: 20.9763, Validation Loss: 21.0674\n"
     ]
    },
    {
     "name": "stderr",
     "output_type": "stream",
     "text": [
      "Epoch 18: 100%|██████████| 3428/3428 [09:35<00:00,  5.96it/s, batch_loss=20.4]\n",
      "Evaluating: 100%|██████████| 229/229 [00:13<00:00, 17.00it/s]\n"
     ]
    },
    {
     "name": "stdout",
     "output_type": "stream",
     "text": [
      "Epoch 18/180, Training Loss: 20.9295, Validation Loss: 21.0207\n"
     ]
    },
    {
     "name": "stderr",
     "output_type": "stream",
     "text": [
      "Epoch 19: 100%|██████████| 3428/3428 [09:35<00:00,  5.96it/s, batch_loss=25.9]\n",
      "Evaluating: 100%|██████████| 229/229 [00:13<00:00, 17.05it/s]\n"
     ]
    },
    {
     "name": "stdout",
     "output_type": "stream",
     "text": [
      "Epoch 19/180, Training Loss: 20.8824, Validation Loss: 20.9756\n"
     ]
    },
    {
     "name": "stderr",
     "output_type": "stream",
     "text": [
      "Epoch 20: 100%|██████████| 3428/3428 [09:35<00:00,  5.96it/s, batch_loss=24.6]\n",
      "Evaluating: 100%|██████████| 229/229 [00:13<00:00, 16.88it/s]\n"
     ]
    },
    {
     "name": "stdout",
     "output_type": "stream",
     "text": [
      "Epoch 20/180, Training Loss: 20.8363, Validation Loss: 20.9279\n"
     ]
    },
    {
     "name": "stderr",
     "output_type": "stream",
     "text": [
      "Epoch 21: 100%|██████████| 3428/3428 [09:35<00:00,  5.96it/s, batch_loss=26.2]\n",
      "Evaluating: 100%|██████████| 229/229 [00:13<00:00, 17.02it/s]\n"
     ]
    },
    {
     "name": "stdout",
     "output_type": "stream",
     "text": [
      "Epoch 21/180, Training Loss: 20.7898, Validation Loss: 20.8902\n"
     ]
    },
    {
     "name": "stderr",
     "output_type": "stream",
     "text": [
      "Epoch 22: 100%|██████████| 3428/3428 [09:35<00:00,  5.96it/s, batch_loss=25.1]\n",
      "Evaluating: 100%|██████████| 229/229 [00:13<00:00, 17.02it/s]\n"
     ]
    },
    {
     "name": "stdout",
     "output_type": "stream",
     "text": [
      "Epoch 22/180, Training Loss: 20.7453, Validation Loss: 20.8458\n"
     ]
    },
    {
     "name": "stderr",
     "output_type": "stream",
     "text": [
      "Epoch 23: 100%|██████████| 3428/3428 [09:35<00:00,  5.96it/s, batch_loss=17.8]\n",
      "Evaluating: 100%|██████████| 229/229 [00:13<00:00, 17.05it/s]\n"
     ]
    },
    {
     "name": "stdout",
     "output_type": "stream",
     "text": [
      "Epoch 23/180, Training Loss: 20.7005, Validation Loss: 20.8025\n"
     ]
    },
    {
     "name": "stderr",
     "output_type": "stream",
     "text": [
      "Epoch 24: 100%|██████████| 3428/3428 [09:35<00:00,  5.96it/s, batch_loss=24.9]\n",
      "Evaluating: 100%|██████████| 229/229 [00:13<00:00, 16.99it/s]\n"
     ]
    },
    {
     "name": "stdout",
     "output_type": "stream",
     "text": [
      "Epoch 24/180, Training Loss: 20.6551, Validation Loss: 20.7632\n"
     ]
    },
    {
     "name": "stderr",
     "output_type": "stream",
     "text": [
      "Epoch 25: 100%|██████████| 3428/3428 [09:35<00:00,  5.96it/s, batch_loss=17.4]\n",
      "Evaluating: 100%|██████████| 229/229 [00:13<00:00, 17.04it/s]\n"
     ]
    },
    {
     "name": "stdout",
     "output_type": "stream",
     "text": [
      "Epoch 25/180, Training Loss: 20.6113, Validation Loss: 20.7171\n"
     ]
    },
    {
     "name": "stderr",
     "output_type": "stream",
     "text": [
      "Epoch 26: 100%|██████████| 3428/3428 [09:35<00:00,  5.96it/s, batch_loss=18.8]\n",
      "Evaluating: 100%|██████████| 229/229 [00:13<00:00, 17.03it/s]\n"
     ]
    },
    {
     "name": "stdout",
     "output_type": "stream",
     "text": [
      "Epoch 26/180, Training Loss: 20.5666, Validation Loss: 20.6845\n"
     ]
    },
    {
     "name": "stderr",
     "output_type": "stream",
     "text": [
      "Epoch 27: 100%|██████████| 3428/3428 [09:35<00:00,  5.96it/s, batch_loss=13.8]\n",
      "Evaluating: 100%|██████████| 229/229 [00:13<00:00, 16.85it/s]\n"
     ]
    },
    {
     "name": "stdout",
     "output_type": "stream",
     "text": [
      "Epoch 27/180, Training Loss: 20.5230, Validation Loss: 20.6390\n"
     ]
    },
    {
     "name": "stderr",
     "output_type": "stream",
     "text": [
      "Epoch 28: 100%|██████████| 3428/3428 [09:35<00:00,  5.96it/s, batch_loss=21.9]\n",
      "Evaluating: 100%|██████████| 229/229 [00:13<00:00, 17.03it/s]\n"
     ]
    },
    {
     "name": "stdout",
     "output_type": "stream",
     "text": [
      "Epoch 28/180, Training Loss: 20.4791, Validation Loss: 20.5999\n"
     ]
    },
    {
     "name": "stderr",
     "output_type": "stream",
     "text": [
      "Epoch 29: 100%|██████████| 3428/3428 [09:35<00:00,  5.96it/s, batch_loss=27.2]\n",
      "Evaluating: 100%|██████████| 229/229 [00:13<00:00, 17.02it/s]\n"
     ]
    },
    {
     "name": "stdout",
     "output_type": "stream",
     "text": [
      "Epoch 29/180, Training Loss: 20.4362, Validation Loss: 20.5468\n"
     ]
    },
    {
     "name": "stderr",
     "output_type": "stream",
     "text": [
      "Epoch 30: 100%|██████████| 3428/3428 [09:35<00:00,  5.96it/s, batch_loss=18.7]\n",
      "Evaluating: 100%|██████████| 229/229 [00:13<00:00, 17.00it/s]\n"
     ]
    },
    {
     "name": "stdout",
     "output_type": "stream",
     "text": [
      "Epoch 30/180, Training Loss: 20.3935, Validation Loss: 20.5160\n"
     ]
    },
    {
     "name": "stderr",
     "output_type": "stream",
     "text": [
      "Epoch 31: 100%|██████████| 3428/3428 [09:35<00:00,  5.96it/s, batch_loss=29.9]\n",
      "Evaluating: 100%|██████████| 229/229 [00:13<00:00, 17.05it/s]\n"
     ]
    },
    {
     "name": "stdout",
     "output_type": "stream",
     "text": [
      "Epoch 31/180, Training Loss: 20.3490, Validation Loss: 20.4786\n"
     ]
    },
    {
     "name": "stderr",
     "output_type": "stream",
     "text": [
      "Epoch 32: 100%|██████████| 3428/3428 [09:35<00:00,  5.96it/s, batch_loss=24.2]\n",
      "Evaluating: 100%|██████████| 229/229 [00:13<00:00, 17.05it/s]\n"
     ]
    },
    {
     "name": "stdout",
     "output_type": "stream",
     "text": [
      "Epoch 32/180, Training Loss: 20.3082, Validation Loss: 20.4311\n"
     ]
    },
    {
     "name": "stderr",
     "output_type": "stream",
     "text": [
      "Epoch 33: 100%|██████████| 3428/3428 [09:35<00:00,  5.96it/s, batch_loss=18.8]\n",
      "Evaluating: 100%|██████████| 229/229 [00:13<00:00, 17.01it/s]\n"
     ]
    },
    {
     "name": "stdout",
     "output_type": "stream",
     "text": [
      "Epoch 33/180, Training Loss: 20.2658, Validation Loss: 20.3984\n"
     ]
    },
    {
     "name": "stderr",
     "output_type": "stream",
     "text": [
      "Epoch 34: 100%|██████████| 3428/3428 [09:35<00:00,  5.96it/s, batch_loss=14.9]\n",
      "Evaluating: 100%|██████████| 229/229 [00:13<00:00, 16.86it/s]\n"
     ]
    },
    {
     "name": "stdout",
     "output_type": "stream",
     "text": [
      "Epoch 34/180, Training Loss: 20.2234, Validation Loss: 20.3681\n"
     ]
    },
    {
     "name": "stderr",
     "output_type": "stream",
     "text": [
      "Epoch 35: 100%|██████████| 3428/3428 [09:35<00:00,  5.96it/s, batch_loss=23.3]\n",
      "Evaluating: 100%|██████████| 229/229 [00:13<00:00, 17.02it/s]\n"
     ]
    },
    {
     "name": "stdout",
     "output_type": "stream",
     "text": [
      "Epoch 35/180, Training Loss: 20.1821, Validation Loss: 20.3239\n"
     ]
    },
    {
     "name": "stderr",
     "output_type": "stream",
     "text": [
      "Epoch 36: 100%|██████████| 3428/3428 [09:35<00:00,  5.96it/s, batch_loss=32.4]\n",
      "Evaluating: 100%|██████████| 229/229 [00:13<00:00, 16.99it/s]\n"
     ]
    },
    {
     "name": "stdout",
     "output_type": "stream",
     "text": [
      "Epoch 36/180, Training Loss: 20.1384, Validation Loss: 20.2812\n"
     ]
    },
    {
     "name": "stderr",
     "output_type": "stream",
     "text": [
      "Epoch 37: 100%|██████████| 3428/3428 [09:35<00:00,  5.96it/s, batch_loss=20.6]\n",
      "Evaluating: 100%|██████████| 229/229 [00:13<00:00, 17.04it/s]\n"
     ]
    },
    {
     "name": "stdout",
     "output_type": "stream",
     "text": [
      "Epoch 37/180, Training Loss: 20.0980, Validation Loss: 20.2499\n"
     ]
    },
    {
     "name": "stderr",
     "output_type": "stream",
     "text": [
      "Epoch 38: 100%|██████████| 3428/3428 [09:35<00:00,  5.96it/s, batch_loss=22.1]\n",
      "Evaluating: 100%|██████████| 229/229 [00:13<00:00, 17.00it/s]\n"
     ]
    },
    {
     "name": "stdout",
     "output_type": "stream",
     "text": [
      "Epoch 38/180, Training Loss: 20.0557, Validation Loss: 20.2023\n"
     ]
    },
    {
     "name": "stderr",
     "output_type": "stream",
     "text": [
      "Epoch 39: 100%|██████████| 3428/3428 [09:35<00:00,  5.96it/s, batch_loss=23.7]\n",
      "Evaluating: 100%|██████████| 229/229 [00:13<00:00, 17.01it/s]\n"
     ]
    },
    {
     "name": "stdout",
     "output_type": "stream",
     "text": [
      "Epoch 39/180, Training Loss: 20.0144, Validation Loss: 20.1728\n"
     ]
    },
    {
     "name": "stderr",
     "output_type": "stream",
     "text": [
      "Epoch 40: 100%|██████████| 3428/3428 [09:35<00:00,  5.96it/s, batch_loss=14.7]\n",
      "Evaluating: 100%|██████████| 229/229 [00:13<00:00, 17.02it/s]\n"
     ]
    },
    {
     "name": "stdout",
     "output_type": "stream",
     "text": [
      "Epoch 40/180, Training Loss: 19.9742, Validation Loss: 20.1269\n"
     ]
    },
    {
     "name": "stderr",
     "output_type": "stream",
     "text": [
      "Epoch 41: 100%|██████████| 3428/3428 [09:35<00:00,  5.96it/s, batch_loss=22.9]\n",
      "Evaluating: 100%|██████████| 229/229 [00:13<00:00, 17.02it/s]\n"
     ]
    },
    {
     "name": "stdout",
     "output_type": "stream",
     "text": [
      "Epoch 41/180, Training Loss: 19.9329, Validation Loss: 20.1029\n"
     ]
    },
    {
     "name": "stderr",
     "output_type": "stream",
     "text": [
      "Epoch 42: 100%|██████████| 3428/3428 [09:35<00:00,  5.96it/s, batch_loss=19.9]\n",
      "Evaluating: 100%|██████████| 229/229 [00:13<00:00, 16.89it/s]\n"
     ]
    },
    {
     "name": "stdout",
     "output_type": "stream",
     "text": [
      "Epoch 42/180, Training Loss: 19.8934, Validation Loss: 20.0660\n"
     ]
    },
    {
     "name": "stderr",
     "output_type": "stream",
     "text": [
      "Epoch 43: 100%|██████████| 3428/3428 [09:35<00:00,  5.96it/s, batch_loss=16.7]\n",
      "Evaluating: 100%|██████████| 229/229 [00:13<00:00, 17.06it/s]\n"
     ]
    },
    {
     "name": "stdout",
     "output_type": "stream",
     "text": [
      "Epoch 43/180, Training Loss: 19.8518, Validation Loss: 20.0255\n"
     ]
    },
    {
     "name": "stderr",
     "output_type": "stream",
     "text": [
      "Epoch 44: 100%|██████████| 3428/3428 [09:35<00:00,  5.96it/s, batch_loss=22.6]\n",
      "Evaluating: 100%|██████████| 229/229 [00:13<00:00, 17.03it/s]\n"
     ]
    },
    {
     "name": "stdout",
     "output_type": "stream",
     "text": [
      "Epoch 44/180, Training Loss: 19.8118, Validation Loss: 19.9865\n"
     ]
    },
    {
     "name": "stderr",
     "output_type": "stream",
     "text": [
      "Epoch 45: 100%|██████████| 3428/3428 [09:35<00:00,  5.96it/s, batch_loss=23.1]\n",
      "Evaluating: 100%|██████████| 229/229 [00:13<00:00, 17.03it/s]\n"
     ]
    },
    {
     "name": "stdout",
     "output_type": "stream",
     "text": [
      "Epoch 45/180, Training Loss: 19.7452, Validation Loss: 19.7616\n"
     ]
    },
    {
     "name": "stderr",
     "output_type": "stream",
     "text": [
      "Epoch 46: 100%|██████████| 3428/3428 [09:35<00:00,  5.96it/s, batch_loss=26.3]\n",
      "Evaluating: 100%|██████████| 229/229 [00:13<00:00, 17.02it/s]\n"
     ]
    },
    {
     "name": "stdout",
     "output_type": "stream",
     "text": [
      "Epoch 46/180, Training Loss: 19.3811, Validation Loss: 19.3872\n"
     ]
    },
    {
     "name": "stderr",
     "output_type": "stream",
     "text": [
      "Epoch 47: 100%|██████████| 3428/3428 [09:35<00:00,  5.96it/s, batch_loss=28.3]\n",
      "Evaluating: 100%|██████████| 229/229 [00:13<00:00, 17.05it/s]\n"
     ]
    },
    {
     "name": "stdout",
     "output_type": "stream",
     "text": [
      "Epoch 47/180, Training Loss: 19.0374, Validation Loss: 19.1236\n"
     ]
    },
    {
     "name": "stderr",
     "output_type": "stream",
     "text": [
      "Epoch 48: 100%|██████████| 3428/3428 [09:35<00:00,  5.96it/s, batch_loss=15.7]\n",
      "Evaluating: 100%|██████████| 229/229 [00:13<00:00, 17.04it/s]\n"
     ]
    },
    {
     "name": "stdout",
     "output_type": "stream",
     "text": [
      "Epoch 48/180, Training Loss: 18.7134, Validation Loss: 18.8446\n"
     ]
    },
    {
     "name": "stderr",
     "output_type": "stream",
     "text": [
      "Epoch 49: 100%|██████████| 3428/3428 [09:35<00:00,  5.96it/s, batch_loss=15.7]\n",
      "Evaluating: 100%|██████████| 229/229 [00:13<00:00, 16.81it/s]\n"
     ]
    },
    {
     "name": "stdout",
     "output_type": "stream",
     "text": [
      "Epoch 49/180, Training Loss: 18.4082, Validation Loss: 18.6055\n"
     ]
    },
    {
     "name": "stderr",
     "output_type": "stream",
     "text": [
      "Epoch 50: 100%|██████████| 3428/3428 [09:35<00:00,  5.96it/s, batch_loss=21.6]\n",
      "Evaluating: 100%|██████████| 229/229 [00:13<00:00, 17.03it/s]\n"
     ]
    },
    {
     "name": "stdout",
     "output_type": "stream",
     "text": [
      "Epoch 50/180, Training Loss: 18.1215, Validation Loss: 18.4209\n"
     ]
    },
    {
     "name": "stderr",
     "output_type": "stream",
     "text": [
      "Epoch 51: 100%|██████████| 3428/3428 [09:35<00:00,  5.96it/s, batch_loss=8.02]\n",
      "Evaluating: 100%|██████████| 229/229 [00:13<00:00, 17.03it/s]\n"
     ]
    },
    {
     "name": "stdout",
     "output_type": "stream",
     "text": [
      "Epoch 51/180, Training Loss: 17.8561, Validation Loss: 18.1992\n"
     ]
    },
    {
     "name": "stderr",
     "output_type": "stream",
     "text": [
      "Epoch 52: 100%|██████████| 3428/3428 [09:35<00:00,  5.96it/s, batch_loss=16]  \n",
      "Evaluating: 100%|██████████| 229/229 [00:13<00:00, 16.99it/s]\n"
     ]
    },
    {
     "name": "stdout",
     "output_type": "stream",
     "text": [
      "Epoch 52/180, Training Loss: 17.6019, Validation Loss: 17.8775\n"
     ]
    },
    {
     "name": "stderr",
     "output_type": "stream",
     "text": [
      "Epoch 53: 100%|██████████| 3428/3428 [09:35<00:00,  5.96it/s, batch_loss=24.4]\n",
      "Evaluating: 100%|██████████| 229/229 [00:13<00:00, 17.01it/s]\n"
     ]
    },
    {
     "name": "stdout",
     "output_type": "stream",
     "text": [
      "Epoch 53/180, Training Loss: 17.3584, Validation Loss: 17.6661\n"
     ]
    },
    {
     "name": "stderr",
     "output_type": "stream",
     "text": [
      "Epoch 54: 100%|██████████| 3428/3428 [09:35<00:00,  5.96it/s, batch_loss=19.3]\n",
      "Evaluating: 100%|██████████| 229/229 [00:13<00:00, 17.04it/s]\n"
     ]
    },
    {
     "name": "stdout",
     "output_type": "stream",
     "text": [
      "Epoch 54/180, Training Loss: 17.1428, Validation Loss: 17.5270\n"
     ]
    },
    {
     "name": "stderr",
     "output_type": "stream",
     "text": [
      "Epoch 55: 100%|██████████| 3428/3428 [09:35<00:00,  5.96it/s, batch_loss=13.4]\n",
      "Evaluating: 100%|██████████| 229/229 [00:13<00:00, 17.01it/s]\n"
     ]
    },
    {
     "name": "stdout",
     "output_type": "stream",
     "text": [
      "Epoch 55/180, Training Loss: 16.9349, Validation Loss: 17.3393\n"
     ]
    },
    {
     "name": "stderr",
     "output_type": "stream",
     "text": [
      "Epoch 56: 100%|██████████| 3428/3428 [09:35<00:00,  5.96it/s, batch_loss=16]  \n",
      "Evaluating: 100%|██████████| 229/229 [00:13<00:00, 17.04it/s]\n"
     ]
    },
    {
     "name": "stdout",
     "output_type": "stream",
     "text": [
      "Epoch 56/180, Training Loss: 16.7285, Validation Loss: 17.1432\n"
     ]
    },
    {
     "name": "stderr",
     "output_type": "stream",
     "text": [
      "Epoch 57: 100%|██████████| 3428/3428 [09:35<00:00,  5.96it/s, batch_loss=17.6]\n",
      "Evaluating: 100%|██████████| 229/229 [00:13<00:00, 16.87it/s]\n"
     ]
    },
    {
     "name": "stdout",
     "output_type": "stream",
     "text": [
      "Epoch 57/180, Training Loss: 16.5342, Validation Loss: 17.2520\n"
     ]
    },
    {
     "name": "stderr",
     "output_type": "stream",
     "text": [
      "Epoch 58: 100%|██████████| 3428/3428 [09:35<00:00,  5.96it/s, batch_loss=19.3]\n",
      "Evaluating: 100%|██████████| 229/229 [00:13<00:00, 17.03it/s]\n"
     ]
    },
    {
     "name": "stdout",
     "output_type": "stream",
     "text": [
      "Epoch 58/180, Training Loss: 16.3542, Validation Loss: 16.9481\n"
     ]
    },
    {
     "name": "stderr",
     "output_type": "stream",
     "text": [
      "Epoch 59: 100%|██████████| 3428/3428 [09:35<00:00,  5.96it/s, batch_loss=13.4]\n",
      "Evaluating: 100%|██████████| 229/229 [00:13<00:00, 17.06it/s]\n"
     ]
    },
    {
     "name": "stdout",
     "output_type": "stream",
     "text": [
      "Epoch 59/180, Training Loss: 16.1705, Validation Loss: 16.8494\n"
     ]
    },
    {
     "name": "stderr",
     "output_type": "stream",
     "text": [
      "Epoch 60: 100%|██████████| 3428/3428 [09:35<00:00,  5.96it/s, batch_loss=19]  \n",
      "Evaluating: 100%|██████████| 229/229 [00:13<00:00, 17.04it/s]\n"
     ]
    },
    {
     "name": "stdout",
     "output_type": "stream",
     "text": [
      "Epoch 60/180, Training Loss: 16.0071, Validation Loss: 16.5954\n"
     ]
    },
    {
     "name": "stderr",
     "output_type": "stream",
     "text": [
      "Epoch 61: 100%|██████████| 3428/3428 [09:35<00:00,  5.96it/s, batch_loss=11.7]\n",
      "Evaluating: 100%|██████████| 229/229 [00:13<00:00, 17.05it/s]\n"
     ]
    },
    {
     "name": "stdout",
     "output_type": "stream",
     "text": [
      "Epoch 61/180, Training Loss: 15.8268, Validation Loss: 16.5229\n"
     ]
    },
    {
     "name": "stderr",
     "output_type": "stream",
     "text": [
      "Epoch 62: 100%|██████████| 3428/3428 [09:35<00:00,  5.96it/s, batch_loss=17.5]\n",
      "Evaluating: 100%|██████████| 229/229 [00:13<00:00, 17.03it/s]\n"
     ]
    },
    {
     "name": "stdout",
     "output_type": "stream",
     "text": [
      "Epoch 62/180, Training Loss: 15.6908, Validation Loss: 16.3663\n"
     ]
    },
    {
     "name": "stderr",
     "output_type": "stream",
     "text": [
      "Epoch 63: 100%|██████████| 3428/3428 [09:35<00:00,  5.96it/s, batch_loss=24.3]\n",
      "Evaluating: 100%|██████████| 229/229 [00:13<00:00, 17.05it/s]\n"
     ]
    },
    {
     "name": "stdout",
     "output_type": "stream",
     "text": [
      "Epoch 63/180, Training Loss: 15.5410, Validation Loss: 16.2510\n"
     ]
    },
    {
     "name": "stderr",
     "output_type": "stream",
     "text": [
      "Epoch 64: 100%|██████████| 3428/3428 [09:35<00:00,  5.96it/s, batch_loss=17.7]\n",
      "Evaluating: 100%|██████████| 229/229 [00:13<00:00, 16.86it/s]\n"
     ]
    },
    {
     "name": "stdout",
     "output_type": "stream",
     "text": [
      "Epoch 64/180, Training Loss: 15.4010, Validation Loss: 16.2972\n"
     ]
    },
    {
     "name": "stderr",
     "output_type": "stream",
     "text": [
      "Epoch 65: 100%|██████████| 3428/3428 [09:35<00:00,  5.96it/s, batch_loss=19.8]\n",
      "Evaluating: 100%|██████████| 229/229 [00:13<00:00, 17.08it/s]\n"
     ]
    },
    {
     "name": "stdout",
     "output_type": "stream",
     "text": [
      "Epoch 65/180, Training Loss: 15.2564, Validation Loss: 16.1444\n"
     ]
    },
    {
     "name": "stderr",
     "output_type": "stream",
     "text": [
      "Epoch 66: 100%|██████████| 3428/3428 [09:35<00:00,  5.96it/s, batch_loss=10.8]\n",
      "Evaluating: 100%|██████████| 229/229 [00:13<00:00, 17.05it/s]\n"
     ]
    },
    {
     "name": "stdout",
     "output_type": "stream",
     "text": [
      "Epoch 66/180, Training Loss: 15.1266, Validation Loss: 16.0189\n"
     ]
    },
    {
     "name": "stderr",
     "output_type": "stream",
     "text": [
      "Epoch 67: 100%|██████████| 3428/3428 [09:35<00:00,  5.96it/s, batch_loss=19.5]\n",
      "Evaluating: 100%|██████████| 229/229 [00:13<00:00, 17.06it/s]\n"
     ]
    },
    {
     "name": "stdout",
     "output_type": "stream",
     "text": [
      "Epoch 67/180, Training Loss: 15.0026, Validation Loss: 15.8622\n"
     ]
    },
    {
     "name": "stderr",
     "output_type": "stream",
     "text": [
      "Epoch 68: 100%|██████████| 3428/3428 [09:35<00:00,  5.96it/s, batch_loss=16.3]\n",
      "Evaluating: 100%|██████████| 229/229 [00:13<00:00, 17.02it/s]\n"
     ]
    },
    {
     "name": "stdout",
     "output_type": "stream",
     "text": [
      "Epoch 68/180, Training Loss: 14.8926, Validation Loss: 15.6691\n"
     ]
    },
    {
     "name": "stderr",
     "output_type": "stream",
     "text": [
      "Epoch 69: 100%|██████████| 3428/3428 [09:35<00:00,  5.96it/s, batch_loss=11.6]\n",
      "Evaluating: 100%|██████████| 229/229 [00:13<00:00, 17.04it/s]\n"
     ]
    },
    {
     "name": "stdout",
     "output_type": "stream",
     "text": [
      "Epoch 69/180, Training Loss: 14.7483, Validation Loss: 15.6405\n"
     ]
    },
    {
     "name": "stderr",
     "output_type": "stream",
     "text": [
      "Epoch 70: 100%|██████████| 3428/3428 [09:35<00:00,  5.96it/s, batch_loss=21]  \n",
      "Evaluating: 100%|██████████| 229/229 [00:13<00:00, 17.03it/s]\n"
     ]
    },
    {
     "name": "stdout",
     "output_type": "stream",
     "text": [
      "Epoch 70/180, Training Loss: 14.6276, Validation Loss: 15.7465\n"
     ]
    },
    {
     "name": "stderr",
     "output_type": "stream",
     "text": [
      "Epoch 71: 100%|██████████| 3428/3428 [09:35<00:00,  5.96it/s, batch_loss=10.3]\n",
      "Evaluating: 100%|██████████| 229/229 [00:14<00:00, 15.89it/s]\n"
     ]
    },
    {
     "name": "stdout",
     "output_type": "stream",
     "text": [
      "Epoch 71/180, Training Loss: 14.5175, Validation Loss: 15.4873\n"
     ]
    },
    {
     "name": "stderr",
     "output_type": "stream",
     "text": [
      "Epoch 72: 100%|██████████| 3428/3428 [10:00<00:00,  5.71it/s, batch_loss=17.6]\n",
      "Evaluating: 100%|██████████| 229/229 [00:14<00:00, 15.96it/s]\n"
     ]
    },
    {
     "name": "stdout",
     "output_type": "stream",
     "text": [
      "Epoch 72/180, Training Loss: 14.3973, Validation Loss: 15.5609\n"
     ]
    },
    {
     "name": "stderr",
     "output_type": "stream",
     "text": [
      "Epoch 73: 100%|██████████| 3428/3428 [10:00<00:00,  5.70it/s, batch_loss=22.7]\n",
      "Evaluating: 100%|██████████| 229/229 [00:14<00:00, 16.24it/s]\n"
     ]
    },
    {
     "name": "stdout",
     "output_type": "stream",
     "text": [
      "Epoch 73/180, Training Loss: 14.3029, Validation Loss: 15.4412\n"
     ]
    },
    {
     "name": "stderr",
     "output_type": "stream",
     "text": [
      "Epoch 74: 100%|██████████| 3428/3428 [10:01<00:00,  5.70it/s, batch_loss=15.2]\n",
      "Evaluating: 100%|██████████| 229/229 [00:14<00:00, 16.23it/s]\n"
     ]
    },
    {
     "name": "stdout",
     "output_type": "stream",
     "text": [
      "Epoch 74/180, Training Loss: 14.1875, Validation Loss: 15.2158\n"
     ]
    },
    {
     "name": "stderr",
     "output_type": "stream",
     "text": [
      "Epoch 75: 100%|██████████| 3428/3428 [10:01<00:00,  5.69it/s, batch_loss=14.2]\n",
      "Evaluating: 100%|██████████| 229/229 [00:14<00:00, 16.11it/s]\n"
     ]
    },
    {
     "name": "stdout",
     "output_type": "stream",
     "text": [
      "Epoch 75/180, Training Loss: 14.1068, Validation Loss: 15.2002\n"
     ]
    },
    {
     "name": "stderr",
     "output_type": "stream",
     "text": [
      "Epoch 76: 100%|██████████| 3428/3428 [10:01<00:00,  5.70it/s, batch_loss=15.2]\n",
      "Evaluating: 100%|██████████| 229/229 [00:14<00:00, 16.23it/s]\n"
     ]
    },
    {
     "name": "stdout",
     "output_type": "stream",
     "text": [
      "Epoch 76/180, Training Loss: 13.9723, Validation Loss: 15.1205\n"
     ]
    },
    {
     "name": "stderr",
     "output_type": "stream",
     "text": [
      "Epoch 77: 100%|██████████| 3428/3428 [10:00<00:00,  5.71it/s, batch_loss=12.3]\n",
      "Evaluating: 100%|██████████| 229/229 [00:14<00:00, 16.28it/s]\n"
     ]
    },
    {
     "name": "stdout",
     "output_type": "stream",
     "text": [
      "Epoch 77/180, Training Loss: 13.8880, Validation Loss: 15.4194\n"
     ]
    },
    {
     "name": "stderr",
     "output_type": "stream",
     "text": [
      "Epoch 78: 100%|██████████| 3428/3428 [10:00<00:00,  5.71it/s, batch_loss=15.4]\n",
      "Evaluating: 100%|██████████| 229/229 [00:14<00:00, 16.26it/s]\n"
     ]
    },
    {
     "name": "stdout",
     "output_type": "stream",
     "text": [
      "Epoch 78/180, Training Loss: 13.7920, Validation Loss: 15.1279\n"
     ]
    },
    {
     "name": "stderr",
     "output_type": "stream",
     "text": [
      "Epoch 79: 100%|██████████| 3428/3428 [10:00<00:00,  5.71it/s, batch_loss=10.9]\n",
      "Evaluating: 100%|██████████| 229/229 [00:14<00:00, 16.08it/s]\n"
     ]
    },
    {
     "name": "stdout",
     "output_type": "stream",
     "text": [
      "Epoch 79/180, Training Loss: 13.6945, Validation Loss: 15.1928\n"
     ]
    },
    {
     "name": "stderr",
     "output_type": "stream",
     "text": [
      "Epoch 80: 100%|██████████| 3428/3428 [10:00<00:00,  5.71it/s, batch_loss=21.7]\n",
      "Evaluating: 100%|██████████| 229/229 [00:14<00:00, 16.23it/s]\n"
     ]
    },
    {
     "name": "stdout",
     "output_type": "stream",
     "text": [
      "Epoch 80/180, Training Loss: 13.6161, Validation Loss: 14.8805\n"
     ]
    },
    {
     "name": "stderr",
     "output_type": "stream",
     "text": [
      "Epoch 81: 100%|██████████| 3428/3428 [10:00<00:00,  5.71it/s, batch_loss=10.2]\n",
      "Evaluating: 100%|██████████| 229/229 [00:14<00:00, 16.28it/s]\n"
     ]
    },
    {
     "name": "stdout",
     "output_type": "stream",
     "text": [
      "Epoch 81/180, Training Loss: 13.5193, Validation Loss: 14.9051\n"
     ]
    },
    {
     "name": "stderr",
     "output_type": "stream",
     "text": [
      "Epoch 82: 100%|██████████| 3428/3428 [10:00<00:00,  5.71it/s, batch_loss=16.7]\n",
      "Evaluating: 100%|██████████| 229/229 [00:14<00:00, 16.23it/s]\n"
     ]
    },
    {
     "name": "stdout",
     "output_type": "stream",
     "text": [
      "Epoch 82/180, Training Loss: 13.4320, Validation Loss: 14.8894\n"
     ]
    },
    {
     "name": "stderr",
     "output_type": "stream",
     "text": [
      "Epoch 83: 100%|██████████| 3428/3428 [10:00<00:00,  5.71it/s, batch_loss=10.2]\n",
      "Evaluating: 100%|██████████| 229/229 [00:14<00:00, 16.25it/s]\n"
     ]
    },
    {
     "name": "stdout",
     "output_type": "stream",
     "text": [
      "Epoch 83/180, Training Loss: 13.3411, Validation Loss: 14.7567\n"
     ]
    },
    {
     "name": "stderr",
     "output_type": "stream",
     "text": [
      "Epoch 84: 100%|██████████| 3428/3428 [09:59<00:00,  5.71it/s, batch_loss=15.3]\n",
      "Evaluating: 100%|██████████| 229/229 [00:14<00:00, 16.30it/s]\n"
     ]
    },
    {
     "name": "stdout",
     "output_type": "stream",
     "text": [
      "Epoch 84/180, Training Loss: 13.2621, Validation Loss: 14.9141\n"
     ]
    },
    {
     "name": "stderr",
     "output_type": "stream",
     "text": [
      "Epoch 85: 100%|██████████| 3428/3428 [10:00<00:00,  5.71it/s, batch_loss=12.1]\n",
      "Evaluating: 100%|██████████| 229/229 [00:14<00:00, 16.28it/s]\n"
     ]
    },
    {
     "name": "stdout",
     "output_type": "stream",
     "text": [
      "Epoch 85/180, Training Loss: 13.1723, Validation Loss: 14.7562\n"
     ]
    },
    {
     "name": "stderr",
     "output_type": "stream",
     "text": [
      "Epoch 86: 100%|██████████| 3428/3428 [09:59<00:00,  5.71it/s, batch_loss=14]  \n",
      "Evaluating: 100%|██████████| 229/229 [00:14<00:00, 16.24it/s]\n"
     ]
    },
    {
     "name": "stdout",
     "output_type": "stream",
     "text": [
      "Epoch 86/180, Training Loss: 13.0906, Validation Loss: 14.6575\n"
     ]
    },
    {
     "name": "stderr",
     "output_type": "stream",
     "text": [
      "Epoch 87: 100%|██████████| 3428/3428 [09:59<00:00,  5.71it/s, batch_loss=11.3]\n",
      "Evaluating: 100%|██████████| 229/229 [00:14<00:00, 16.09it/s]\n"
     ]
    },
    {
     "name": "stdout",
     "output_type": "stream",
     "text": [
      "Epoch 87/180, Training Loss: 13.0150, Validation Loss: 14.5172\n"
     ]
    },
    {
     "name": "stderr",
     "output_type": "stream",
     "text": [
      "Epoch 88: 100%|██████████| 3428/3428 [09:59<00:00,  5.71it/s, batch_loss=12.6]\n",
      "Evaluating: 100%|██████████| 229/229 [00:14<00:00, 16.27it/s]\n"
     ]
    },
    {
     "name": "stdout",
     "output_type": "stream",
     "text": [
      "Epoch 88/180, Training Loss: 12.9403, Validation Loss: 14.6565\n"
     ]
    },
    {
     "name": "stderr",
     "output_type": "stream",
     "text": [
      "Epoch 89: 100%|██████████| 3428/3428 [10:00<00:00,  5.71it/s, batch_loss=24.5]\n",
      "Evaluating: 100%|██████████| 229/229 [00:14<00:00, 16.26it/s]\n"
     ]
    },
    {
     "name": "stdout",
     "output_type": "stream",
     "text": [
      "Epoch 89/180, Training Loss: 12.8591, Validation Loss: 14.5172\n"
     ]
    },
    {
     "name": "stderr",
     "output_type": "stream",
     "text": [
      "Epoch 90: 100%|██████████| 3428/3428 [09:59<00:00,  5.71it/s, batch_loss=9.31]\n",
      "Evaluating: 100%|██████████| 229/229 [00:14<00:00, 16.28it/s]\n"
     ]
    },
    {
     "name": "stdout",
     "output_type": "stream",
     "text": [
      "Epoch 90/180, Training Loss: 12.7943, Validation Loss: 14.5326\n"
     ]
    },
    {
     "name": "stderr",
     "output_type": "stream",
     "text": [
      "Epoch 91: 100%|██████████| 3428/3428 [10:00<00:00,  5.71it/s, batch_loss=12.7]\n",
      "Evaluating: 100%|██████████| 229/229 [00:14<00:00, 16.26it/s]\n"
     ]
    },
    {
     "name": "stdout",
     "output_type": "stream",
     "text": [
      "Epoch 91/180, Training Loss: 12.7126, Validation Loss: 14.5619\n"
     ]
    },
    {
     "name": "stderr",
     "output_type": "stream",
     "text": [
      "Epoch 92: 100%|██████████| 3428/3428 [10:00<00:00,  5.71it/s, batch_loss=9.66]\n",
      "Evaluating: 100%|██████████| 229/229 [00:14<00:00, 16.28it/s]\n"
     ]
    },
    {
     "name": "stdout",
     "output_type": "stream",
     "text": [
      "Epoch 92/180, Training Loss: 12.6488, Validation Loss: 14.5953\n"
     ]
    },
    {
     "name": "stderr",
     "output_type": "stream",
     "text": [
      "Epoch 93: 100%|██████████| 3428/3428 [09:59<00:00,  5.71it/s, batch_loss=11.9]\n",
      "Evaluating: 100%|██████████| 229/229 [00:14<00:00, 16.24it/s]\n"
     ]
    },
    {
     "name": "stdout",
     "output_type": "stream",
     "text": [
      "Epoch 93/180, Training Loss: 12.5833, Validation Loss: 14.3400\n"
     ]
    },
    {
     "name": "stderr",
     "output_type": "stream",
     "text": [
      "Epoch 94: 100%|██████████| 3428/3428 [09:59<00:00,  5.71it/s, batch_loss=13.2]\n",
      "Evaluating: 100%|██████████| 229/229 [00:14<00:00, 16.25it/s]\n"
     ]
    },
    {
     "name": "stdout",
     "output_type": "stream",
     "text": [
      "Epoch 94/180, Training Loss: 12.5033, Validation Loss: 14.2226\n"
     ]
    },
    {
     "name": "stderr",
     "output_type": "stream",
     "text": [
      "Epoch 95: 100%|██████████| 3428/3428 [09:59<00:00,  5.71it/s, batch_loss=12.3]\n",
      "Evaluating: 100%|██████████| 229/229 [00:14<00:00, 16.07it/s]\n"
     ]
    },
    {
     "name": "stdout",
     "output_type": "stream",
     "text": [
      "Epoch 95/180, Training Loss: 12.4203, Validation Loss: 14.3498\n"
     ]
    },
    {
     "name": "stderr",
     "output_type": "stream",
     "text": [
      "Epoch 96: 100%|██████████| 3428/3428 [09:59<00:00,  5.71it/s, batch_loss=12.2]\n",
      "Evaluating: 100%|██████████| 229/229 [00:14<00:00, 16.29it/s]\n"
     ]
    },
    {
     "name": "stdout",
     "output_type": "stream",
     "text": [
      "Epoch 96/180, Training Loss: 12.3684, Validation Loss: 14.3659\n"
     ]
    },
    {
     "name": "stderr",
     "output_type": "stream",
     "text": [
      "Epoch 97: 100%|██████████| 3428/3428 [10:00<00:00,  5.71it/s, batch_loss=13.7]\n",
      "Evaluating: 100%|██████████| 229/229 [00:14<00:00, 16.26it/s]\n"
     ]
    },
    {
     "name": "stdout",
     "output_type": "stream",
     "text": [
      "Epoch 97/180, Training Loss: 12.2963, Validation Loss: 14.2578\n"
     ]
    },
    {
     "name": "stderr",
     "output_type": "stream",
     "text": [
      "Epoch 98: 100%|██████████| 3428/3428 [10:00<00:00,  5.71it/s, batch_loss=19.3]\n",
      "Evaluating: 100%|██████████| 229/229 [00:14<00:00, 16.26it/s]\n"
     ]
    },
    {
     "name": "stdout",
     "output_type": "stream",
     "text": [
      "Epoch 98/180, Training Loss: 12.2347, Validation Loss: 14.2643\n"
     ]
    },
    {
     "name": "stderr",
     "output_type": "stream",
     "text": [
      "Epoch 99: 100%|██████████| 3428/3428 [09:59<00:00,  5.72it/s, batch_loss=16.4]\n",
      "Evaluating: 100%|██████████| 229/229 [00:14<00:00, 16.27it/s]\n"
     ]
    },
    {
     "name": "stdout",
     "output_type": "stream",
     "text": [
      "Epoch 99/180, Training Loss: 12.1712, Validation Loss: 14.2095\n"
     ]
    },
    {
     "name": "stderr",
     "output_type": "stream",
     "text": [
      "Epoch 100: 100%|██████████| 3428/3428 [09:59<00:00,  5.71it/s, batch_loss=11.1]\n",
      "Evaluating: 100%|██████████| 229/229 [00:14<00:00, 16.29it/s]\n"
     ]
    },
    {
     "name": "stdout",
     "output_type": "stream",
     "text": [
      "Epoch 100/180, Training Loss: 12.1047, Validation Loss: 14.1282\n"
     ]
    },
    {
     "name": "stderr",
     "output_type": "stream",
     "text": [
      "Epoch 101: 100%|██████████| 3428/3428 [09:59<00:00,  5.71it/s, batch_loss=10.1]\n",
      "Evaluating: 100%|██████████| 229/229 [00:14<00:00, 16.28it/s]\n"
     ]
    },
    {
     "name": "stdout",
     "output_type": "stream",
     "text": [
      "Epoch 101/180, Training Loss: 12.0409, Validation Loss: 14.2336\n"
     ]
    },
    {
     "name": "stderr",
     "output_type": "stream",
     "text": [
      "Epoch 102: 100%|██████████| 3428/3428 [10:00<00:00,  5.71it/s, batch_loss=12.2]\n",
      "Evaluating: 100%|██████████| 229/229 [00:14<00:00, 16.26it/s]\n"
     ]
    },
    {
     "name": "stdout",
     "output_type": "stream",
     "text": [
      "Epoch 102/180, Training Loss: 11.9839, Validation Loss: 14.1351\n"
     ]
    },
    {
     "name": "stderr",
     "output_type": "stream",
     "text": [
      "Epoch 103: 100%|██████████| 3428/3428 [10:00<00:00,  5.71it/s, batch_loss=9.44]\n",
      "Evaluating: 100%|██████████| 229/229 [00:14<00:00, 16.13it/s]\n"
     ]
    },
    {
     "name": "stdout",
     "output_type": "stream",
     "text": [
      "Epoch 103/180, Training Loss: 11.9272, Validation Loss: 14.2743\n"
     ]
    },
    {
     "name": "stderr",
     "output_type": "stream",
     "text": [
      "Epoch 104: 100%|██████████| 3428/3428 [10:00<00:00,  5.71it/s, batch_loss=11.2]\n",
      "Evaluating: 100%|██████████| 229/229 [00:14<00:00, 16.25it/s]\n"
     ]
    },
    {
     "name": "stdout",
     "output_type": "stream",
     "text": [
      "Epoch 104/180, Training Loss: 11.8556, Validation Loss: 14.1699\n"
     ]
    },
    {
     "name": "stderr",
     "output_type": "stream",
     "text": [
      "Epoch 105: 100%|██████████| 3428/3428 [10:00<00:00,  5.71it/s, batch_loss=7.3] \n",
      "Evaluating: 100%|██████████| 229/229 [00:14<00:00, 16.22it/s]\n"
     ]
    },
    {
     "name": "stdout",
     "output_type": "stream",
     "text": [
      "Epoch 105/180, Training Loss: 11.8039, Validation Loss: 13.9387\n"
     ]
    },
    {
     "name": "stderr",
     "output_type": "stream",
     "text": [
      "Epoch 106: 100%|██████████| 3428/3428 [10:00<00:00,  5.71it/s, batch_loss=17.5]\n",
      "Evaluating: 100%|██████████| 229/229 [00:14<00:00, 16.22it/s]\n"
     ]
    },
    {
     "name": "stdout",
     "output_type": "stream",
     "text": [
      "Epoch 106/180, Training Loss: 11.7396, Validation Loss: 13.9102\n"
     ]
    },
    {
     "name": "stderr",
     "output_type": "stream",
     "text": [
      "Epoch 107: 100%|██████████| 3428/3428 [10:00<00:00,  5.71it/s, batch_loss=6.57]\n",
      "Evaluating: 100%|██████████| 229/229 [00:14<00:00, 16.27it/s]\n"
     ]
    },
    {
     "name": "stdout",
     "output_type": "stream",
     "text": [
      "Epoch 107/180, Training Loss: 11.6808, Validation Loss: 13.9725\n"
     ]
    },
    {
     "name": "stderr",
     "output_type": "stream",
     "text": [
      "Epoch 108: 100%|██████████| 3428/3428 [10:00<00:00,  5.71it/s, batch_loss=8.49]\n",
      "Evaluating: 100%|██████████| 229/229 [00:14<00:00, 16.14it/s]\n"
     ]
    },
    {
     "name": "stdout",
     "output_type": "stream",
     "text": [
      "Epoch 108/180, Training Loss: 11.6225, Validation Loss: 13.9223\n"
     ]
    },
    {
     "name": "stderr",
     "output_type": "stream",
     "text": [
      "Epoch 109: 100%|██████████| 3428/3428 [10:01<00:00,  5.70it/s, batch_loss=12.4]\n",
      "Evaluating: 100%|██████████| 229/229 [00:14<00:00, 16.26it/s]\n"
     ]
    },
    {
     "name": "stdout",
     "output_type": "stream",
     "text": [
      "Epoch 109/180, Training Loss: 11.5635, Validation Loss: 13.9394\n"
     ]
    },
    {
     "name": "stderr",
     "output_type": "stream",
     "text": [
      "Epoch 110: 100%|██████████| 3428/3428 [10:00<00:00,  5.71it/s, batch_loss=12.4]\n",
      "Evaluating: 100%|██████████| 229/229 [00:14<00:00, 16.08it/s]\n"
     ]
    },
    {
     "name": "stdout",
     "output_type": "stream",
     "text": [
      "Epoch 110/180, Training Loss: 11.5074, Validation Loss: 13.9390\n"
     ]
    },
    {
     "name": "stderr",
     "output_type": "stream",
     "text": [
      "Epoch 111: 100%|██████████| 3428/3428 [10:00<00:00,  5.71it/s, batch_loss=13.4]\n",
      "Evaluating: 100%|██████████| 229/229 [00:14<00:00, 16.27it/s]\n"
     ]
    },
    {
     "name": "stdout",
     "output_type": "stream",
     "text": [
      "Epoch 111/180, Training Loss: 11.4631, Validation Loss: 14.0283\n"
     ]
    },
    {
     "name": "stderr",
     "output_type": "stream",
     "text": [
      "Epoch 112: 100%|██████████| 3428/3428 [10:00<00:00,  5.71it/s, batch_loss=10]  \n",
      "Evaluating: 100%|██████████| 229/229 [00:14<00:00, 16.27it/s]\n"
     ]
    },
    {
     "name": "stdout",
     "output_type": "stream",
     "text": [
      "Epoch 112/180, Training Loss: 11.4003, Validation Loss: 13.9575\n"
     ]
    },
    {
     "name": "stderr",
     "output_type": "stream",
     "text": [
      "Epoch 113: 100%|██████████| 3428/3428 [10:00<00:00,  5.71it/s, batch_loss=11.3]\n",
      "Evaluating: 100%|██████████| 229/229 [00:14<00:00, 16.26it/s]\n"
     ]
    },
    {
     "name": "stdout",
     "output_type": "stream",
     "text": [
      "Epoch 113/180, Training Loss: 11.3449, Validation Loss: 13.9465\n"
     ]
    },
    {
     "name": "stderr",
     "output_type": "stream",
     "text": [
      "Epoch 114: 100%|██████████| 3428/3428 [10:00<00:00,  5.71it/s, batch_loss=13.1]\n",
      "Evaluating: 100%|██████████| 229/229 [00:14<00:00, 16.29it/s]\n"
     ]
    },
    {
     "name": "stdout",
     "output_type": "stream",
     "text": [
      "Epoch 114/180, Training Loss: 11.2984, Validation Loss: 13.8335\n"
     ]
    },
    {
     "name": "stderr",
     "output_type": "stream",
     "text": [
      "Epoch 115: 100%|██████████| 3428/3428 [10:00<00:00,  5.71it/s, batch_loss=14.8]\n",
      "Evaluating: 100%|██████████| 229/229 [00:14<00:00, 16.27it/s]\n"
     ]
    },
    {
     "name": "stdout",
     "output_type": "stream",
     "text": [
      "Epoch 115/180, Training Loss: 11.2411, Validation Loss: 13.8723\n"
     ]
    },
    {
     "name": "stderr",
     "output_type": "stream",
     "text": [
      "Epoch 116: 100%|██████████| 3428/3428 [10:00<00:00,  5.71it/s, batch_loss=12.7]\n",
      "Evaluating: 100%|██████████| 229/229 [00:14<00:00, 16.27it/s]\n"
     ]
    },
    {
     "name": "stdout",
     "output_type": "stream",
     "text": [
      "Epoch 116/180, Training Loss: 11.1921, Validation Loss: 14.0784\n"
     ]
    },
    {
     "name": "stderr",
     "output_type": "stream",
     "text": [
      "Epoch 117: 100%|██████████| 3428/3428 [10:00<00:00,  5.71it/s, batch_loss=11.5]\n",
      "Evaluating: 100%|██████████| 229/229 [00:14<00:00, 16.26it/s]\n"
     ]
    },
    {
     "name": "stdout",
     "output_type": "stream",
     "text": [
      "Epoch 117/180, Training Loss: 11.1426, Validation Loss: 13.7843\n"
     ]
    },
    {
     "name": "stderr",
     "output_type": "stream",
     "text": [
      "Epoch 118: 100%|██████████| 3428/3428 [10:00<00:00,  5.71it/s, batch_loss=10.6]\n",
      "Evaluating: 100%|██████████| 229/229 [00:14<00:00, 16.29it/s]\n"
     ]
    },
    {
     "name": "stdout",
     "output_type": "stream",
     "text": [
      "Epoch 118/180, Training Loss: 11.0868, Validation Loss: 13.8557\n"
     ]
    },
    {
     "name": "stderr",
     "output_type": "stream",
     "text": [
      "Epoch 119: 100%|██████████| 3428/3428 [10:00<00:00,  5.71it/s, batch_loss=14]  \n",
      "Evaluating: 100%|██████████| 229/229 [00:14<00:00, 16.12it/s]\n"
     ]
    },
    {
     "name": "stdout",
     "output_type": "stream",
     "text": [
      "Epoch 119/180, Training Loss: 11.0360, Validation Loss: 13.6889\n"
     ]
    },
    {
     "name": "stderr",
     "output_type": "stream",
     "text": [
      "Epoch 120: 100%|██████████| 3428/3428 [10:00<00:00,  5.71it/s, batch_loss=9.42]\n",
      "Evaluating: 100%|██████████| 229/229 [00:14<00:00, 16.29it/s]\n"
     ]
    },
    {
     "name": "stdout",
     "output_type": "stream",
     "text": [
      "Epoch 120/180, Training Loss: 10.9900, Validation Loss: 13.5258\n"
     ]
    },
    {
     "name": "stderr",
     "output_type": "stream",
     "text": [
      "Epoch 121: 100%|██████████| 3428/3428 [10:00<00:00,  5.71it/s, batch_loss=10.6]\n",
      "Evaluating: 100%|██████████| 229/229 [00:14<00:00, 16.31it/s]\n"
     ]
    },
    {
     "name": "stdout",
     "output_type": "stream",
     "text": [
      "Epoch 121/180, Training Loss: 10.9469, Validation Loss: 13.5916\n"
     ]
    },
    {
     "name": "stderr",
     "output_type": "stream",
     "text": [
      "Epoch 122: 100%|██████████| 3428/3428 [10:00<00:00,  5.71it/s, batch_loss=11.2]\n",
      "Evaluating: 100%|██████████| 229/229 [00:14<00:00, 16.31it/s]\n"
     ]
    },
    {
     "name": "stdout",
     "output_type": "stream",
     "text": [
      "Epoch 122/180, Training Loss: 10.8754, Validation Loss: 13.7954\n"
     ]
    },
    {
     "name": "stderr",
     "output_type": "stream",
     "text": [
      "Epoch 123: 100%|██████████| 3428/3428 [10:00<00:00,  5.71it/s, batch_loss=16.6]\n",
      "Evaluating: 100%|██████████| 229/229 [00:14<00:00, 16.29it/s]\n"
     ]
    },
    {
     "name": "stdout",
     "output_type": "stream",
     "text": [
      "Epoch 123/180, Training Loss: 10.8409, Validation Loss: 13.7219\n"
     ]
    },
    {
     "name": "stderr",
     "output_type": "stream",
     "text": [
      "Epoch 124: 100%|██████████| 3428/3428 [10:00<00:00,  5.71it/s, batch_loss=6.24]\n",
      "Evaluating: 100%|██████████| 229/229 [00:14<00:00, 16.33it/s]\n"
     ]
    },
    {
     "name": "stdout",
     "output_type": "stream",
     "text": [
      "Epoch 124/180, Training Loss: 10.7984, Validation Loss: 13.5545\n"
     ]
    },
    {
     "name": "stderr",
     "output_type": "stream",
     "text": [
      "Epoch 125: 100%|██████████| 3428/3428 [10:00<00:00,  5.71it/s, batch_loss=12]  \n",
      "Evaluating: 100%|██████████| 229/229 [00:14<00:00, 16.26it/s]\n"
     ]
    },
    {
     "name": "stdout",
     "output_type": "stream",
     "text": [
      "Epoch 125/180, Training Loss: 10.7358, Validation Loss: 13.6571\n"
     ]
    },
    {
     "name": "stderr",
     "output_type": "stream",
     "text": [
      "Epoch 126: 100%|██████████| 3428/3428 [10:00<00:00,  5.71it/s, batch_loss=13.3]\n",
      "Evaluating: 100%|██████████| 229/229 [00:14<00:00, 16.08it/s]\n"
     ]
    },
    {
     "name": "stdout",
     "output_type": "stream",
     "text": [
      "Epoch 126/180, Training Loss: 10.6965, Validation Loss: 13.8570\n"
     ]
    },
    {
     "name": "stderr",
     "output_type": "stream",
     "text": [
      "Epoch 127: 100%|██████████| 3428/3428 [10:00<00:00,  5.71it/s, batch_loss=8.85]\n",
      "Evaluating: 100%|██████████| 229/229 [00:14<00:00, 16.27it/s]\n"
     ]
    },
    {
     "name": "stdout",
     "output_type": "stream",
     "text": [
      "Epoch 127/180, Training Loss: 10.6546, Validation Loss: 13.6403\n"
     ]
    },
    {
     "name": "stderr",
     "output_type": "stream",
     "text": [
      "Epoch 128: 100%|██████████| 3428/3428 [10:00<00:00,  5.71it/s, batch_loss=10.1]\n",
      "Evaluating: 100%|██████████| 229/229 [00:14<00:00, 16.24it/s]\n"
     ]
    },
    {
     "name": "stdout",
     "output_type": "stream",
     "text": [
      "Epoch 128/180, Training Loss: 10.6075, Validation Loss: 14.0350\n"
     ]
    },
    {
     "name": "stderr",
     "output_type": "stream",
     "text": [
      "Epoch 129: 100%|██████████| 3428/3428 [10:00<00:00,  5.71it/s, batch_loss=15.3]\n",
      "Evaluating: 100%|██████████| 229/229 [00:14<00:00, 16.27it/s]\n"
     ]
    },
    {
     "name": "stdout",
     "output_type": "stream",
     "text": [
      "Epoch 129/180, Training Loss: 10.5664, Validation Loss: 13.6171\n"
     ]
    },
    {
     "name": "stderr",
     "output_type": "stream",
     "text": [
      "Epoch 130: 100%|██████████| 3428/3428 [10:00<00:00,  5.71it/s, batch_loss=10.2]\n",
      "Evaluating: 100%|██████████| 229/229 [00:14<00:00, 16.28it/s]\n"
     ]
    },
    {
     "name": "stdout",
     "output_type": "stream",
     "text": [
      "Epoch 130/180, Training Loss: 10.5078, Validation Loss: 13.6714\n"
     ]
    },
    {
     "name": "stderr",
     "output_type": "stream",
     "text": [
      "Epoch 131: 100%|██████████| 3428/3428 [10:00<00:00,  5.71it/s, batch_loss=10.4]\n",
      "Evaluating: 100%|██████████| 229/229 [00:14<00:00, 16.28it/s]\n"
     ]
    },
    {
     "name": "stdout",
     "output_type": "stream",
     "text": [
      "Epoch 131/180, Training Loss: 10.4766, Validation Loss: 14.1889\n"
     ]
    },
    {
     "name": "stderr",
     "output_type": "stream",
     "text": [
      "Epoch 132: 100%|██████████| 3428/3428 [10:00<00:00,  5.71it/s, batch_loss=9.95]\n",
      "Evaluating: 100%|██████████| 229/229 [00:14<00:00, 16.31it/s]\n"
     ]
    },
    {
     "name": "stdout",
     "output_type": "stream",
     "text": [
      "Epoch 132/180, Training Loss: 10.4162, Validation Loss: 13.7674\n"
     ]
    },
    {
     "name": "stderr",
     "output_type": "stream",
     "text": [
      "Epoch 133: 100%|██████████| 3428/3428 [10:00<00:00,  5.71it/s, batch_loss=9.17]\n",
      "Evaluating: 100%|██████████| 229/229 [00:14<00:00, 16.28it/s]\n"
     ]
    },
    {
     "name": "stdout",
     "output_type": "stream",
     "text": [
      "Epoch 133/180, Training Loss: 10.3808, Validation Loss: 13.7451\n"
     ]
    },
    {
     "name": "stderr",
     "output_type": "stream",
     "text": [
      "Epoch 134: 100%|██████████| 3428/3428 [10:00<00:00,  5.71it/s, batch_loss=8.3] \n",
      "Evaluating: 100%|██████████| 229/229 [00:14<00:00, 16.11it/s]\n"
     ]
    },
    {
     "name": "stdout",
     "output_type": "stream",
     "text": [
      "Epoch 134/180, Training Loss: 10.3506, Validation Loss: 13.4846\n"
     ]
    },
    {
     "name": "stderr",
     "output_type": "stream",
     "text": [
      "Epoch 135: 100%|██████████| 3428/3428 [10:00<00:00,  5.71it/s, batch_loss=15.3]\n",
      "Evaluating: 100%|██████████| 229/229 [00:14<00:00, 16.28it/s]\n"
     ]
    },
    {
     "name": "stdout",
     "output_type": "stream",
     "text": [
      "Epoch 135/180, Training Loss: 10.3022, Validation Loss: 13.9056\n"
     ]
    },
    {
     "name": "stderr",
     "output_type": "stream",
     "text": [
      "Epoch 136: 100%|██████████| 3428/3428 [10:00<00:00,  5.71it/s, batch_loss=8.91]\n",
      "Evaluating: 100%|██████████| 229/229 [00:14<00:00, 16.28it/s]\n"
     ]
    },
    {
     "name": "stdout",
     "output_type": "stream",
     "text": [
      "Epoch 136/180, Training Loss: 10.2588, Validation Loss: 13.8869\n"
     ]
    },
    {
     "name": "stderr",
     "output_type": "stream",
     "text": [
      "Epoch 137: 100%|██████████| 3428/3428 [10:00<00:00,  5.71it/s, batch_loss=7.87]\n",
      "Evaluating: 100%|██████████| 229/229 [00:14<00:00, 16.23it/s]\n"
     ]
    },
    {
     "name": "stdout",
     "output_type": "stream",
     "text": [
      "Epoch 137/180, Training Loss: 10.2145, Validation Loss: 13.8751\n"
     ]
    },
    {
     "name": "stderr",
     "output_type": "stream",
     "text": [
      "Epoch 138: 100%|██████████| 3428/3428 [10:00<00:00,  5.71it/s, batch_loss=12.3]\n",
      "Evaluating: 100%|██████████| 229/229 [00:14<00:00, 16.26it/s]\n"
     ]
    },
    {
     "name": "stdout",
     "output_type": "stream",
     "text": [
      "Epoch 138/180, Training Loss: 10.1743, Validation Loss: 13.4804\n"
     ]
    },
    {
     "name": "stderr",
     "output_type": "stream",
     "text": [
      "Epoch 139: 100%|██████████| 3428/3428 [10:00<00:00,  5.71it/s, batch_loss=13.2]\n",
      "Evaluating: 100%|██████████| 229/229 [00:14<00:00, 16.25it/s]\n"
     ]
    },
    {
     "name": "stdout",
     "output_type": "stream",
     "text": [
      "Epoch 139/180, Training Loss: 10.1339, Validation Loss: 13.5753\n"
     ]
    },
    {
     "name": "stderr",
     "output_type": "stream",
     "text": [
      "Epoch 140: 100%|██████████| 3428/3428 [09:48<00:00,  5.83it/s, batch_loss=11.1]\n",
      "Evaluating: 100%|██████████| 229/229 [00:13<00:00, 16.97it/s]\n"
     ]
    },
    {
     "name": "stdout",
     "output_type": "stream",
     "text": [
      "Epoch 140/180, Training Loss: 10.0855, Validation Loss: 13.6746\n"
     ]
    },
    {
     "name": "stderr",
     "output_type": "stream",
     "text": [
      "Epoch 141: 100%|██████████| 3428/3428 [09:36<00:00,  5.95it/s, batch_loss=10.2]\n",
      "Evaluating: 100%|██████████| 229/229 [00:13<00:00, 17.00it/s]\n"
     ]
    },
    {
     "name": "stdout",
     "output_type": "stream",
     "text": [
      "Epoch 141/180, Training Loss: 10.0420, Validation Loss: 13.7889\n"
     ]
    },
    {
     "name": "stderr",
     "output_type": "stream",
     "text": [
      "Epoch 142: 100%|██████████| 3428/3428 [09:35<00:00,  5.96it/s, batch_loss=8.61]\n",
      "Evaluating: 100%|██████████| 229/229 [00:13<00:00, 16.85it/s]\n"
     ]
    },
    {
     "name": "stdout",
     "output_type": "stream",
     "text": [
      "Epoch 142/180, Training Loss: 10.0047, Validation Loss: 13.7792\n"
     ]
    },
    {
     "name": "stderr",
     "output_type": "stream",
     "text": [
      "Epoch 143: 100%|██████████| 3428/3428 [09:35<00:00,  5.96it/s, batch_loss=8.87]\n",
      "Evaluating: 100%|██████████| 229/229 [00:13<00:00, 17.03it/s]\n"
     ]
    },
    {
     "name": "stdout",
     "output_type": "stream",
     "text": [
      "Epoch 143/180, Training Loss: 9.9657, Validation Loss: 13.8700\n"
     ]
    },
    {
     "name": "stderr",
     "output_type": "stream",
     "text": [
      "Epoch 144: 100%|██████████| 3428/3428 [09:35<00:00,  5.96it/s, batch_loss=9.57]\n",
      "Evaluating: 100%|██████████| 229/229 [00:13<00:00, 17.03it/s]\n"
     ]
    },
    {
     "name": "stdout",
     "output_type": "stream",
     "text": [
      "Epoch 144/180, Training Loss: 9.9299, Validation Loss: 13.8033\n"
     ]
    },
    {
     "name": "stderr",
     "output_type": "stream",
     "text": [
      "Epoch 145: 100%|██████████| 3428/3428 [09:35<00:00,  5.96it/s, batch_loss=13.4]\n",
      "Evaluating: 100%|██████████| 229/229 [00:13<00:00, 17.02it/s]\n"
     ]
    },
    {
     "name": "stdout",
     "output_type": "stream",
     "text": [
      "Epoch 145/180, Training Loss: 9.8836, Validation Loss: 13.9267\n"
     ]
    },
    {
     "name": "stderr",
     "output_type": "stream",
     "text": [
      "Epoch 146: 100%|██████████| 3428/3428 [09:35<00:00,  5.96it/s, batch_loss=8.54]\n",
      "Evaluating: 100%|██████████| 229/229 [00:13<00:00, 17.01it/s]\n"
     ]
    },
    {
     "name": "stdout",
     "output_type": "stream",
     "text": [
      "Epoch 146/180, Training Loss: 9.8450, Validation Loss: 13.8676\n"
     ]
    },
    {
     "name": "stderr",
     "output_type": "stream",
     "text": [
      "Epoch 147: 100%|██████████| 3428/3428 [09:35<00:00,  5.96it/s, batch_loss=8.29]\n",
      "Evaluating: 100%|██████████| 229/229 [00:13<00:00, 17.04it/s]\n"
     ]
    },
    {
     "name": "stdout",
     "output_type": "stream",
     "text": [
      "Epoch 147/180, Training Loss: 9.7966, Validation Loss: 14.2466\n"
     ]
    },
    {
     "name": "stderr",
     "output_type": "stream",
     "text": [
      "Epoch 148: 100%|██████████| 3428/3428 [09:35<00:00,  5.96it/s, batch_loss=11.4]\n",
      "Evaluating: 100%|██████████| 229/229 [00:13<00:00, 17.04it/s]\n"
     ]
    },
    {
     "name": "stdout",
     "output_type": "stream",
     "text": [
      "Epoch 148/180, Training Loss: 9.7623, Validation Loss: 13.6191\n"
     ]
    },
    {
     "name": "stderr",
     "output_type": "stream",
     "text": [
      "Epoch 149: 100%|██████████| 3428/3428 [09:35<00:00,  5.96it/s, batch_loss=9.33]\n",
      "Evaluating: 100%|██████████| 229/229 [00:13<00:00, 16.88it/s]\n"
     ]
    },
    {
     "name": "stdout",
     "output_type": "stream",
     "text": [
      "Epoch 149/180, Training Loss: 9.7331, Validation Loss: 13.4978\n"
     ]
    },
    {
     "name": "stderr",
     "output_type": "stream",
     "text": [
      "Epoch 150: 100%|██████████| 3428/3428 [09:35<00:00,  5.96it/s, batch_loss=4.64]\n",
      "Evaluating: 100%|██████████| 229/229 [00:13<00:00, 17.05it/s]\n"
     ]
    },
    {
     "name": "stdout",
     "output_type": "stream",
     "text": [
      "Epoch 150/180, Training Loss: 9.6884, Validation Loss: 13.6806\n"
     ]
    },
    {
     "name": "stderr",
     "output_type": "stream",
     "text": [
      "Epoch 151: 100%|██████████| 3428/3428 [09:35<00:00,  5.96it/s, batch_loss=7.17]\n",
      "Evaluating: 100%|██████████| 229/229 [00:13<00:00, 17.04it/s]\n"
     ]
    },
    {
     "name": "stdout",
     "output_type": "stream",
     "text": [
      "Epoch 151/180, Training Loss: 9.6550, Validation Loss: 14.0170\n"
     ]
    },
    {
     "name": "stderr",
     "output_type": "stream",
     "text": [
      "Epoch 152: 100%|██████████| 3428/3428 [09:35<00:00,  5.96it/s, batch_loss=7.81]\n",
      "Evaluating: 100%|██████████| 229/229 [00:13<00:00, 17.03it/s]\n"
     ]
    },
    {
     "name": "stdout",
     "output_type": "stream",
     "text": [
      "Epoch 152/180, Training Loss: 9.6111, Validation Loss: 13.5303\n"
     ]
    },
    {
     "name": "stderr",
     "output_type": "stream",
     "text": [
      "Epoch 153: 100%|██████████| 3428/3428 [09:35<00:00,  5.96it/s, batch_loss=7.04]\n",
      "Evaluating: 100%|██████████| 229/229 [00:13<00:00, 17.04it/s]\n"
     ]
    },
    {
     "name": "stdout",
     "output_type": "stream",
     "text": [
      "Epoch 153/180, Training Loss: 9.6024, Validation Loss: 13.5411\n"
     ]
    },
    {
     "name": "stderr",
     "output_type": "stream",
     "text": [
      "Epoch 154: 100%|██████████| 3428/3428 [09:34<00:00,  5.96it/s, batch_loss=8.23]\n",
      "Evaluating: 100%|██████████| 229/229 [00:13<00:00, 17.03it/s]\n"
     ]
    },
    {
     "name": "stdout",
     "output_type": "stream",
     "text": [
      "Epoch 154/180, Training Loss: 9.5545, Validation Loss: 13.9574\n"
     ]
    },
    {
     "name": "stderr",
     "output_type": "stream",
     "text": [
      "Epoch 155: 100%|██████████| 3428/3428 [09:35<00:00,  5.96it/s, batch_loss=10]  \n",
      "Evaluating: 100%|██████████| 229/229 [00:13<00:00, 17.02it/s]\n"
     ]
    },
    {
     "name": "stdout",
     "output_type": "stream",
     "text": [
      "Epoch 155/180, Training Loss: 9.5182, Validation Loss: 13.9414\n"
     ]
    },
    {
     "name": "stderr",
     "output_type": "stream",
     "text": [
      "Epoch 156: 100%|██████████| 3428/3428 [09:35<00:00,  5.96it/s, batch_loss=9.96]\n",
      "Evaluating: 100%|██████████| 229/229 [00:13<00:00, 17.04it/s]\n"
     ]
    },
    {
     "name": "stdout",
     "output_type": "stream",
     "text": [
      "Epoch 156/180, Training Loss: 9.4763, Validation Loss: 13.6232\n"
     ]
    },
    {
     "name": "stderr",
     "output_type": "stream",
     "text": [
      "Epoch 157: 100%|██████████| 3428/3428 [09:35<00:00,  5.96it/s, batch_loss=12.8]\n",
      "Evaluating: 100%|██████████| 229/229 [00:13<00:00, 16.85it/s]\n"
     ]
    },
    {
     "name": "stdout",
     "output_type": "stream",
     "text": [
      "Epoch 157/180, Training Loss: 9.4414, Validation Loss: 13.5705\n"
     ]
    },
    {
     "name": "stderr",
     "output_type": "stream",
     "text": [
      "Epoch 158: 100%|██████████| 3428/3428 [09:35<00:00,  5.96it/s, batch_loss=16]  \n",
      "Evaluating: 100%|██████████| 229/229 [00:13<00:00, 17.01it/s]\n"
     ]
    },
    {
     "name": "stdout",
     "output_type": "stream",
     "text": [
      "Epoch 158/180, Training Loss: 9.4077, Validation Loss: 13.9347\n"
     ]
    },
    {
     "name": "stderr",
     "output_type": "stream",
     "text": [
      "Epoch 159: 100%|██████████| 3428/3428 [09:35<00:00,  5.96it/s, batch_loss=6.62]\n",
      "Evaluating: 100%|██████████| 229/229 [00:13<00:00, 17.05it/s]\n"
     ]
    },
    {
     "name": "stdout",
     "output_type": "stream",
     "text": [
      "Epoch 159/180, Training Loss: 9.3623, Validation Loss: 13.7617\n"
     ]
    },
    {
     "name": "stderr",
     "output_type": "stream",
     "text": [
      "Epoch 160: 100%|██████████| 3428/3428 [09:35<00:00,  5.96it/s, batch_loss=8.93]\n",
      "Evaluating: 100%|██████████| 229/229 [00:13<00:00, 17.06it/s]\n"
     ]
    },
    {
     "name": "stdout",
     "output_type": "stream",
     "text": [
      "Epoch 160/180, Training Loss: 9.3305, Validation Loss: 13.6292\n"
     ]
    },
    {
     "name": "stderr",
     "output_type": "stream",
     "text": [
      "Epoch 161: 100%|██████████| 3428/3428 [09:35<00:00,  5.96it/s, batch_loss=10.4]\n",
      "Evaluating: 100%|██████████| 229/229 [00:13<00:00, 17.03it/s]\n"
     ]
    },
    {
     "name": "stdout",
     "output_type": "stream",
     "text": [
      "Epoch 161/180, Training Loss: 9.3029, Validation Loss: 13.9848\n"
     ]
    },
    {
     "name": "stderr",
     "output_type": "stream",
     "text": [
      "Epoch 162: 100%|██████████| 3428/3428 [09:35<00:00,  5.96it/s, batch_loss=6.77]\n",
      "Evaluating: 100%|██████████| 229/229 [00:13<00:00, 17.03it/s]\n"
     ]
    },
    {
     "name": "stdout",
     "output_type": "stream",
     "text": [
      "Epoch 162/180, Training Loss: 9.2661, Validation Loss: 13.5559\n"
     ]
    },
    {
     "name": "stderr",
     "output_type": "stream",
     "text": [
      "Epoch 163: 100%|██████████| 3428/3428 [09:35<00:00,  5.96it/s, batch_loss=12.3]\n",
      "Evaluating: 100%|██████████| 229/229 [00:13<00:00, 17.08it/s]\n"
     ]
    },
    {
     "name": "stdout",
     "output_type": "stream",
     "text": [
      "Epoch 163/180, Training Loss: 9.2196, Validation Loss: 13.8550\n"
     ]
    },
    {
     "name": "stderr",
     "output_type": "stream",
     "text": [
      "Epoch 164: 100%|██████████| 3428/3428 [09:35<00:00,  5.96it/s, batch_loss=8.56]\n",
      "Evaluating: 100%|██████████| 229/229 [00:13<00:00, 16.86it/s]\n"
     ]
    },
    {
     "name": "stdout",
     "output_type": "stream",
     "text": [
      "Epoch 164/180, Training Loss: 9.2020, Validation Loss: 13.9803\n"
     ]
    },
    {
     "name": "stderr",
     "output_type": "stream",
     "text": [
      "Epoch 165: 100%|██████████| 3428/3428 [09:35<00:00,  5.96it/s, batch_loss=10.1]\n",
      "Evaluating: 100%|██████████| 229/229 [00:13<00:00, 17.05it/s]\n"
     ]
    },
    {
     "name": "stdout",
     "output_type": "stream",
     "text": [
      "Epoch 165/180, Training Loss: 9.1475, Validation Loss: 13.5896\n"
     ]
    },
    {
     "name": "stderr",
     "output_type": "stream",
     "text": [
      "Epoch 166: 100%|██████████| 3428/3428 [09:35<00:00,  5.96it/s, batch_loss=8.79]\n",
      "Evaluating: 100%|██████████| 229/229 [00:13<00:00, 17.05it/s]\n"
     ]
    },
    {
     "name": "stdout",
     "output_type": "stream",
     "text": [
      "Epoch 166/180, Training Loss: 9.1314, Validation Loss: 13.6701\n"
     ]
    },
    {
     "name": "stderr",
     "output_type": "stream",
     "text": [
      "Epoch 167: 100%|██████████| 3428/3428 [09:35<00:00,  5.96it/s, batch_loss=9.29]\n",
      "Evaluating: 100%|██████████| 229/229 [00:13<00:00, 17.05it/s]\n"
     ]
    },
    {
     "name": "stdout",
     "output_type": "stream",
     "text": [
      "Epoch 167/180, Training Loss: 9.0898, Validation Loss: 13.7300\n"
     ]
    },
    {
     "name": "stderr",
     "output_type": "stream",
     "text": [
      "Epoch 168: 100%|██████████| 3428/3428 [09:35<00:00,  5.96it/s, batch_loss=7.67]\n",
      "Evaluating: 100%|██████████| 229/229 [00:13<00:00, 17.03it/s]\n"
     ]
    },
    {
     "name": "stdout",
     "output_type": "stream",
     "text": [
      "Epoch 168/180, Training Loss: 9.0668, Validation Loss: 13.9903\n"
     ]
    },
    {
     "name": "stderr",
     "output_type": "stream",
     "text": [
      "Epoch 169: 100%|██████████| 3428/3428 [09:35<00:00,  5.96it/s, batch_loss=6.63]\n",
      "Evaluating: 100%|██████████| 229/229 [00:13<00:00, 17.01it/s]\n"
     ]
    },
    {
     "name": "stdout",
     "output_type": "stream",
     "text": [
      "Epoch 169/180, Training Loss: 9.0278, Validation Loss: 13.6134\n"
     ]
    },
    {
     "name": "stderr",
     "output_type": "stream",
     "text": [
      "Epoch 170: 100%|██████████| 3428/3428 [09:35<00:00,  5.96it/s, batch_loss=8.98]\n",
      "Evaluating: 100%|██████████| 229/229 [00:13<00:00, 17.04it/s]\n"
     ]
    },
    {
     "name": "stdout",
     "output_type": "stream",
     "text": [
      "Epoch 170/180, Training Loss: 9.0020, Validation Loss: 13.9316\n"
     ]
    },
    {
     "name": "stderr",
     "output_type": "stream",
     "text": [
      "Epoch 171: 100%|██████████| 3428/3428 [09:35<00:00,  5.96it/s, batch_loss=7.95]\n",
      "Evaluating: 100%|██████████| 229/229 [00:13<00:00, 17.05it/s]\n"
     ]
    },
    {
     "name": "stdout",
     "output_type": "stream",
     "text": [
      "Epoch 171/180, Training Loss: 8.9700, Validation Loss: 13.8012\n"
     ]
    },
    {
     "name": "stderr",
     "output_type": "stream",
     "text": [
      "Epoch 172: 100%|██████████| 3428/3428 [09:35<00:00,  5.96it/s, batch_loss=11.6]\n",
      "Evaluating: 100%|██████████| 229/229 [00:13<00:00, 16.87it/s]\n"
     ]
    },
    {
     "name": "stdout",
     "output_type": "stream",
     "text": [
      "Epoch 172/180, Training Loss: 8.9469, Validation Loss: 13.7976\n"
     ]
    },
    {
     "name": "stderr",
     "output_type": "stream",
     "text": [
      "Epoch 173: 100%|██████████| 3428/3428 [09:35<00:00,  5.96it/s, batch_loss=7.71]\n",
      "Evaluating: 100%|██████████| 229/229 [00:13<00:00, 17.02it/s]\n"
     ]
    },
    {
     "name": "stdout",
     "output_type": "stream",
     "text": [
      "Epoch 173/180, Training Loss: 8.9027, Validation Loss: 13.6737\n"
     ]
    },
    {
     "name": "stderr",
     "output_type": "stream",
     "text": [
      "Epoch 174: 100%|██████████| 3428/3428 [09:35<00:00,  5.96it/s, batch_loss=7.31]\n",
      "Evaluating: 100%|██████████| 229/229 [00:13<00:00, 17.06it/s]\n"
     ]
    },
    {
     "name": "stdout",
     "output_type": "stream",
     "text": [
      "Epoch 174/180, Training Loss: 8.8801, Validation Loss: 13.6920\n"
     ]
    },
    {
     "name": "stderr",
     "output_type": "stream",
     "text": [
      "Epoch 175: 100%|██████████| 3428/3428 [09:35<00:00,  5.96it/s, batch_loss=11.7]\n",
      "Evaluating: 100%|██████████| 229/229 [00:13<00:00, 17.02it/s]\n"
     ]
    },
    {
     "name": "stdout",
     "output_type": "stream",
     "text": [
      "Epoch 175/180, Training Loss: 8.8309, Validation Loss: 13.7826\n"
     ]
    },
    {
     "name": "stderr",
     "output_type": "stream",
     "text": [
      "Epoch 176: 100%|██████████| 3428/3428 [09:35<00:00,  5.96it/s, batch_loss=7.98]\n",
      "Evaluating: 100%|██████████| 229/229 [00:13<00:00, 17.04it/s]\n"
     ]
    },
    {
     "name": "stdout",
     "output_type": "stream",
     "text": [
      "Epoch 176/180, Training Loss: 8.8166, Validation Loss: 13.9320\n"
     ]
    },
    {
     "name": "stderr",
     "output_type": "stream",
     "text": [
      "Epoch 177: 100%|██████████| 3428/3428 [09:35<00:00,  5.96it/s, batch_loss=9.67]\n",
      "Evaluating: 100%|██████████| 229/229 [00:13<00:00, 17.05it/s]\n"
     ]
    },
    {
     "name": "stdout",
     "output_type": "stream",
     "text": [
      "Epoch 177/180, Training Loss: 8.7784, Validation Loss: 13.5462\n"
     ]
    },
    {
     "name": "stderr",
     "output_type": "stream",
     "text": [
      "Epoch 178: 100%|██████████| 3428/3428 [09:35<00:00,  5.96it/s, batch_loss=7.29]\n",
      "Evaluating: 100%|██████████| 229/229 [00:13<00:00, 17.04it/s]\n"
     ]
    },
    {
     "name": "stdout",
     "output_type": "stream",
     "text": [
      "Epoch 178/180, Training Loss: 8.7397, Validation Loss: 14.1565\n"
     ]
    },
    {
     "name": "stderr",
     "output_type": "stream",
     "text": [
      "Epoch 179: 100%|██████████| 3428/3428 [09:35<00:00,  5.96it/s, batch_loss=12.7]\n",
      "Evaluating: 100%|██████████| 229/229 [00:13<00:00, 16.85it/s]\n"
     ]
    },
    {
     "name": "stdout",
     "output_type": "stream",
     "text": [
      "Epoch 179/180, Training Loss: 8.7251, Validation Loss: 14.0243\n"
     ]
    },
    {
     "name": "stderr",
     "output_type": "stream",
     "text": [
      "Epoch 180: 100%|██████████| 3428/3428 [09:35<00:00,  5.96it/s, batch_loss=10.9]\n",
      "Evaluating: 100%|██████████| 229/229 [00:13<00:00, 17.04it/s]\n"
     ]
    },
    {
     "name": "stdout",
     "output_type": "stream",
     "text": [
      "Epoch 180/180, Training Loss: 8.6811, Validation Loss: 14.3139\n"
     ]
    },
    {
     "data": {
      "image/png": "[encoded data removed]",
      "text/plain": [
       "<Figure size 640x480 with 1 Axes>"
      ]
     },
     "metadata": {},
     "output_type": "display_data"
    }
   ],
   "source": [
    "# Training loop\n",
    "num_epochs = 180\n",
    "for epoch in range(num_epochs):\n",
    "    train_loss = train_one_epoch(model, train_loader, criterion, optimizer, device, epoch, report_freq=256, save_after_batch=False, save_path=save_path)\n",
    "    \n",
    "    val_loss = evaluate(model, val_loader, criterion, device)\n",
    "\n",
    "    # Print progress for each epoch\n",
    "    print(f\"Epoch {epoch+1}/{num_epochs}, Training Loss: {train_loss:.4f}, Validation Loss: {val_loss:.4f}\")\n",
    "\n",
    "    # Save losses for plotting\n",
    "    train_losses.append(train_loss)\n",
    "    val_losses.append(val_loss)\n",
    "\n",
    "    # Step the scheduler\n",
    "    scheduler.step(val_loss)\n",
    "\n",
    "timestamp = datetime.now().strftime('%y%m%d-%H%M%S')\n",
    "# Plot the losses\n",
    "plt.figure()\n",
    "plt.plot(range(1, len(train_losses) + 1), train_losses, label='Training Loss')\n",
    "plt.plot(range(1, len(val_losses) + 1), val_losses, label='Validation Loss')\n",
    "plt.xlabel('Epoch')\n",
    "plt.ylabel('Loss')\n",
    "plt.title('Training and Validation Loss over Epochs')\n",
    "plt.legend()\n",
    "plt.grid(True)\n",
    "plt.yscale('log')  # Set the y-axis to log scale\n",
    "plt.savefig(f'loss_plot_L4_{timestamp}.png')  # Save the plot as a PNG file\n",
    "plt.show()  # Display the plot"
   ]
  },
  {
   "cell_type": "code",
   "execution_count": 28,
   "id": "f62dd41019c7b158",
   "metadata": {
    "ExecuteTime": {
     "end_time": "2025-02-23T05:14:25.887745900Z",
     "start_time": "2025-02-19T05:16:25.191205Z"
    },
    "collapsed": false
   },
   "outputs": [
    {
     "name": "stdout",
     "output_type": "stream",
     "text": [
      "Saved model weights to ./model_weights_L4_hc128_lr1e-04_wd0e+00_ss10_gamma1e-01_e180.pth\n"
     ]
    }
   ],
   "source": [
    "# Save the model weights at the end of training\n",
    "# save_model(model, save_path)\n",
    "save_path_posttraining = f'{save_path[:-4]}_e{len(train_losses)}.pth'\n",
    "save_model(model, save_path_posttraining)\n",
    "print(f\"Saved model weights to {save_path_posttraining}\")"
   ]
  },
  {
   "cell_type": "code",
   "execution_count": 29,
   "id": "cd1231284e89a2bd",
   "metadata": {
    "ExecuteTime": {
     "end_time": "2025-02-23T05:14:25.888746600Z",
     "start_time": "2025-02-19T05:16:25.856268Z"
    },
    "collapsed": false
   },
   "outputs": [
    {
     "data": {
      "image/png": "[encoded data removed]",
      "text/plain": [
       "<Figure size 1200x400 with 4 Axes>"
      ]
     },
     "metadata": {},
     "output_type": "display_data"
    },
    {
     "data": {
      "image/png": "[encoded data removed]",
      "text/plain": [
       "<Figure size 800x800 with 5 Axes>"
      ]
     },
     "metadata": {},
     "output_type": "display_data"
    },
    {
     "data": {
      "image/png": "[encoded data removed]",
      "text/plain": [
       "<Figure size 800x800 with 5 Axes>"
      ]
     },
     "metadata": {},
     "output_type": "display_data"
    }
   ],
   "source": [
    "# Get a batch from the validation loader\n",
    "inputs, targets = next(iter(val_loader))\n",
    "inputs, targets = inputs.to(device), targets.to(device)\n",
    "\n",
    "# Get a single sample from the batch\n",
    "input_sample = inputs[36]\n",
    "target_sample = targets[36]\n",
    "\n",
    "# Run the model to get predictions\n",
    "model.eval()\n",
    "with torch.no_grad():\n",
    "    output_sample = model(input_sample.unsqueeze(0)).squeeze(0)\n",
    "\n",
    "# Plot the inputs, predictions, and targets\n",
    "plot_predictions_and_targets(input_sample, output_sample, target_sample)\n"
   ]
  },
  {
   "cell_type": "code",
   "execution_count": 30,
   "id": "bfed4b51d2b8d757",
   "metadata": {
    "ExecuteTime": {
     "end_time": "2025-02-23T05:14:25.889881700Z",
     "start_time": "2025-02-19T05:16:27.481769Z"
    }
   },
   "outputs": [],
   "source": [
    "def plot_model_weights_histogram(model, log_scale=False, print_analytics=False):\n",
    "    \"\"\"\n",
    "    Plots a histogram of the weight values of a given model.\n",
    "    \n",
    "    Parameters:\n",
    "        model: The model object (e.g., PyTorch or TensorFlow model).\n",
    "        log_scale (bool): If True, the y-axis of the histogram is set to logarithmic scale.\n",
    "        print_analytics (bool): If True, prints the mean, standard deviation, and total number of weights.\n",
    "    \"\"\"\n",
    "    # Extract all weight values\n",
    "    weights = []\n",
    "\n",
    "    # For PyTorch model\n",
    "    if hasattr(model, \"parameters\"):\n",
    "        for param in model.parameters():\n",
    "            if param.requires_grad:  # Focus only on trainable parameters\n",
    "                weights.append(param.data.cpu().numpy().flatten())\n",
    "\n",
    "    # For TensorFlow/Keras model\n",
    "    elif hasattr(model, \"trainable_weights\"):\n",
    "        for layer_weights in model.trainable_weights:\n",
    "            weights.append(layer_weights.numpy().flatten())\n",
    "\n",
    "    else:\n",
    "        raise ValueError(\"Unsupported model type. The model must be a PyTorch or TensorFlow model.\")\n",
    "\n",
    "    # Flatten and concatenate all weights into a single array\n",
    "    all_weights = np.concatenate(weights)\n",
    "\n",
    "    # Print analytics if the flag is set\n",
    "    if print_analytics:\n",
    "        mean = np.mean(all_weights)\n",
    "        std_dev = np.std(all_weights)\n",
    "        total_weights = all_weights.size\n",
    "        print(f\"Model Weight Analytics:\")\n",
    "        print(f\"  Mean: {mean:.4f}\")\n",
    "        print(f\"  Standard Deviation: {std_dev:.4f}\")\n",
    "        print(f\"  Total Number of Weights: {total_weights}\")\n",
    "\n",
    "    # Plot histogram\n",
    "    plt.figure(figsize=(10, 6))\n",
    "    plt.hist(all_weights, bins=100, alpha=0.75, color='blue', edgecolor='black')\n",
    "    plt.title(\"Histogram of Model Weight Values\")\n",
    "    plt.xlabel(\"Weight Value\")\n",
    "    plt.ylabel(\"Frequency\")\n",
    "\n",
    "    if log_scale:\n",
    "        plt.yscale('log')  # Set y-axis to logarithmic scale\n",
    "        plt.ylabel(\"Frequency (log scale)\")\n",
    "\n",
    "    plt.grid(axis='y', alpha=0.75)\n",
    "    plt.show()"
   ]
  },
  {
   "cell_type": "code",
   "execution_count": 31,
   "id": "c8e4b3a36886b2a5",
   "metadata": {
    "ExecuteTime": {
     "end_time": "2025-02-23T05:14:25.889881700Z",
     "start_time": "2025-02-19T05:16:27.942969Z"
    }
   },
   "outputs": [
    {
     "name": "stdout",
     "output_type": "stream",
     "text": [
      "Model Weight Analytics:\n",
      "  Mean: 0.0002+0.0003j\n",
      "  Standard Deviation: 0.0959\n",
      "  Total Number of Weights: 35852932\n"
     ]
    },
    {
     "name": "stderr",
     "output_type": "stream",
     "text": [
      "c:\\Users\\hz283\\AppData\\Local\\anaconda3\\envs\\razer\\Lib\\site-packages\\numpy\\lib\\histograms.py:839: ComplexWarning: Casting complex values to real discards the imaginary part\n",
      "  indices = f_indices.astype(np.intp)\n",
      "c:\\Users\\hz283\\AppData\\Local\\anaconda3\\envs\\razer\\Lib\\site-packages\\matplotlib\\axes\\_axes.py:6794: ComplexWarning: Casting complex values to real discards the imaginary part\n",
      "  bins = np.array(bins, float)  # causes problems if float16\n"
     ]
    },
    {
     "data": {
      "image/png": "[encoded data removed]",
      "text/plain": [
       "<Figure size 1000x600 with 1 Axes>"
      ]
     },
     "metadata": {},
     "output_type": "display_data"
    }
   ],
   "source": [
    "plot_model_weights_histogram(model, log_scale=True, print_analytics=True)"
   ]
  },
  {
   "cell_type": "code",
   "execution_count": 32,
   "id": "c15356a23670e1f2",
   "metadata": {
    "ExecuteTime": {
     "end_time": "2025-02-23T05:14:25.890885300Z",
     "start_time": "2025-02-19T05:16:30.053795Z"
    }
   },
   "outputs": [],
   "source": [
    "initialized_model = FourierNeuralOperator(modes_height=design_res, modes_width=design_res, in_channels=3, out_channels=4, hidden=hc).to(device)"
   ]
  },
  {
   "cell_type": "code",
   "execution_count": 33,
   "id": "56993c9774faabf",
   "metadata": {
    "ExecuteTime": {
     "end_time": "2025-02-23T05:14:25.891884300Z",
     "start_time": "2025-01-07T20:10:57.542414Z"
    }
   },
   "outputs": [
    {
     "name": "stdout",
     "output_type": "stream",
     "text": [
      "Model Weight Analytics:\n",
      "  Mean: 0.0000+0.0000j\n",
      "  Standard Deviation: 0.0883\n",
      "  Total Number of Weights: 35852932\n"
     ]
    },
    {
     "data": {
      "image/png": "[encoded data removed]",
      "text/plain": [
       "<Figure size 1000x600 with 1 Axes>"
      ]
     },
     "metadata": {},
     "output_type": "display_data"
    }
   ],
   "source": [
    "plot_model_weights_histogram(initialized_model, log_scale=True, print_analytics=True)"
   ]
  },
  {
   "cell_type": "code",
   "execution_count": 34,
   "id": "a04108f934f9534a",
   "metadata": {
    "ExecuteTime": {
     "end_time": "2025-02-23T05:14:25.892884600Z",
     "start_time": "2025-01-07T21:21:15.691928Z"
    }
   },
   "outputs": [],
   "source": [
    "def process_dataloader(model, dataloader, save_folder, split_name, device='cpu', prefix=\"\"):\n",
    "    \"\"\"\n",
    "    Process a single dataloader, generate predictions, and save predictions, targets, and inputs.\n",
    "\n",
    "    Parameters:\n",
    "    - model: Trained PyTorch model.\n",
    "    - dataloader: DataLoader to process.\n",
    "    - save_folder: Path to save the output files.\n",
    "    - split_name: Identifier for the dataset split (e.g., 'train', 'validation', or 'test').\n",
    "    - device: Device to run the model on ('cpu' or 'cuda').\n",
    "    - prefix: String to prefix the file names with.\n",
    "    \"\"\"\n",
    "    all_predictions, all_targets, all_inputs = [], [], []\n",
    "\n",
    "    # Ensure the model is in evaluation mode\n",
    "    model.eval()\n",
    "    model.to(device)\n",
    "\n",
    "    with torch.no_grad():\n",
    "        for batch in dataloader:\n",
    "            # Assuming dataloader returns (inputs, targets)\n",
    "            inputs, targets = batch\n",
    "            inputs, targets = inputs.to(device), targets.to(device)\n",
    "\n",
    "            # Generate predictions\n",
    "            predictions = model(inputs)\n",
    "\n",
    "            # Store inputs, targets, and predictions\n",
    "            all_predictions.append(predictions.cpu())\n",
    "            all_targets.append(targets.cpu())\n",
    "            all_inputs.append(inputs.cpu())\n",
    "\n",
    "    # Concatenate all batches into single tensors\n",
    "    all_predictions = torch.cat(all_predictions, dim=0)\n",
    "    all_targets = torch.cat(all_targets, dim=0)\n",
    "    all_inputs = torch.cat(all_inputs, dim=0)\n",
    "\n",
    "    # Save tensors to files\n",
    "    os.makedirs(save_folder, exist_ok=True)\n",
    "    torch.save(all_predictions, os.path.join(save_folder, f\"{prefix}{split_name}_predictions.pt\"))\n",
    "    torch.save(all_targets, os.path.join(save_folder, f\"{prefix}{split_name}_targets.pt\"))\n",
    "    torch.save(all_inputs, os.path.join(save_folder, f\"{prefix}{split_name}_inputs.pt\"))\n",
    "\n",
    "    print(f\"Saved {split_name} predictions, targets, and inputs to {save_folder}\")\n",
    "\n",
    "\n",
    "def save_predictions(model, train_loader, val_loader, test_loader, save_folder, device='cpu', prefix=\"\", combine_datasets=False):\n",
    "    \"\"\"\n",
    "    Generate predictions for train, validation, and test datasets, or their combination, and save them to files.\n",
    "\n",
    "    Parameters:\n",
    "    - model: Trained PyTorch model.\n",
    "    - train_loader: DataLoader for the training dataset.\n",
    "    - val_loader: DataLoader for the validation dataset.\n",
    "    - test_loader: DataLoader for the test dataset.\n",
    "    - save_folder: Path to save the output files.\n",
    "    - device: Device to run the model on ('cpu' or 'cuda').\n",
    "    - prefix: String to prefix the file names with.\n",
    "    - combine_datasets (bool): If True, combine all datasets before processing.\n",
    "    \"\"\"\n",
    "    if combine_datasets:\n",
    "        print(\"Combining training, validation, and test datasets...\")\n",
    "        combined_dataset = ConcatDataset([\n",
    "            train_loader.dataset,\n",
    "            val_loader.dataset,\n",
    "            test_loader.dataset\n",
    "        ])\n",
    "        combined_loader = DataLoader(combined_dataset, batch_size=train_loader.batch_size, shuffle=False)\n",
    "        process_dataloader(model, combined_loader, save_folder, \"combined\", device=device, prefix=prefix)\n",
    "    else:\n",
    "        # Process train, validation, and test loaders separately\n",
    "        process_dataloader(model, train_loader, save_folder, \"train\", device=device, prefix=prefix)\n",
    "        process_dataloader(model, val_loader, save_folder, \"validation\", device=device, prefix=prefix)\n",
    "        process_dataloader(model, test_loader, save_folder, \"test\", device=device, prefix=prefix)"
   ]
  },
  {
   "cell_type": "code",
   "execution_count": 35,
   "id": "9e07fc1905bb8dd8",
   "metadata": {
    "ExecuteTime": {
     "end_time": "2025-02-23T05:14:25.892884600Z",
     "start_time": "2025-01-07T21:21:59.068276Z"
    },
    "jupyter": {
     "is_executing": true
    }
   },
   "outputs": [
    {
     "name": "stdout",
     "output_type": "stream",
     "text": [
      "Saved train predictions, targets, and inputs to prediction target datasets\n",
      "Saved validation predictions, targets, and inputs to prediction target datasets\n",
      "Saved test predictions, targets, and inputs to prediction target datasets\n"
     ]
    }
   ],
   "source": [
    "save_predictions(model, train_loader, val_loader, test_loader, \"prediction target datasets\", device='cuda', prefix=\"hc256_250107_\")"
   ]
  },
  {
   "cell_type": "code",
   "execution_count": 36,
   "id": "6444107e946f4e73",
   "metadata": {
    "ExecuteTime": {
     "end_time": "2025-02-23T05:14:25.892884600Z",
     "start_time": "2025-01-07T17:14:12.160038Z"
    },
    "collapsed": false
   },
   "outputs": [],
   "source": [
    "def save_sample_predictions(sample_num, interval, filename_suffix, file_path, model, val_loader, device, start_sample=0, plot_preview=False):\n",
    "    # Ensure the directory exists, create if not\n",
    "    os.makedirs(file_path, exist_ok=True)\n",
    "\n",
    "    # Get a batch from the validation loader\n",
    "    inputs, targets = next(iter(val_loader))\n",
    "    inputs, targets = inputs.to(device), targets.to(device)\n",
    "\n",
    "    # Loop through the samples based on sample_num\n",
    "    for i in range(sample_num):\n",
    "        # Calculate the current sample index based on start_sample and interval\n",
    "        current_sample = start_sample + i * interval\n",
    "\n",
    "        # Make sure the current sample index is within bounds\n",
    "        if current_sample >= len(inputs):\n",
    "            print(f\"Sample index {current_sample} exceeds the number of available samples. Stopping loop.\")\n",
    "            break\n",
    "\n",
    "        # Extract the current sample for inputs and targets\n",
    "        input_sample = inputs[current_sample]\n",
    "        target_sample = targets[current_sample]\n",
    "\n",
    "        # Run the model to get predictions\n",
    "        model.eval()\n",
    "        with torch.no_grad():\n",
    "            output_sample = model(input_sample.unsqueeze(0)).squeeze(0)\n",
    "\n",
    "        # Generate the file suffix for this specific sample\n",
    "        file_suffix = f'sample{i+1}_{filename_suffix}'\n",
    "\n",
    "        # Plot and save the inputs, predictions, and targets using the new functionality\n",
    "        plot_predictions_and_targets(\n",
    "            input_sample,\n",
    "            output_sample,\n",
    "            target_sample,\n",
    "            save=True,                   # Save the plots\n",
    "            save_dir=file_path,           # Directory to save the plots\n",
    "            file_suffix=file_suffix       # Suffix to make filenames unique\n",
    "        )\n",
    "\n",
    "        # Optionally preview the plots if plot_preview is True\n",
    "        if plot_preview:\n",
    "            plot_predictions_and_targets(\n",
    "                input_sample,\n",
    "                output_sample,\n",
    "                target_sample,\n",
    "                save=False                 # Only display the plots\n",
    "            )\n",
    "\n",
    "        print(f'Saved sample {i+1} with suffix {file_suffix} in {file_path}')\n"
   ]
  },
  {
   "cell_type": "code",
   "execution_count": 37,
   "id": "fbc187dba792988a",
   "metadata": {},
   "outputs": [
    {
     "name": "stdout",
     "output_type": "stream",
     "text": [
      "Plot saved at figures/hc128/input_sample1_hc128_lr1e-04_wd0e+00_ss10_gamma1e-01.png\n",
      "Plot saved at figures/hc128/output_sample1_hc128_lr1e-04_wd0e+00_ss10_gamma1e-01.png\n",
      "Plot saved at figures/hc128/target_sample1_hc128_lr1e-04_wd0e+00_ss10_gamma1e-01.png\n",
      "Saved sample 1 with suffix sample1_hc128_lr1e-04_wd0e+00_ss10_gamma1e-01 in figures/hc128\n",
      "Plot saved at figures/hc128/input_sample2_hc128_lr1e-04_wd0e+00_ss10_gamma1e-01.png\n",
      "Plot saved at figures/hc128/output_sample2_hc128_lr1e-04_wd0e+00_ss10_gamma1e-01.png\n",
      "Plot saved at figures/hc128/target_sample2_hc128_lr1e-04_wd0e+00_ss10_gamma1e-01.png\n",
      "Saved sample 2 with suffix sample2_hc128_lr1e-04_wd0e+00_ss10_gamma1e-01 in figures/hc128\n",
      "Plot saved at figures/hc128/input_sample3_hc128_lr1e-04_wd0e+00_ss10_gamma1e-01.png\n",
      "Plot saved at figures/hc128/output_sample3_hc128_lr1e-04_wd0e+00_ss10_gamma1e-01.png\n",
      "Plot saved at figures/hc128/target_sample3_hc128_lr1e-04_wd0e+00_ss10_gamma1e-01.png\n",
      "Saved sample 3 with suffix sample3_hc128_lr1e-04_wd0e+00_ss10_gamma1e-01 in figures/hc128\n",
      "Plot saved at figures/hc128/input_sample4_hc128_lr1e-04_wd0e+00_ss10_gamma1e-01.png\n",
      "Plot saved at figures/hc128/output_sample4_hc128_lr1e-04_wd0e+00_ss10_gamma1e-01.png\n",
      "Plot saved at figures/hc128/target_sample4_hc128_lr1e-04_wd0e+00_ss10_gamma1e-01.png\n",
      "Saved sample 4 with suffix sample4_hc128_lr1e-04_wd0e+00_ss10_gamma1e-01 in figures/hc128\n",
      "Plot saved at figures/hc128/input_sample5_hc128_lr1e-04_wd0e+00_ss10_gamma1e-01.png\n",
      "Plot saved at figures/hc128/output_sample5_hc128_lr1e-04_wd0e+00_ss10_gamma1e-01.png\n",
      "Plot saved at figures/hc128/target_sample5_hc128_lr1e-04_wd0e+00_ss10_gamma1e-01.png\n",
      "Saved sample 5 with suffix sample5_hc128_lr1e-04_wd0e+00_ss10_gamma1e-01 in figures/hc128\n",
      "Plot saved at figures/hc128/input_sample6_hc128_lr1e-04_wd0e+00_ss10_gamma1e-01.png\n",
      "Plot saved at figures/hc128/output_sample6_hc128_lr1e-04_wd0e+00_ss10_gamma1e-01.png\n",
      "Plot saved at figures/hc128/target_sample6_hc128_lr1e-04_wd0e+00_ss10_gamma1e-01.png\n",
      "Saved sample 6 with suffix sample6_hc128_lr1e-04_wd0e+00_ss10_gamma1e-01 in figures/hc128\n",
      "Plot saved at figures/hc128/input_sample7_hc128_lr1e-04_wd0e+00_ss10_gamma1e-01.png\n",
      "Plot saved at figures/hc128/output_sample7_hc128_lr1e-04_wd0e+00_ss10_gamma1e-01.png\n",
      "Plot saved at figures/hc128/target_sample7_hc128_lr1e-04_wd0e+00_ss10_gamma1e-01.png\n",
      "Saved sample 7 with suffix sample7_hc128_lr1e-04_wd0e+00_ss10_gamma1e-01 in figures/hc128\n",
      "Plot saved at figures/hc128/input_sample8_hc128_lr1e-04_wd0e+00_ss10_gamma1e-01.png\n",
      "Plot saved at figures/hc128/output_sample8_hc128_lr1e-04_wd0e+00_ss10_gamma1e-01.png\n",
      "Plot saved at figures/hc128/target_sample8_hc128_lr1e-04_wd0e+00_ss10_gamma1e-01.png\n",
      "Saved sample 8 with suffix sample8_hc128_lr1e-04_wd0e+00_ss10_gamma1e-01 in figures/hc128\n",
      "Plot saved at figures/hc128/input_sample9_hc128_lr1e-04_wd0e+00_ss10_gamma1e-01.png\n",
      "Plot saved at figures/hc128/output_sample9_hc128_lr1e-04_wd0e+00_ss10_gamma1e-01.png\n",
      "Plot saved at figures/hc128/target_sample9_hc128_lr1e-04_wd0e+00_ss10_gamma1e-01.png\n",
      "Saved sample 9 with suffix sample9_hc128_lr1e-04_wd0e+00_ss10_gamma1e-01 in figures/hc128\n",
      "Plot saved at figures/hc128/input_sample10_hc128_lr1e-04_wd0e+00_ss10_gamma1e-01.png\n",
      "Plot saved at figures/hc128/output_sample10_hc128_lr1e-04_wd0e+00_ss10_gamma1e-01.png\n",
      "Plot saved at figures/hc128/target_sample10_hc128_lr1e-04_wd0e+00_ss10_gamma1e-01.png\n",
      "Saved sample 10 with suffix sample10_hc128_lr1e-04_wd0e+00_ss10_gamma1e-01 in figures/hc128\n",
      "Plot saved at figures/hc128/input_sample11_hc128_lr1e-04_wd0e+00_ss10_gamma1e-01.png\n",
      "Plot saved at figures/hc128/output_sample11_hc128_lr1e-04_wd0e+00_ss10_gamma1e-01.png\n",
      "Plot saved at figures/hc128/target_sample11_hc128_lr1e-04_wd0e+00_ss10_gamma1e-01.png\n",
      "Saved sample 11 with suffix sample11_hc128_lr1e-04_wd0e+00_ss10_gamma1e-01 in figures/hc128\n",
      "Plot saved at figures/hc128/input_sample12_hc128_lr1e-04_wd0e+00_ss10_gamma1e-01.png\n",
      "Plot saved at figures/hc128/output_sample12_hc128_lr1e-04_wd0e+00_ss10_gamma1e-01.png\n",
      "Plot saved at figures/hc128/target_sample12_hc128_lr1e-04_wd0e+00_ss10_gamma1e-01.png\n",
      "Saved sample 12 with suffix sample12_hc128_lr1e-04_wd0e+00_ss10_gamma1e-01 in figures/hc128\n",
      "Plot saved at figures/hc128/input_sample13_hc128_lr1e-04_wd0e+00_ss10_gamma1e-01.png\n",
      "Plot saved at figures/hc128/output_sample13_hc128_lr1e-04_wd0e+00_ss10_gamma1e-01.png\n",
      "Plot saved at figures/hc128/target_sample13_hc128_lr1e-04_wd0e+00_ss10_gamma1e-01.png\n",
      "Saved sample 13 with suffix sample13_hc128_lr1e-04_wd0e+00_ss10_gamma1e-01 in figures/hc128\n",
      "Plot saved at figures/hc128/input_sample14_hc128_lr1e-04_wd0e+00_ss10_gamma1e-01.png\n",
      "Plot saved at figures/hc128/output_sample14_hc128_lr1e-04_wd0e+00_ss10_gamma1e-01.png\n",
      "Plot saved at figures/hc128/target_sample14_hc128_lr1e-04_wd0e+00_ss10_gamma1e-01.png\n",
      "Saved sample 14 with suffix sample14_hc128_lr1e-04_wd0e+00_ss10_gamma1e-01 in figures/hc128\n",
      "Plot saved at figures/hc128/input_sample15_hc128_lr1e-04_wd0e+00_ss10_gamma1e-01.png\n",
      "Plot saved at figures/hc128/output_sample15_hc128_lr1e-04_wd0e+00_ss10_gamma1e-01.png\n",
      "Plot saved at figures/hc128/target_sample15_hc128_lr1e-04_wd0e+00_ss10_gamma1e-01.png\n",
      "Saved sample 15 with suffix sample15_hc128_lr1e-04_wd0e+00_ss10_gamma1e-01 in figures/hc128\n",
      "Plot saved at figures/hc128/input_sample16_hc128_lr1e-04_wd0e+00_ss10_gamma1e-01.png\n",
      "Plot saved at figures/hc128/output_sample16_hc128_lr1e-04_wd0e+00_ss10_gamma1e-01.png\n",
      "Plot saved at figures/hc128/target_sample16_hc128_lr1e-04_wd0e+00_ss10_gamma1e-01.png\n",
      "Saved sample 16 with suffix sample16_hc128_lr1e-04_wd0e+00_ss10_gamma1e-01 in figures/hc128\n"
     ]
    }
   ],
   "source": [
    "figure_folder = 'figures/hc128'\n",
    "figure_suffix = f'hc{hc}_lr{lr:.0e}_wd{wd:.0e}_ss{ss}_gamma{gamma:.0e}'\n",
    "save_sample_predictions(16, 8, figure_suffix, figure_folder, model, val_loader, device)\n"
   ]
  },
  {
   "cell_type": "code",
   "execution_count": null,
   "id": "2d8b341ada4aef44",
   "metadata": {
    "ExecuteTime": {
     "end_time": "2025-02-23T05:14:25.893884700Z",
     "start_time": "2025-01-07T17:14:22.175257Z"
    }
   },
   "outputs": [],
   "source": []
  }
 ],
 "metadata": {
  "kernelspec": {
   "display_name": "razer",
   "language": "python",
   "name": "python3"
  },
  "language_info": {
   "codemirror_mode": {
    "name": "ipython",
    "version": 3
   },
   "file_extension": ".py",
   "mimetype": "text/x-python",
   "name": "python",
   "nbconvert_exporter": "python",
   "pygments_lexer": "ipython3",
   "version": "3.11.5"
  }
 },
 "nbformat": 4,
 "nbformat_minor": 5
}
